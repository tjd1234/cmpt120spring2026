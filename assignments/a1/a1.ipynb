{
  "cells": [
    {
      "cell_type": "markdown",
      "metadata": {},
      "source": [
        "# Assignment 1\n",
        "\n",
        "This assignment is a set of practice problems to help you get familiar with\n",
        "Python and its environment. \n",
        "\n",
        "Please copy the following files to your computer, and for each question write\n",
        "your answers in the corresponding file: [q1.py](q1.py), [q2.py](q2.py),\n",
        "[q3.py](q3.py), and [q4.py](q4.py). To get all the files at once, download\n",
        "[a1_starting_files.zip](a1_starting_files.zip) and extract them to your\n",
        "computer.\n",
        "\n",
        "When you are ready to submit your answers, compress [q1.py](q1.py),\n",
        "[q2.py](q2.py), [q3.py](q3.py), and [q4.py](q4.py) into a .zip file named\n",
        "`a1.zip`, and submit just `a1.zip` on Canvas.\n",
        "\n",
        "**Important** Submit exactly these files with these names! If you include extra\n",
        "files or change the names, you may lose marks.\n",
        "\n",
        "> If you are unsure how to zip/unzip files, check here:\n",
        "> [Windows](https://support.microsoft.com/en-us/windows/zip-and-unzip-files-8d28fa72-f2f9-712f-67df-f80cf89fd4e5),\n",
        "> [Mac](https://support.apple.com/en-ca/guide/mac-help/mchlp2528/mac)\n",
        "> \n",
        "> If you run into problems, please talk to a TA, or post a question to the Tech\n",
        "> Support discussion in the 120 Canvas course.\n",
        "\n",
        "**Hint** f-strings and string arithmetic are needed in some questions, and are\n",
        "explained at the end of this assignment."
      ]
    },
    {
      "cell_type": "markdown",
      "metadata": {},
      "source": [
        "## Question 1\n",
        "\n",
        "Put your answer to this question in [q1.py](q1.py).\n",
        "\n",
        "One candy costs 12 cents, and you have some quarters.\n",
        "\n",
        "Write a program that asks for your name and how many quarters you have, and then\n",
        "prints a message saying how many candies you can buy and how many cents you have\n",
        "left over.\n",
        "\n",
        "For example:\n",
        "\n",
        "```\n",
        "What's your name? Elon\n",
        "How many quarters do you have? 4\n",
        "\n",
        "Elon, you can buy 8 candies with 4 cents left over.\n",
        "```\n",
        "\n",
        "Or:\n",
        "\n",
        "```\n",
        "What's your name? Elon\n",
        "How many quarters do you have? 1\n",
        "\n",
        "Elon, you can buy 2 candies with 1 cents left over.\n",
        "```\n",
        "\n",
        "You don't need to do any error checking: assume a sensible name and integer\n",
        "number of quarters are entered. In the case of 1 quarter it's okay if the\n",
        "grammar for \"cents\" is incorrect."
      ]
    },
    {
      "cell_type": "markdown",
      "metadata": {},
      "source": [
        "## Question 2\n",
        "\n",
        "Put your answer to this question in [q2.py](q2.py).\n",
        "\n",
        "Write a program that asks the user to enter the length of one side of an\n",
        "equilateral triangle, and then prints the perimeter and area of the triangle. \n",
        "\n",
        "Use f-strings to format your output, and print the perimeter and area to\n",
        "*exactly* one decimal place. Your program should work for any floating point\n",
        "number greater than 0.\n",
        "\n",
        "```\n",
        "What's the length of the side of the triangle? 2.65\n",
        "\n",
        "     Its area is: 3.0\n",
        "Its perimeter is: 7.9\n",
        "```\n",
        "\n",
        "\n",
        "You can assume the user enters a floating point number greater than 0."
      ]
    },
    {
      "cell_type": "markdown",
      "metadata": {},
      "source": [
        "## Question 3\n",
        "\n",
        "Put your answer to this question in [q3.py](q3.py).\n",
        "\n",
        "Write a program that asks the user to enter a message and a character, and then\n",
        "prints the message in a box made from the character. Print it in exactly the\n",
        "style shown in the examples.\n",
        "\n",
        "For example:\n",
        "\n",
        "```\n",
        "What do you want your sign to say? Code Carefully\n",
        "What character do you want for the box? !\n",
        "\n",
        "!!!!!!!!!!!!!!!!!!\n",
        "! Code Carefully !\n",
        "!!!!!!!!!!!!!!!!!!\n",
        "```\n",
        "\n",
        "Or:\n",
        "\n",
        "```\n",
        "What do you want your sign to say? SFU\n",
        "What character do you want for the box? %\n",
        "\n",
        "%%%%%%%\n",
        "% SFU %\n",
        "%%%%%%%\n",
        "```\n",
        "\n",
        "Make sure your box has *exactly* the same format as shown. Note that there is\n",
        "one space before the message, and one space after the message.\n",
        "\n",
        "Assume the user enters a single character for the box character."
      ]
    },
    {
      "cell_type": "markdown",
      "metadata": {},
      "source": [
        "## Question 4\n",
        "\n",
        "Read from the user two [blood\n",
        "pressure](https://en.wikipedia.org/wiki/Blood_pressure) readings of the form\n",
        "\"120/80\", and then print their average.\n",
        "\n",
        "For example:\n",
        "\n",
        "```\n",
        "What is the first reading? 120/80 \n",
        "What is the second reading? 125/85\n",
        "\n",
        "The average blood pressure is: 123/83\n",
        "```\n",
        "\n",
        "Assume the readings entered by the user are always of the form \"int/int\". Your\n",
        "program should read in each reading as a single string.\n",
        "\n",
        "For the average, always round up to the nearest whole numbers (i.e. the\n",
        "ceiling).\n",
        "\n",
        "123/83 is the correct output because the average of 120 and 125 is 122.5, whose\n",
        "ceiling is 123, and the average of 80 and 85 is 82.5, whose ceiling is to 83.\n",
        "\n",
        "**Hint**: The `math.ceiling` function rounds a number up to the nearest whole\n",
        "number, and the string `.partition(sep)` method splits a string into pieces."
      ]
    },
    {
      "cell_type": "markdown",
      "metadata": {},
      "source": [
        "## Question 5\n",
        "\n",
        "Put your answer to this question in [q5.py](q5.py).\n",
        "\n",
        "You are the programmer for *CyberCone*, a company started by former\n",
        "[CyberTruck](https://www.tesla.com/en_CA/cybertruck) engineers. *CyberCone*\n",
        "sells *cybercones*, which are robot-assembled ice cream cones with any cone\n",
        "height and any number of scoops of ice cream. Part of the appeal is that the\n",
        "scoops are perfect spheres, and the cone is a perfect cone.\n",
        "\n",
        "For example, a 3-scoop cone with would look like this:\n",
        "\n",
        "![3-scoop cone](cybercone3_small.png)\n",
        "\n",
        "The total height is the height of the cone plus the height of the scoops, and is\n",
        "given by this formula:\n",
        "\n",
        "$$\n",
        "\\begin{align*}\n",
        "\\text{total-height} &= \\text{cone-height} + (\\text{num-scoops} \\times 2 \\times \\text{scoop-radius})\n",
        "\\end{align*}\n",
        "$$\n",
        "\n",
        "It's assumed that each scoop has the same radius. \n",
        "\n",
        "The purchase cost, in dollars, of the cone is given by this formula:\n",
        "\n",
        "$$\n",
        "\\begin{align*}\n",
        "\\text{cost} &= (\\text{num-scoops} \\times \\text{scoop-volume} \\times 0.75) + (\\text{cone-volume} \\times 0.25)\n",
        "\\end{align*}\n",
        "$$\n",
        "\n",
        "$\\text{scoop-volume}$ is the volume of one scoop (all scoops have the same\n",
        "volume), and $\\text{cone-volume}$ is the volume of the cone.\n",
        "\n",
        "Your task is to write a program that asks the customer the following questions,\n",
        "and then prints the total height of the cone and the purchase cost:\n",
        " \n",
        "- **How many scoops do they want?** The choices are 1 or more.\n",
        "- **What is the radius of a scoop?** The scoops are perfect spheres, and the\n",
        "  radius is in centimeters. All scoops for this cone have the same radius.\n",
        "- **What is the height of the cone?** The height is in centimeters and greater\n",
        "  than 0.\n",
        "\n",
        "After getting this information the program then prints the total\n",
        "height and the purchase cost of the cone.\n",
        "\n",
        "Here is a sample run:\n",
        "\n",
        "```\n",
        "+-----------------------+\n",
        "| Welcome to CyberCone! |\n",
        "+-----------------------+\n",
        "\n",
        "How many scoops do you want? 3\n",
        "Ok, 3 scoops it is.\n",
        "\n",
        "What is the radius of a scoop in cm? 2.1\n",
        "Each scoop is radius 2.10cm\n",
        "\n",
        "What is the height of the cone in cm? 4.22\n",
        "Cone height is 4.22cm\n",
        "\n",
        "        Cost of your 3-scoop cone: $92.13\n",
        "Total height of your 3-scoop cone: 16.80cm\n",
        "```\n",
        "\n",
        "Some important details:\n",
        "\n",
        "- Print the title box at the top exactly as shown.\n",
        "- You can assume that the number entered by the user are always sensible, i.e.\n",
        "  the number of scoops is an integer greater than 0, and the scoop radius and\n",
        "  cone height are greater than 0.\n",
        "- The scoop radius, cone height, and cost should all be printed to *exactly* 2\n",
        "  decimal digits, as shown the sample run. \n",
        "- The formulas for the volumes of spheres and cones can be found online."
      ]
    },
    {
      "cell_type": "markdown",
      "metadata": {},
      "source": [
        "## Marking Scheme\n",
        "\n",
        "**2 marks** for question 1: 1 for correctness, 1 for using f-strings properly\n",
        "\n",
        "**2 marks** for question 2: 1 for correctness, 1 for using f-strings properly\n",
        "\n",
        "**2 marks** for question 3: 1 for correctness, 1 for using string arithmetic\n",
        "properly\n",
        "\n",
        "**2 marks** for question 4: 1 for reading the input correctly, 1 for\n",
        "calculating the average correctly\n",
        "\n",
        "**5 marks** for question 5:\n",
        "- **1 mark** for a title box that looks like the one in the sample output\n",
        "- **1 mark** for correctly asking for the number of scoops, radius, an height.\n",
        "  The prompts should be as shown in the sample output.\n",
        "- **2 marks** for correctly calculating the cost and total height\n",
        "- **1 mark** for correctly formatting the radius, cost, and height to exactly 2\n",
        "  decimal places\n",
        "\n",
        "**1 mark** overall: consistent indentation and spacing (all blank lines and\n",
        "spaces should have a good reason for being there)\n",
        "\n",
        "**1 mark** overall: all variable names are self-descriptive\n",
        "\n",
        "**1 mark** overall: the length of all lines are less than, or equal to, 100\n",
        "characters"
      ]
    },
    {
      "cell_type": "markdown",
      "metadata": {},
      "source": [
        "## Notes"
      ]
    },
    {
      "cell_type": "markdown",
      "metadata": {},
      "source": [
        "In Python, an **f-string** is a string that starts with `f`, and can contain\n",
        "variables (or expressions) inside `{}` curly braces. An f-string is like a\n",
        "template, and in practice they are a common way to make formatted strings.\n",
        "\n",
        "For example, this program says *hello* to the user:"
      ]
    },
    {
      "cell_type": "code",
      "execution_count": 2,
      "metadata": {},
      "outputs": [
        {
          "name": "stdout",
          "output_type": "stream",
          "text": [
            "Hello Elon!\n"
          ]
        }
      ],
      "source": [
        "name = input(\"What's your name? \")\n",
        "print(f\"Hello {name}!\")"
      ]
    },
    {
      "cell_type": "markdown",
      "metadata": {},
      "source": [
        "### Number precision with f-strings\n",
        "\n",
        "When printing numbers you often want to control the number of digits after the\n",
        "decimal point:"
      ]
    },
    {
      "cell_type": "code",
      "execution_count": 3,
      "metadata": {},
      "outputs": [
        {
          "name": "stdout",
          "output_type": "stream",
          "text": [
            "x = 12.3456\n"
          ]
        }
      ],
      "source": [
        "x = 12.3456\n",
        "print(f'x = {x}')"
      ]
    },
    {
      "cell_type": "markdown",
      "metadata": {},
      "source": [
        "There are 4 digits after the decimal point. If, instead, you only want 2 digits,\n",
        "you can do this:"
      ]
    },
    {
      "cell_type": "code",
      "execution_count": 4,
      "metadata": {},
      "outputs": [
        {
          "name": "stdout",
          "output_type": "stream",
          "text": [
            "x = 12.35\n"
          ]
        }
      ],
      "source": [
        "x = 12.3456\n",
        "print(f'x = {x:.2f}')"
      ]
    },
    {
      "cell_type": "markdown",
      "metadata": {},
      "source": [
        "In `{x:.2f}`, the `.2` means to put exactly two digits after the decimal point,\n",
        "and the `f` means to format the number in regular floating point style. Notice\n",
        "also that the last digit has been *rounded up*.\n",
        "\n",
        "If you want more digits after the decimal than the number has, 0s are added.\n",
        "For example:"
      ]
    },
    {
      "cell_type": "code",
      "execution_count": 5,
      "metadata": {},
      "outputs": [
        {
          "name": "stdout",
          "output_type": "stream",
          "text": [
            "x = 12.3456000\n"
          ]
        }
      ],
      "source": [
        "x = 12.3456\n",
        "print(f'x = {x:.7f}')"
      ]
    },
    {
      "cell_type": "markdown",
      "metadata": {},
      "source": [
        "Three `0`s were automatically added to make exactly 7 digits after the decimal."
      ]
    },
    {
      "cell_type": "markdown",
      "metadata": {},
      "source": [
        "### Comma Grouping with f-strings\n",
        "\n",
        "f-strings make it easy to write numbers in a style that uses commas to put\n",
        "in groups of three:"
      ]
    },
    {
      "cell_type": "code",
      "execution_count": null,
      "metadata": {},
      "outputs": [
        {
          "name": "stdout",
          "output_type": "stream",
          "text": [
            "cost is $1391.25\n",
            "cost is $1,391.25\n",
            "cost is $348,355,303.23\n"
          ]
        }
      ],
      "source": [
        "cost = 1391.25\n",
        "print(f'cost is ${cost:.2f}')  # cost is $1391.25\n",
        "print(f'cost is ${cost:,.2f}') # cost is $1,391.25,  note the , after the :\n",
        "\n",
        "cost = 348355303.232\n",
        "print(f'cost is ${cost:,.2f}') # cost is $348,355,303.23, note the , after the :"
      ]
    },
    {
      "cell_type": "markdown",
      "metadata": {},
      "source": [
        "### String Arithmetic\n",
        "\n",
        "Here are some string operations that will help with this assignment:"
      ]
    },
    {
      "cell_type": "code",
      "execution_count": 7,
      "metadata": {},
      "outputs": [
        {
          "name": "stdout",
          "output_type": "stream",
          "text": [
            "7\n",
            "4\n",
            "hamsterfood\n",
            "hamster food\n",
            "foodfoodfood\n",
            "foodfoodfood!\n",
            "food!food!food!\n",
            "hamster\n",
            "-------\n"
          ]
        }
      ],
      "source": [
        "s = 'hamster'\n",
        "t = 'food'\n",
        "\n",
        "print(len(s))  # 7, characters in s\n",
        "print(len(t))  # 4, characters in t                   \n",
        "\n",
        "print(s + t)        # 'hamsterfood', + adds two strings\n",
        "print(s + \" \" + t)  # 'hamster food'\n",
        "\n",
        "print(3 * t)          # 'foodfoodfood', t repeated 3 times\n",
        "print(3 * t + '!')    # 'foodfoodfood!'\n",
        "print(3 * (t + '!'))  # 'food!food!food!'\n",
        "\n",
        "title = s + '\\n' + len(s)*'-'  # 'hamster\\n-------'\n",
        "print(title) # hamster\n",
        "             # -------"
      ]
    }
  ],
  "metadata": {
    "kernelspec": {
      "display_name": "Python 3",
      "language": "python",
      "name": "python3"
    },
    "language_info": {
      "codemirror_mode": {
        "name": "ipython",
        "version": 3
      },
      "file_extension": ".py",
      "mimetype": "text/x-python",
      "name": "python",
      "nbconvert_exporter": "python",
      "pygments_lexer": "ipython3",
      "version": "3.10.12"
    }
  },
  "nbformat": 4,
  "nbformat_minor": 2
}
