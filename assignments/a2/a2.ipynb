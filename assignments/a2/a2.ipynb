{
 "cells": [
  {
   "cell_type": "markdown",
   "id": "807cde62",
   "metadata": {},
   "source": [
    "This assignment will be posted here as soon as it is ready."
   ]
  }
 ],
 "metadata": {
  "language_info": {
   "name": "python"
  }
 },
 "nbformat": 4,
 "nbformat_minor": 5
}
