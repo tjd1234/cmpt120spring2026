{
 "cells": [
  {
   "cell_type": "markdown",
   "metadata": {
    "id": "cjsmyWXsNrEg"
   },
   "source": [
    "# Chapter 11 Lecture Notes\n",
    "\n",
    "Please read chapter 11 of the textbook.\n",
    "\n",
    "These notes take 1 - 3 lecture hours to cover."
   ]
  },
  {
   "cell_type": "markdown",
   "metadata": {},
   "source": [
    "## Tuples"
   ]
  },
  {
   "cell_type": "markdown",
   "metadata": {},
   "source": [
    "A **tuple** is an immutable sequence of 0 or more values of any type. You can\n",
    "access individual elements of a tuple with the `[]` operator, make slices of\n",
    "tuples, and use `len` and `in` with them.\n",
    "\n",
    "Tuples are similar to lists, but they are immutable, i.e. one you create a tuple\n",
    "you can't change values on it, or add/remove elements.\n",
    "\n",
    "`()`-brackets indicate a tuple:"
   ]
  },
  {
   "cell_type": "code",
   "execution_count": 30,
   "metadata": {},
   "outputs": [
    {
     "name": "stdout",
     "output_type": "stream",
     "text": [
      "('Bob', 19, 2108)\n",
      "3\n",
      "Bob\n",
      "19\n",
      "2108\n",
      "('Bob', 19)\n",
      "(2108,)\n",
      "\n",
      "Bob\n",
      "19\n",
      "2108\n",
      "Bob is in the tuple\n"
     ]
    }
   ],
   "source": [
    "t = ('Bob', 19, 2108)      # 3-tuple\n",
    "\n",
    "print(t)\n",
    "print(len(t))\n",
    "\n",
    "print(t[0])    # Bob\n",
    "print(t[1])    # 19\n",
    "print(t[2])    # 2108\n",
    "\n",
    "print(t[0:2])  # ('Bob', 19)\n",
    "print(t[2:])   # (2108,)\n",
    "\n",
    "print()\n",
    "for x in t:\n",
    "    print(x)\n",
    "\n",
    "if 'Bob' in t:\n",
    "    print('Bob is in the tuple')\n"
   ]
  },
  {
   "cell_type": "markdown",
   "metadata": {},
   "source": [
    "In some cases the `()`-brackets are optional:"
   ]
  },
  {
   "cell_type": "code",
   "execution_count": 4,
   "metadata": {},
   "outputs": [
    {
     "name": "stdout",
     "output_type": "stream",
     "text": [
      "('Bob', 19, 2108)\n"
     ]
    }
   ],
   "source": [
    "t = 'Bob', 19, 2108   # brackets not needed\n",
    "print(t)"
   ]
  },
  {
   "cell_type": "markdown",
   "metadata": {},
   "source": [
    "To create a tuple of size 1, you need to add a comma after the value:"
   ]
  },
  {
   "cell_type": "code",
   "execution_count": 5,
   "metadata": {},
   "outputs": [
    {
     "name": "stdout",
     "output_type": "stream",
     "text": [
      "('Bob',)\n",
      "('Mary',)\n"
     ]
    }
   ],
   "source": [
    "t = ('Bob',)  # 1-tuple\n",
    "print(t)\n",
    "\n",
    "u = 'Mary',   # 1-tuple\n",
    "print(u)"
   ]
  },
  {
   "cell_type": "markdown",
   "metadata": {},
   "source": [
    "## The `tuple` Function"
   ]
  },
  {
   "cell_type": "markdown",
   "metadata": {},
   "source": [
    "The built-in `tuple()` function can create the empty tuple, or convert strings\n",
    "and lists to tuples:"
   ]
  },
  {
   "cell_type": "code",
   "execution_count": 9,
   "metadata": {},
   "outputs": [
    {
     "name": "stdout",
     "output_type": "stream",
     "text": [
      "()\n",
      "('c', 'a', 't')\n",
      "(1, 2, 3)\n"
     ]
    }
   ],
   "source": [
    "a = tuple()           # empty tuple\n",
    "b = tuple('cat')      # ('c', 'a', 't')\n",
    "c = tuple([1, 2, 3])  # (1, 2, 3)\n",
    "\n",
    "print(a)\n",
    "print(b)\n",
    "print(c)"
   ]
  },
  {
   "cell_type": "markdown",
   "metadata": {},
   "source": [
    "## Concatenating Tuples"
   ]
  },
  {
   "cell_type": "markdown",
   "metadata": {},
   "source": [
    "Just as with strings and lists, you can concatenate tuples with the `+` and `*`:"
   ]
  },
  {
   "cell_type": "code",
   "execution_count": 11,
   "metadata": {},
   "outputs": [
    {
     "name": "stdout",
     "output_type": "stream",
     "text": [
      "('Bob', 19, 2108, 'Bob', 19, 2108)\n",
      "('Bob', 19, 2108, 'Bob', 19, 2108, 'Bob', 19, 2108)\n"
     ]
    }
   ],
   "source": [
    "t = ('Bob', 19, 2108) \n",
    "print(t + t)\n",
    "print(3 * t)"
   ]
  },
  {
   "cell_type": "markdown",
   "metadata": {},
   "source": [
    "## Sorting and Reversing Tuples"
   ]
  },
  {
   "cell_type": "markdown",
   "metadata": {},
   "source": [
    "The `sorted` and `reversed` functions work with tuples as well, although they\n",
    "return lists:"
   ]
  },
  {
   "cell_type": "code",
   "execution_count": 21,
   "metadata": {},
   "outputs": [
    {
     "name": "stdout",
     "output_type": "stream",
     "text": [
      "  a: ('a', 'p', 'p', 'l', 'e', 's', 'a', 'u', 'c', 'e')\n",
      "  b: <reversed object at 0x7fee4d0bd670>\n",
      "b_t: ('e', 'c', 'u', 'a', 's', 'e', 'l', 'p', 'p', 'a')\n",
      "  c: ['a', 'a', 'c', 'e', 'e', 'l', 'p', 'p', 's', 'u']\n",
      "c_t: ('a', 'a', 'c', 'e', 'e', 'l', 'p', 'p', 's', 'u')\n"
     ]
    }
   ],
   "source": [
    "a = tuple('applesauce')  # a is a tuple\n",
    "print('  a:', a)\n",
    "\n",
    "b = reversed(a)          # b is a reversed object\n",
    "print('  b:', b)\n",
    "b_t = tuple(b)\n",
    "print('b_t:', b_t)\n",
    "\n",
    "c = sorted(a)            # c is a list\n",
    "print('  c:', c)\n",
    "c_t = tuple(c)\n",
    "print('c_t:', c_t)"
   ]
  },
  {
   "cell_type": "markdown",
   "metadata": {},
   "source": [
    "## Tuples are Immutable"
   ]
  },
  {
   "cell_type": "markdown",
   "metadata": {},
   "source": [
    "You cannot change the length of a tuple, or change any values in the tuple:"
   ]
  },
  {
   "cell_type": "code",
   "execution_count": 18,
   "metadata": {},
   "outputs": [
    {
     "ename": "TypeError",
     "evalue": "'tuple' object does not support item assignment",
     "output_type": "error",
     "traceback": [
      "\u001b[0;31m---------------------------------------------------------------------------\u001b[0m",
      "\u001b[0;31mTypeError\u001b[0m                                 Traceback (most recent call last)",
      "\u001b[0;32m/tmp/ipykernel_4623/1425988556.py\u001b[0m in \u001b[0;36m<module>\u001b[0;34m\u001b[0m\n\u001b[1;32m      1\u001b[0m \u001b[0mt\u001b[0m \u001b[0;34m=\u001b[0m \u001b[0;34m(\u001b[0m\u001b[0;34m'Bob'\u001b[0m\u001b[0;34m,\u001b[0m \u001b[0;36m19\u001b[0m\u001b[0;34m,\u001b[0m \u001b[0;36m2108\u001b[0m\u001b[0;34m)\u001b[0m\u001b[0;34m\u001b[0m\u001b[0;34m\u001b[0m\u001b[0m\n\u001b[0;32m----> 2\u001b[0;31m \u001b[0mt\u001b[0m\u001b[0;34m[\u001b[0m\u001b[0;36m0\u001b[0m\u001b[0;34m]\u001b[0m \u001b[0;34m=\u001b[0m \u001b[0;34m'Mary'\u001b[0m  \u001b[0;31m# TypeError: 'tuple' object does not support item assignment\u001b[0m\u001b[0;34m\u001b[0m\u001b[0;34m\u001b[0m\u001b[0m\n\u001b[0m",
      "\u001b[0;31mTypeError\u001b[0m: 'tuple' object does not support item assignment"
     ]
    }
   ],
   "source": [
    "t = ('Bob', 19, 2108)\n",
    "t[0] = 'Mary'  # TypeError: 'tuple' object does not support item assignment"
   ]
  },
  {
   "cell_type": "code",
   "execution_count": 22,
   "metadata": {},
   "outputs": [
    {
     "ename": "TypeError",
     "evalue": "'tuple' object does not support item assignment",
     "output_type": "error",
     "traceback": [
      "\u001b[0;31m---------------------------------------------------------------------------\u001b[0m",
      "\u001b[0;31mTypeError\u001b[0m                                 Traceback (most recent call last)",
      "\u001b[0;32m/tmp/ipykernel_4623/1089626862.py\u001b[0m in \u001b[0;36m<module>\u001b[0;34m\u001b[0m\n\u001b[1;32m      1\u001b[0m \u001b[0mt\u001b[0m \u001b[0;34m=\u001b[0m \u001b[0;34m(\u001b[0m\u001b[0;34m'Bob'\u001b[0m\u001b[0;34m,\u001b[0m \u001b[0;36m19\u001b[0m\u001b[0;34m,\u001b[0m \u001b[0;36m2108\u001b[0m\u001b[0;34m)\u001b[0m\u001b[0;34m\u001b[0m\u001b[0;34m\u001b[0m\u001b[0m\n\u001b[0;32m----> 2\u001b[0;31m \u001b[0mt\u001b[0m\u001b[0;34m[\u001b[0m\u001b[0;36m1\u001b[0m\u001b[0;34m]\u001b[0m \u001b[0;34m+=\u001b[0m \u001b[0;36m1\u001b[0m    \u001b[0;31m# TypeError: 'tuple' object does not support item assignment\u001b[0m\u001b[0;34m\u001b[0m\u001b[0;34m\u001b[0m\u001b[0m\n\u001b[0m",
      "\u001b[0;31mTypeError\u001b[0m: 'tuple' object does not support item assignment"
     ]
    }
   ],
   "source": [
    "t = ('Bob', 19, 2108)\n",
    "t[1] += 1    # TypeError: 'tuple' object does not support item assignment"
   ]
  },
  {
   "cell_type": "markdown",
   "metadata": {},
   "source": [
    "Since they're immutable, tuples don't have methods like `append` or `remove`.\n",
    "They do have `count` and `index`:"
   ]
  },
  {
   "cell_type": "code",
   "execution_count": 1,
   "metadata": {},
   "outputs": [
    {
     "name": "stdout",
     "output_type": "stream",
     "text": [
      "2\n",
      "0\n"
     ]
    }
   ],
   "source": [
    "t = ('a', 'n', 'i', 'm', 'a', 'l')\n",
    "print(t.count('a'))  # 2\n",
    "print(t.index('a'))  # 0"
   ]
  },
  {
   "cell_type": "markdown",
   "metadata": {},
   "source": [
    "Because they're immutable, tuples are good choices as dictionary keys:"
   ]
  },
  {
   "cell_type": "code",
   "execution_count": 24,
   "metadata": {},
   "outputs": [
    {
     "name": "stdout",
     "output_type": "stream",
     "text": [
      "['go to dentist', 'renew passport']\n"
     ]
    }
   ],
   "source": [
    "# keys are tuples (year, month, day)\n",
    "# values are list of events\n",
    "todo = {\n",
    "    (2024, 10, 5): ['go to dentist', 'wax car'],\n",
    "    (2024, 10, 6): ['buy groceries'],\n",
    "    (2024, 10, 7): ['get haircut', 'go to gym', 'visit grandma']\n",
    "}\n",
    "\n",
    "print(todo[(2024, 10, 5)])  # ['go to dentist', 'wax car']"
   ]
  },
  {
   "cell_type": "markdown",
   "metadata": {},
   "source": [
    "Immutability is important for dictionary keys because the location of a keys associated value is determined by the keys hash value. If the key was mutable, then its hash value could change, and Python would not know where to find the value."
   ]
  },
  {
   "cell_type": "markdown",
   "metadata": {},
   "source": [
    "## Tuple Assignment"
   ]
  },
  {
   "cell_type": "markdown",
   "metadata": {},
   "source": [
    "Tuples can be used to assign multiple variables at once:"
   ]
  },
  {
   "cell_type": "code",
   "execution_count": 25,
   "metadata": {},
   "outputs": [
    {
     "name": "stdout",
     "output_type": "stream",
     "text": [
      "0\n",
      "0\n",
      "0\n",
      "Alice\n",
      "19\n"
     ]
    }
   ],
   "source": [
    "x, y, z = 0, 0, 0\n",
    "print(x)\n",
    "print(y)\n",
    "print(z)\n",
    "\n",
    "name, age = 'Alice', 19\n",
    "print(name)\n",
    "print(age)"
   ]
  },
  {
   "cell_type": "markdown",
   "metadata": {},
   "source": [
    "You can swap the values of two variables like this:"
   ]
  },
  {
   "cell_type": "code",
   "execution_count": 26,
   "metadata": {},
   "outputs": [
    {
     "name": "stdout",
     "output_type": "stream",
     "text": [
      "3\n",
      "1\n"
     ]
    }
   ],
   "source": [
    "a = 1\n",
    "b = 3\n",
    "\n",
    "a, b = b, a   # swap a and b\n",
    "\n",
    "print(a)      # 3\n",
    "print(b)      # 1"
   ]
  },
  {
   "cell_type": "markdown",
   "metadata": {},
   "source": [
    "Without this trick, you would need a temporary variable to swap the values:"
   ]
  },
  {
   "cell_type": "code",
   "execution_count": 27,
   "metadata": {},
   "outputs": [
    {
     "name": "stdout",
     "output_type": "stream",
     "text": [
      "3\n",
      "1\n"
     ]
    }
   ],
   "source": [
    "a = 1\n",
    "b = 3\n",
    "\n",
    "temp = a\n",
    "a = b\n",
    "b = temp\n",
    "\n",
    "print(a)  # 3\n",
    "print(b)  # 1"
   ]
  },
  {
   "cell_type": "markdown",
   "metadata": {},
   "source": [
    "## Returning Tuples\n",
    "\n",
    "Tuples are useful when you want a function to return more than one value. For\n",
    "example, the built-in function `divmod` returns a tuple of the quotient and the\n",
    "remainder of a division. In other words, `divmod(a, b)` returns the tuple `(a //\n",
    "b, a % b)`:"
   ]
  },
  {
   "cell_type": "code",
   "execution_count": 28,
   "metadata": {},
   "outputs": [
    {
     "name": "stdout",
     "output_type": "stream",
     "text": [
      "4 goes into 14 3 times with a remainder of 2\n"
     ]
    }
   ],
   "source": [
    "quotient, remainder = divmod(14, 4)\n",
    "print(f'4 goes into 14 {quotient} times with a remainder of {remainder}')"
   ]
  },
  {
   "cell_type": "markdown",
   "metadata": {},
   "source": [
    "The same thing works with your own functions that return tuples. For example:"
   ]
  },
  {
   "cell_type": "code",
   "execution_count": 29,
   "metadata": {},
   "outputs": [
    {
     "name": "stdout",
     "output_type": "stream",
     "text": [
      "\"applesauce\" has 5 vowels and 5 consonants\n"
     ]
    }
   ],
   "source": [
    "def vc_count(s):\n",
    "    \"\"\"Returns the number of vowels and consonants in s.\n",
    "    \"\"\"\n",
    "    vowels, consonants = 0, 0   \n",
    "    for letter in s:\n",
    "        if letter.lower() in 'aeiou':\n",
    "            vowels += 1\n",
    "        elif letter.isalpha():\n",
    "            consonants += 1\n",
    "    return vowels, consonants\n",
    "\n",
    "word = 'applesauce'\n",
    "v, c = vc_count(word)\n",
    "print(f'\"{word}\" has {v} vowels and {c} consonants')"
   ]
  },
  {
   "cell_type": "markdown",
   "metadata": {},
   "source": [
    "## Argument Packing\n",
    "\n",
    "The function `divmod(a, b)` takes two arguments, and so it's an error to pass in\n",
    "a single tuple argument:"
   ]
  },
  {
   "cell_type": "code",
   "execution_count": 31,
   "metadata": {},
   "outputs": [
    {
     "name": "stdout",
     "output_type": "stream",
     "text": [
      "(3, 2)\n"
     ]
    },
    {
     "ename": "TypeError",
     "evalue": "divmod expected 2 arguments, got 1",
     "output_type": "error",
     "traceback": [
      "\u001b[0;31m---------------------------------------------------------------------------\u001b[0m",
      "\u001b[0;31mTypeError\u001b[0m                                 Traceback (most recent call last)",
      "\u001b[0;32m/tmp/ipykernel_4623/3353173269.py\u001b[0m in \u001b[0;36m<module>\u001b[0;34m\u001b[0m\n\u001b[1;32m      2\u001b[0m \u001b[0;34m\u001b[0m\u001b[0m\n\u001b[1;32m      3\u001b[0m \u001b[0mt\u001b[0m \u001b[0;34m=\u001b[0m \u001b[0;36m14\u001b[0m\u001b[0;34m,\u001b[0m \u001b[0;36m4\u001b[0m\u001b[0;34m\u001b[0m\u001b[0;34m\u001b[0m\u001b[0m\n\u001b[0;32m----> 4\u001b[0;31m \u001b[0mprint\u001b[0m\u001b[0;34m(\u001b[0m\u001b[0mdivmod\u001b[0m\u001b[0;34m(\u001b[0m\u001b[0mt\u001b[0m\u001b[0;34m)\u001b[0m\u001b[0;34m)\u001b[0m      \u001b[0;31m# TypeError: divmod expected 2 arguments, got 1\u001b[0m\u001b[0;34m\u001b[0m\u001b[0;34m\u001b[0m\u001b[0m\n\u001b[0m",
      "\u001b[0;31mTypeError\u001b[0m: divmod expected 2 arguments, got 1"
     ]
    }
   ],
   "source": [
    "print(divmod(14, 4))  # ok: (3, 2)\n",
    "\n",
    "t = 14, 4\n",
    "print(divmod(t))      # TypeError: divmod expected 2 arguments, got 1"
   ]
  },
  {
   "cell_type": "markdown",
   "metadata": {},
   "source": [
    "Python provides a way **unpack** a tuple as the arguments to a function with the\n",
    "`*` operator:"
   ]
  },
  {
   "cell_type": "code",
   "execution_count": 32,
   "metadata": {},
   "outputs": [
    {
     "name": "stdout",
     "output_type": "stream",
     "text": [
      "(3, 2)\n"
     ]
    }
   ],
   "source": [
    "t = 14, 4\n",
    "print(divmod(*t))  # ok, t unpacked: (3, 2)"
   ]
  },
  {
   "cell_type": "markdown",
   "metadata": {},
   "source": [
    "Going the other way, a function can **pack** its arguments into a tuple with the\n",
    "`*` operator. This way you can write functions that take a variable number of\n",
    "arguments:"
   ]
  },
  {
   "cell_type": "code",
   "execution_count": 33,
   "metadata": {},
   "outputs": [
    {
     "name": "stdout",
     "output_type": "stream",
     "text": [
      "2.5\n",
      "-1.0\n"
     ]
    }
   ],
   "source": [
    "def mean(*args):\n",
    "    return sum(args) / len(args)\n",
    "\n",
    "print(mean(1, 2, 3, 4))  # 2.5\n",
    "print(mean(0, -2))       # -1.0"
   ]
  },
  {
   "cell_type": "markdown",
   "metadata": {},
   "source": [
    "`*args` allows any number of arguments to be passed to `mean`. They are packed\n",
    "into `args` as a tuple, i.e. you get all the argument in the tuple `args`."
   ]
  },
  {
   "cell_type": "markdown",
   "metadata": {},
   "source": [
    "## `enumerate` in a For Loop"
   ]
  },
  {
   "cell_type": "markdown",
   "metadata": {},
   "source": [
    "The built-in `enumerate` function is useful when you want to loop over a list\n",
    "and get both an index and the value at that index:"
   ]
  },
  {
   "cell_type": "code",
   "execution_count": 34,
   "metadata": {},
   "outputs": [
    {
     "name": "stdout",
     "output_type": "stream",
     "text": [
      "0 a\n",
      "1 p\n",
      "2 p\n",
      "3 l\n",
      "4 e\n"
     ]
    }
   ],
   "source": [
    "s = 'apple'\n",
    "for i, c in enumerate(s):\n",
    "    print(i, c)"
   ]
  },
  {
   "cell_type": "markdown",
   "metadata": {},
   "source": [
    "`enumerate` returns a tuple each time you go through the loop. The first value\n",
    "of the tuple is the index, and the second is the value at that index.\n",
    "\n",
    "For instance, this code prints the lines of a file with line numbers:"
   ]
  },
  {
   "cell_type": "code",
   "execution_count": 37,
   "metadata": {},
   "outputs": [
    {
     "name": "stdout",
     "output_type": "stream",
     "text": [
      "line 1: Problems worthy\n",
      "line 2: of attack\n",
      "line 3: prove their worth\n",
      "line 4: by hitting back.\n",
      "line 5: -- Piet Hein"
     ]
    }
   ],
   "source": [
    "poem = open('poem.txt')\n",
    "for i, line in enumerate(poem):\n",
    "    print(f'line {i + 1}: {line}', end='')"
   ]
  },
  {
   "cell_type": "markdown",
   "metadata": {},
   "source": [
    "## The `zip` Function"
   ]
  },
  {
   "cell_type": "markdown",
   "metadata": {},
   "source": [
    "`zip` is a built-in function that takes two or more sequences and \"zips\" them\n",
    "together:"
   ]
  },
  {
   "cell_type": "code",
   "execution_count": 41,
   "metadata": {},
   "outputs": [
    {
     "name": "stdout",
     "output_type": "stream",
     "text": [
      "1 a\n",
      "2 b\n",
      "3 c\n"
     ]
    }
   ],
   "source": [
    "a = [1,     2,   3]\n",
    "b = ['a', 'b', 'c']\n",
    "\n",
    "for x, y in zip(a, b):\n",
    "    print(x, y)"
   ]
  },
  {
   "cell_type": "markdown",
   "metadata": {},
   "source": [
    "Or:"
   ]
  },
  {
   "cell_type": "code",
   "execution_count": 44,
   "metadata": {},
   "outputs": [
    {
     "name": "stdout",
     "output_type": "stream",
     "text": [
      "1 a 10\n",
      "2 b 20\n",
      "3 c 30\n"
     ]
    }
   ],
   "source": [
    "a = [  1,   2,   3]\n",
    "b = ['a', 'b', 'c']\n",
    "c = [ 10,  20,  30]\n",
    "\n",
    "for x, y, z in zip(a, b, c):\n",
    "    print(x, y, z)"
   ]
  },
  {
   "cell_type": "markdown",
   "metadata": {},
   "source": [
    "This loops through all pairs of adjacent characters in a string:"
   ]
  },
  {
   "cell_type": "code",
   "execution_count": 49,
   "metadata": {},
   "outputs": [
    {
     "name": "stdout",
     "output_type": "stream",
     "text": [
      "('a', 'p')\n",
      "('p', 'p')\n",
      "('p', 'l')\n",
      "('l', 'e')\n"
     ]
    }
   ],
   "source": [
    "s = 'apple'\n",
    "for pair in zip(s, s[1:]):\n",
    "    print(pair)"
   ]
  },
  {
   "cell_type": "markdown",
   "metadata": {},
   "source": [
    "## Comparing Tuples"
   ]
  },
  {
   "cell_type": "markdown",
   "metadata": {},
   "source": [
    "You can compare tuples using `<`, `<=`, `>`, `>=`, `==`, and `!=`. These\n",
    "operators work similarly to strings:"
   ]
  },
  {
   "cell_type": "code",
   "execution_count": 40,
   "metadata": {},
   "outputs": [
    {
     "name": "stdout",
     "output_type": "stream",
     "text": [
      "True\n",
      "False\n",
      "True\n",
      "False\n",
      "False\n",
      "False\n"
     ]
    }
   ],
   "source": [
    "print((3, 4) < (3, 5))  # True\n",
    "print((4, 5) < (4, 1))  # False\n",
    "\n",
    "print((3, 4, 5) == (3, 4, 5))  # True\n",
    "print((3, 4, 5) == (4, 3, 5))  # False\n",
    "print((3, 4, 5) == (3, 4, 6))  # False\n",
    "print((3, 4, 5) == (3, 4))     # False\n"
   ]
  },
  {
   "cell_type": "markdown",
   "metadata": {},
   "source": [
    "Tuple use **lexicographic comparison**. For example, here's how Python evaluates\n",
    "`(a, b, c) < (d, e, f)`. First, it evaluates `a < d`. If `a` and `d` are\n",
    "different, then the result of the comparison is the value of `a < d` and the\n",
    "comparison is done. But if `a` and `d` are the same, then Python moves on to\n",
    "compare `b` and `e`. If `b` and `e` are different, then the result of the\n",
    "comparison is the value of `b < e` and the comparison is done. But if `b` and\n",
    "`e` are the same, then Python returns the value of `c < f`.\n",
    "\n",
    "The explanation is a bit long, but it is the same idea as comparing strings."
   ]
  },
  {
   "cell_type": "markdown",
   "metadata": {},
   "source": [
    "## Questions\n",
    "\n",
    "1. What are the differences between a tuple and a list?\n",
    "\n",
    "2. How do you create a tuple of size 1? Show an example.\n",
    "\n",
    "3. How can you create the empty tuple? Show an example.\n",
    "\n",
    "4. How do you convert a list to a tuple? Show an example.\n",
    "\n",
    "5. Which of the following operations can you do to a tuple?\n",
    "\n",
    "   - Get it's length using `len`.\n",
    "   - Read individual elements using `[]`.\n",
    "   - Make slices using `[:]`.\n",
    "   - Concatenate using `+`.\n",
    "\n",
    "6. Give an example of how tuple assignment swaps two variables.\n",
    "\n",
    "7. Give an example of a function that uses argument packing to take a variable\n",
    "   number of arguments.\n",
    "\n",
    "8. Give an example of calling a function using argument unpacking.\n",
    "\n",
    "9. Given an example of using `enumerate` in a for loop.\n",
    "\n",
    "10. Given an example of using the `zip` function.\n",
    "\n",
    "11. How does Python compare tuples?"
   ]
  }
 ],
 "metadata": {
  "colab": {
   "authorship_tag": "ABX9TyNDPRhikI2Q71waRP7/kTi/",
   "mount_file_id": "1RtZk2Rw4mNshgxrTBWTSrrRwywQ3Grx8",
   "provenance": []
  },
  "kernelspec": {
   "display_name": "base",
   "language": "python",
   "name": "python3"
  },
  "language_info": {
   "codemirror_mode": {
    "name": "ipython",
    "version": 3
   },
   "file_extension": ".py",
   "mimetype": "text/x-python",
   "name": "python",
   "nbconvert_exporter": "python",
   "pygments_lexer": "ipython3",
   "version": "3.12.7"
  }
 },
 "nbformat": 4,
 "nbformat_minor": 0
}
