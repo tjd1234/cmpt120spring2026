{
 "cells": [
  {
   "cell_type": "markdown",
   "metadata": {},
   "source": [
    "# Homework 8"
   ]
  },
  {
   "cell_type": "markdown",
   "metadata": {},
   "source": [
    "This is based on chapter 8 of the course notes, and may introduce a few topics\n",
    "not mentioned there.\n",
    "\n",
    "You can also do the exercises at the bottom of the textbook chapter."
   ]
  },
  {
   "cell_type": "markdown",
   "metadata": {},
   "source": [
    "## Practice Question 1"
   ]
  },
  {
   "cell_type": "markdown",
   "metadata": {},
   "source": [
    "The file [austenPandP.txt](austenPandP.txt) contains the full text of Jane\n",
    "Austen's novel \"Pride and Prejudice\". Write a program that creates a new file\n",
    "called `extraordinar.txt` that contains that contains just the lines of\n",
    "[austenPandP.txt](austenPandP.txt) that contain the word \"extraordinary\". \n",
    "\n",
    "Format the output file like this:\n",
    "- Include the line number of each line that contains \"extraordinary\".\n",
    "- Convert each occurrence of \"extraordinary\" to \"EXTRAORDINARY\".\n",
    "\n",
    "So the output of your file should look like this:\n",
    "\n",
    "```\n",
    "   98: I do not pretend to be anything EXTRAORDINARY now. When a woman has five\n",
    " 1138: EXTRAORDINARY kindness she was treated with. Elizabeth silently attended\n",
    " 2248: Elizabeth was chiefly struck by his EXTRAORDINARY deference for Lady\n",
    " 3729: EXTRAORDINARY one after my declaration. I do assure you that I am not\n",
    " 4609: Miss Bennet eagerly disclaimed all EXTRAORDINARY merit, and threw back\n",
    " 5481: Catherine that spoke her awful from any EXTRAORDINARY talents or\n",
    " 7218: Lady Catherine's family is indeed the sort of EXTRAORDINARY advantage\n",
    " 8220: This was praise, of all others most EXTRAORDINARY, most opposite to her\n",
    " 8948: EXTRAORDINARY in them. They have a sharp, shrewish look, which I do\n",
    "10822: given a reason for his interference, which asked no EXTRAORDINARY\n",
    "11911: Darcy must have such EXTRAORDINARY sources of happiness necessarily\n",
    "11972: supported this EXTRAORDINARY application have been as frivolous as the\n",
    "12051: The discomposure of spirits which this EXTRAORDINARY visit threw\n",
    "12414: My conscience told me that I deserved no EXTRAORDINARY politeness, and I\n",
    "12503: The evening passed quietly, unmarked by anything EXTRAORDINARY. The\n",
    "12718: and made the important communication. Its effect was most EXTRAORDINARY;\n",
    "```"
   ]
  },
  {
   "cell_type": "code",
   "execution_count": 7,
   "metadata": {
    "tags": [
     "solution"
    ]
   },
   "outputs": [
    {
     "name": "stdout",
     "output_type": "stream",
     "text": [
      "   98: I do not pretend to be anything EXTRAORDINARY now. When a woman has five\n",
      " 1138: EXTRAORDINARY kindness she was treated with. Elizabeth silently attended\n",
      " 2248: Elizabeth was chiefly struck by his EXTRAORDINARY deference for Lady\n",
      " 3729: EXTRAORDINARY one after my declaration. I do assure you that I am not\n",
      " 4609: Miss Bennet eagerly disclaimed all EXTRAORDINARY merit, and threw back\n",
      " 5481: Catherine that spoke her awful from any EXTRAORDINARY talents or\n",
      " 7218: Lady Catherine's family is indeed the sort of EXTRAORDINARY advantage\n",
      " 8220: This was praise, of all others most EXTRAORDINARY, most opposite to her\n",
      " 8948: EXTRAORDINARY in them. They have a sharp, shrewish look, which I do\n",
      "10822: given a reason for his interference, which asked no EXTRAORDINARY\n",
      "11911: Darcy must have such EXTRAORDINARY sources of happiness necessarily\n",
      "11972: supported this EXTRAORDINARY application have been as frivolous as the\n",
      "12051: The discomposure of spirits which this EXTRAORDINARY visit threw\n",
      "12414: My conscience told me that I deserved no EXTRAORDINARY politeness, and I\n",
      "12503: The evening passed quietly, unmarked by anything EXTRAORDINARY. The\n",
      "12718: and made the important communication. Its effect was most EXTRAORDINARY;\n"
     ]
    }
   ],
   "source": [
    "#\n",
    "# Sample solution\n",
    "#\n",
    "\n",
    "austen = open('austenPandP.txt', 'r')\n",
    "out = open('extraordinary.txt', 'w')\n",
    "\n",
    "line_num = 0\n",
    "for line in austen:\n",
    "    line_num += 1\n",
    "    if 'extraordinary' in line:\n",
    "        line = line.replace('extraordinary', 'EXTRAORDINARY')\n",
    "        out.write(f'{line_num:5d}: {line}')\n",
    "\n",
    "out.close()\n",
    "\n",
    "#\n",
    "# Read the output file to check the results. \n",
    "#\n",
    "out = open('extraordinary.txt', 'r')\n",
    "for line in out:\n",
    "    print(line, end='')"
   ]
  },
  {
   "cell_type": "markdown",
   "metadata": {},
   "source": [
    "## Practice Question 2"
   ]
  },
  {
   "cell_type": "markdown",
   "metadata": {},
   "source": [
    "#### Part 1\n",
    "Inspired by [Wordle](https://www.nytimes.com/games/wordle/index.html), write a\n",
    "Python program that makes a file containing just the 5-letter words in\n",
    "[words.txt](words.txt). Call the file `words5.txt`, and format it one word per\n",
    "line, just like [words.txt](words.txt).\n",
    "\n",
    "Since [words.txt](words.txt) is alphabetical order, the words `words5.txt`\n",
    "should also be in alphabetical order."
   ]
  },
  {
   "cell_type": "code",
   "execution_count": 16,
   "metadata": {
    "tags": [
     "solution"
    ]
   },
   "outputs": [
    {
     "name": "stdout",
     "output_type": "stream",
     "text": [
      "# of 5-letter words: 8254\n",
      "\n",
      "First few words of words5.txt:\n",
      "aahed\n",
      "aalii\n",
      "abaca\n",
      "abaci\n",
      "aback\n",
      "...\n"
     ]
    }
   ],
   "source": [
    "#\n",
    "# Sample solution\n",
    "#\n",
    "\n",
    "output_filename = 'words5.txt'\n",
    "all_words = open('words.txt', 'r')\n",
    "words5 = open(output_filename, 'w')\n",
    "\n",
    "word_count = 0\n",
    "for w in all_words:\n",
    "    # + 1 to account for the newline character\n",
    "    if len(w) == 5 + 1:\n",
    "        word_count += 1\n",
    "        words5.write(w)\n",
    "words5.close()\n",
    "print(f'# of 5-letter words: {word_count}')  # 8254\n",
    "\n",
    "#\n",
    "# Check the first few words of output_filename\n",
    "#\n",
    "print()\n",
    "print(f'First few words of {output_filename}:')\n",
    "words5 = open(output_filename, 'r')\n",
    "for i in range(5):\n",
    "    print(words5.readline(), end='')\n",
    "\n",
    "print('...')"
   ]
  },
  {
   "cell_type": "markdown",
   "metadata": {},
   "source": [
    "#### Part 2: Anagrams"
   ]
  },
  {
   "cell_type": "markdown",
   "metadata": {},
   "source": [
    "Write a function called `is_anagram(s, t)` that returns `True` if `s` and `t`\n",
    "are anagrams, and `False` otherwise.\n",
    "\n",
    "Two words are **anagrams** if they have the same characters but in a different\n",
    "order. For example, \"listen\" and \"silent\" are anagrams. We will count identical\n",
    "strings as being anagrams, e.g. \"hello\" is an anagram of \"hello\".\n",
    "\n",
    "One way to test if to strings are anagrams is to sort the characters in each\n",
    "word, and then compare them with `==`. \n",
    "\n",
    "Here's a helper function that returns a sorted copy of a string:"
   ]
  },
  {
   "cell_type": "code",
   "execution_count": 23,
   "metadata": {},
   "outputs": [
    {
     "name": "stdout",
     "output_type": "stream",
     "text": [
      "eilnst\n",
      "eilnst\n",
      "aadeinorrrtxy\n"
     ]
    }
   ],
   "source": [
    "def sorted_string(s):\n",
    "    \"\"\"Return a new string with the characters of s sorted.\n",
    "    \"\"\"\n",
    "    return ''.join(sorted(s))\n",
    "\n",
    "print(sorted_string('listen'))\n",
    "print(sorted_string('silent'))\n",
    "print(sorted_string('extraordinary'))"
   ]
  },
  {
   "cell_type": "code",
   "execution_count": 28,
   "metadata": {
    "tags": [
     "solution"
    ]
   },
   "outputs": [
    {
     "name": "stdout",
     "output_type": "stream",
     "text": [
      "True\n",
      "True\n",
      "True\n",
      "False\n"
     ]
    }
   ],
   "source": [
    "#\n",
    "# Sample solution\n",
    "#\n",
    "def is_anagram(s, t):\n",
    "    \"\"\"Return True if s and t are anagrams, False otherwise.\n",
    "    \"\"\"\n",
    "    return sorted_string(s) == sorted_string(t)\n",
    "\n",
    "print(is_anagram('cat', 'act'))        # True\n",
    "print(is_anagram('listen', 'silent'))  # True\n",
    "print(is_anagram('bombed', 'mobbed'))  # True\n",
    "print(is_anagram('hoses', 'shoe'))     # False"
   ]
  },
  {
   "cell_type": "markdown",
   "metadata": {},
   "source": [
    "#### Part 3: 5-letter Anagrams"
   ]
  },
  {
   "cell_type": "markdown",
   "metadata": {},
   "source": [
    "Write a program that asks the user to enter a 5-letter word, and then prints all\n",
    "the words in `words5.txt` that are anagrams of that word. If the word they enter\n",
    "is not 5-letters, print an error message like \"That's not a 5-letter word\".\n",
    "\n",
    "Your program should print the anagrams in alphabetical order, including the word entered by the user.\n",
    "\n",
    "Here is a sample run:\n",
    "\n",
    "```\n",
    "What is your word? rates\n",
    "\n",
    "Anagrams of \"rates\":\n",
    "aster\n",
    "rates\n",
    "stare\n",
    "tares\n",
    "tears\n",
    "```"
   ]
  },
  {
   "cell_type": "code",
   "execution_count": 25,
   "metadata": {
    "tags": [
     "solution"
    ]
   },
   "outputs": [
    {
     "name": "stdout",
     "output_type": "stream",
     "text": [
      "Anagrams of rates:\n",
      "aster\n",
      "rates\n",
      "stare\n",
      "tares\n",
      "tears\n"
     ]
    }
   ],
   "source": [
    "#\n",
    "# Sample solution\n",
    "#\n",
    "\n",
    "word = input('What is your word? ').strip()\n",
    "\n",
    "if len(word) == 5:\n",
    "    words5 = open('words5.txt', 'r')\n",
    "    word_sorted = ''.join(sorted(word))\n",
    "    print(f'Anagrams of {word}:')\n",
    "    for w in words5:\n",
    "        w = w.strip()   # remove the newline character\n",
    "        w_sorted = ''.join(sorted(w))\n",
    "        if w_sorted == word_sorted:\n",
    "            print(w)\n",
    "else:\n",
    "    print(f'\"{word}\" is not a 5-letter word.')"
   ]
  }
 ],
 "metadata": {
  "kernelspec": {
   "display_name": "Python 3",
   "language": "python",
   "name": "python3"
  },
  "language_info": {
   "codemirror_mode": {
    "name": "ipython",
    "version": 3
   },
   "file_extension": ".py",
   "mimetype": "text/x-python",
   "name": "python",
   "nbconvert_exporter": "python",
   "pygments_lexer": "ipython3",
   "version": "3.8.10"
  }
 },
 "nbformat": 4,
 "nbformat_minor": 2
}
