{
 "cells": [
  {
   "cell_type": "markdown",
   "metadata": {
    "id": "cjsmyWXsNrEg"
   },
   "source": [
    "# Chapter 8 Lecture Notes\n",
    "\n",
    "Please read chapter 8 of the textbook.\n",
    "\n",
    "These notes take 1 - 3 lecture hours to cover."
   ]
  },
  {
   "cell_type": "markdown",
   "metadata": {},
   "source": [
    "## Strings"
   ]
  },
  {
   "cell_type": "markdown",
   "metadata": {},
   "source": [
    "Strings are an important and common data type.\n",
    "\n",
    "A **string** is defined as a sequence of 0 or more characters. The characters\n",
    "could be letters, digits, punctuation, spaces, tabs, or other symbols.\n",
    "\n",
    "A **string literal** is a sequence of characters enclosed in single, double, or\n",
    "triple quotes:"
   ]
  },
  {
   "cell_type": "code",
   "execution_count": 1,
   "metadata": {},
   "outputs": [
    {
     "name": "stdout",
     "output_type": "stream",
     "text": [
      "you can put a \" and ' here!\n",
      "you can put a \" and ' here!\n",
      "you can put a \" and ' here!\n"
     ]
    }
   ],
   "source": [
    "print('you can put a \" and \\' here!')\n",
    "print(\"you can put a \\\" and ' here!\")\n",
    "print(\"\"\"you can put a \" and ' here!\"\"\")"
   ]
  },
  {
   "cell_type": "markdown",
   "metadata": {},
   "source": [
    "\"\"\"-quotes are useful for strings that span multiple lines, and they can contain\n",
    "both single and double quotes:"
   ]
  },
  {
   "cell_type": "code",
   "execution_count": 3,
   "metadata": {},
   "outputs": [
    {
     "name": "stdout",
     "output_type": "stream",
     "text": [
      "\n",
      "Triple-quote strings can contain\n",
      "\"-quotes and '-quotes, and can\n",
      "also span multiple lines.\n",
      "\n"
     ]
    }
   ],
   "source": [
    "intro = \"\"\"\n",
    "Triple-quote strings can contain\n",
    "\"-quotes and '-quotes, and can\n",
    "also span multiple lines.\n",
    "\"\"\"\n",
    "\n",
    "print(intro)"
   ]
  },
  {
   "cell_type": "markdown",
   "metadata": {},
   "source": [
    "## String Indexing\n",
    "\n",
    "You can read individual characters of a string using indexing:"
   ]
  },
  {
   "cell_type": "code",
   "execution_count": 2,
   "metadata": {},
   "outputs": [
    {
     "name": "stdout",
     "output_type": "stream",
     "text": [
      "a\n"
     ]
    }
   ],
   "source": [
    "fruit = 'banana'\n",
    "print(fruit[1])  # a"
   ]
  },
  {
   "cell_type": "markdown",
   "metadata": {},
   "source": [
    "`fruit[1]` is `a` (not `b`!) because the first index of a string is 0:\n",
    "`fruit[0]` is the first character of the string, and `fruit[1]` is the second\n",
    "character, and so on:"
   ]
  },
  {
   "cell_type": "code",
   "execution_count": 3,
   "metadata": {},
   "outputs": [
    {
     "name": "stdout",
     "output_type": "stream",
     "text": [
      "b\n",
      "a\n",
      "n\n",
      "a\n",
      "n\n",
      "a\n"
     ]
    }
   ],
   "source": [
    "fruit = 'banana'\n",
    "print(fruit[0])  # b\n",
    "print(fruit[1])  # a\n",
    "print(fruit[2])  # n\n",
    "print(fruit[3])  # a\n",
    "print(fruit[4])  # n\n",
    "print(fruit[5])  # a"
   ]
  },
  {
   "cell_type": "markdown",
   "metadata": {},
   "source": [
    "If you enter an index that is the same length as the string, or bigger, you get\n",
    "an error:"
   ]
  },
  {
   "cell_type": "code",
   "execution_count": 4,
   "metadata": {},
   "outputs": [
    {
     "ename": "IndexError",
     "evalue": "string index out of range",
     "output_type": "error",
     "traceback": [
      "\u001b[0;31m---------------------------------------------------------------------------\u001b[0m",
      "\u001b[0;31mIndexError\u001b[0m                                Traceback (most recent call last)",
      "\u001b[0;32m/tmp/ipykernel_8508/3678961005.py\u001b[0m in \u001b[0;36m<module>\u001b[0;34m\u001b[0m\n\u001b[1;32m      1\u001b[0m \u001b[0mfruit\u001b[0m \u001b[0;34m=\u001b[0m \u001b[0;34m'banana'\u001b[0m\u001b[0;34m\u001b[0m\u001b[0;34m\u001b[0m\u001b[0m\n\u001b[0;32m----> 2\u001b[0;31m \u001b[0mprint\u001b[0m\u001b[0;34m(\u001b[0m\u001b[0mfruit\u001b[0m\u001b[0;34m[\u001b[0m\u001b[0;36m6\u001b[0m\u001b[0;34m]\u001b[0m\u001b[0;34m)\u001b[0m\u001b[0;34m\u001b[0m\u001b[0;34m\u001b[0m\u001b[0m\n\u001b[0m",
      "\u001b[0;31mIndexError\u001b[0m: string index out of range"
     ]
    }
   ],
   "source": [
    "fruit = 'banana'\n",
    "print(fruit[6])  # IndexError: string index out of range"
   ]
  },
  {
   "cell_type": "markdown",
   "metadata": {},
   "source": [
    "Recall that `len` is a built-in function that returns the length of a string,\n",
    "and so you can get the last character like this:"
   ]
  },
  {
   "cell_type": "code",
   "execution_count": null,
   "metadata": {},
   "outputs": [
    {
     "name": "stdout",
     "output_type": "stream",
     "text": [
      "a\n"
     ]
    },
    {
     "ename": "IndexError",
     "evalue": "string index out of range",
     "output_type": "error",
     "traceback": [
      "\u001b[0;31m---------------------------------------------------------------------------\u001b[0m",
      "\u001b[0;31mIndexError\u001b[0m                                Traceback (most recent call last)",
      "\u001b[0;32m/tmp/ipykernel_8508/3043646916.py\u001b[0m in \u001b[0;36m<module>\u001b[0;34m\u001b[0m\n\u001b[1;32m      3\u001b[0m \u001b[0mprint\u001b[0m\u001b[0;34m(\u001b[0m\u001b[0mfruit\u001b[0m\u001b[0;34m[\u001b[0m\u001b[0mn\u001b[0m\u001b[0;34m-\u001b[0m\u001b[0;36m1\u001b[0m\u001b[0;34m]\u001b[0m\u001b[0;34m)\u001b[0m  \u001b[0;31m# a, the last character\u001b[0m\u001b[0;34m\u001b[0m\u001b[0;34m\u001b[0m\u001b[0m\n\u001b[1;32m      4\u001b[0m \u001b[0;34m\u001b[0m\u001b[0m\n\u001b[0;32m----> 5\u001b[0;31m \u001b[0mprint\u001b[0m\u001b[0;34m(\u001b[0m\u001b[0mfruit\u001b[0m\u001b[0;34m[\u001b[0m\u001b[0mn\u001b[0m\u001b[0;34m]\u001b[0m\u001b[0;34m)\u001b[0m  \u001b[0;31m# IndexError\u001b[0m\u001b[0;34m\u001b[0m\u001b[0;34m\u001b[0m\u001b[0m\n\u001b[0m",
      "\u001b[0;31mIndexError\u001b[0m: string index out of range"
     ]
    }
   ],
   "source": [
    "fruit = 'banana'\n",
    "n = len(fruit)\n",
    "\n",
    "print(fruit[n-1])  # a, the last character\n",
    "\n",
    "print(fruit[n])  # IndexError"
   ]
  },
  {
   "cell_type": "markdown",
   "metadata": {},
   "source": [
    "## Negative Indexing\n",
    "\n",
    "An easier way to get the last character is to use index -1:"
   ]
  },
  {
   "cell_type": "code",
   "execution_count": null,
   "metadata": {},
   "outputs": [],
   "source": [
    "fruit = 'banana'\n",
    "print(fruit[-1])  # a, the last character\n",
    "print(fruit[-2])  # n, the second last character\n",
    "print(fruit[-3])  # a, the third last character"
   ]
  },
  {
   "cell_type": "markdown",
   "metadata": {},
   "source": [
    "This is known as **negative indexing**, and can be quite convenient.\n",
    "\n",
    "This diagram shows the positive and negative indices of a string:\n",
    "\n",
    "<img src=\"banana_indices.png\" alt=\"banana string\" width=\"200\"/>"
   ]
  },
  {
   "cell_type": "markdown",
   "metadata": {},
   "source": [
    "## String Slices"
   ]
  },
  {
   "cell_type": "markdown",
   "metadata": {},
   "source": [
    "A **slice** is a substring of a string. You can get a slice like this:"
   ]
  },
  {
   "cell_type": "code",
   "execution_count": 9,
   "metadata": {},
   "outputs": [
    {
     "name": "stdout",
     "output_type": "stream",
     "text": [
      "nan\n"
     ]
    }
   ],
   "source": [
    "fruit = 'banana'\n",
    "print(fruit[2:5])  # nan"
   ]
  },
  {
   "cell_type": "markdown",
   "metadata": {},
   "source": [
    "In general, if `s` is a string then `s[m:n]` is the slice consisting of the\n",
    "characters `s[m]`, `s[m+1]`, ..., `s[n-1]`.\n",
    "\n",
    "**Important**: The index values of a slice are asymmetric. The slice starts\n",
    "`s[m:n]` at index `m` and ends at index `n-1`.\n",
    "\n",
    "`s[m:]` is the slice starting at index `m` and going to the end of the string.\n",
    "`s[:n]` is the slice from the start of the string up to, but not including, index\n",
    "`n`.\n",
    "\n",
    "`s[:]` is a slice that starts at the beginning and goes to the end, which is\n",
    "same as the whole string.\n"
   ]
  },
  {
   "cell_type": "markdown",
   "metadata": {},
   "source": [
    "## Strings are Immutable"
   ]
  },
  {
   "cell_type": "markdown",
   "metadata": {},
   "source": [
    "An important property of Python strings is that they are **immutable**. This\n",
    "means that they *cannot be modified*. You can read and copy a string, but you\n",
    "can't change it's characters or change its length.\n",
    "\n",
    "For example:"
   ]
  },
  {
   "cell_type": "code",
   "execution_count": null,
   "metadata": {},
   "outputs": [],
   "source": [
    "fruit = 'banana'\n",
    "print(fruit[0])  # reading a string is ok\n",
    "\n",
    "fruit[0] = 'B'  # TypeError: can't change a string"
   ]
  },
  {
   "cell_type": "markdown",
   "metadata": {},
   "source": [
    "When you concatenate strings (i.e. with `+`), you always create new strings:"
   ]
  },
  {
   "cell_type": "code",
   "execution_count": null,
   "metadata": {},
   "outputs": [],
   "source": [
    "fruit = 'banana'\n",
    "\n",
    "fruit = fruit + 's'\n",
    "print(fruit)  # bananas, a brand new string"
   ]
  },
  {
   "cell_type": "markdown",
   "metadata": {},
   "source": [
    "### Some Benefits of Immutability"
   ]
  },
  {
   "cell_type": "markdown",
   "metadata": {},
   "source": [
    "Immutable strings have a number of nice consequences.\n",
    "\n",
    "Assignment to a string variable is a simple operation that does not require\n",
    "copying the characters of the string:"
   ]
  },
  {
   "cell_type": "code",
   "execution_count": null,
   "metadata": {},
   "outputs": [],
   "source": [
    "fruit = 'banana'\n",
    "fruit2 = fruit\n",
    "fruit3 = fruit"
   ]
  },
  {
   "cell_type": "markdown",
   "metadata": {},
   "source": [
    "`fruit`, `fruit2`, and `fruit3` can all refer to the same string in memory, with\n",
    "no characters needing to be copied. This fast and memory efficient.\n",
    "\n",
    "Another advantage of immutable strings is that they can be used as keys in\n",
    "dictionaries. Later we will see dictionaries, which are a kind of key-value\n",
    "table that needs its keys to be immutable. If strings were changeable, then\n",
    "changing a string key ruins the table."
   ]
  },
  {
   "cell_type": "markdown",
   "metadata": {},
   "source": [
    "### Some Disadvantages of Immutability"
   ]
  },
  {
   "cell_type": "markdown",
   "metadata": {},
   "source": [
    "Immutability can be a problem when you want to change a string. For example,\n",
    "there is no fast and simple way to change the first character of a string. You\n",
    "need to do something like this:"
   ]
  },
  {
   "cell_type": "code",
   "execution_count": 10,
   "metadata": {},
   "outputs": [
    {
     "name": "stdout",
     "output_type": "stream",
     "text": [
      "bat is my favourite word\n"
     ]
    }
   ],
   "source": [
    "phrase = 'cat is my favourite word'\n",
    "\n",
    "phrase = 'b' + phrase[1:]\n",
    "\n",
    "print(phrase)  # bat is my favourite word"
   ]
  },
  {
   "cell_type": "markdown",
   "metadata": {},
   "source": [
    "Both `phrase[1:]` and `+` make new strings. If the strings were mutable, we\n",
    "could simply write the fast and simple statement `phrase[0] = 'b'`. \n",
    "\n",
    "Immutable strings can be a problem in programs where performance is critical.\n",
    "For instance, writing a text editor in Python could be challenging. A text\n",
    "editor should be able to efficiently change any character anywhere in the file.\n",
    "Thus representing the entire file as a single string would be a bad idea because\n",
    "you'd need to re-copy the entire file for every change."
   ]
  },
  {
   "cell_type": "markdown",
   "metadata": {},
   "source": [
    "## Comparing Strings"
   ]
  },
  {
   "cell_type": "markdown",
   "metadata": {},
   "source": [
    "`==`, `!=`, `<`, `>`, `<=`, and `>=` can be used to compare strings. If `s` and\n",
    "`t` are strings, then:\n",
    "\n",
    "Sure, here is the updated table with each example on its own line:\n",
    "\n",
    "\n",
    "|   Operator   | Description                          | Example                                      |\n",
    "|:------------:|--------------------------------------|----------------------------------------------|\n",
    "| `==`         | Equal to                             | `'apple' == 'apple'` (True)  <br> `'apple' == 'banana'` (False)  |\n",
    "| `!=`         | Not equal to                         | `'apple' != 'orange'` (True) <br> `'apple' != 'apple'` (False)  |\n",
    "| `<`          | Less than                            | `'apple' < 'banana'` (True) <br> `'banana' < 'apple'` (False)   <br> `'apple' < 'apple'` (False)|\n",
    "| `>`          | Greater than                         | `'banana' > 'apple'` (True) <br> `'apple' > 'banana'` (False)   <br> `'apple' > 'apple'` (False)|\n",
    "| `<=`         | Less than or equal to                | `'apple' <= 'banana'` (True) <br> `'banana' <= 'apple'` (False)  <br> `'apple' <= 'apple'` (True)|\n",
    "| `>=`         | Greater than or equal to             | `'banana' >= 'apple'` (True) <br> `'apple' >= 'banana'` (False)  <br> `'apple' >= 'apple'` (True)|\n",
    "\n",
    "Python comparisons strings *alphabetically*, which is quite useful for sorting\n",
    "strings."
   ]
  },
  {
   "cell_type": "markdown",
   "metadata": {},
   "source": [
    "## Writing to Files\n",
    "\n",
    "To *write* to a file, you must first open it with the `open` function, and using\n",
    "a `'w'` argument:"
   ]
  },
  {
   "cell_type": "code",
   "execution_count": 3,
   "metadata": {},
   "outputs": [
    {
     "name": "stdout",
     "output_type": "stream",
     "text": [
      "learn to write poems\n",
      "get a job at a poetry company\n",
      "profit!\n"
     ]
    }
   ],
   "source": [
    "#\n",
    "# # Open 'todo_list.txt' for writing.\n",
    "#\n",
    "# If 'todo_list.txt' does not exist, it will be created.\n",
    "# If 'todo_list.txt' already exist, it will be over-written.\n",
    "#\n",
    "todo_file = open('todo_list.txt', 'w')\n",
    "\n",
    "todo_file.write('How to succeed:\\n')\n",
    "todo_file.write('1. learn to write poems\\n')\n",
    "todo_file.write('2. get a job at a poetry company\\n')\n",
    "todo_file.write('3. profit!\\n')\n",
    "\n",
    "# close it when done writing\n",
    "todo_file.close()\n",
    "\n",
    "#\n",
    "# Print the contents of the file.\n",
    "#\n",
    "todo_file = open('todo_list.txt', 'r')  # 'r' for reading (optional)\n",
    "for line in todo_file:\n",
    "    print(line, end='')  # end='' to avoid double spacing"
   ]
  },
  {
   "cell_type": "markdown",
   "metadata": {},
   "source": [
    "Keep this in mind when you open a file for reading:\n",
    "- The `'w'` is required. If you leave it out, then Python will open the file for\n",
    "  reading only.\n",
    "- If the file does not exist, then it will be created.\n",
    "- If the file already exists, then its contents will be erased. Be careful!\n",
    "- When you are done writing the file you should call `close`. The content you\n",
    "  write to it may not actually appear in the file itself until you do this."
   ]
  },
  {
   "cell_type": "markdown",
   "metadata": {},
   "source": [
    "## Regular Expressions: Not Covered"
   ]
  },
  {
   "cell_type": "markdown",
   "metadata": {},
   "source": [
    "The discussion of regular expressions in the textbook is not covered in this course."
   ]
  },
  {
   "cell_type": "markdown",
   "metadata": {},
   "source": [
    "## Questions"
   ]
  },
  {
   "cell_type": "markdown",
   "metadata": {},
   "source": [
    "1. What is a string?\n",
    "\n",
    "2. What are three different ways to represent string literals? Why are there so\n",
    "   many different ways?\n",
    "\n",
    "3. If `s` is a non-empty string, what are two different ways to get the last\n",
    "   character of `s`?\n",
    "\n",
    "4. Write an expression that uses negative indexing to get the first character of\n",
    "   a string `s`. Assume `s` is non-empty. \n",
    "\n",
    "5. Without using `len`, write an expression that gives the length `s[m:n]`.\n",
    "   Assume the slice is non-empty.\n",
    "\n",
    "6. Suppose `s` is `'discombobulation'`. Using only `+`s and slices of `s`, write\n",
    "   an expression that evaluates to `'iondicombot'`. Make the expression as short\n",
    "   as possible.\n",
    "\n",
    "7. Explain what it means that strings are immutable. What are some benefits of\n",
    "   immutability? What are some disadvantages?\n",
    "\n",
    "8. Write a function called `is_3sorted(s)` that returns `True` just when the\n",
    "   string `s`:\n",
    "   - is exactly 3 characters long\n",
    "   - has no duplicate letters\n",
    "   - has all its letters in alphabetical order\n",
    "\n",
    "   In every other case, the function returns `False`.\n",
    "\n",
    "   For example:\n",
    "   - `is_3sorted('abc')` returns `True`\n",
    "   - `is_3sorted('acc')` returns `False` (duplicate letters)\n",
    "   - `is_3sorted('ab')` returns `False` (too short)\n",
    "   - `is_3sorted('abcd')` returns `False` (too long)\n",
    "   - `is_3sorted('cab')` returns `False` (not in alphabetical order)\n",
    "\n",
    "9. Write a statement that opens a file called `log.txt` for writing.\n",
    "\n",
    "10. If the file `log.txt` already exists, what happens when you open it for\n",
    "    writing?"
   ]
  }
 ],
 "metadata": {
  "colab": {
   "authorship_tag": "ABX9TyNDPRhikI2Q71waRP7/kTi/",
   "mount_file_id": "1RtZk2Rw4mNshgxrTBWTSrrRwywQ3Grx8",
   "provenance": []
  },
  "kernelspec": {
   "display_name": "Python 3",
   "name": "python3"
  },
  "language_info": {
   "codemirror_mode": {
    "name": "ipython",
    "version": 3
   },
   "file_extension": ".py",
   "mimetype": "text/x-python",
   "name": "python",
   "nbconvert_exporter": "python",
   "pygments_lexer": "ipython3",
   "version": "3.8.10"
  }
 },
 "nbformat": 4,
 "nbformat_minor": 0
}
