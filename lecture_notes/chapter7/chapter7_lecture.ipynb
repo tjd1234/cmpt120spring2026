{
 "cells": [
  {
   "cell_type": "markdown",
   "metadata": {
    "id": "cjsmyWXsNrEg"
   },
   "source": [
    "# Chapter 7 Lecture Notes\n",
    "\n",
    "Please read chapter 7 of the textbook.\n",
    "\n",
    "These notes take 1 - 3 lecture hours to cover."
   ]
  },
  {
   "cell_type": "markdown",
   "metadata": {},
   "source": [
    "## While Loops"
   ]
  },
  {
   "cell_type": "markdown",
   "metadata": {},
   "source": [
    "A while-loop is a loop that continues to execute as long as a given condition is\n",
    "met. The simplest kind of while-loop is an **infinite loop**:\n",
    "\n",
    "```python\n",
    "while True:\n",
    "    print('hello')\n",
    "    print('world')\n",
    "```\n",
    "\n",
    "This will print \"hello\" and \"world\" forever, never stopping.\n",
    "\n",
    "Usually we want the while-loop condition to eventually become `False`. For example, this prints \"hello\" 5 times:\n",
    "\n",
    "```python\n",
    "count = 0\n",
    "while count < 5:  # while loop header\n",
    "    print('hello')\n",
    "    count += 1\n",
    "```\n",
    "\n",
    "The **while-loop header** consists of the keyword `while`, a boolean condition,\n",
    "and a colon. The code body under the while-loop should be consistently indented\n",
    "(just as for if-statements, for-loops, and other functions).\n",
    "\n",
    "You don't need to know ahead of time how many times a while-loop will execute.\n",
    "For instance, this keeps asking the user to enter a password until they type\n",
    "`swordfish`:\n",
    "\n",
    "```python\n",
    "password = ''\n",
    "while password != 'swordfish':\n",
    "    password = input('Enter password: ')\n",
    "\n",
    "# at this point outside the loop\n",
    "# password == 'swordfish' is true\n",
    "```\n",
    "\n",
    "When this code is run, it could go like this:\n",
    "\n",
    "```\n",
    "Enter password: hello\n",
    "Enter password: sword fish\n",
    "Enter password: Swordfish\n",
    "Enter password: swordfish\n",
    "```\n",
    "\n",
    "Depending what input the user types the program could loop any number of times.\n",
    "\n",
    "In this related example, the computer to keep asking the user to enter a *quit*\n",
    "command. The user must type either \"quit\" or \"done\", and a different message is\n",
    "used when the command is not recognized:\n",
    "\n",
    "```python\n",
    "command = ''\n",
    "command = input('Enter command: ')\n",
    "while not (command == 'quit' or command == 'done'):\n",
    "    print(f'Command \"{command}\" not recognized.')\n",
    "    command = input('Enter command: ')\n",
    "\n",
    "# at this point outside the loop\n",
    "# command == 'quit' or command == 'done'\n",
    "```"
   ]
  },
  {
   "cell_type": "code",
   "execution_count": 15,
   "metadata": {},
   "outputs": [],
   "source": [
    "password = ''\n",
    "while password != 'swordfish':\n",
    "    password = input('Enter password: ')"
   ]
  },
  {
   "cell_type": "markdown",
   "metadata": {},
   "source": [
    "## Converting a for-loop to a while-loop"
   ]
  },
  {
   "cell_type": "markdown",
   "metadata": {},
   "source": [
    "This for-loop prints the numbers 1 to 500:\n",
    "\n",
    "```python\n",
    "for i in range(500):\n",
    "    print(i + 1)\n",
    "```\n",
    "\n",
    "This can be re-written as a while-loop:\n",
    "\n",
    "```python\n",
    "i = 0             # initialize i to 0\n",
    "while i < 500:    # only run the body if i < 500\n",
    "    print(i + 1)  # print the number\n",
    "    i += 1        # increment i by 1\n",
    "```\n",
    "\n",
    "We call `i` the **loop variable**, or the **loop index**. We first set it to 0\n",
    "outside the loop, and then explicitly increment at the end of the loop using the\n",
    "statement `i += 1`.\n",
    "\n",
    "More generally, a for-loop of this form:\n",
    "\n",
    "```python\n",
    "for i in range(start, end, step):\n",
    "    # ... do stuff ...\n",
    "```\n",
    "\n",
    "Can be rewritten as a while-loop:\n",
    "\n",
    "```python\n",
    "i = start\n",
    "while i < end:\n",
    "    # ... do stuff ...\n",
    "    i += step\n",
    "```"
   ]
  },
  {
   "cell_type": "markdown",
   "metadata": {},
   "source": [
    "## Choosing between for-loops and while-loops"
   ]
  },
  {
   "cell_type": "markdown",
   "metadata": {},
   "source": [
    "In Python, it's usually simpler to use a for-loop. In a for-loop, the index\n",
    "variable is automatically initialized and incremented. In a while-loop, you have\n",
    "to do this yourself, and it is easy to make mistakes.\n",
    "\n",
    "However, a ranged for-loop like the kind we've been using needs to know ahead of time \n",
    "how many times it will execute. If you don't know how many times the loop will execute, \n",
    "then you use a while-loop. \n",
    "\n",
    "For example, we can't re-write this code using a ranged for-loop because we\n",
    "don't know ahead of time how many times the user will enter a password:\n",
    "\n",
    "```python\n",
    "password = ''\n",
    "while password != 'swordfish':  # must be a while loop\n",
    "    password = input('Enter password: ')\n",
    "```\n",
    "\n",
    "So, in Python, the rule is: use a for-loop when you can, and while-loop if you\n",
    "must (because you don't know how many times the loop will execute)."
   ]
  },
  {
   "cell_type": "markdown",
   "metadata": {},
   "source": [
    "## Loops and Strings\n",
    "\n",
    "Strings appear in many programming problems, and so it is useful to learn how to\n",
    "process them.\n",
    "\n",
    "You can use a for-loop to process the characters in a string one at a time:"
   ]
  },
  {
   "cell_type": "code",
   "execution_count": 3,
   "metadata": {},
   "outputs": [
    {
     "name": "stdout",
     "output_type": "stream",
     "text": [
      "h\n",
      "e\n",
      "l\n",
      "l\n",
      "o\n",
      "!\n"
     ]
    }
   ],
   "source": [
    "for letter in \"hello!\":\n",
    "    print(letter)"
   ]
  },
  {
   "cell_type": "markdown",
   "metadata": {},
   "source": [
    "Or you could put a `-`  after each letter:"
   ]
  },
  {
   "cell_type": "code",
   "execution_count": 2,
   "metadata": {},
   "outputs": [
    {
     "name": "stdout",
     "output_type": "stream",
     "text": [
      "h-e-l-l-o-!-"
     ]
    }
   ],
   "source": [
    "for letter in \"hello!\":\n",
    "    print(letter, end='-')"
   ]
  },
  {
   "cell_type": "markdown",
   "metadata": {},
   "source": [
    "The name of the variable in the for-loop is `letter`. While you can use any name\n",
    "you like, you should try to use a name that conveys some meaning about the code."
   ]
  },
  {
   "cell_type": "markdown",
   "metadata": {},
   "source": [
    "## Searching Strings"
   ]
  },
  {
   "cell_type": "markdown",
   "metadata": {},
   "source": [
    "The Python `in` operator can be used to search for a substring in a string:"
   ]
  },
  {
   "cell_type": "code",
   "execution_count": 2,
   "metadata": {},
   "outputs": [
    {
     "name": "stdout",
     "output_type": "stream",
     "text": [
      "contains \"lo\"\n",
      "does not contain \"?\"\n"
     ]
    }
   ],
   "source": [
    "s = 'hello!'\n",
    "if 'lo' in s:\n",
    "    print('contains \"lo\"')\n",
    "if 'eel' in s:\n",
    "    print('contains \"eel\"')\n",
    "if '?' not in s:\n",
    "    print('does not contain \"?\"')\n"
   ]
  },
  {
   "cell_type": "markdown",
   "metadata": {},
   "source": [
    "We can use a for-loop and if-statement to check if a string contains a letter.\n",
    "For example:"
   ]
  },
  {
   "cell_type": "code",
   "execution_count": 4,
   "metadata": {},
   "outputs": [
    {
     "name": "stdout",
     "output_type": "stream",
     "text": [
      "this word has an \"m\"\n",
      "this word has an \"m\"\n"
     ]
    }
   ],
   "source": [
    "for letter in 'mumble':\n",
    "    if letter == 'm' or letter == 'M':\n",
    "        print('this word has an \"m\"')"
   ]
  },
  {
   "cell_type": "markdown",
   "metadata": {},
   "source": [
    "The message is printed once for each occurrence of `m` in the string.\n",
    "\n",
    "We can write it as a function and pass in any word we like:"
   ]
  },
  {
   "cell_type": "code",
   "execution_count": 5,
   "metadata": {},
   "outputs": [
    {
     "name": "stdout",
     "output_type": "stream",
     "text": [
      "this word has an \"m\"\n",
      "this word has an \"m\"\n"
     ]
    }
   ],
   "source": [
    "def has_m_print(word):\n",
    "    for letter in word:\n",
    "        if letter == 'm' or letter == 'M':\n",
    "            print('this word has an \"m\"')\n",
    "\n",
    "has_m_print('mumble')  # two m's\n",
    "has_m_print('apple')   # no m's\n",
    "has_m_print('')        # no m's, empty string"
   ]
  },
  {
   "cell_type": "markdown",
   "metadata": {},
   "source": [
    "A better way to implement this is as a boolean function that returns `True` if\n",
    "there's an `m` in `word`, and `False` otherwise:"
   ]
  },
  {
   "cell_type": "code",
   "execution_count": 6,
   "metadata": {},
   "outputs": [
    {
     "name": "stdout",
     "output_type": "stream",
     "text": [
      "True\n",
      "False\n",
      "False\n"
     ]
    }
   ],
   "source": [
    "def has_m(word):\n",
    "    for letter in word:\n",
    "        if letter == 'm' or letter == 'M':\n",
    "            return True\n",
    "    \n",
    "    return False\n",
    "\n",
    "print(has_m('mumble'))  # True\n",
    "print(has_m('apple'))   # False\n",
    "print(has_m(''))        # False, empty string"
   ]
  },
  {
   "cell_type": "markdown",
   "metadata": {},
   "source": [
    "We can also simplify the if-statement by using `letter.lower()`. `lower()`\n",
    "returns the lowercase version of `letter`."
   ]
  },
  {
   "cell_type": "code",
   "execution_count": 7,
   "metadata": {},
   "outputs": [
    {
     "name": "stdout",
     "output_type": "stream",
     "text": [
      "True\n",
      "False\n",
      "False\n"
     ]
    }
   ],
   "source": [
    "def has_m(word):\n",
    "    for letter in word:\n",
    "        if letter.lower() == 'm':\n",
    "            return True\n",
    "    \n",
    "    return False\n",
    "\n",
    "print(has_m('mumble'))  # True\n",
    "print(has_m('apple'))   # False\n",
    "print(has_m(''))        # False, empty string"
   ]
  },
  {
   "cell_type": "markdown",
   "metadata": {},
   "source": [
    "`has_m` is an example of a **pure function**. A pure function is a function\n",
    "whose output depends only on its input, and does not have any side effects, such\n",
    "as printing to the screen, opening a file, or modifying a global variable.\n",
    "\n",
    "In general, pure functions are easier to understand and debug than impure ones,\n",
    "and you should strive to write pure functions whenever possible."
   ]
  },
  {
   "cell_type": "markdown",
   "metadata": {},
   "source": [
    "### Some Incorrect Functions"
   ]
  },
  {
   "cell_type": "markdown",
   "metadata": {},
   "source": [
    "Note that this version of the function is incorrect:"
   ]
  },
  {
   "cell_type": "code",
   "execution_count": 10,
   "metadata": {},
   "outputs": [
    {
     "name": "stdout",
     "output_type": "stream",
     "text": [
      "False\n",
      "False\n",
      "None\n"
     ]
    }
   ],
   "source": [
    "def bad_has_m(word):\n",
    "    for letter in word:\n",
    "        if letter.lower() == 'm':\n",
    "            return True\n",
    "        else:               # wrong!\n",
    "            return False\n",
    "\n",
    "print(bad_has_m('bumble'))  # False, incorrect!\n",
    "print(bad_has_m('apple'))   # False\n",
    "print(bad_has_m(''))        # None, incorrect!"
   ]
  },
  {
   "cell_type": "markdown",
   "metadata": {},
   "source": [
    "The problem with `bad_has_m` is that it checks if the first letter is `m`, and\n",
    "then immediately returns either `True` or `False`. When `return` is called, the\n",
    "function stops executing, and so no letters after the first one are checked.\n",
    "\n",
    "This version is also incorrect:"
   ]
  },
  {
   "cell_type": "code",
   "execution_count": 12,
   "metadata": {},
   "outputs": [
    {
     "name": "stdout",
     "output_type": "stream",
     "text": [
      "False\n",
      "False\n",
      "None\n"
     ]
    }
   ],
   "source": [
    "def another_bad_has_m(word):\n",
    "    for letter in word:\n",
    "        return letter.lower() == 'm'  # wrong!\n",
    "\n",
    "print(another_bad_has_m('bumble'))  # False, incorrect!\n",
    "print(another_bad_has_m('apple'))   # False\n",
    "print(another_bad_has_m(''))        # None, incorrect!"
   ]
  },
  {
   "cell_type": "markdown",
   "metadata": {},
   "source": [
    "Again, the problem with `another_bad_has_m` is that as soon as `return` is\n",
    "called the function stops executing. So it only checks the first letter of the\n",
    "word."
   ]
  },
  {
   "cell_type": "markdown",
   "metadata": {},
   "source": [
    "### The `in` Operator"
   ]
  },
  {
   "cell_type": "markdown",
   "metadata": {},
   "source": [
    "The Python `in` operator can be used to search for a substring in a string. `'m'\n",
    "in word` returns `True` if `word` contains an `m`, and `False` otherwise:"
   ]
  },
  {
   "cell_type": "code",
   "execution_count": 1,
   "metadata": {},
   "outputs": [
    {
     "name": "stdout",
     "output_type": "stream",
     "text": [
      "contains \"lo\"\n",
      "does not contain \"?\"\n"
     ]
    }
   ],
   "source": [
    "s = \"hello!\"\n",
    "if 'lo' in s:\n",
    "    print('contains \"lo\"')\n",
    "if 'eel' in s:\n",
    "    print('contains \"eel\"')\n",
    "if '?' not in s:\n",
    "    print('does not contain \"?\"')"
   ]
  },
  {
   "cell_type": "markdown",
   "metadata": {},
   "source": [
    "So we could shorten `has_m` to:"
   ]
  },
  {
   "cell_type": "code",
   "execution_count": 8,
   "metadata": {},
   "outputs": [
    {
     "name": "stdout",
     "output_type": "stream",
     "text": [
      "True\n",
      "False\n",
      "False\n"
     ]
    }
   ],
   "source": [
    "def has_m(word):\n",
    "    return 'm' in word.lower()\n",
    "\n",
    "print(has_m('mumble'))  # True\n",
    "print(has_m('apple'))   # False\n",
    "print(has_m(''))        # False, empty string"
   ]
  },
  {
   "cell_type": "markdown",
   "metadata": {},
   "source": [
    "## Reading the Lines of a Text File"
   ]
  },
  {
   "cell_type": "markdown",
   "metadata": {},
   "source": [
    "Reading a text file in Python follows these steps:\n",
    "- *Open* the text file for reading.\n",
    "- *Read* the lines of the text file one at a time, and do whatever you want with\n",
    "  the lines.\n",
    "- *Close* the text file.\n",
    "\n",
    "The file [words.txt](words.txt) contains a list of words, one per line. To read\n",
    "the contents we must first open it with the `open` function:"
   ]
  },
  {
   "cell_type": "code",
   "execution_count": null,
   "metadata": {},
   "outputs": [],
   "source": [
    "file_object = open('words.txt')"
   ]
  },
  {
   "cell_type": "markdown",
   "metadata": {},
   "source": [
    "The `file_object` has a method called `readline` that reads the next line of the\n",
    "file. So we can get and print the first three lines of the file like this:"
   ]
  },
  {
   "cell_type": "code",
   "execution_count": 6,
   "metadata": {},
   "outputs": [
    {
     "name": "stdout",
     "output_type": "stream",
     "text": [
      "aa\n",
      "\n"
     ]
    }
   ],
   "source": [
    "file_object = open('words.txt')\n",
    "\n",
    "print(file_object.readline())\n",
    "print(file_object.readline())\n",
    "print(file_object.readline())"
   ]
  },
  {
   "cell_type": "markdown",
   "metadata": {},
   "source": [
    "There is an extra line between each line because `readline()` includes the\n",
    "newline character at the end of each line. We can remove the extra lines by\n",
    "using the `strip` method:"
   ]
  },
  {
   "cell_type": "code",
   "execution_count": 17,
   "metadata": {},
   "outputs": [
    {
     "name": "stdout",
     "output_type": "stream",
     "text": [
      "aa\n",
      "aah\n",
      "aahed\n"
     ]
    }
   ],
   "source": [
    "file_object = open('words.txt')\n",
    "\n",
    "print(file_object.readline().strip())\n",
    "print(file_object.readline().strip())\n",
    "print(file_object.readline().strip())"
   ]
  },
  {
   "cell_type": "markdown",
   "metadata": {},
   "source": [
    "Note that we call `open` again so that the file will be read from the beginning.\n",
    "\n",
    "Another way to read the lines of a file is to use a for-loop. The file\n",
    "[small_story.txt](small_story.txt) contains the following text:\n",
    "\n",
    "```\n",
    "Once upon a time,\n",
    "the world was full of magic.\n",
    "Everyone was constantly \n",
    "doing card tricks.\n",
    "```"
   ]
  },
  {
   "cell_type": "code",
   "execution_count": 22,
   "metadata": {},
   "outputs": [
    {
     "name": "stdout",
     "output_type": "stream",
     "text": [
      "Once upon a time,\n",
      "the world was full of magic.\n",
      "Everyone was constantly\n",
      "doing card tricks.\n"
     ]
    }
   ],
   "source": [
    "file_object = open('small_story.txt')\n",
    "\n",
    "for line in file_object:\n",
    "    print(line.strip())"
   ]
  },
  {
   "cell_type": "markdown",
   "metadata": {},
   "source": [
    "### Closing Files"
   ]
  },
  {
   "cell_type": "markdown",
   "metadata": {},
   "source": [
    "Notice that we have *not* explicitly closed the file in these examples. Python\n",
    "automatically closes `file_object` when the program ends. If you want to close\n",
    "the file sooner, use the `close` method:\n",
    "\n",
    "```python\n",
    "file_object.close()\n",
    "```"
   ]
  },
  {
   "cell_type": "markdown",
   "metadata": {},
   "source": [
    "## Looping Over the Lines of a File"
   ]
  },
  {
   "cell_type": "markdown",
   "metadata": {},
   "source": [
    "The for-loop way of reading a text file goes through the lines of the file one\n",
    "at a time, which has many useful applications.\n",
    "\n",
    "For example, we can count the number of lines in a file:"
   ]
  },
  {
   "cell_type": "code",
   "execution_count": 23,
   "metadata": {},
   "outputs": [
    {
     "name": "stdout",
     "output_type": "stream",
     "text": [
      "113783\n"
     ]
    }
   ],
   "source": [
    "file_object = open('words.txt')\n",
    "\n",
    "word_count = 0\n",
    "for line in file_object:\n",
    "    word_count += 1\n",
    "print(word_count)"
   ]
  },
  {
   "cell_type": "markdown",
   "metadata": {},
   "source": [
    "The variable `word_count` is sometimes called an **accumulator variable**. It's\n",
    "initialized to 0, and then every time a line of the file is read it's\n",
    "incremented by 1.\n",
    "\n",
    "This line adds 1 to `word_count`:\n",
    "\n",
    "```python\n",
    "word_count += 1\n",
    "```\n",
    "\n",
    "Another way of doing the same thing is:\n",
    "\n",
    "```python\n",
    "word_count = word_count + 1\n",
    "```\n",
    "\n",
    "Both statements do the same thing, but generally `+=` is preferred because it's\n",
    "shorter.\n",
    "\n",
    "You can add, subtract, multiply, or divide using `+=`, `-=`, `*=`, or `/=`:"
   ]
  },
  {
   "cell_type": "code",
   "execution_count": 24,
   "metadata": {},
   "outputs": [
    {
     "name": "stdout",
     "output_type": "stream",
     "text": [
      "6.0\n"
     ]
    }
   ],
   "source": [
    "n = 3\n",
    "\n",
    "n += 7  # add 7 to n, n is now 10\n",
    "n -= 2  # subtract 2 from n, n is now 8\n",
    "n *= 3  # multiply n by 3, n is now 24\n",
    "n /= 4  # divide n by 4, n is now 6.0\n",
    "\n",
    "print(n)  # 6.0"
   ]
  },
  {
   "cell_type": "markdown",
   "metadata": {},
   "source": [
    "### Counting Words with an 'm'"
   ]
  },
  {
   "cell_type": "markdown",
   "metadata": {},
   "source": [
    "Now lets count how many words in [words.txt](words.txt) contain one, or more,\n",
    "`m` characters:"
   ]
  },
  {
   "cell_type": "code",
   "execution_count": 26,
   "metadata": {},
   "outputs": [
    {
     "name": "stdout",
     "output_type": "stream",
     "text": [
      "22472 words have an \"m\"\n"
     ]
    }
   ],
   "source": [
    "file_object = open('words.txt')\n",
    "total_m_words = 0\n",
    "for line in file_object:\n",
    "    if has_m(line):\n",
    "        total_m_words += 1\n",
    "\n",
    "print(f'{total_m_words} words have an \"m\"')"
   ]
  },
  {
   "cell_type": "markdown",
   "metadata": {},
   "source": [
    "If we also count the number of words then we can calculate the percentage of\n",
    "words that have an `m`:"
   ]
  },
  {
   "cell_type": "code",
   "execution_count": 9,
   "metadata": {},
   "outputs": [
    {
     "name": "stdout",
     "output_type": "stream",
     "text": [
      "19.7% of the words have an \"m\"\n"
     ]
    }
   ],
   "source": [
    "file_object = open('words.txt')\n",
    "total_words = 0\n",
    "total_m_words = 0\n",
    "for line in file_object:\n",
    "    total_words += 1\n",
    "    if has_m(line):\n",
    "        total_m_words += 1\n",
    "\n",
    "pct = 100 * total_m_words / total_words\n",
    "print(f'{pct:.1f}% of the words have an \"m\"')"
   ]
  },
  {
   "cell_type": "markdown",
   "metadata": {},
   "source": [
    "## Generalizing has_m"
   ]
  },
  {
   "cell_type": "markdown",
   "metadata": {},
   "source": [
    "`has_m` is not a very useful function since it only searches for the letter `m`.\n",
    "Here is a more useful function:"
   ]
  },
  {
   "cell_type": "code",
   "execution_count": 11,
   "metadata": {},
   "outputs": [
    {
     "name": "stdout",
     "output_type": "stream",
     "text": [
      "True\n",
      "True\n",
      "True\n",
      "False\n"
     ]
    }
   ],
   "source": [
    "def uses_any(word, letters):\n",
    "    \"\"\"Returns True just when any of the letters in letters are in word.\n",
    "    Otherwise it returns False. Converts all letters to lowercase.\n",
    "    \"\"\"\n",
    "    for c in word.lower():\n",
    "        if c in letters.lower():\n",
    "            return True\n",
    "    return False\n",
    "\n",
    "print(uses_any('mumble', 'm'))     # True\n",
    "print(uses_any('apple', 'aeiou'))  # True\n",
    "print(uses_any('8675309', '1234')) # True\n",
    "print(uses_any('apple', ' \\n\\y'))  # False"
   ]
  },
  {
   "cell_type": "markdown",
   "metadata": {},
   "source": [
    "We can use it to write other useful functions, for instance:"
   ]
  },
  {
   "cell_type": "code",
   "execution_count": 12,
   "metadata": {},
   "outputs": [
    {
     "name": "stdout",
     "output_type": "stream",
     "text": [
      "True\n",
      "False\n"
     ]
    }
   ],
   "source": [
    "def has_vowel(word):\n",
    "    return uses_any(word, 'aeiou')\n",
    "\n",
    "print(has_vowel('mumble'))  # True\n",
    "print(has_vowel('!!!'))     # False"
   ]
  },
  {
   "cell_type": "markdown",
   "metadata": {},
   "source": [
    "Lets use `has_vowel` to find all the words in [words.txt](words.txt) that don't\n",
    "have any vowels:"
   ]
  },
  {
   "cell_type": "code",
   "execution_count": 14,
   "metadata": {},
   "outputs": [
    {
     "name": "stdout",
     "output_type": "stream",
     "text": [
      "by\n",
      "byrl\n",
      "byrls\n",
      "bys\n",
      "crwth\n",
      "crwths\n",
      "cry\n",
      "crypt\n",
      "crypts\n",
      "cwm\n",
      "cwms\n",
      "cyst\n",
      "cysts\n",
      "dry\n",
      "dryly\n",
      "drys\n",
      "fly\n",
      "flyby\n",
      "flybys\n",
      "flysch\n",
      "fry\n",
      "ghyll\n",
      "ghylls\n",
      "glycyl\n",
      "glycyls\n",
      "glyph\n",
      "glyphs\n",
      "gym\n",
      "gyms\n",
      "gyp\n",
      "gyps\n",
      "gypsy\n",
      "hymn\n",
      "hymns\n",
      "hyp\n",
      "hyps\n",
      "lymph\n",
      "lymphs\n",
      "lynch\n",
      "lynx\n",
      "my\n",
      "myrrh\n",
      "myrrhs\n",
      "myth\n",
      "myths\n",
      "nth\n",
      "nymph\n",
      "nymphs\n",
      "phpht\n",
      "pht\n",
      "ply\n",
      "pry\n",
      "psst\n",
      "psych\n",
      "psychs\n",
      "pygmy\n",
      "pyx\n",
      "rhythm\n",
      "rhythms\n",
      "rynd\n",
      "rynds\n",
      "sh\n",
      "shh\n",
      "shy\n",
      "shyly\n",
      "sky\n",
      "sly\n",
      "slyly\n",
      "spry\n",
      "spryly\n",
      "spy\n",
      "sty\n",
      "stymy\n",
      "sylph\n",
      "sylphs\n",
      "sylphy\n",
      "syn\n",
      "sync\n",
      "synch\n",
      "synchs\n",
      "syncs\n",
      "syzygy\n",
      "thy\n",
      "thymy\n",
      "try\n",
      "tryst\n",
      "trysts\n",
      "tsk\n",
      "tsks\n",
      "tsktsk\n",
      "tsktsks\n",
      "typp\n",
      "typps\n",
      "typy\n",
      "why\n",
      "whys\n",
      "wry\n",
      "wryly\n",
      "wych\n",
      "wynd\n",
      "wynds\n",
      "wynn\n",
      "wynns\n",
      "xylyl\n",
      "xylyls\n",
      "xyst\n",
      "xysts\n",
      "107 words have no vowels\n"
     ]
    }
   ],
   "source": [
    "file_object = open('words.txt')\n",
    "total = 0\n",
    "for line in file_object:\n",
    "    # if not uses_any(line, 'aeiouy'):\n",
    "    if not has_vowel(line):\n",
    "        total += 1\n",
    "        print(line.strip())\n",
    "\n",
    "print(f'{total} words have no vowels')"
   ]
  },
  {
   "cell_type": "markdown",
   "metadata": {},
   "source": [
    "`has_vowels` doesn't count `y` as a vowel, but lets suppose we want to count `y`\n",
    "as vowel. Then we can modify the code like this:"
   ]
  },
  {
   "cell_type": "code",
   "execution_count": 36,
   "metadata": {},
   "outputs": [
    {
     "name": "stdout",
     "output_type": "stream",
     "text": [
      "crwth\n",
      "crwths\n",
      "cwm\n",
      "cwms\n",
      "nth\n",
      "phpht\n",
      "pht\n",
      "psst\n",
      "sh\n",
      "shh\n",
      "tsk\n",
      "tsks\n",
      "tsktsk\n",
      "tsktsks\n",
      "14 words have no vowels\n"
     ]
    }
   ],
   "source": [
    "file_object = open('words.txt')\n",
    "total = 0\n",
    "for line in file_object:\n",
    "    if 'y' not in line and not has_vowel(line):\n",
    "        total += 1\n",
    "        print(line.strip())\n",
    "\n",
    "print(f'{total} words have no vowels')"
   ]
  },
  {
   "cell_type": "markdown",
   "metadata": {},
   "source": [
    "## Case Study: Spelling Bee"
   ]
  },
  {
   "cell_type": "markdown",
   "metadata": {},
   "source": [
    "[Spelling Bee](https://www.nytimes.com/puzzles/spelling-bee) is a word puzzle\n",
    "where you are given 7 different letters and must find as 4-letter or longer\n",
    "words as possible. You are allowed to repeat letters.\n",
    "\n",
    "One of the letters is the \"center\" letter, and it must appear in any word you\n",
    "make. It's guaranteed that here is at least one word that uses all seven\n",
    "letters.\n",
    "\n",
    "Words are scored as follows:\n",
    "\n",
    "- Words that *don't* contain the required letter, or contain any letters not in\n",
    "  the puzzle, score 0.\n",
    "- Words with 3 or fewer letters score 0.\n",
    "- Words with more 4 or more letters score 1 point per letter.\n",
    "- A word that uses all seven letters is called a *pangram* and is worth 7 bonus\n",
    "  points (it still gets 1 point per letter).\n",
    "\n",
    "The goal is to score as many points as possible.\n",
    "\n",
    "For example, suppose the seven letters are SIGLENP, and the required letter is\n",
    "G. Some words are:\n",
    "\n",
    "- PIGS, 1 point\n",
    "- GILLS, 5 points\n",
    "- SINGLE, 6 points\n",
    "- SLEEPING, 8 + 7 = 15 points\n",
    "\n",
    "Some words don't score any points:\n",
    "\n",
    "- I, IN, LIP, and PIG don't score points because they have fewer than 4 letters.\n",
    "- LINE, PINES, and SLIPS don't score points because they don't use the G."
   ]
  },
  {
   "cell_type": "markdown",
   "metadata": {},
   "source": [
    "If you are a human, then you probably solve this problem by trying different\n",
    "combinations of letters to see if they form words. How many words can you find?\n",
    "\n",
    "But with a computer, we can do use a brute-force approach: we can check *every*\n",
    "word in the English language, or at least those listed in [words.txt](words.txt)\n",
    "to see if it can be formed with the given letters.\n",
    "\n",
    "Since [words.txt](words.txt) has over 113,000 words, no human could do this. But\n",
    "a computer can!\n",
    "\n",
    "So lets write a program the solves the Spelling Bee problem by scanning through\n",
    "all the words in [words.txt](words.txt) and calculating their score."
   ]
  },
  {
   "cell_type": "markdown",
   "metadata": {},
   "source": [
    "### The Word Score Function\n",
    "\n",
    "First, lets write `word_score` that calculates the score of a word according to\n",
    "the rules given above:"
   ]
  },
  {
   "cell_type": "code",
   "execution_count": 23,
   "metadata": {},
   "outputs": [
    {
     "name": "stdout",
     "output_type": "stream",
     "text": [
      "4\n",
      "4\n",
      "5\n",
      "5\n",
      "8\n",
      "15\n"
     ]
    }
   ],
   "source": [
    "def pangram_bonus(word, puzzle_letters):\n",
    "    \"\"\"Returns 7 if every character in puzzle_letters is in word.\n",
    "    Otherwise, no bonus and it returns 0.\n",
    "    \"\"\"\n",
    "    for c in puzzle_letters:\n",
    "        if c not in word:\n",
    "            return 0\n",
    "    return 7\n",
    "\n",
    "\n",
    "def word_score(word, required, puzzle_letters):\n",
    "    \"\"\"Returns the score for word according to these rules:\n",
    "    - 3-letters or fewer: 0 points\n",
    "    - 4-letters or more: 1 point per letter\n",
    "    - A word that uses all seven letters is called a *pangram* and is worth 7\n",
    "      bonus points (in addition to the 1 point per letter).\n",
    "    \"\"\"\n",
    "    #\n",
    "    # first check if the word is too short or doesn't contain the required\n",
    "    # letter\n",
    "    #\n",
    "    if required not in word or len(word) < 4:\n",
    "        return 0\n",
    "    \n",
    "    #\n",
    "    # check that word only has letters that appear in puzzle_letters\n",
    "    #\n",
    "    for c in word:\n",
    "        if c not in puzzle_letters:\n",
    "            return 0\n",
    "    \n",
    "    #\n",
    "    # if we get here, the word is long enough and contains the required letters\n",
    "    #\n",
    "    return len(word) + pangram_bonus(word, puzzle_letters)\n",
    "\n",
    "\n",
    "print(word_score('TAPE', 'P', 'CIHPETA'))      # 4\n",
    "print(word_score('PATH', 'P', 'CIHPETA'))      # 4\n",
    "print(word_score('CHEAP', 'P', 'CIHPETA'))     # 5\n",
    "print(word_score('PATCH', 'P', 'CIHPETA'))     # 5\n",
    "print(word_score('APPETITE', 'P', 'CIHPETA'))  # 8\n",
    "print(word_score('PATHETIC', 'P', 'CIHPETA'))  # 15\n"
   ]
  },
  {
   "cell_type": "markdown",
   "metadata": {},
   "source": [
    "### The Spelling Bee Solver"
   ]
  },
  {
   "cell_type": "markdown",
   "metadata": {},
   "source": [
    "Now that we can use `word_score` score all words from [words.txt](words.txt):"
   ]
  },
  {
   "cell_type": "code",
   "execution_count": 24,
   "metadata": {},
   "outputs": [
    {
     "name": "stdout",
     "output_type": "stream",
     "text": [
      "ACCEPT, 6 points\n",
      "ACCEPTEE, 8 points\n",
      "APACE, 5 points\n",
      "APACHE, 6 points\n",
      "APATETIC, 8 points\n",
      "APATHETIC, 16 points\n",
      "APATITE, 7 points\n",
      "APHETIC, 14 points\n",
      "APHTHA, 6 points\n",
      "APHTHAE, 7 points\n",
      "APIECE, 6 points\n",
      "APPETITE, 8 points\n",
      "CAPE, 4 points\n",
      "CAPH, 4 points\n",
      "CAPITA, 6 points\n",
      "CAPITATE, 8 points\n",
      "CHAP, 4 points\n",
      "CHAPE, 5 points\n",
      "CHAPT, 5 points\n",
      "CHEAP, 5 points\n",
      "CHEAPIE, 7 points\n",
      "CHEEP, 5 points\n",
      "CHIP, 4 points\n",
      "CHIPPIE, 7 points\n",
      "EPACT, 5 points\n",
      "EPEE, 4 points\n",
      "EPHA, 4 points\n",
      "EPHAH, 5 points\n",
      "EPIC, 4 points\n",
      "EPITAPH, 7 points\n",
      "EPITHET, 7 points\n",
      "ETAPE, 5 points\n",
      "HAPTIC, 6 points\n",
      "HEAP, 4 points\n",
      "HEPATIC, 14 points\n",
      "HEPATICA, 15 points\n",
      "HEPATICAE, 16 points\n",
      "HEPCAT, 6 points\n",
      "HIPPIE, 6 points\n",
      "ICECAP, 6 points\n",
      "IPECAC, 6 points\n",
      "PACA, 4 points\n",
      "PACE, 4 points\n",
      "PACHA, 5 points\n",
      "PACT, 4 points\n",
      "PAPA, 4 points\n",
      "PAPPI, 5 points\n",
      "PATACA, 6 points\n",
      "PATCH, 5 points\n",
      "PATE, 4 points\n",
      "PATH, 4 points\n",
      "PATHETIC, 15 points\n",
      "PATTEE, 6 points\n",
      "PATTIE, 6 points\n",
      "PEACE, 5 points\n",
      "PEACH, 5 points\n",
      "PEAT, 4 points\n",
      "PECH, 4 points\n",
      "PECTATE, 7 points\n",
      "PECTIC, 6 points\n",
      "PEEP, 4 points\n",
      "PEPTIC, 6 points\n",
      "PETECHIA, 15 points\n",
      "PETECHIAE, 16 points\n",
      "PETIT, 5 points\n",
      "PETITE, 6 points\n",
      "PETTI, 5 points\n",
      "PHAT, 4 points\n",
      "PHATIC, 6 points\n",
      "PHPHT, 5 points\n",
      "PICA, 4 points\n",
      "PICE, 4 points\n",
      "PIECE, 5 points\n",
      "PIETA, 5 points\n",
      "PIPE, 4 points\n",
      "PIPET, 5 points\n",
      "PIPETTE, 7 points\n",
      "PIPIT, 5 points\n",
      "PITA, 4 points\n",
      "PITAPAT, 7 points\n",
      "PITCH, 5 points\n",
      "PITH, 4 points\n",
      "TAPA, 4 points\n",
      "TAPE, 4 points\n",
      "TAPETA, 6 points\n",
      "TAPPET, 6 points\n",
      "TEEPEE, 6 points\n",
      "TEPA, 4 points\n",
      "TEPEE, 5 points\n",
      "TIPCAT, 6 points\n",
      "TIPI, 4 points\n",
      "TIPPET, 6 points\n",
      "\n",
      "Total score: 566\n",
      "Total scoring words: 92\n"
     ]
    }
   ],
   "source": [
    "# example puzzle\n",
    "# puzzle_letters = 'SIGLENP'\n",
    "# required_letter = 'G'\n",
    "\n",
    "# June 20, 2024\n",
    "puzzle_letters = 'CHIPATE'\n",
    "required_letter = 'P'\n",
    "\n",
    "# June 20, 2024\n",
    "# puzzle_letters = 'LGXNCEI'\n",
    "# required_letter = 'I'\n",
    "\n",
    "total_score = 0    # sum of all the scores\n",
    "scoring_words = 0  # number of words that score points\n",
    "file_object = open('words.txt')\n",
    "for w in file_object:\n",
    "    # remove the newline character at the end of the word\n",
    "    # also cover it to upper case\n",
    "    w = w.strip().upper()\n",
    "    \n",
    "    score = word_score(w, required_letter, puzzle_letters)\n",
    "    total_score += score\n",
    "    if score > 0:\n",
    "        scoring_words += 1\n",
    "        print(f'{w}, {score} points')\n",
    "\n",
    "print()\n",
    "print(f'Total score: {total_score}')\n",
    "print(f'Total scoring words: {scoring_words}')"
   ]
  },
  {
   "cell_type": "markdown",
   "metadata": {},
   "source": [
    "The code finds 202 words for a total score of 1324, and runs almost instantly on\n",
    "my computer."
   ]
  },
  {
   "cell_type": "markdown",
   "metadata": {},
   "source": [
    "## Questions\n",
    "\n",
    "1. Write an infinite while-loop that prints 1, 2, 3, 4, 5, ... forever.\n",
    "\n",
    "2. Write a while-loop that prints the numbers from 100 down to 1, and then\n",
    "   prints \"Blastoff!\".\n",
    "\n",
    "3. Re-write this for-loop using a while-loop:\n",
    "\n",
    "   ```python\n",
    "   for d in range(2, n):\n",
    "      if n % d == 0:\n",
    "         print(f'{n} is divisible by {d}')\n",
    "   ```\n",
    "\n",
    "3. Is this a correct implementation of the `has_m` function (i.e. a function\n",
    "   that returns `True` if `word` has an `m`, and `False` otherwise) ?\n",
    "\n",
    "   ```python\n",
    "   def has_m(word):\n",
    "       for letter in word:\n",
    "           if letter.lower() == 'm':\n",
    "               return True\n",
    "       \n",
    "           return False\n",
    "   ```\n",
    "\n",
    "4. Is this a correct implementation of the `has_m` function (i.e. a function\n",
    "   that returns `True` if `word` has an `m`, and `False` otherwise) ?\n",
    "\n",
    "   ```python\n",
    "   def has_m(word):\n",
    "       for letter in word:\n",
    "           if letter.lower() != 'm':  # != instead of ==\n",
    "               return False           # False instead of True\n",
    "       \n",
    "           return True                # True instead of False\n",
    "   ```\n",
    "\n",
    "5. What does each `print` statement print?\n",
    "\n",
    "   ```python\n",
    "   a = 5\n",
    "   a = a + 1\n",
    "   print(a)\n",
    "\n",
    "   b = 5\n",
    "   b = 1 + b\n",
    "   print(b)\n",
    "\n",
    "   c = 5\n",
    "   c += 1\n",
    "   print(c)\n",
    "\n",
    "   d = 5\n",
    "   d += d\n",
    "   print(d)\n",
    "\n",
    "   e = 5\n",
    "   e *= e\n",
    "   print(e)\n",
    "\n",
    "   f = 5\n",
    "   f -= f\n",
    "   print(f)\n",
    "\n",
    "   g = 5\n",
    "   g /= g\n",
    "   print(g)\n",
    "\n",
    "   h = 5\n",
    "   h = h += 1\n",
    "   print(h)\n",
    "   ```\n",
    "\n",
    "6. In the `uses_any` function, does the *order* of the characters in `letters`\n",
    "   matter?\n",
    "\n",
    "7. Why does this code print a blank line between the words?\n",
    "\n",
    "   ```python\n",
    "   file_object = open('words.txt')\n",
    "\n",
    "   print(file_object.readline())\n",
    "   print(file_object.readline())\n",
    "   print(file_object.readline())\n",
    "   ```\n",
    "\n",
    "   How can you prevent the extra lines from being printed?"
   ]
  },
  {
   "cell_type": "markdown",
   "metadata": {},
   "source": []
  }
 ],
 "metadata": {
  "colab": {
   "authorship_tag": "ABX9TyNDPRhikI2Q71waRP7/kTi/",
   "mount_file_id": "1RtZk2Rw4mNshgxrTBWTSrrRwywQ3Grx8",
   "provenance": []
  },
  "kernelspec": {
   "display_name": "Python 3",
   "name": "python3"
  },
  "language_info": {
   "codemirror_mode": {
    "name": "ipython",
    "version": 3
   },
   "file_extension": ".py",
   "mimetype": "text/x-python",
   "name": "python",
   "nbconvert_exporter": "python",
   "pygments_lexer": "ipython3",
   "version": "3.10.12"
  }
 },
 "nbformat": 4,
 "nbformat_minor": 0
}
