{
 "cells": [
  {
   "cell_type": "markdown",
   "metadata": {
    "id": "cjsmyWXsNrEg"
   },
   "source": [
    "# Chapter 7 Lecture Notes\n",
    "\n",
    "Please read chapter 7 of the textbook.\n",
    "\n",
    "These notes take 1 - 3 lecture hours to cover."
   ]
  },
  {
   "cell_type": "markdown",
   "metadata": {},
   "source": [
    "## Loops and Strings\n",
    "\n",
    "Strings appear in many programming problems, and so it is useful to learn how to\n",
    "process them.\n",
    "\n",
    "You can use a for-loop to access the characters in a string one at a time:"
   ]
  },
  {
   "cell_type": "code",
   "execution_count": 3,
   "metadata": {},
   "outputs": [
    {
     "name": "stdout",
     "output_type": "stream",
     "text": [
      "h\n",
      "e\n",
      "l\n",
      "l\n",
      "o\n",
      "!\n"
     ]
    }
   ],
   "source": [
    "for letter in \"hello!\":\n",
    "    print(letter)"
   ]
  },
  {
   "cell_type": "markdown",
   "metadata": {},
   "source": [
    "Or:"
   ]
  },
  {
   "cell_type": "code",
   "execution_count": 2,
   "metadata": {},
   "outputs": [
    {
     "name": "stdout",
     "output_type": "stream",
     "text": [
      "h-e-l-l-o-!-"
     ]
    }
   ],
   "source": [
    "for letter in \"hello!\":\n",
    "    print(letter, end='-')"
   ]
  },
  {
   "cell_type": "markdown",
   "metadata": {},
   "source": [
    "The name of the variable in the for-loop is `letter`. While you can use any name\n",
    "you like, you should try to use a name that conveys some meaning about the code."
   ]
  },
  {
   "cell_type": "markdown",
   "metadata": {},
   "source": [
    "## Searching Strings"
   ]
  },
  {
   "cell_type": "markdown",
   "metadata": {},
   "source": [
    "The Python `in` operator tests if a given substring is in a string:"
   ]
  },
  {
   "cell_type": "code",
   "execution_count": 1,
   "metadata": {},
   "outputs": [
    {
     "name": "stdout",
     "output_type": "stream",
     "text": [
      "contains \"lo\"\n",
      "does not contain \"?\"\n"
     ]
    }
   ],
   "source": [
    "s = \"hello!\"\n",
    "if 'lo' in s:\n",
    "    print('contains \"lo\"')         # printed\n",
    "if 'eel' in s:\n",
    "    print('contains \"eel\"')        # not printed\n",
    "if '?' not in s:\n",
    "    print('does not contain \"?\"')  # printed"
   ]
  },
  {
   "cell_type": "markdown",
   "metadata": {},
   "source": [
    "We can use a for-loop and if-statement to manually check if a string contains a\n",
    "letter. For example:"
   ]
  },
  {
   "cell_type": "code",
   "execution_count": 4,
   "metadata": {},
   "outputs": [
    {
     "name": "stdout",
     "output_type": "stream",
     "text": [
      "this word has an \"m\"\n",
      "this word has an \"m\"\n"
     ]
    }
   ],
   "source": [
    "for letter in 'mumble':\n",
    "    if letter == 'm' or letter == 'M':\n",
    "        print('this word has an \"m\"')"
   ]
  },
  {
   "cell_type": "markdown",
   "metadata": {},
   "source": [
    "The message is printed once for each occurrence of `m` in the string.\n",
    "\n",
    "We can write it as a function and pass in any word we like:"
   ]
  },
  {
   "cell_type": "code",
   "execution_count": 2,
   "metadata": {},
   "outputs": [
    {
     "name": "stdout",
     "output_type": "stream",
     "text": [
      "this word has an \"m\"\n",
      "this word has an \"m\"\n"
     ]
    }
   ],
   "source": [
    "def has_m_print(word):\n",
    "    for letter in word:\n",
    "        if letter == 'm' or letter == 'M':\n",
    "            print('this word has an \"m\"')\n",
    "\n",
    "has_m_print('mumble')  # two m's\n",
    "has_m_print('apple')   # no m's\n",
    "has_m_print('')        # no m's, empty string"
   ]
  },
  {
   "cell_type": "markdown",
   "metadata": {},
   "source": [
    "A better way to implement this is as a boolean function that returns `True` if\n",
    "there's an `m` in `word`, and `False` otherwise:"
   ]
  },
  {
   "cell_type": "code",
   "execution_count": 3,
   "metadata": {},
   "outputs": [
    {
     "name": "stdout",
     "output_type": "stream",
     "text": [
      "True\n",
      "False\n",
      "False\n"
     ]
    }
   ],
   "source": [
    "def has_m(word):\n",
    "    for letter in word:\n",
    "        if letter == 'm' or letter == 'M':\n",
    "            return True\n",
    "    \n",
    "    return False\n",
    "\n",
    "print(has_m('mumble'))  # True\n",
    "print(has_m('apple'))   # False\n",
    "print(has_m(''))        # False, empty string"
   ]
  },
  {
   "cell_type": "markdown",
   "metadata": {},
   "source": [
    "We can also simplify the if-statement by using `letter.lower()`. `lower()`\n",
    "returns the lowercase version of `letter`."
   ]
  },
  {
   "cell_type": "code",
   "execution_count": 7,
   "metadata": {},
   "outputs": [
    {
     "name": "stdout",
     "output_type": "stream",
     "text": [
      "True\n",
      "False\n",
      "False\n"
     ]
    }
   ],
   "source": [
    "def has_m(word):\n",
    "    for letter in word:\n",
    "        if letter.lower() == 'm':\n",
    "            return True\n",
    "    \n",
    "    return False\n",
    "\n",
    "print(has_m('mumble'))  # True\n",
    "print(has_m('apple'))   # False\n",
    "print(has_m(''))        # False, empty string"
   ]
  },
  {
   "cell_type": "markdown",
   "metadata": {},
   "source": [
    "`has_m` is an example of a **pure function**: a function whose output depends\n",
    "only on its input, and does not have any side effects, such as printing to the\n",
    "screen, opening a file, or modifying a global variable.\n",
    "\n",
    "In general, pure functions are easier to understand and debug than impure ones,\n",
    "and you should strive to write pure functions whenever possible."
   ]
  },
  {
   "cell_type": "markdown",
   "metadata": {},
   "source": [
    "### Some Incorrect Functions"
   ]
  },
  {
   "cell_type": "markdown",
   "metadata": {},
   "source": [
    "Note that this version of the function is incorrect:"
   ]
  },
  {
   "cell_type": "code",
   "execution_count": 10,
   "metadata": {},
   "outputs": [
    {
     "name": "stdout",
     "output_type": "stream",
     "text": [
      "False\n",
      "False\n",
      "None\n"
     ]
    }
   ],
   "source": [
    "def bad_has_m(word):\n",
    "    for letter in word:\n",
    "        if letter.lower() == 'm':\n",
    "            return True\n",
    "        else:               # wrong!\n",
    "            return False\n",
    "\n",
    "print(bad_has_m('bumble'))  # False, incorrect!\n",
    "print(bad_has_m('apple'))   # False\n",
    "print(bad_has_m(''))        # None, incorrect!"
   ]
  },
  {
   "cell_type": "markdown",
   "metadata": {},
   "source": [
    "The problem with `bad_has_m` is that it checks if the first letter is `m`, and\n",
    "then immediately returns either `True` or `False`. When `return` is called, the\n",
    "function stops executing, and so no letters after the first one are checked.\n",
    "\n",
    "This version is also incorrect:"
   ]
  },
  {
   "cell_type": "code",
   "execution_count": 12,
   "metadata": {},
   "outputs": [
    {
     "name": "stdout",
     "output_type": "stream",
     "text": [
      "False\n",
      "False\n",
      "None\n"
     ]
    }
   ],
   "source": [
    "def another_bad_has_m(word):\n",
    "    for letter in word:\n",
    "        return letter.lower() == 'm'  # wrong!\n",
    "\n",
    "print(another_bad_has_m('bumble'))  # False, incorrect!\n",
    "print(another_bad_has_m('apple'))   # False\n",
    "print(another_bad_has_m(''))        # None, incorrect!"
   ]
  },
  {
   "cell_type": "markdown",
   "metadata": {},
   "source": [
    "Again, the problem with `another_bad_has_m` is that as soon as `return` is\n",
    "called the function stops executing. So it only checks the first letter of the\n",
    "word."
   ]
  },
  {
   "cell_type": "markdown",
   "metadata": {},
   "source": [
    "### Using the `in` Operator"
   ]
  },
  {
   "cell_type": "markdown",
   "metadata": {},
   "source": [
    "We could shorten `has_m` to:"
   ]
  },
  {
   "cell_type": "code",
   "execution_count": 13,
   "metadata": {},
   "outputs": [
    {
     "name": "stdout",
     "output_type": "stream",
     "text": [
      "True\n",
      "False\n",
      "False\n"
     ]
    }
   ],
   "source": [
    "def has_m(word):\n",
    "    return 'm' in word.lower()\n",
    "\n",
    "print(has_m('mumble'))  # True\n",
    "print(has_m('apple'))   # False\n",
    "print(has_m(''))        # False, empty string"
   ]
  },
  {
   "cell_type": "markdown",
   "metadata": {},
   "source": [
    "## Reading the Lines of a Text File"
   ]
  },
  {
   "cell_type": "markdown",
   "metadata": {},
   "source": [
    "To read the lines of a text file in Python we do the following:\n",
    "- *Open* the text file for reading.\n",
    "- *Read* the lines of the text file one at a time, and do whatever you want with\n",
    "  the lines.\n",
    "- *Close* the text file.\n",
    "\n",
    "Lets try this out with the file [words.txt](words.txt), a list of words with one\n",
    "per line. To read the contents we must first open it with the `open` function:"
   ]
  },
  {
   "cell_type": "code",
   "execution_count": null,
   "metadata": {},
   "outputs": [],
   "source": [
    "file_object = open('words.txt')"
   ]
  },
  {
   "cell_type": "markdown",
   "metadata": {},
   "source": [
    " `open` returns a special file object that lets us access the opened file. In\n",
    "particular,`file_object` has a method called `readline` that reads the next line\n",
    "of the file. So we can print the first three lines of the file like this:"
   ]
  },
  {
   "cell_type": "code",
   "execution_count": 4,
   "metadata": {},
   "outputs": [
    {
     "name": "stdout",
     "output_type": "stream",
     "text": [
      "aa\n",
      "\n",
      "aah\n",
      "\n",
      "aahed\n",
      "\n"
     ]
    }
   ],
   "source": [
    "file_object = open('words.txt')\n",
    "\n",
    "print(file_object.readline())  # prints first line of file\n",
    "print(file_object.readline())  # prints second line of file\n",
    "print(file_object.readline())  # prints third line of file"
   ]
  },
  {
   "cell_type": "markdown",
   "metadata": {},
   "source": [
    "There is an extra line between each line because `readline()` includes the\n",
    "newline character, `\\n`, at the end of each line. We can remove the extra lines\n",
    "by using the `strip` method:"
   ]
  },
  {
   "cell_type": "code",
   "execution_count": null,
   "metadata": {},
   "outputs": [
    {
     "name": "stdout",
     "output_type": "stream",
     "text": [
      "aa\n",
      "aah\n",
      "aahed\n"
     ]
    }
   ],
   "source": [
    "file_object = open('words.txt')\n",
    "\n",
    "print(file_object.readline().strip())  # prints first line of file\n",
    "print(file_object.readline().strip())  # prints second line of file\n",
    "print(file_object.readline().strip())  # prints third line of file"
   ]
  },
  {
   "cell_type": "markdown",
   "metadata": {},
   "source": [
    "Another way to read the lines of a file is to use a for-loop. The file\n",
    "[small_story.txt](small_story.txt) contains the following text:\n",
    "\n",
    "```\n",
    "Once upon a time,\n",
    "the world was full of magic.\n",
    "Everyone was constantly \n",
    "doing card tricks.\n",
    "```"
   ]
  },
  {
   "cell_type": "code",
   "execution_count": 22,
   "metadata": {},
   "outputs": [
    {
     "name": "stdout",
     "output_type": "stream",
     "text": [
      "Once upon a time,\n",
      "the world was full of magic.\n",
      "Everyone was constantly\n",
      "doing card tricks.\n"
     ]
    }
   ],
   "source": [
    "file_object = open('small_story.txt')\n",
    "\n",
    "for line in file_object:\n",
    "    print(line.strip())"
   ]
  },
  {
   "cell_type": "markdown",
   "metadata": {},
   "source": [
    "### Closing Files"
   ]
  },
  {
   "cell_type": "markdown",
   "metadata": {},
   "source": [
    "When you are done with a file, you should close it to free up computer\n",
    "resources. Python automatically closes `file_object` when the program ends. But\n",
    "if you want to close the file sooner, use the `close` method:\n",
    "\n",
    "```python\n",
    "file_object.close()\n",
    "```"
   ]
  },
  {
   "cell_type": "markdown",
   "metadata": {},
   "source": [
    "## Looping Over the Lines of a File"
   ]
  },
  {
   "cell_type": "markdown",
   "metadata": {},
   "source": [
    "The for-loop way of reading a text file goes through the lines of the file one\n",
    "at a time, which has many useful applications.\n",
    "\n",
    "For example, we can count the number of lines in a file:"
   ]
  },
  {
   "cell_type": "code",
   "execution_count": 23,
   "metadata": {},
   "outputs": [
    {
     "name": "stdout",
     "output_type": "stream",
     "text": [
      "113783\n"
     ]
    }
   ],
   "source": [
    "file_object = open('words.txt')\n",
    "\n",
    "word_count = 0\n",
    "for line in file_object:\n",
    "    word_count += 1\n",
    "print(word_count)"
   ]
  },
  {
   "cell_type": "markdown",
   "metadata": {},
   "source": [
    "The variable `word_count` is sometimes called an **accumulator variable**. It's\n",
    "initialized to 0, and then every time a line of the file is read it's\n",
    "incremented by 1.\n",
    "\n",
    "This line adds 1 to `word_count`:\n",
    "\n",
    "```python\n",
    "word_count += 1\n",
    "```\n",
    "\n",
    "Another way of doing the same thing is:\n",
    "\n",
    "```python\n",
    "word_count = word_count + 1\n",
    "```\n",
    "\n",
    "Both statements do the same thing, but generally `+=` is preferred because it's\n",
    "shorter.\n",
    "\n",
    "You can add, subtract, multiply, or divide using `+=`, `-=`, `*=`, or `/=`:"
   ]
  },
  {
   "cell_type": "code",
   "execution_count": 24,
   "metadata": {},
   "outputs": [
    {
     "name": "stdout",
     "output_type": "stream",
     "text": [
      "6.0\n"
     ]
    }
   ],
   "source": [
    "n = 3\n",
    "\n",
    "n += 7  # add 7 to n, n is now 10\n",
    "n -= 2  # subtract 2 from n, n is now 8\n",
    "n *= 3  # multiply n by 3, n is now 24\n",
    "n /= 4  # divide n by 4, n is now 6.0\n",
    "\n",
    "print(n)  # 6.0"
   ]
  },
  {
   "cell_type": "markdown",
   "metadata": {},
   "source": [
    "### Counting Words with an 'm'"
   ]
  },
  {
   "cell_type": "markdown",
   "metadata": {},
   "source": [
    "Now lets count how many words in [words.txt](words.txt) contain one, or more,\n",
    "`m` characters:"
   ]
  },
  {
   "cell_type": "code",
   "execution_count": 26,
   "metadata": {},
   "outputs": [
    {
     "name": "stdout",
     "output_type": "stream",
     "text": [
      "22472 words have an \"m\"\n"
     ]
    }
   ],
   "source": [
    "file_object = open('words.txt')\n",
    "total_m_words = 0\n",
    "for line in file_object:\n",
    "    if has_m(line):\n",
    "        total_m_words += 1\n",
    "\n",
    "print(f'{total_m_words} words have an \"m\"')"
   ]
  },
  {
   "cell_type": "markdown",
   "metadata": {},
   "source": [
    "If we also count the total number of words then we can calculate the percentage\n",
    "of words that have an `m`:"
   ]
  },
  {
   "cell_type": "code",
   "execution_count": 30,
   "metadata": {},
   "outputs": [
    {
     "name": "stdout",
     "output_type": "stream",
     "text": [
      "19.7% of the words have an \"m\"\n"
     ]
    }
   ],
   "source": [
    "file_object = open('words.txt')\n",
    "total_words = 0\n",
    "total_m_words = 0\n",
    "for line in file_object:\n",
    "    total_words += 1\n",
    "    if has_m(line):\n",
    "        total_m_words += 1\n",
    "\n",
    "pct = 100 * total_m_words / total_words\n",
    "print(f'{pct:.1f}% of the words have an \"m\"')"
   ]
  },
  {
   "cell_type": "markdown",
   "metadata": {},
   "source": [
    "## Generalizing has_m"
   ]
  },
  {
   "cell_type": "markdown",
   "metadata": {},
   "source": [
    "`has_m` is not a very useful function since it only searches for the letter `m`.\n",
    "Here is a more useful function:"
   ]
  },
  {
   "cell_type": "code",
   "execution_count": 5,
   "metadata": {},
   "outputs": [
    {
     "name": "stdout",
     "output_type": "stream",
     "text": [
      "True\n",
      "True\n",
      "True\n",
      "False\n"
     ]
    }
   ],
   "source": [
    "def uses_any(word, letters):\n",
    "    \"\"\"Returns True just when one, or more, of the characters in \n",
    "    letters are in word. Otherwise it returns False. \n",
    "    Converts all letters to lowercase.\n",
    "    \"\"\"\n",
    "    for letter in word.lower():\n",
    "        if letter in letters.lower():\n",
    "            return True\n",
    "    return False\n",
    "\n",
    "print(uses_any('mumble', 'm'))     # True\n",
    "print(uses_any('apple', 'aeiou'))  # True\n",
    "print(uses_any('8675309', '1234')) # True\n",
    "print(uses_any('apple', ' \\n'))    # False"
   ]
  },
  {
   "cell_type": "markdown",
   "metadata": {},
   "source": [
    "We can use it to write other useful functions, for instance:"
   ]
  },
  {
   "cell_type": "code",
   "execution_count": 33,
   "metadata": {},
   "outputs": [
    {
     "name": "stdout",
     "output_type": "stream",
     "text": [
      "True\n",
      "False\n"
     ]
    }
   ],
   "source": [
    "def has_vowel(word):\n",
    "    return uses_any(word, 'aeiou')\n",
    "\n",
    "print(has_vowel('mumble'))  # True\n",
    "print(has_vowel('!!!'))     # False"
   ]
  },
  {
   "cell_type": "markdown",
   "metadata": {},
   "source": [
    "Lets use `has_vowel` to find all the words in [words.txt](words.txt) that don't\n",
    "have any vowels:"
   ]
  },
  {
   "cell_type": "code",
   "execution_count": 35,
   "metadata": {},
   "outputs": [
    {
     "name": "stdout",
     "output_type": "stream",
     "text": [
      "by\n",
      "byrl\n",
      "byrls\n",
      "bys\n",
      "crwth\n",
      "crwths\n",
      "cry\n",
      "crypt\n",
      "crypts\n",
      "cwm\n",
      "cwms\n",
      "cyst\n",
      "cysts\n",
      "dry\n",
      "dryly\n",
      "drys\n",
      "fly\n",
      "flyby\n",
      "flybys\n",
      "flysch\n",
      "fry\n",
      "ghyll\n",
      "ghylls\n",
      "glycyl\n",
      "glycyls\n",
      "glyph\n",
      "glyphs\n",
      "gym\n",
      "gyms\n",
      "gyp\n",
      "gyps\n",
      "gypsy\n",
      "hymn\n",
      "hymns\n",
      "hyp\n",
      "hyps\n",
      "lymph\n",
      "lymphs\n",
      "lynch\n",
      "lynx\n",
      "my\n",
      "myrrh\n",
      "myrrhs\n",
      "myth\n",
      "myths\n",
      "nth\n",
      "nymph\n",
      "nymphs\n",
      "phpht\n",
      "pht\n",
      "ply\n",
      "pry\n",
      "psst\n",
      "psych\n",
      "psychs\n",
      "pygmy\n",
      "pyx\n",
      "rhythm\n",
      "rhythms\n",
      "rynd\n",
      "rynds\n",
      "sh\n",
      "shh\n",
      "shy\n",
      "shyly\n",
      "sky\n",
      "sly\n",
      "slyly\n",
      "spry\n",
      "spryly\n",
      "spy\n",
      "sty\n",
      "stymy\n",
      "sylph\n",
      "sylphs\n",
      "sylphy\n",
      "syn\n",
      "sync\n",
      "synch\n",
      "synchs\n",
      "syncs\n",
      "syzygy\n",
      "thy\n",
      "thymy\n",
      "try\n",
      "tryst\n",
      "trysts\n",
      "tsk\n",
      "tsks\n",
      "tsktsk\n",
      "tsktsks\n",
      "typp\n",
      "typps\n",
      "typy\n",
      "why\n",
      "whys\n",
      "wry\n",
      "wryly\n",
      "wych\n",
      "wynd\n",
      "wynds\n",
      "wynn\n",
      "wynns\n",
      "xylyl\n",
      "xylyls\n",
      "xyst\n",
      "xysts\n",
      "107 words have no vowels\n"
     ]
    }
   ],
   "source": [
    "file_object = open('words.txt')\n",
    "total = 0\n",
    "for line in file_object:\n",
    "    if not has_vowel(line):\n",
    "        total += 1\n",
    "        print(line.strip())\n",
    "\n",
    "print(f'{total} words have no vowels')"
   ]
  },
  {
   "cell_type": "markdown",
   "metadata": {},
   "source": [
    "`has_vowels` doesn't count `y` as a vowel, but lets suppose we want to count `y`\n",
    "as vowel. Then we can modify the code like this:"
   ]
  },
  {
   "cell_type": "code",
   "execution_count": 36,
   "metadata": {},
   "outputs": [
    {
     "name": "stdout",
     "output_type": "stream",
     "text": [
      "crwth\n",
      "crwths\n",
      "cwm\n",
      "cwms\n",
      "nth\n",
      "phpht\n",
      "pht\n",
      "psst\n",
      "sh\n",
      "shh\n",
      "tsk\n",
      "tsks\n",
      "tsktsk\n",
      "tsktsks\n",
      "14 words have no vowels\n"
     ]
    }
   ],
   "source": [
    "file_object = open('words.txt')\n",
    "total = 0\n",
    "for line in file_object:\n",
    "    if 'y' not in line and not has_vowel(line):\n",
    "        total += 1\n",
    "        print(line.strip())\n",
    "\n",
    "print(f'{total} words have no vowels')"
   ]
  },
  {
   "cell_type": "markdown",
   "metadata": {},
   "source": [
    "## Case Study: Spelling Bee"
   ]
  },
  {
   "cell_type": "markdown",
   "metadata": {},
   "source": [
    "[Spelling Bee](https://www.nytimes.com/puzzles/spelling-bee) is a word puzzle\n",
    "where you are given 7 different letters and must find as many 4-letter or longer\n",
    "words as possible. You are allowed to repeat letters.\n",
    "\n",
    "One of the letters is the \"center\" letter, and it must appear in any word you\n",
    "make. It's guaranteed that here is at least one word that uses all seven\n",
    "letters.\n",
    "\n",
    "Words are scored as follows:\n",
    "\n",
    "- Words that *don't* contain the required letter don't score any points.\n",
    "- Words with 3 or fewer letters don't score any points.\n",
    "- A 4-letter word is worth 1 point.\n",
    "- A 5-letter or more word is worth 1 point per letter.\n",
    "- A word that uses all seven letters is called a *pangram* and is worth 7 extra\n",
    "  points.\n",
    "\n",
    "The goal is to score as many points as possible.\n",
    "\n",
    "For example, suppose the seven letters are SIGLENP, and the required letter is\n",
    "G. Some words are:\n",
    "\n",
    "- PIGS, 1 point\n",
    "- GILLS, 5 points\n",
    "- SINGLE, 6 points\n",
    "- SLEEPING, 8 + 7 = 15 points\n",
    "\n",
    "Some words don't score any points:\n",
    "\n",
    "- I, IN, LIP, and PIG don't score points because they have fewer than 4 letters.\n",
    "- LINE, PINES, and SLIPS don't score points because they don't use the G."
   ]
  },
  {
   "cell_type": "markdown",
   "metadata": {},
   "source": [
    "If you are a human, then you probably solve this problem by trying different\n",
    "combinations of letters to see if they form words. How many words can you find?\n",
    "\n",
    "But with a computer, we can use a **brute-force** approach: we can check *every*\n",
    "word in the English language, or at least those listed in [words.txt](words.txt)\n",
    "to see if it can be formed with the given letters.\n",
    "\n",
    "Since [words.txt](words.txt) has over 113,000 words, no human could do this. But\n",
    "a computer can!\n",
    "\n",
    "So lets write a program the solves the Spelling Bee problem by scanning through\n",
    "all the words in [words.txt](words.txt) and calculating their score."
   ]
  },
  {
   "cell_type": "markdown",
   "metadata": {},
   "source": [
    "### The Word Score Function\n",
    "\n",
    "First, lets write `word_score` that calculates the score of a word according to\n",
    "the rules given above:"
   ]
  },
  {
   "cell_type": "code",
   "execution_count": 6,
   "metadata": {},
   "outputs": [
    {
     "name": "stdout",
     "output_type": "stream",
     "text": [
      "0\n",
      "0\n",
      "1\n",
      "5\n",
      "6\n",
      "15\n"
     ]
    }
   ],
   "source": [
    "def pangram_bonus(word, letters):\n",
    "    \"\"\"Returns 7 if every character in letters is in words.\n",
    "    Otherwise it returns 0.\n",
    "    \"\"\"\n",
    "    for c in letters:\n",
    "        if c not in word:\n",
    "            return 0\n",
    "    return 7\n",
    "\n",
    "\n",
    "def word_score(word, required, letters):\n",
    "    \"\"\"Returns the score for word according to these rules:\n",
    "    - Words with 3 letters aren't considered (they don't score any points).\n",
    "    - A 4-letter word is worth 1 point.\n",
    "    - A 5-letter or more word is worth 1 point per letter.\n",
    "    - A word that uses all seven letters is called a *pangram* and is worth 7\n",
    "      extra points.\n",
    "    \"\"\"\n",
    "    #\n",
    "    # first check if the word is too short or doesn't contain the required\n",
    "    # letter\n",
    "    #\n",
    "    if required not in word or len(word) < 4:\n",
    "        return 0\n",
    "    \n",
    "    #\n",
    "    # check that all the letters in word are in letters\n",
    "    #\n",
    "    for c in word:\n",
    "        if c not in letters:\n",
    "            return 0\n",
    "    \n",
    "    #\n",
    "    # if we get here, the word is long enough and contains the required letter\n",
    "    #\n",
    "    if len(word) == 4:\n",
    "        return 1\n",
    "    else:\n",
    "        return len(word) + pangram_bonus(word, letters)\n",
    "\n",
    "print(word_score('PIG', 'G', 'SIGLENP'))      # 0\n",
    "print(word_score('SLIPS', 'G', 'SIGLENP'))    # 0\n",
    "print(word_score('PIGS', 'G', 'SIGLENP'))     # 1\n",
    "print(word_score('GILLS', 'G', 'SIGLENP'))    # 5\n",
    "print(word_score('SINGLE', 'G', 'SIGLENP'))   # 6\n",
    "print(word_score('SLEEPING', 'G', 'SIGLENP')) # 15"
   ]
  },
  {
   "cell_type": "markdown",
   "metadata": {},
   "source": [
    "### The Spelling Bee Solver"
   ]
  },
  {
   "cell_type": "markdown",
   "metadata": {},
   "source": [
    "Now that we can use `word_score` score all words from [words.txt](words.txt):"
   ]
  },
  {
   "cell_type": "code",
   "execution_count": 33,
   "metadata": {},
   "outputs": [
    {
     "name": "stdout",
     "output_type": "stream",
     "text": [
      "EGGING, 6 points\n",
      "EGGS, 1 points\n",
      "EGIS, 1 points\n",
      "EGISES, 6 points\n",
      "ELEGIES, 7 points\n",
      "ELEGISE, 7 points\n",
      "ELEGISES, 8 points\n",
      "ELEGISING, 9 points\n",
      "ENGINE, 6 points\n",
      "ENGINES, 7 points\n",
      "ENGINING, 8 points\n",
      "ENGS, 1 points\n",
      "ENISLING, 8 points\n",
      "ENSIGN, 6 points\n",
      "ENSIGNS, 7 points\n",
      "ENSILING, 8 points\n",
      "EPIGENE, 7 points\n",
      "ESPIEGLE, 8 points\n",
      "GEEING, 6 points\n",
      "GEES, 1 points\n",
      "GEESE, 5 points\n",
      "GELEE, 5 points\n",
      "GELEES, 6 points\n",
      "GELLING, 7 points\n",
      "GELS, 1 points\n",
      "GENE, 1 points\n",
      "GENES, 5 points\n",
      "GENESES, 7 points\n",
      "GENESIS, 7 points\n",
      "GENIE, 5 points\n",
      "GENIES, 6 points\n",
      "GENII, 5 points\n",
      "GENIP, 5 points\n",
      "GENIPS, 6 points\n",
      "GENS, 1 points\n",
      "GENSENG, 7 points\n",
      "GENSENGS, 8 points\n",
      "GIEING, 6 points\n",
      "GIEN, 1 points\n",
      "GIES, 1 points\n",
      "GIGGING, 7 points\n",
      "GIGGLE, 6 points\n",
      "GIGGLES, 7 points\n",
      "GIGGLING, 8 points\n",
      "GIGS, 1 points\n",
      "GILL, 1 points\n",
      "GILLIE, 6 points\n",
      "GILLIES, 7 points\n",
      "GILLING, 7 points\n",
      "GILLS, 5 points\n",
      "GINGELI, 7 points\n",
      "GINGELIES, 9 points\n",
      "GINGELIS, 8 points\n",
      "GINGELLIES, 10 points\n",
      "GINGILI, 7 points\n",
      "GINGILIS, 8 points\n",
      "GINNING, 7 points\n",
      "GINNINGS, 8 points\n",
      "GINS, 1 points\n",
      "GINSENG, 7 points\n",
      "GINSENGS, 8 points\n",
      "GIPPING, 7 points\n",
      "GIPS, 1 points\n",
      "GIPSIES, 7 points\n",
      "GLEE, 1 points\n",
      "GLEES, 5 points\n",
      "GLEG, 1 points\n",
      "GLEGNESS, 8 points\n",
      "GLEGNESSES, 10 points\n",
      "GLEN, 1 points\n",
      "GLENS, 5 points\n",
      "GNEISS, 6 points\n",
      "GNEISSES, 8 points\n",
      "INGLE, 5 points\n",
      "INGLES, 6 points\n",
      "INNING, 6 points\n",
      "INNINGS, 7 points\n",
      "INSIGNE, 7 points\n",
      "ISLING, 6 points\n",
      "LEGES, 5 points\n",
      "LEGGIN, 6 points\n",
      "LEGGING, 7 points\n",
      "LEGGINGS, 8 points\n",
      "LEGGINS, 7 points\n",
      "LEGLESS, 7 points\n",
      "LEGS, 1 points\n",
      "LESSENING, 9 points\n",
      "LIEGE, 5 points\n",
      "LIEGES, 6 points\n",
      "LIGNIN, 6 points\n",
      "LIGNINS, 7 points\n",
      "LING, 1 points\n",
      "LINGS, 5 points\n",
      "LINING, 6 points\n",
      "LININGS, 7 points\n",
      "LIPPENING, 9 points\n",
      "LIPPING, 7 points\n",
      "LIPPINGS, 8 points\n",
      "LISPING, 7 points\n",
      "NEGLIGE, 7 points\n",
      "NEGLIGEE, 8 points\n",
      "NEGLIGEES, 9 points\n",
      "NEGLIGES, 8 points\n",
      "NIGGLE, 6 points\n",
      "NIGGLES, 7 points\n",
      "NIGGLING, 8 points\n",
      "NIGGLINGS, 9 points\n",
      "NILLING, 7 points\n",
      "NIPPING, 7 points\n",
      "PEEING, 6 points\n",
      "PEELING, 7 points\n",
      "PEELINGS, 15 points\n",
      "PEENING, 7 points\n",
      "PEEPING, 7 points\n",
      "PEGGING, 7 points\n",
      "PEGLESS, 7 points\n",
      "PEGS, 1 points\n",
      "PEINING, 7 points\n",
      "PEISING, 7 points\n",
      "PENNING, 7 points\n",
      "PEPPING, 7 points\n",
      "PIEING, 6 points\n",
      "PIGGIE, 6 points\n",
      "PIGGIES, 7 points\n",
      "PIGGIN, 6 points\n",
      "PIGGING, 7 points\n",
      "PIGGINS, 7 points\n",
      "PIGPEN, 6 points\n",
      "PIGPENS, 7 points\n",
      "PIGS, 1 points\n",
      "PIING, 5 points\n",
      "PILING, 6 points\n",
      "PILINGS, 7 points\n",
      "PILLING, 7 points\n",
      "PING, 1 points\n",
      "PINGING, 7 points\n",
      "PINGS, 5 points\n",
      "PINING, 6 points\n",
      "PINNING, 7 points\n",
      "PIPELINING, 10 points\n",
      "PIPING, 6 points\n",
      "PIPINGS, 7 points\n",
      "PIPPING, 7 points\n",
      "PISSING, 7 points\n",
      "SEEING, 6 points\n",
      "SEEINGS, 7 points\n",
      "SEELING, 7 points\n",
      "SEEPING, 7 points\n",
      "SEGNI, 5 points\n",
      "SEINING, 7 points\n",
      "SEISING, 7 points\n",
      "SEISINGS, 8 points\n",
      "SELLING, 7 points\n",
      "SENGI, 5 points\n",
      "SENSING, 7 points\n",
      "SIEGE, 5 points\n",
      "SIEGES, 6 points\n",
      "SIEGING, 7 points\n",
      "SIGIL, 5 points\n",
      "SIGILS, 6 points\n",
      "SIGN, 1 points\n",
      "SIGNING, 7 points\n",
      "SIGNS, 5 points\n",
      "SING, 1 points\n",
      "SINGE, 5 points\n",
      "SINGEING, 8 points\n",
      "SINGES, 6 points\n",
      "SINGING, 7 points\n",
      "SINGLE, 6 points\n",
      "SINGLENESS, 10 points\n",
      "SINGLENESSES, 12 points\n",
      "SINGLES, 7 points\n",
      "SINGLING, 8 points\n",
      "SINGS, 5 points\n",
      "SINNING, 7 points\n",
      "SIPING, 6 points\n",
      "SIPPING, 7 points\n",
      "SLEEPING, 15 points\n",
      "SLEEPINGS, 16 points\n",
      "SLING, 5 points\n",
      "SLINGING, 8 points\n",
      "SLINGS, 6 points\n",
      "SLIPING, 7 points\n",
      "SLIPPING, 8 points\n",
      "SNIGGLE, 7 points\n",
      "SNIGGLES, 8 points\n",
      "SNIGGLING, 9 points\n",
      "SNIPING, 7 points\n",
      "SNIPPING, 8 points\n",
      "SPEELING, 15 points\n",
      "SPEILING, 15 points\n",
      "SPELLING, 15 points\n",
      "SPELLINGS, 16 points\n",
      "SPIEGEL, 7 points\n",
      "SPIEGELS, 8 points\n",
      "SPIELING, 15 points\n",
      "SPILING, 7 points\n",
      "SPILINGS, 8 points\n",
      "SPILLING, 8 points\n",
      "SPINNING, 8 points\n",
      "SPINNINGS, 9 points\n",
      "SPLINING, 8 points\n",
      "\n",
      "Total score: 1324\n",
      "Total scoring words: 202\n"
     ]
    }
   ],
   "source": [
    "# sample\n",
    "letters = 'SIGLENP'\n",
    "required_letter = 'G'\n",
    "\n",
    "# June 20, 2024\n",
    "# letters = 'LGXNCEI'\n",
    "# required_letter = 'I'\n",
    "\n",
    "total_score = 0    # sum of all the scores\n",
    "scoring_words = 0  # number of words that score points\n",
    "file_object = open('words.txt')\n",
    "for w in file_object:\n",
    "    # remove the newline character at the end of the word\n",
    "    # also cover it to upper case\n",
    "    w = w.strip().upper()\n",
    "    \n",
    "    score = word_score(w, required_letter, letters)\n",
    "    total_score += score\n",
    "    if score > 0:\n",
    "        scoring_words += 1\n",
    "        print(f'{w}, {score} points')\n",
    "\n",
    "print()\n",
    "print(f'Total score: {total_score}')\n",
    "print(f'Total scoring words: {scoring_words}')"
   ]
  },
  {
   "cell_type": "markdown",
   "metadata": {},
   "source": [
    "The code finds 202 words for a total score of 1324, and runs almost instantly on\n",
    "my computer."
   ]
  },
  {
   "cell_type": "markdown",
   "metadata": {},
   "source": [
    "## Questions\n",
    "\n",
    "1. Is this a correct implementation of the `has_m` function (i.e. a function\n",
    "   that returns `True` if `word` has an `m`, and `False` otherwise) ?\n",
    "\n",
    "   ```python\n",
    "   def has_m(word):\n",
    "       for letter in word:\n",
    "           if letter.lower() == 'm':\n",
    "               return True\n",
    "       \n",
    "           return False\n",
    "   ```\n",
    "\n",
    "2. Is this a correct implementation of the `has_m` function (i.e. a function\n",
    "   that returns `True` if `word` has an `m`, and `False` otherwise) ?\n",
    "\n",
    "   ```python\n",
    "   def has_m(word):\n",
    "       for letter in word:\n",
    "           if letter.lower() != 'm':  # != instead of ==\n",
    "               return False           # False instead of True\n",
    "       \n",
    "           return True                # True instead of False\n",
    "   ```\n",
    "\n",
    "3. What does each `print` statement print?\n",
    "\n",
    "   ```python\n",
    "   a = 5\n",
    "   a = a + 1\n",
    "   print(a)\n",
    "\n",
    "   b = 5\n",
    "   b = 1 + b\n",
    "   print(b)\n",
    "\n",
    "   c = 5\n",
    "   c += 1\n",
    "   print(c)\n",
    "\n",
    "   d = 5\n",
    "   d += d\n",
    "   print(d)\n",
    "\n",
    "   e = 5\n",
    "   e *= e\n",
    "   print(e)\n",
    "\n",
    "   f = 5\n",
    "   f -= f\n",
    "   print(f)\n",
    "\n",
    "   g = 5\n",
    "   g /= g\n",
    "   print(g)\n",
    "\n",
    "   h = 5\n",
    "   h = h += 1\n",
    "   print(h)\n",
    "   ```\n",
    "\n",
    "4. In the `uses_any` function, does the *order* of the characters in `letters`\n",
    "   matter?\n",
    "\n",
    "5. Why does this code print a blank line between the words?\n",
    "\n",
    "   ```python\n",
    "   file_object = open('words.txt')\n",
    "\n",
    "   print(file_object.readline())\n",
    "   print(file_object.readline())\n",
    "   print(file_object.readline())\n",
    "   ```\n",
    "\n",
    "   How can you prevent the extra lines from being printed?"
   ]
  }
 ],
 "metadata": {
  "colab": {
   "authorship_tag": "ABX9TyNDPRhikI2Q71waRP7/kTi/",
   "mount_file_id": "1RtZk2Rw4mNshgxrTBWTSrrRwywQ3Grx8",
   "provenance": []
  },
  "kernelspec": {
   "display_name": "base",
   "language": "python",
   "name": "python3"
  },
  "language_info": {
   "codemirror_mode": {
    "name": "ipython",
    "version": 3
   },
   "file_extension": ".py",
   "mimetype": "text/x-python",
   "name": "python",
   "nbconvert_exporter": "python",
   "pygments_lexer": "ipython3",
   "version": "3.12.7"
  }
 },
 "nbformat": 4,
 "nbformat_minor": 0
}
