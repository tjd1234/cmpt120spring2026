{
  "cells": [
    {
      "cell_type": "markdown",
      "metadata": {},
      "source": [
        "# Homework 7"
      ]
    },
    {
      "cell_type": "markdown",
      "metadata": {},
      "source": [
        "This is based on chapter 7 of the course notes, and may introduce a few topics\n",
        "not mentioned there.\n",
        "\n",
        "You can also do the exercises at the bottom of the textbook chapter."
      ]
    },
    {
      "cell_type": "markdown",
      "metadata": {},
      "source": [
        "## Practice Question 1"
      ]
    },
    {
      "cell_type": "markdown",
      "metadata": {},
      "source": [
        "Write a function called `first_n(filename, n)` that prints the first `n` line of\n",
        "the file `filename`, in the order they occur, and with line numbers as shown\n",
        "below.\n",
        "\n",
        "For example, the file [example.txt](example.txt) contains this:\n",
        "\n",
        "```\n",
        "The road to wisdom?—Well, it’s\n",
        "plain and simple to express:\n",
        "Err\n",
        "and err\n",
        "and err again,\n",
        "but less\n",
        "and less\n",
        "and less.\n",
        "-- Piet Hein\n",
        "```\n",
        "\n",
        "`first_n('example.txt', 3)` prints:\n",
        "\n",
        "```\n",
        "1. The road to wisdom?—Well, it’s\n",
        "2. plain and simple to express:\n",
        "3. Err\n",
        "```\n",
        "\n",
        "You can assume `n` is always a non-negative integer and that it is never more\n",
        "than the number of lines in the file. This is not a practical assumption, but it\n",
        "simplifies the problem. When you are done, think about how you might handle the\n",
        "case where `n` is greater than the number of lines in the file.\n",
        "\n",
        "*Don't* use lists or other such data structures in your answer."
      ]
    },
    {
      "cell_type": "markdown",
      "metadata": {},
      "source": [
        "## Practice Question 2"
      ]
    },
    {
      "cell_type": "markdown",
      "metadata": {},
      "source": [
        "Modify the code for the Spelling Bee game in the notes so that it also prints\n",
        "the highest-scoring word. \n",
        "\n",
        "For example, for letters SIGLENP with required letter G, the output looks like\n",
        "this:\n",
        "\n",
        "```\n",
        "... list of words ...\n",
        "\n",
        "Total score: 1324\n",
        "Total scoring words: 202\n",
        "Best word: SLEEPINGS, 16 points\n",
        "```\n",
        "\n",
        "If the letters are LGXNCEI and the required letter is I, then:\n",
        "\n",
        "```\n",
        "... list of words ...\n",
        "\n",
        "Total score: 401\n",
        "Total scoring words: 72\n",
        "Best word: EXCELLING, 16 points\n",
        "```\n",
        "\n",
        "If there's more than one highest-scoring word, print the one that comes first\n",
        "alphabetically.\n",
        "\n",
        "*Don't* use lists or other such data structures in your answer. Also, keep in\n",
        "mind that [words.txt](words.txt) is already in alphabetical order."
      ]
    }
  ],
  "metadata": {
    "kernelspec": {
      "display_name": "Python 3",
      "language": "python",
      "name": "python3"
    },
    "language_info": {
      "codemirror_mode": {
        "name": "ipython",
        "version": 3
      },
      "file_extension": ".py",
      "mimetype": "text/x-python",
      "name": "python",
      "nbconvert_exporter": "python",
      "pygments_lexer": "ipython3",
      "version": "3.8.10"
    }
  },
  "nbformat": 4,
  "nbformat_minor": 2
}
