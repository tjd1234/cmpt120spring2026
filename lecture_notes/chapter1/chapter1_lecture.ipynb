{
 "cells": [
  {
   "cell_type": "markdown",
   "metadata": {
    "id": "cjsmyWXsNrEg"
   },
   "source": [
    "# Chapter 1 Lecture Notes\n",
    "\n",
    "Please read chapter 0 and chapter 1 of the textbook.\n",
    "\n",
    "These notes take ~3 lecture hours to cover."
   ]
  },
  {
   "cell_type": "markdown",
   "metadata": {},
   "source": [
    "## Getting Started with Python\n",
    "Here's what you should do to get started:\n",
    "\n",
    "- [Download and install Python](https://www.python.org/) for your computer.\n",
    "- Python comes with the **IDLE Python editor**. Run that and explore it a\n",
    "  bit. It's a good editor for your first time using Python, and will be fine for\n",
    "  this course.\n",
    "  - You can, run Python in other ways, e.g. in [VS\n",
    "    Code](https://code.visualstudio.com/), or online using sites like [Google\n",
    "    Colab](https://colab.research.google.com/), [Github\n",
    "    Codespaces](https://github.com/features/codespaces) or\n",
    "    [replit](https://replit.com/). For this course, running Python in IDLE is\n",
    "    completely fine.\n",
    "  - To open Python notebooks (such as this one!) in Google Colab:\n",
    "    - Go to [Google Colab](https://colab.research.google.com/).\n",
    "    - In the File menu, choose \"Open notebook\" (or type ctrl-*O*).\n",
    "    - In the dialog menu that pops up, choose \"Github >\".\n",
    "    - Enter this URL and then click the little magnifying glass:\n",
    "      [https://github.com/tjd1234/cmpt120fall2024](https://github.com/tjd1234/cmpt120fall2024)\n",
    "    - The notebook files should appear in the box. Click on the one you want to\n",
    "      view.\n",
    "    - If you want to save or make changes to notebooks, you need be logged in to\n",
    "      your Google account when you do the above steps.\n",
    "- Follow along in the lectures, and you'll learn everything you need to start on\n",
    "  the road to becoming a programmer and computer scientist."
   ]
  },
  {
   "cell_type": "markdown",
   "metadata": {
    "id": "aw2sq5jZOXHX"
   },
   "source": [
    "## CMPT 120\n",
    "\n",
    "Welcome to CMPT 120: an introduction to computer science and programming.\n",
    "\n",
    "We'll start by learning how to think as programmers. We'll see how to build\n",
    "Python programs to solve problems."
   ]
  },
  {
   "cell_type": "markdown",
   "metadata": {},
   "source": [
    "## Arithmetic in Python\n",
    "\n",
    "Let's learn some basic Python. We'll start with arithmetic and printing:"
   ]
  },
  {
   "cell_type": "code",
   "execution_count": 1,
   "metadata": {},
   "outputs": [
    {
     "name": "stdout",
     "output_type": "stream",
     "text": [
      "11\n"
     ]
    }
   ],
   "source": [
    "print(7 + 4)"
   ]
  },
  {
   "cell_type": "markdown",
   "metadata": {},
   "source": [
    "This prints 11 on the screen. Click the triangle on the upper-left corner of the\n",
    "screen to run the code in the cell.\n",
    "\n",
    "> **Note**: If you are viewing this notebook as a static page you won't be able\n",
    "> to run the code. View the notebook in, for example, [Google\n",
    "> Colab](https://colab.research.google.com/) to run the code.\n",
    "\n",
    "Addition, subtraction, multiplication, division, and exponentiation (i.e.\n",
    "raising a number to a power) work as you'd expect:"
   ]
  },
  {
   "cell_type": "code",
   "execution_count": null,
   "metadata": {},
   "outputs": [
    {
     "name": "stdout",
     "output_type": "stream",
     "text": [
      "104\n",
      "200\n",
      "100\n",
      "5.0\n",
      "3.142857142857143\n",
      "16\n"
     ]
    }
   ],
   "source": [
    "print(4 + 100)  # 104\n",
    "print(250 - 50) # 200\n",
    "print(10 * 10)  # 100\n",
    "print(10 / 2)   # 5.0\n",
    "print(22 / 7)   # 3.142857142857143\n",
    "print(4 ** 2)   # 16 (** is exponentiation)"
   ]
  },
  {
   "cell_type": "markdown",
   "metadata": {},
   "source": [
    "## ints and floats"
   ]
  },
  {
   "cell_type": "markdown",
   "metadata": {},
   "source": [
    "Python distinguishes between *integers* and *floating point* numbers:\n",
    "\n",
    "- Python integers have the type `int`. For example, -5, 0, and 73 are all of\n",
    "  type `int`.\n",
    "- Python floating point numbers have the type `float`. For example, -5.0, 0.0,\n",
    "  73.0, and -3.1551 are all of type `float`.\n",
    "\n",
    "There are two different ways to divide integers in Python, depending on whether\n",
    "you want the result to be an `int` or a `float`.  `a / b` evaluates to a\n",
    "`float`, and `a // b` evaluates to an `int`:"
   ]
  },
  {
   "cell_type": "code",
   "execution_count": 9,
   "metadata": {},
   "outputs": [
    {
     "name": "stdout",
     "output_type": "stream",
     "text": [
      "0 /  3 = 0.0\n",
      "0 // 3 = 0\n",
      "\n",
      "1 /  3 = 0.3333333333333333\n",
      "1 // 3 = 0\n",
      "\n",
      "2 /  3 = 0.6666666666666666\n",
      "2 // 3 = 0\n",
      "\n",
      "3 /  2 = 1.5\n",
      "3 // 2 = 1\n",
      "\n",
      "4 /  3 = 1.3333333333333333\n",
      "4 // 3 = 1\n",
      "\n",
      "5 /  3 = 1.6666666666666667\n",
      "5 // 3 = 1\n"
     ]
    }
   ],
   "source": [
    "print(f'0 /  3 = {0 / 3}')   # 0.0\n",
    "print(f'0 // 3 = {0 // 3}')  # 0\n",
    "print()\n",
    "print(f'1 /  3 = {1 / 3}')   # 0.3333333333333333\n",
    "print(f'1 // 3 = {1 // 3}')  # 0\n",
    "print()\n",
    "print(f'2 /  3 = {2 / 3}')   # 0.6666666666666666\n",
    "print(f'2 // 3 = {2 // 3}')  # 0\n",
    "print()\n",
    "print(f'3 /  2 = {3 / 2}')   # 1.5\n",
    "print(f'3 // 2 = {3 // 2}')  # 1\n",
    "print()\n",
    "print(f'4 /  3 = {4 / 3}')   # 1.3333333333333333\n",
    "print(f'4 // 3 = {4 // 3}')  # 1\n",
    "print()\n",
    "print(f'5 /  3 = {5 / 3}')   # 1.6666666666666667\n",
    "print(f'5 // 3 = {5 // 3}')  # 1\n",
    "\n"
   ]
  },
  {
   "cell_type": "markdown",
   "metadata": {},
   "source": [
    "**Example** How many teams of size 7 can you make from 500 people? How many\n",
    "people are left over?"
   ]
  },
  {
   "cell_type": "code",
   "execution_count": null,
   "metadata": {},
   "outputs": [
    {
     "name": "stdout",
     "output_type": "stream",
     "text": [
      "71\n",
      "497\n"
     ]
    }
   ],
   "source": [
    "print(500 // 7)  # 71 teams\n",
    "\n",
    "print(71 * 7)    # 497, so 3 left over"
   ]
  },
  {
   "cell_type": "markdown",
   "metadata": {},
   "source": [
    "**Example**. What is $2^{1000}$?"
   ]
  },
  {
   "cell_type": "code",
   "execution_count": 1,
   "metadata": {},
   "outputs": [
    {
     "name": "stdout",
     "output_type": "stream",
     "text": [
      "10715086071862673209484250490600018105614048117055336074437503883703510511249361224931983788156958581275946729175531468251871452856923140435984577574698574803934567774824230985421074605062371141877954182153046474983581941267398767559165543946077062914571196477686542167660429831652624386837205668069376\n"
     ]
    }
   ],
   "source": [
    "print(2 ** 1000)"
   ]
  },
  {
   "cell_type": "markdown",
   "metadata": {},
   "source": [
    "## Expressions"
   ]
  },
  {
   "cell_type": "markdown",
   "metadata": {},
   "source": [
    "Expressions are combinations of numbers (and later variables) and operators:"
   ]
  },
  {
   "cell_type": "code",
   "execution_count": 15,
   "metadata": {},
   "outputs": [
    {
     "name": "stdout",
     "output_type": "stream",
     "text": [
      "4\n",
      "7\n",
      "10\n",
      "4.0\n",
      "3.5\n",
      "-9\n",
      "9\n"
     ]
    }
   ],
   "source": [
    "print(3 + 2 -1)          # 4\n",
    "print(3 + 2 * 2)         # 7 (not 10!)\n",
    "print((3 + 2) * 2)       # 10\n",
    "print(1 + 3 / 2 + 1.5)   # 4.0\n",
    "print((1 + 3) / 2 + 1.5) # 3.5\n",
    "print(-3**2)             # -9 (not 9!)\n",
    "print((-3)**2)           # 9"
   ]
  },
  {
   "cell_type": "markdown",
   "metadata": {},
   "source": [
    "In Python, the *precedence* of operators is the same as in math. For example,\n",
    "`*` is done before `+`, and `**` is done before `*`. So the expression `2 + 3 *\n",
    "4` means `2 + (3 * 4)`, which is 14.\n",
    "\n",
    "You can use ()-brackets to force a different order of evaluation, e.g. `(2 + 3)\n",
    "* 4` is 20."
   ]
  },
  {
   "cell_type": "code",
   "execution_count": 2,
   "metadata": {},
   "outputs": [
    {
     "name": "stdout",
     "output_type": "stream",
     "text": [
      "14\n",
      "14\n",
      "20\n"
     ]
    }
   ],
   "source": [
    "print(2 + 3 * 4)    # 14\n",
    "print(2 + (3 * 4))  # 14\n",
    "print((2 + 3) * 4)  # 20"
   ]
  },
  {
   "cell_type": "markdown",
   "metadata": {},
   "source": [
    "## Arithmetic Functions"
   ]
  },
  {
   "cell_type": "markdown",
   "metadata": {},
   "source": [
    "Python provides some useful arithmetic functions."
   ]
  },
  {
   "cell_type": "code",
   "execution_count": 16,
   "metadata": {},
   "outputs": [
    {
     "name": "stdout",
     "output_type": "stream",
     "text": [
      "abs(x) returns the absolute value of x\n",
      "5\n",
      "5\n",
      "1\n"
     ]
    }
   ],
   "source": [
    "print('abs(x) returns the absolute value of x')\n",
    "print(abs(-5))        # 5\n",
    "print(abs(5))         # 5\n",
    "print(abs(-(2 - 3)))  # 1"
   ]
  },
  {
   "cell_type": "code",
   "execution_count": 17,
   "metadata": {},
   "outputs": [
    {
     "name": "stdout",
     "output_type": "stream",
     "text": [
      "round(x) returns the nearest integer to x\n",
      "3\n",
      "4\n",
      "3\n"
     ]
    }
   ],
   "source": [
    "print('round(x) returns the nearest integer to x')\n",
    "print(round(3.14159))  # 3\n",
    "print(round(3.5))      # 4\n",
    "print(round(3.4999))   # 3"
   ]
  },
  {
   "cell_type": "markdown",
   "metadata": {},
   "source": [
    "## Syntax Errors"
   ]
  },
  {
   "cell_type": "markdown",
   "metadata": {},
   "source": [
    "**Syntax** means the grammar of a language. Python is a formal language with\n",
    "strict syntax rules. If you break them your program (usually) won't run. Here\n",
    "are some examples of Python **syntax errors**:\n",
    "\n",
    "- `print 5` \n",
    "  (missing parentheses)\n",
    "- `print)5(`(wrong parentheses)\n",
    "- `5 - + 3` (two operators in a row)\n",
    "- `5  3`    (no operator between two numbers)\n",
    "- `three`   (not a number)"
   ]
  },
  {
   "cell_type": "markdown",
   "metadata": {},
   "source": [
    "## Strings"
   ]
  },
  {
   "cell_type": "markdown",
   "metadata": {},
   "source": [
    "A **string** is a sequence of zero or more characters. \n",
    "\n",
    "You can create **string literal** using single-quotes, double-quotes, or\n",
    "triple-quotes:"
   ]
  },
  {
   "cell_type": "code",
   "execution_count": 1,
   "metadata": {},
   "outputs": [
    {
     "name": "stdout",
     "output_type": "stream",
     "text": [
      "Hello, world!\n",
      "What's up?\n",
      "I'm a lumberjack and I'm okay\n",
      "I sleep all night and I work all day\n",
      "\n",
      "\n",
      "\n"
     ]
    }
   ],
   "source": [
    "print('Hello, world!')\n",
    "print(\"What's up?\")\n",
    "print(\"\"\"I'm a lumberjack and I'm okay\"\"\")\n",
    "print('''I sleep all night and I work all day''')\n",
    "\n",
    "print('')      # empty string\n",
    "print(\"\")      # empty string\n",
    "print(\"\"\"\"\"\")  # empty string"
   ]
  },
  {
   "cell_type": "markdown",
   "metadata": {},
   "source": [
    "Some notes about quotes:\n",
    "\n",
    "- The quote-marks are *not* displayed when you print a string.\n",
    "- Triple-quotes can be used with multiple lines of text.\n",
    "- Single-quotes can be used inside double-quotes and vice versa, and both can be\n",
    "  used inside triple-quotes."
   ]
  },
  {
   "cell_type": "markdown",
   "metadata": {},
   "source": [
    "### String Concatenation\n",
    "\n",
    "Combining two strings by writing one after another is called **string\n",
    "concatenation**. In Python, concatenation is done using the `+` operator. "
   ]
  },
  {
   "cell_type": "code",
   "execution_count": 10,
   "metadata": {},
   "outputs": [
    {
     "name": "stdout",
     "output_type": "stream",
     "text": [
      "Hot dog!\n",
      "Once upon a time\n"
     ]
    }
   ],
   "source": [
    "print('Hot' + ' ' + 'dog' + '!')  # Hot dog!\n",
    "print('Once upon ' + \"a time\")    # Once upon a time"
   ]
  },
  {
   "cell_type": "markdown",
   "metadata": {},
   "source": [
    "The `*` operator repeats a string:"
   ]
  },
  {
   "cell_type": "code",
   "execution_count": 11,
   "metadata": {},
   "outputs": [
    {
     "name": "stdout",
     "output_type": "stream",
     "text": [
      "Ho! Ho! Ho! \n",
      "Ho! Ho! Ho! \n",
      "+-----+\n",
      "|     |\n",
      "+-----+\n"
     ]
    }
   ],
   "source": [
    "print('Ho! ' * 3)  # Ho! Ho! Ho!\n",
    "print(3 * 'Ho! ')  # Ho! Ho! Ho!\n",
    "\n",
    "# draw a box\n",
    "print('+' + 5 * '-' + '+')\n",
    "print('|' + ' ' * 5 + '|')\n",
    "print('+' + 5 * '-' + '+')"
   ]
  },
  {
   "cell_type": "markdown",
   "metadata": {},
   "source": [
    "### String Length"
   ]
  },
  {
   "cell_type": "markdown",
   "metadata": {},
   "source": [
    "The `len` function returns the number of characters in a string (not counting\n",
    "the quotes):"
   ]
  },
  {
   "cell_type": "code",
   "execution_count": 23,
   "metadata": {},
   "outputs": [
    {
     "name": "stdout",
     "output_type": "stream",
     "text": [
      "5\n",
      "0\n",
      "7\n",
      "17\n"
     ]
    }
   ],
   "source": [
    "print(len('hello'))                # 5\n",
    "print(len(''))                     # 0\n",
    "print(len('cat' + ' ' + 'dog'))    # 7\n",
    "print(len('cat' * 3 + 2 * 'fish')) # 17"
   ]
  },
  {
   "cell_type": "markdown",
   "metadata": {},
   "source": [
    "## Values and Types"
   ]
  },
  {
   "cell_type": "markdown",
   "metadata": {},
   "source": [
    "We've seen three **type** of values so far: `int`, `float`, and `str`. The\n",
    "`type` function tells you the type of a value:"
   ]
  },
  {
   "cell_type": "code",
   "execution_count": 26,
   "metadata": {},
   "outputs": [
    {
     "name": "stdout",
     "output_type": "stream",
     "text": [
      "<class 'int'>\n",
      "<class 'float'>\n",
      "<class 'str'>\n"
     ]
    }
   ],
   "source": [
    "print(type(7))    # <class 'int'>\n",
    "print(type(7.0))  # <class 'float'>\n",
    "print(type('7'))  # <class 'str'>"
   ]
  },
  {
   "cell_type": "markdown",
   "metadata": {},
   "source": [
    "In Python, **class** means the same thing as **type**.\n",
    "\n",
    "We can convert between types using the `int`, `float`, and `str` functions:"
   ]
  },
  {
   "cell_type": "code",
   "execution_count": 29,
   "metadata": {},
   "outputs": [
    {
     "name": "stdout",
     "output_type": "stream",
     "text": [
      "71.2\n",
      "7\n",
      "7\n",
      "7.0\n",
      "7.5\n"
     ]
    }
   ],
   "source": [
    "# str converts numbers to strings\n",
    "print(str(7) + str('1.2'))  # 71.2\n",
    "\n",
    "# int converts strings and floats to integers\n",
    "print(int('7'))  # 7\n",
    "print(int(7.5))  # 7\n",
    "\n",
    "# float converts strings and integers to floats\n",
    "print(float('7'))  # 7.0\n",
    "print(float(7.5))  # 7.5"
   ]
  },
  {
   "cell_type": "markdown",
   "metadata": {},
   "source": [
    "You can get a **type error** if you use the wrong type of value in an\n",
    "expression:"
   ]
  },
  {
   "cell_type": "code",
   "execution_count": 32,
   "metadata": {},
   "outputs": [
    {
     "ename": "TypeError",
     "evalue": "unsupported operand type(s) for +: 'int' and 'str'",
     "output_type": "error",
     "traceback": [
      "\u001b[0;31m---------------------------------------------------------------------------\u001b[0m",
      "\u001b[0;31mTypeError\u001b[0m                                 Traceback (most recent call last)",
      "\u001b[0;32m/tmp/ipykernel_3586/4212527750.py\u001b[0m in \u001b[0;36m<module>\u001b[0;34m\u001b[0m\n\u001b[1;32m      1\u001b[0m \u001b[0;31m# causes a TypeError: can't add a number and a string\u001b[0m\u001b[0;34m\u001b[0m\u001b[0;34m\u001b[0m\u001b[0;34m\u001b[0m\u001b[0m\n\u001b[0;32m----> 2\u001b[0;31m \u001b[0mprint\u001b[0m\u001b[0;34m(\u001b[0m\u001b[0;36m5\u001b[0m \u001b[0;34m+\u001b[0m \u001b[0;34m' boxes'\u001b[0m\u001b[0;34m)\u001b[0m\u001b[0;34m\u001b[0m\u001b[0;34m\u001b[0m\u001b[0m\n\u001b[0m\u001b[1;32m      3\u001b[0m \u001b[0;34m\u001b[0m\u001b[0m\n\u001b[1;32m      4\u001b[0m \u001b[0;31m# TypeError: can't subtract strings\u001b[0m\u001b[0;34m\u001b[0m\u001b[0;34m\u001b[0m\u001b[0;34m\u001b[0m\u001b[0m\n\u001b[1;32m      5\u001b[0m \u001b[0;31m# print('think' - 'ink')\u001b[0m\u001b[0;34m\u001b[0m\u001b[0;34m\u001b[0m\u001b[0;34m\u001b[0m\u001b[0m\n",
      "\u001b[0;31mTypeError\u001b[0m: unsupported operand type(s) for +: 'int' and 'str'"
     ]
    }
   ],
   "source": [
    "# causes a TypeError: can't add a number and a string\n",
    "print(5 + ' boxes')\n",
    "\n",
    "# TypeError: can't subtract strings\n",
    "# print('think' - 'ink')"
   ]
  },
  {
   "cell_type": "markdown",
   "metadata": {},
   "source": [
    "Python is usually okay if you mix `int` and `float` values in an expression:"
   ]
  },
  {
   "cell_type": "code",
   "execution_count": 33,
   "metadata": {},
   "outputs": [
    {
     "name": "stdout",
     "output_type": "stream",
     "text": [
      "7.1\n"
     ]
    }
   ],
   "source": [
    "# float + int = float\n",
    "print(2.1 + 5)  # 7.1"
   ]
  },
  {
   "cell_type": "markdown",
   "metadata": {},
   "source": [
    "## Formal and Natural Languages\n",
    "\n",
    "Programming languages are **formal languages**, while languages like English are\n",
    "**natural languages**. Natural languages have syntax (grammar) rules, but we can\n",
    "often understand natural language sentences with grammar errors. However, in\n",
    "formal languages (like Python), bad grammar usually results in programs that\n",
    "don't run."
   ]
  },
  {
   "cell_type": "markdown",
   "metadata": {},
   "source": [
    "## Example: Hello, World! in Different Languages"
   ]
  },
  {
   "cell_type": "markdown",
   "metadata": {},
   "source": [
    "## English\n",
    "\n",
    "Hello, world!"
   ]
  },
  {
   "cell_type": "markdown",
   "metadata": {},
   "source": [
    "## Chinook\n",
    "\n",
    "Wawa Klahowya Hayas Klaska!"
   ]
  },
  {
   "cell_type": "markdown",
   "metadata": {},
   "source": [
    "## Assembly Language\n",
    "\n",
    "**Assembly language** is the generic name for the lowest-level language that\n",
    "talks directly to a computers CPU and memory.\n",
    "\n",
    "This example is from\n",
    "[https://github.com/pablocorbalann](https://github.com/pablocorbalann):\n",
    "\n",
    "```\n",
    "section        .text                   ; declare the .text section\n",
    "global         _start                  ; has to be declared for the linker (ld)\n",
    "_start:                                ; entry point for _start\n",
    "    mov edx, len                       ; \"invoke\" the len of the message\n",
    "    mov ecx, msg                       ; \"invoke\" the message itself\n",
    "\n",
    "    mov ebx, 1                         ; set the file descriptor (fd) to stdout\n",
    "\n",
    "    mov eax, 4                         ; system call for \"write\"   \n",
    "    int 0x80                           ; call the kernel\n",
    "\n",
    "    mov eax, 1                         ; system call for \"exit\"\n",
    "    int 0x80                           ; call the kernel\n",
    "\n",
    "section        .data                   ; here you declare the data\n",
    "    msg        db \"Hello world!\"       ; the actual message to use\n",
    "    len        equ $ -msg              ; get the size of the message\n",
    "```"
   ]
  },
  {
   "cell_type": "markdown",
   "metadata": {},
   "source": [
    "## The C and C++ Programming Languages\n",
    "\n",
    "[C](https://en.wikipedia.org/wiki/C_(programming_language)) and\n",
    "[C++](https://en.wikipedia.org/wiki/C%2B%2B) are languages designed for writing\n",
    "programs where performance is paramount. They're often spoken of together since\n",
    "[C++](https://en.wikipedia.org/wiki/C%2B%2B) is essentially\n",
    "[C](https://en.wikipedia.org/wiki/C_(programming_language)) with some additional\n",
    "features. It's possible to ignore the extra features in\n",
    "[C++](https://en.wikipedia.org/wiki/C%2B%2B) and treat it as if it were\n",
    "[C](https://en.wikipedia.org/wiki/C_(programming_language)).\n",
    "\n",
    "A major difference between\n",
    "[Python](https://en.wikipedia.org/wiki/Python_(programming_language)) and\n",
    "[C](https://en.wikipedia.org/wiki/C_(programming_language)) and\n",
    "[C++](https://en.wikipedia.org/wiki/C%2B%2B) (and most other programming\n",
    "languages mentioned here!) is that\n",
    "[C](https://en.wikipedia.org/wiki/C_(programming_language)) and\n",
    "[C++](https://en.wikipedia.org/wiki/C%2B%2B) require **manual memory\n",
    "management**. In [C](https://en.wikipedia.org/wiki/C_(programming_language)) and\n",
    "[C++](https://en.wikipedia.org/wiki/C%2B%2B), the programmer must explicitly\n",
    "allocates and de-allocates memory. This gives precise control over the\n",
    "computer's memory, but it turns out to be surprisingly difficult to do\n",
    "correctly, and in practice is a major source of bugs.\n",
    "\n",
    "[Python](https://en.wikipedia.org/wiki/Python_(programming_language)), and most\n",
    "of the other languages mentioned here, instead provide **automatic memory\n",
    "management** using a technique called **garbage collection**. This means that\n",
    "the programmer does *not* explicitly allocate and de-allocate memory. There is a\n",
    "small price paid in performance for this convenience, but it prevents so many\n",
    "subtle bugs that it's worth it for most programs.\n",
    "\n",
    "```C\n",
    "#include <stdio.h>\n",
    "\n",
    "int main() \n",
    "{\n",
    "    printf(\"Hello, World!\\n\");\n",
    "    return 0;\n",
    "}\n",
    "```\n",
    "\n",
    "[C++](https://en.wikipedia.org/wiki/C%2B%2B) is a near superset of\n",
    "[C](https://en.wikipedia.org/wiki/C_(programming_language)), and so the\n",
    "[C](https://en.wikipedia.org/wiki/C_(programming_language)) code above is also\n",
    "valid [C++](https://en.wikipedia.org/wiki/C%2B%2B) code. But we can also write\n",
    "[C++](https://en.wikipedia.org/wiki/C%2B%2B) code that uses more features of\n",
    "[C++](https://en.wikipedia.org/wiki/C%2B%2B):\n",
    "\n",
    "```C++\n",
    "#include <iostream>\n",
    "\n",
    "using namespace std;\n",
    "\n",
    "int main() \n",
    "{\n",
    "    cout << \"Hello, World!\" << endl;\n",
    "    return 0;\n",
    "}\n",
    "```"
   ]
  },
  {
   "cell_type": "markdown",
   "metadata": {},
   "source": [
    "## Java\n",
    "\n",
    "Java is an **object-oriented** language, and all functions must be inside a\n",
    "class:\n",
    "\n",
    "```java\n",
    "public class HelloWorld {\n",
    "    public static void main(String[] args) {\n",
    "        System.out.println(\"Hello, World!\");\n",
    "    }\n",
    "}\n",
    "```\n",
    "\n",
    "The syntax of Java is similar to C and C++. Java emphasizes **object oriented\n",
    "programming**, and also has automatic memory management."
   ]
  },
  {
   "cell_type": "markdown",
   "metadata": {},
   "source": [
    "## Go\n",
    "\n",
    "[Go](https://go.dev/) is a language developed at Google that is often used for\n",
    "\"back-end\" website development and writing system software (such as command-line\n",
    "utilities). Among other languages, Go was inspired by Python and Java.\n",
    "\n",
    "```go\n",
    "package main\n",
    "\n",
    "import \"fmt\"\n",
    "\n",
    "func main() {\n",
    "    fmt.Println(\"Hello, World!\")\n",
    "}\n",
    "```"
   ]
  },
  {
   "cell_type": "markdown",
   "metadata": {},
   "source": [
    "## JavaScript\n",
    "\n",
    "[JavasScript](https://en.wikipedia.org/wiki/JavaScript) is the language of web\n",
    "browsers. If you want to run a program on a web page, it is almost always done\n",
    "using [JavaScript](https://en.wikipedia.org/wiki/JavaScript).\n",
    "\n",
    "```javascript\n",
    "console.log(\"Hello, World!\");\n",
    "```\n",
    "\n",
    "Despite having the \"Java\" in its name, JavaScript and Java are not that similar\n",
    "beyond some syntactic similarities. In many ways, JavaScript is closer to\n",
    "Python."
   ]
  },
  {
   "cell_type": "markdown",
   "metadata": {},
   "source": [
    "## Python\n",
    "\n",
    "```python\n",
    "print('Hello, World!')\n",
    "```"
   ]
  },
  {
   "cell_type": "code",
   "execution_count": 1,
   "metadata": {},
   "outputs": [
    {
     "name": "stdout",
     "output_type": "stream",
     "text": [
      "Hello, World!\n"
     ]
    }
   ],
   "source": [
    "print('Hello, World!')"
   ]
  },
  {
   "cell_type": "markdown",
   "metadata": {},
   "source": [
    "## Questions\n",
    "\n",
    "1. Where can you download Python? What is IDLE?\n",
    "\n",
    "2. Where can you view and run Python notebooks?\n",
    "\n",
    "3. What are the two different types of numbers in Python?\n",
    "\n",
    "4. Give an example of a single Python expression that contains an `int`, a\n",
    "   `float`, and a `str`.\n",
    "\n",
    "5. What is syntax? Give an example of a syntax error in Python.\n",
    "\n",
    "6. What does this print? Try to determine the answer before running it on the\n",
    "   computer.\n",
    "   \n",
    "   `print(2 * ('Hello' + 2 * '!'))`\n",
    "\n",
    "7. In English, explain what `abs(x)` and `round(x)` do.\n",
    "\n",
    "8. How do you get the type of a value in Python?\n",
    "\n",
    "9. Other than English and Python, give an example of a formal language and a\n",
    "   natural language.\n",
    "\n",
    "10. What are 3 high-level programming languages other than Python?\n",
    "\n",
    "11. What does it mean when we say that Python is a garbage-collected language?\n"
   ]
  }
 ],
 "metadata": {
  "colab": {
   "authorship_tag": "ABX9TyNDPRhikI2Q71waRP7/kTi/",
   "mount_file_id": "1RtZk2Rw4mNshgxrTBWTSrrRwywQ3Grx8",
   "provenance": []
  },
  "kernelspec": {
   "display_name": "base",
   "language": "python",
   "name": "python3"
  },
  "language_info": {
   "codemirror_mode": {
    "name": "ipython",
    "version": 3
   },
   "file_extension": ".py",
   "mimetype": "text/x-python",
   "name": "python",
   "nbconvert_exporter": "python",
   "pygments_lexer": "ipython3",
   "version": "3.12.7"
  }
 },
 "nbformat": 4,
 "nbformat_minor": 0
}
