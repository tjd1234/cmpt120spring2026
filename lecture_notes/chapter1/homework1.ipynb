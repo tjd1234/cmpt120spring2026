{
  "cells": [
    {
      "cell_type": "markdown",
      "metadata": {},
      "source": [
        "# Homework 1"
      ]
    },
    {
      "cell_type": "markdown",
      "metadata": {},
      "source": [
        "This is based on chapter 1 of the course notes, and covers a few topics not\n",
        "mentioned there.\n",
        "\n",
        "You can also do the exercises at the bottom on the textbook chapter."
      ]
    },
    {
      "cell_type": "markdown",
      "metadata": {},
      "source": [
        "## Escape Characters\n",
        "\n",
        "In a string, a '`\\`' indicates an **escape character**, which means that the\n",
        "next character is special in some way. For example, `'\\n` is the escape\n",
        "character called **newline**. It represents a command to send the cursor to the\n",
        "next line. For example:"
      ]
    },
    {
      "cell_type": "code",
      "execution_count": 5,
      "metadata": {},
      "outputs": [
        {
          "name": "stdout",
          "output_type": "stream",
          "text": [
            "one\n",
            "two\n",
            "\n",
            "three!\n",
            "\n",
            "*****\n",
            "*****\n",
            "*****\n",
            "*****\n",
            "\n"
          ]
        }
      ],
      "source": [
        "print('one\\ntwo\\n\\nthree!')\n",
        "print()\n",
        "print(4 * (5 * '*' + '\\n'))"
      ]
    },
    {
      "cell_type": "markdown",
      "metadata": {},
      "source": [
        "To print a `\\` character, you need to use `\\\\`:"
      ]
    },
    {
      "cell_type": "code",
      "execution_count": 6,
      "metadata": {},
      "outputs": [
        {
          "name": "stdout",
          "output_type": "stream",
          "text": [
            "\\n is newline\n"
          ]
        }
      ],
      "source": [
        "print('\\\\n is newline')"
      ]
    },
    {
      "cell_type": "markdown",
      "metadata": {},
      "source": [
        "You can use `\\'` and `\\\"` to print single and double quotes:"
      ]
    },
    {
      "cell_type": "code",
      "execution_count": 7,
      "metadata": {},
      "outputs": [
        {
          "name": "stdout",
          "output_type": "stream",
          "text": [
            "It's \"par tea time!\"\n"
          ]
        }
      ],
      "source": [
        "print('It\\'s \\\"par tea time!\\\"')"
      ]
    },
    {
      "cell_type": "markdown",
      "metadata": {},
      "source": [
        "Be careful when calculating the length of a string that contains escape\n",
        "characters. The length of the string `'\\n'` is 1, not 2:"
      ]
    },
    {
      "cell_type": "code",
      "execution_count": 8,
      "metadata": {},
      "outputs": [
        {
          "name": "stdout",
          "output_type": "stream",
          "text": [
            "3\n"
          ]
        }
      ],
      "source": [
        "print(len('\\n\\n\\n'))"
      ]
    },
    {
      "cell_type": "markdown",
      "metadata": {},
      "source": [
        "Here are the most common escape characters in Python strings:\n",
        "\n",
        "|    |   **name**   |                                     **common use**                                    | **example**                            |\n",
        "|:--:|:------------:|:-------------------------------------------------------------------------------------:|----------------------------------------|\n",
        "| \\n |    newline   | blank line                                                                            | >>> print('a\\nb')<br>a<br>b            |\n",
        "| \\t |      tab     | fixed-width space, for formatting;<br>width of a tab is **not** defined by <br>Python | print('\\thello!')<br>    hello!    |\n",
        "| \\\\\\ |   backslash  | \\ as a literal character                                                              | print('root\\\\\\\\users')<br>root\\users |\n",
        "| \\\\' | single quote | ' as a literal character                                                           | print('\\\\'-quote')<br>'-quote       |\n",
        "| \\\\\" | double quote | \" as a literal character                                                           | print(\"\\\\\"-quote\")<br>\"-quote       |"
      ]
    },
    {
      "cell_type": "markdown",
      "metadata": {},
      "source": [
        "## Whitespace\n",
        "\n",
        "A **whitespace** character is a space `' '`, tab `\\t`, or newline `\\n`, i.e.\n",
        "characters that don't print anything, and so look like white spaces on paper.\n",
        "**Whitespace** refers to a string of whitespace characters.\n",
        "\n",
        "For example, the string `'  \\t\\n'` contains three whitespace characters has\n",
        "length 3. If you print it, you will see nothing:"
      ]
    },
    {
      "cell_type": "code",
      "execution_count": 17,
      "metadata": {},
      "outputs": [
        {
          "name": "stdout",
          "output_type": "stream",
          "text": [
            "4\n",
            "  \t\n",
            "\n",
            "the space above this is three whitespace characters\n"
          ]
        }
      ],
      "source": [
        "print(len('  \\t\\n'))  # 3\n",
        "print('  \\t\\n')\n",
        "print('the space above this was made by three whitespace characters')"
      ]
    },
    {
      "cell_type": "markdown",
      "metadata": {},
      "source": [
        "## Preventing newline at the end of a print statement"
      ]
    },
    {
      "cell_type": "markdown",
      "metadata": {},
      "source": [
        "`print` automatically adds a newline character at the end of the output. If you\n",
        "don't want this to happen, you can use the `end` parameter:"
      ]
    },
    {
      "cell_type": "code",
      "execution_count": 10,
      "metadata": {},
      "outputs": [
        {
          "name": "stdout",
          "output_type": "stream",
          "text": [
            "line 1 line 2 line 3\n",
            "line 4\n"
          ]
        }
      ],
      "source": [
        "print('line 1 ', end='')\n",
        "print('line 2 ', end='')\n",
        "print('line 3')\n",
        "print('line 4')"
      ]
    },
    {
      "cell_type": "markdown",
      "metadata": {},
      "source": [
        "## Practice Question 1"
      ]
    },
    {
      "cell_type": "markdown",
      "metadata": {},
      "source": [
        "Write a single Python `print` statement that prints exactly this on the screen:\n",
        "\n",
        "```\n",
        "\\n \\t \\\\ \\' \\\" are escape characters\n",
        "```"
      ]
    },
    {
      "cell_type": "markdown",
      "metadata": {},
      "source": [
        "## Practice Question 2\n",
        "\n",
        "Use one or more print statements to print this:\n",
        "\n",
        "```\n",
        "\\    /\n",
        " \\  /\n",
        "  \\/\n",
        "  /\\\n",
        " /  \\\n",
        "/    \\\n",
        "```\n",
        "\n",
        "Try to do it with as few print statements as possible."
      ]
    },
    {
      "cell_type": "code",
      "execution_count": null,
      "metadata": {},
      "outputs": [],
      "source": [
        "print('\\\\    /')\n",
        "print(' \\\\  /')\n",
        "print('  \\\\/')\n",
        "print('  /\\\\')\n",
        "print(' /  \\\\')\n",
        "print('/    \\\\')"
      ]
    },
    {
      "cell_type": "markdown",
      "metadata": {},
      "source": [
        "Here's how to do it with a single print statement:"
      ]
    }
  ],
  "metadata": {
    "kernelspec": {
      "display_name": "Python 3",
      "language": "python",
      "name": "python3"
    },
    "language_info": {
      "codemirror_mode": {
        "name": "ipython",
        "version": 3
      },
      "file_extension": ".py",
      "mimetype": "text/x-python",
      "name": "python",
      "nbconvert_exporter": "python",
      "pygments_lexer": "ipython3",
      "version": "3.8.10"
    }
  },
  "nbformat": 4,
  "nbformat_minor": 2
}
