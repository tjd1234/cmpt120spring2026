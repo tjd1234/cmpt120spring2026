{
  "cells": [
    {
      "cell_type": "markdown",
      "metadata": {},
      "source": [
        "# Homework 5"
      ]
    },
    {
      "cell_type": "markdown",
      "metadata": {},
      "source": [
        "This is based on chapter 5 of the course notes, and may introduce a few topics\n",
        "not mentioned there.\n",
        "\n",
        "You can also do the exercises at the bottom of the textbook chapter."
      ]
    },
    {
      "cell_type": "markdown",
      "metadata": {},
      "source": [
        "## Practice Question 1"
      ]
    },
    {
      "cell_type": "markdown",
      "metadata": {},
      "source": [
        "Imagine you are organizing a large group activity, and you want to split them\n",
        "into equal-sized groups of a given size.\n",
        "\n",
        "Write a program that asks the user to enter the total number of people,  and the\n",
        "size of the group, and then prints out how many groups there will be, and how\n",
        "many people will be left over (if any).\n",
        "\n",
        "For example:\n",
        "\n",
        "```\n",
        "How many people are there in total? 100\n",
        "What is the group size? 13\n",
        "\n",
        "To put 100 people into groups of size 13, make:\n",
        "- 7 groups of 13\n",
        "- 1 group of 9\n",
        "```\n",
        "\n",
        "If there are exactly enough people to make complete groups, the program should\n",
        "only print the number of groups:\n",
        "\n",
        "```\n",
        "How many people are there in total? 100\n",
        "What is the group size? 13\n",
        "\n",
        "To put 100 people into groups of size 4, make:\n",
        "- 25 groups of 4\n",
        "```\n",
        "\n",
        "Make the output at least as informative and neatly formatted as the examples."
      ]
    },
    {
      "cell_type": "markdown",
      "metadata": {},
      "source": [
        "## Practice Question 2\n",
        "\n",
        "The [Saffir-Simpson hurricane\n",
        "scale](https://en.wikipedia.org/wiki/Saffir%E2%80%93Simpson_scale) ranks the\n",
        "severity of hurricanes based on their wind speed. The scale ranges from 1 to 5\n",
        "(most severe):\n",
        "\n",
        "- Category 1 hurricane: wind speed 119 to less than 154 km/h\n",
        "- Category 2 hurricane: wind speed 154 to less than 178 km/h\n",
        "- Category 3 hurricane: wind speed 178 to less than 209 km/h\n",
        "- Category 4 hurricane: wind speed 209 to less than 252 km/h\n",
        "- Category 5 hurricane: wind speed 252 km/h or more\n",
        "\n",
        "A wind speed of less than 119 km/h is not considered a hurricane. Categories 3,\n",
        "4, and 5 are considered \"major\" hurricanes.\n",
        "\n",
        "Write a program that asks the user for the wind speed of a hurricane, and prints\n",
        "which category it is (or that it's not a hurricane), and if it's major.\n",
        "\n",
        "For example:\n",
        "\n",
        "```\n",
        "Wind speed in km/h? 201.5\n",
        "\n",
        "A hurricane with wind speed 201.5 km/h is a Category 3 hurricane.\n",
        "It is a major hurricane.\n",
        "```\n",
        "\n",
        "Or:\n",
        "```\n",
        "Wind speed in km/h? 245\n",
        "\n",
        "A hurricane with wind speed 145 km/h is a Category 1 hurricane.\n",
        "It is not a major hurricane.\n",
        "```\n",
        "\n",
        "Or:\n",
        "```\n",
        "Wind speed in km/h? 75\n",
        "\n",
        "A wind speed of 75 km/h is not a hurricane.\n",
        "```"
      ]
    },
    {
      "cell_type": "markdown",
      "metadata": {},
      "source": [
        "## Practice Question 3"
      ]
    },
    {
      "cell_type": "markdown",
      "metadata": {},
      "source": [
        "Write a *recursive* function called `countup(n)` that prints the integers 1 to\n",
        "`n`, and then prints *Kaboom!*.\n",
        "\n",
        "Do not use any loops in your solution.\n",
        "\n",
        "For example, calling `countup(5)` prints:\n",
        "\n",
        "```\n",
        "1\n",
        "2\n",
        "3\n",
        "4\n",
        "5\n",
        "Kaboom!\n",
        "```\n",
        "\n",
        "**Hint** You can write more than one function."
      ]
    }
  ],
  "metadata": {
    "kernelspec": {
      "display_name": "Python 3",
      "language": "python",
      "name": "python3"
    },
    "language_info": {
      "codemirror_mode": {
        "name": "ipython",
        "version": 3
      },
      "file_extension": ".py",
      "mimetype": "text/x-python",
      "name": "python",
      "nbconvert_exporter": "python",
      "pygments_lexer": "ipython3",
      "version": "3.8.10"
    }
  },
  "nbformat": 4,
  "nbformat_minor": 2
}
