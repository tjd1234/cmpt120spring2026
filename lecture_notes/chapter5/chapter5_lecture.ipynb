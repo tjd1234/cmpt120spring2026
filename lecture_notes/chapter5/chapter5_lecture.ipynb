{
 "cells": [
  {
   "cell_type": "markdown",
   "metadata": {
    "id": "cjsmyWXsNrEg"
   },
   "source": [
    "# Chapter 5 Lecture Notes\n",
    "\n",
    "Please read chapter 5 of the textbook.\n",
    "\n",
    "These notes take 1 - 3 lecture hours to cover."
   ]
  },
  {
   "cell_type": "markdown",
   "metadata": {},
   "source": [
    "## The Modulus (Remainder) Operator"
   ]
  },
  {
   "cell_type": "markdown",
   "metadata": {},
   "source": [
    "Recall that `//` is integer division, e.g.:"
   ]
  },
  {
   "cell_type": "code",
   "execution_count": 1,
   "metadata": {},
   "outputs": [
    {
     "name": "stdout",
     "output_type": "stream",
     "text": [
      "3\n",
      "2\n"
     ]
    }
   ],
   "source": [
    "print(15 // 5)  # 3\n",
    "print(15 // 6)  # 2"
   ]
  },
  {
   "cell_type": "markdown",
   "metadata": {},
   "source": [
    "When ``15 // 6`` is evaluates, the result is 2. That's because 6 goes into 15 2\n",
    "times, with 3 left over.\n",
    "\n",
    "The modulus operator, `%`, gives the \"left over\" part of integer division. We\n",
    "call this the **remainder**. For example:"
   ]
  },
  {
   "cell_type": "code",
   "execution_count": 2,
   "metadata": {},
   "outputs": [
    {
     "name": "stdout",
     "output_type": "stream",
     "text": [
      "3\n"
     ]
    }
   ],
   "source": [
    "print(15 % 6)  # 3"
   ]
  },
  {
   "cell_type": "markdown",
   "metadata": {},
   "source": [
    "``15 % 6`` evaluates to 3 because 6 goes into 15 2 times, with a remainder of 3."
   ]
  },
  {
   "cell_type": "markdown",
   "metadata": {},
   "source": [
    "**Example** You can use `%` to test if a non-negative integer `n` is even or\n",
    "odd. If `n % 2` is 0, then `n` is even. If `n % 2` is 1, then `n` is odd."
   ]
  },
  {
   "cell_type": "code",
   "execution_count": 4,
   "metadata": {},
   "outputs": [
    {
     "name": "stdout",
     "output_type": "stream",
     "text": [
      "0\n",
      "0\n",
      "1\n",
      "0\n",
      "1\n",
      "0\n",
      "1\n"
     ]
    }
   ],
   "source": [
    "print(0 % 2)  # 0\n",
    "print(1 % 2)  # 1\n",
    "print(2 % 2)  # 0\n",
    "print(3 % 2)  # 1\n",
    "print(4 % 2)  # 0\n",
    "print(5 % 2)  # 1"
   ]
  },
  {
   "cell_type": "markdown",
   "metadata": {},
   "source": [
    "**Example** More generally, you can use `%` to test if an integer `n` is evenly\n",
    "divisible by some other integer `d`. If `n % d` is 0, then `n` is divisible by\n",
    "`d`, i.e. `d` is a factor of `n`. For instance:"
   ]
  },
  {
   "cell_type": "code",
   "execution_count": 10,
   "metadata": {},
   "outputs": [
    {
     "name": "stdout",
     "output_type": "stream",
     "text": [
      "1\n",
      "5\n",
      "0\n",
      "0\n",
      "0\n",
      "0\n",
      "71\n"
     ]
    }
   ],
   "source": [
    "print(1001 % 5)   # 1, so 1001 is NOT divisible by 5\n",
    "print(1001 % 6)   # 5, so 1001 is NOT divisible by 6\n",
    "print(1001 % 7)   # 0, so 1001 IS divisible by 7\n",
    "print(1001 % 11)  # 0, so 1001 IS divisible by 11\n",
    "print(1001 % 13)  # 0, so 1001 IS divisible by 13\n",
    "print(1001 % 91)  # 0, so 1001 IS divisible by 91\n",
    "print(1001 % 93)  # 71, so 1001 is NOT divisible by 91"
   ]
  },
  {
   "cell_type": "markdown",
   "metadata": {},
   "source": [
    "**Example** You can use `%` to extract the last digit of an integer `n`. If `n`\n",
    "is non-negative, then `n % 10` is the last digit of `n`. For example:"
   ]
  },
  {
   "cell_type": "code",
   "execution_count": 12,
   "metadata": {},
   "outputs": [
    {
     "name": "stdout",
     "output_type": "stream",
     "text": [
      "0\n",
      "1\n",
      "2\n",
      "3\n",
      "4\n",
      "5\n"
     ]
    }
   ],
   "source": [
    "print(3880 % 10)   # 1\n",
    "print(3881 % 10)   # 1\n",
    "print(3882 % 10)   # 2\n",
    "print(3883 % 10)   # 3\n",
    "print(3884 % 10)   # 4\n",
    "print(3885 % 10)   # 5"
   ]
  },
  {
   "cell_type": "markdown",
   "metadata": {},
   "source": [
    "## Boolean Expressions"
   ]
  },
  {
   "cell_type": "markdown",
   "metadata": {},
   "source": [
    "A **boolean expression** is any expression that evaluates to either `True` or\n",
    "`False`. The type of a boolean expression is `bool`:"
   ]
  },
  {
   "cell_type": "code",
   "execution_count": 14,
   "metadata": {},
   "outputs": [
    {
     "name": "stdout",
     "output_type": "stream",
     "text": [
      "<class 'bool'>\n",
      "<class 'bool'>\n"
     ]
    }
   ],
   "source": [
    "print(type(True))   # <class 'bool'>\n",
    "print(type(False))  # <class 'bool'>"
   ]
  },
  {
   "cell_type": "markdown",
   "metadata": {},
   "source": [
    "**Example** `True` itself is a boolean expression, because it evaluates to\n",
    "`True`. Similarly, `False` is also a boolean expression."
   ]
  },
  {
   "cell_type": "markdown",
   "metadata": {},
   "source": [
    "### Relational Operators: equality and inequality"
   ]
  },
  {
   "cell_type": "markdown",
   "metadata": {},
   "source": [
    "The `==` operator means \"equal to\" and is used to compare two values. If the\n",
    "values are equal, then it evaluates to `True`. Otherwise, it evaluates to\n",
    "`False`. For example:"
   ]
  },
  {
   "cell_type": "code",
   "execution_count": 13,
   "metadata": {},
   "outputs": [
    {
     "name": "stdout",
     "output_type": "stream",
     "text": [
      "True\n",
      "False\n",
      "True\n",
      "True\n",
      "False\n",
      "False\n"
     ]
    }
   ],
   "source": [
    "print(5 == 5)          # True\n",
    "print(5 == 6)          # False\n",
    "print((2 + 3) == 5)    # True\n",
    "\n",
    "print('cat' == 'cat')  # True\n",
    "print('cat' == 'dog')  # False\n",
    "print('cat' == 'Cat')  # False, case-sensitive"
   ]
  },
  {
   "cell_type": "markdown",
   "metadata": {},
   "source": [
    "A common mistake is to confuse `==` with `=`. `=` is the **assignment\n",
    "operator**, and `==` is the **equality operator**. `=` changes the value of a\n",
    "variable, while `==` compares two values and returns a boolean:"
   ]
  },
  {
   "cell_type": "code",
   "execution_count": 32,
   "metadata": {},
   "outputs": [
    {
     "name": "stdout",
     "output_type": "stream",
     "text": [
      "6 6\n"
     ]
    }
   ],
   "source": [
    "a = 5        # creates a and sets it to 5\n",
    "b = 6        # creates b and sets it to 6\n",
    " \n",
    "a == b       # False, doesn't change a\n",
    "\n",
    "a = b        # sets a to b, so a is now 6\n",
    "\n",
    "print(a, b)  # 6 6"
   ]
  },
  {
   "cell_type": "markdown",
   "metadata": {},
   "source": [
    "The `!=` operator means \"not equal\" and evaluates to the opposite of `==`. i.e.\n",
    "`!=` evaluates to `True` if the values are *not* equal, and `False` if they are\n",
    "equal. For example:"
   ]
  },
  {
   "cell_type": "code",
   "execution_count": 15,
   "metadata": {},
   "outputs": [
    {
     "name": "stdout",
     "output_type": "stream",
     "text": [
      "False\n",
      "True\n",
      "False\n",
      "False\n",
      "True\n",
      "True\n"
     ]
    }
   ],
   "source": [
    "print(5 != 5)          # True\n",
    "print(5 != 6)          # False\n",
    "print((2 + 3) != 5)    # True\n",
    "\n",
    "print('cat' != 'cat')  # True\n",
    "print('cat' != 'dog')  # False\n",
    "print('cat' != 'Cat')  # False, case-sensitive"
   ]
  },
  {
   "cell_type": "markdown",
   "metadata": {},
   "source": [
    "### Relational Operators: less than and greater than"
   ]
  },
  {
   "cell_type": "markdown",
   "metadata": {},
   "source": [
    "The operator `<` means \"less than\", and `<=` means \"less than or equal to\". For\n",
    "example:"
   ]
  },
  {
   "cell_type": "code",
   "execution_count": 16,
   "metadata": {},
   "outputs": [
    {
     "name": "stdout",
     "output_type": "stream",
     "text": [
      "True\n",
      "False\n",
      "False\n",
      "True\n",
      "False\n",
      "True\n"
     ]
    }
   ],
   "source": [
    "print(4 < 7)   # True\n",
    "print(7 < 4)   # False\n",
    "print(4 < 4)   # False\n",
    "\n",
    "print(4 <= 7)  # True\n",
    "print(7 <= 4)  # False\n",
    "print(4 <= 4)  # True"
   ]
  },
  {
   "cell_type": "markdown",
   "metadata": {},
   "source": [
    "Similarly, `>` means \"greater than\", and `>=` means \"greater than or equal to\".\n",
    "For instance:"
   ]
  },
  {
   "cell_type": "code",
   "execution_count": 17,
   "metadata": {},
   "outputs": [
    {
     "name": "stdout",
     "output_type": "stream",
     "text": [
      "False\n",
      "True\n",
      "False\n",
      "False\n",
      "True\n",
      "True\n"
     ]
    }
   ],
   "source": [
    "print(4 > 7)   # True\n",
    "print(7 > 4)   # False\n",
    "print(4 > 4)   # False\n",
    "\n",
    "print(4 >= 7)  # True\n",
    "print(7 >= 4)  # False\n",
    "print(4 >= 4)  # True"
   ]
  },
  {
   "cell_type": "markdown",
   "metadata": {},
   "source": [
    "You can also chain relational operators together. For example:"
   ]
  },
  {
   "cell_type": "code",
   "execution_count": 2,
   "metadata": {},
   "outputs": [
    {
     "name": "stdout",
     "output_type": "stream",
     "text": [
      "True\n",
      "False\n",
      "False\n",
      "True\n"
     ]
    }
   ],
   "source": [
    "print(5 < 6 < 7)    # True\n",
    "print(5 < 6 < 6)    # False\n",
    "print(5 < 5 < 6)    # False\n",
    "print(5 <= 5 <= 6)  # True"
   ]
  },
  {
   "cell_type": "markdown",
   "metadata": {},
   "source": [
    "### Logical Operators"
   ]
  },
  {
   "cell_type": "markdown",
   "metadata": {},
   "source": [
    "You can combine boolean expressions using **logical operators**. The three most\n",
    "used ones are `and`, `or`, and `not`. If `a` and `b` are both boolean\n",
    "expressions, then the following are also boolean expressions:\n",
    "\n",
    "- `a and b`: Evaluates to `True` if *both* `a` and `b` evaluate to `True`.\n",
    "  Otherwise, it evaluates to `False`.\n",
    "- `a or b`: Evaluates to `True` if *one of*, or *both of*, `a` and `b` are\n",
    "  evaluate to `True`. Otherwise, it evaluates to `False`.\n",
    "- `not a`: Evaluates to the *opposite* of `a`. `not a` is `True` if `a`\n",
    "  evaluates to `False`, and `False` if `a` evaluates to `True`."
   ]
  },
  {
   "cell_type": "markdown",
   "metadata": {},
   "source": [
    "The exact meaning of `and`, `or`, and `not` can be summarized in **truth tables**.\n",
    "\n",
    "Here's the truth table for `and`:\n",
    "\n",
    "| `a`      | `b`      | `a and b` |\n",
    "|----------|----------|-----------|\n",
    "| `True`   | `True`   | `True`    |\n",
    "| `True`   | `False`  | `False`   |\n",
    "| `False`  | `True`   | `False`   |\n",
    "| `False`  | `False`  | `False`   |\n",
    "\n",
    "For example, to evaluate `True and False`, we look at the row where `a` is\n",
    "`True` and `b` is `False`, and see that the  value in the the `a and b` column\n",
    "is `False`.\n",
    "\n",
    "Here's the truth table for `or`. Note that the only time `a or b` evaluates to\n",
    "`False` is when *both* `a` and `b` are `False`:\n",
    "\n",
    "| `a`      | `b`      | `a or b`  |\n",
    "|----------|----------|-----------|\n",
    "| `True`   | `True`   | `True`    |\n",
    "| `True`   | `False`  | `True`    |\n",
    "| `False`  | `True`   | `True`    |\n",
    "| `False`  | `False`  | `False`   |\n",
    "\n",
    "Finally, here's the truth table for `not`:\n",
    "\n",
    "| `a`      | `not a`  |\n",
    "|----------|----------|\n",
    "| `True`   | `False`  |\n",
    "| `False`  | `True`   |\n",
    "\n",
    "You can think of `not` as \"flipping\" the value of `a`."
   ]
  },
  {
   "cell_type": "markdown",
   "metadata": {},
   "source": [
    "## Conditionals: if, else, and elif"
   ]
  },
  {
   "cell_type": "markdown",
   "metadata": {},
   "source": [
    "A **conditional statement** is a block of code that only runs if a certain\n",
    "boolean expression is `True`. Conditional statements are how Python makes\n",
    "decisions."
   ]
  },
  {
   "cell_type": "markdown",
   "metadata": {},
   "source": [
    "### If-statements"
   ]
  },
  {
   "cell_type": "markdown",
   "metadata": {},
   "source": [
    "The simplest form of a conditional statement is an `if` statement. This code\n",
    "prints `x is positive` just when the value of `x` is positive:"
   ]
  },
  {
   "cell_type": "code",
   "execution_count": 19,
   "metadata": {},
   "outputs": [
    {
     "name": "stdout",
     "output_type": "stream",
     "text": [
      "x is positive\n"
     ]
    }
   ],
   "source": [
    "x = 2   # try changing x to -2, 0, or 2\n",
    "\n",
    "if x > 0:\n",
    "    print(\"x is positive\")"
   ]
  },
  {
   "cell_type": "markdown",
   "metadata": {},
   "source": [
    "Note:\n",
    "\n",
    "- It starts with the `if` keyword. Case matters, e.g. `If` or `IF` is incorrect.\n",
    "- After `if`, there is a boolean expression. We call this expression the\n",
    "  **condition** of the `if` statement. For example, `x > 0` is the condition in\n",
    "  the example above.\n",
    "- After the boolean expression is a colon `:`.\n",
    "\n",
    "The code from `if` to `:` is sometimes called the **header** of the `if`\n",
    "statement. \n",
    "\n",
    "The indented code block under the header is called the **body** of the `if`\n",
    "statement. In the example above, the body has only one statement, namely\n",
    "`print(\"x is positive\")`. In general, the body can have any number of\n",
    "statements. If you want a body that does *nothing*, then use `pass`:"
   ]
  },
  {
   "cell_type": "code",
   "execution_count": 20,
   "metadata": {},
   "outputs": [],
   "source": [
    "x = 2   # try changing x to -2, 0, or 2\n",
    "\n",
    "if x > 0:\n",
    "    pass  # does nothing"
   ]
  },
  {
   "cell_type": "markdown",
   "metadata": {},
   "source": [
    "### If-else statements"
   ]
  },
  {
   "cell_type": "markdown",
   "metadata": {},
   "source": [
    "An if-statement can, optionally, have an else-clause:"
   ]
  },
  {
   "cell_type": "code",
   "execution_count": 21,
   "metadata": {},
   "outputs": [
    {
     "name": "stdout",
     "output_type": "stream",
     "text": [
      "x is even\n"
     ]
    }
   ],
   "source": [
    "x = 8   # try changing x to 7\n",
    "\n",
    "if x % 2 == 0:\n",
    "    print(\"x is even\")\n",
    "else:\n",
    "    print(\"x is not odd\")"
   ]
  },
  {
   "cell_type": "markdown",
   "metadata": {},
   "source": [
    "This prints `x is even` when `x` is greater than 0, and `x is odd` otherwise,\n",
    "i.e. when `x` is less than or equal to 0.\n",
    "\n",
    "An else-clause begins with the `else` keyword followed immediately by a colon\n",
    "`:`. There is never any condition in an else-clause.\n",
    "\n",
    "The `else` keyword is always at the same indentation level as the `if` keyword\n",
    "above it. The body of the else clause should be indented to the same level as\n",
    "the body of the `if` statement."
   ]
  },
  {
   "cell_type": "markdown",
   "metadata": {},
   "source": [
    "### If-elif-else Statements\n",
    "\n",
    "Use `elif` if you want to test more than one conditional:"
   ]
  },
  {
   "cell_type": "code",
   "execution_count": 22,
   "metadata": {},
   "outputs": [
    {
     "name": "stdout",
     "output_type": "stream",
     "text": [
      "x is less than y\n"
     ]
    }
   ],
   "source": [
    "x = 4  # try changing x to 5 or 7\n",
    "y = 5\n",
    "\n",
    "if x < y:\n",
    "    print('x is less than y')\n",
    "elif x > y:\n",
    "    print('x is greater than y')\n",
    "else:\n",
    "    print('x and y are equal')"
   ]
  },
  {
   "cell_type": "markdown",
   "metadata": {},
   "source": [
    "The `elif` keyword is short for \"else if\". When used, it should line up exactly\n",
    "with the `if` keyword above it. Then there should be a boolean expression after\n",
    "it, followed by a colon `:`. The body of the `elif` statement should be indented\n",
    "to the same level as the body of the `if` statement.\n",
    "\n",
    "It's important to understand the order of execution of an `if-elif-else`\n",
    "structure. The conditions are checked in the order they occur: first the `if`,\n",
    "then the `elif` condition. When a condition evaluates to `True`, it's body is\n",
    "then executed. After it finishes, the entire `if-elif-else` structure is done,\n",
    "and no more conditions are evaluated. The program \"jumps\" out of the entire\n",
    "if-elif-else structure to any code that follows.\n",
    "\n",
    "The `else` clause is optional. If it's there, then it will be executed just in\n",
    "the case when all the conditionals above it are `False`."
   ]
  },
  {
   "cell_type": "markdown",
   "metadata": {},
   "source": [
    "### Logical Operators in Conditionals\n",
    "\n",
    "**Example**"
   ]
  },
  {
   "cell_type": "code",
   "execution_count": 24,
   "metadata": {},
   "outputs": [
    {
     "name": "stdout",
     "output_type": "stream",
     "text": [
      "x is 1 or y is 2\n"
     ]
    }
   ],
   "source": [
    "x = 1  # try changing these\n",
    "y = 2  # values\n",
    "\n",
    "if x == 1 or y == 2:\n",
    "    print('x is 1 or y is 2')\n",
    "elif x == y:\n",
    "    print('x and y are the same')\n",
    "else:\n",
    "    print('neither')"
   ]
  },
  {
   "cell_type": "markdown",
   "metadata": {},
   "source": [
    "**Example**"
   ]
  },
  {
   "cell_type": "code",
   "execution_count": 25,
   "metadata": {},
   "outputs": [
    {
     "name": "stdout",
     "output_type": "stream",
     "text": [
      "x and y are different parity\n"
     ]
    }
   ],
   "source": [
    "x = 1  # try changing these\n",
    "y = 2  # values\n",
    "\n",
    "if x % 2 == 0 and y % 2 == 0:\n",
    "    print('x and y are both even')\n",
    "elif x % 2 == 1 and y % 2 == 1:\n",
    "    print('x and y are both odd')\n",
    "else:\n",
    "    print('x and y are different parity')"
   ]
  },
  {
   "cell_type": "markdown",
   "metadata": {},
   "source": [
    "### Nested Conditionals\n",
    "\n",
    "You can put `if` statements inside `if` statements. This is called **nesting**.\n",
    "For instance:"
   ]
  },
  {
   "cell_type": "code",
   "execution_count": 23,
   "metadata": {},
   "outputs": [
    {
     "name": "stdout",
     "output_type": "stream",
     "text": [
      "x is less than y\n"
     ]
    }
   ],
   "source": [
    "x = 4  # try changing x to 5 or 7\n",
    "y = 5\n",
    "\n",
    "if x == y:\n",
    "    print('x and y are equal')\n",
    "else:\n",
    "    if x < y:\n",
    "        print('x is less than y')\n",
    "    else:\n",
    "        print('x is greater than y')"
   ]
  },
  {
   "cell_type": "markdown",
   "metadata": {},
   "source": [
    "In general, nested conditionals can be hard to read because of the extra\n",
    "indentation, and so should be avoided when possible."
   ]
  },
  {
   "cell_type": "markdown",
   "metadata": {},
   "source": [
    "## Recursion\n",
    "\n",
    "A function is **recursive** if it calls itself. For example, this is a recursive\n",
    "function:"
   ]
  },
  {
   "cell_type": "code",
   "execution_count": 26,
   "metadata": {},
   "outputs": [
    {
     "name": "stdout",
     "output_type": "stream",
     "text": [
      "3\n",
      "2\n",
      "1\n",
      "Blastoff!\n"
     ]
    }
   ],
   "source": [
    "def countdown(n):\n",
    "    if n <= 0:          # base case: no recursive call\n",
    "        print('Blastoff!')\n",
    "    else:\n",
    "        print(n)\n",
    "        countdown(n-1)  # recursive call\n",
    "\n",
    "countdown(3)"
   ]
  },
  {
   "cell_type": "markdown",
   "metadata": {},
   "source": [
    "Tracing this function helps show how it works. Let's modify the code to print\n",
    "the value of `n`:"
   ]
  },
  {
   "cell_type": "code",
   "execution_count": 27,
   "metadata": {},
   "outputs": [
    {
     "name": "stdout",
     "output_type": "stream",
     "text": [
      "countdown(3) called ...\n",
      "3\n",
      "countdown(2) called ...\n",
      "2\n",
      "countdown(1) called ...\n",
      "1\n",
      "countdown(0) called ...\n",
      "Blastoff!\n"
     ]
    }
   ],
   "source": [
    "def countdown(n):\n",
    "    print(f'countdown({n}) called ...')\n",
    "    if n <= 0:          # base case: no recursive call\n",
    "        print('Blastoff!')\n",
    "    else:\n",
    "        print(n)\n",
    "        countdown(n-1)  # recursive call\n",
    "\n",
    "countdown(3)"
   ]
  },
  {
   "cell_type": "markdown",
   "metadata": {},
   "source": [
    "Here's another example. This recursive function prints `n` copies of a string\n",
    "`s`:"
   ]
  },
  {
   "cell_type": "code",
   "execution_count": 1,
   "metadata": {},
   "outputs": [
    {
     "name": "stdout",
     "output_type": "stream",
     "text": [
      "Beetlejuice!\n",
      "Beetlejuice!\n",
      "Beetlejuice!\n"
     ]
    }
   ],
   "source": [
    "def print_n_times(s, n):\n",
    "    if n > 0:\n",
    "        print(s)\n",
    "        print_n_times(s, n-1)  # recursive call\n",
    "\n",
    "print_n_times('Beetlejuice!', 3)"
   ]
  },
  {
   "cell_type": "markdown",
   "metadata": {},
   "source": [
    "When `n` is bigger than 0, `s` is printed, and then `print_n_times` is called\n",
    "again, but this time with `n - 1`. So it prints `s` once, and then it prints it\n",
    "`n - 1` more times, for a total of `n` times.\n",
    "    \n",
    "When `n` is less than, or equal to, 0, `print_n_times` does nothing: the\n",
    "function ends without doing anything. If we wanted to be more explicit, we could\n",
    "write it like this:"
   ]
  },
  {
   "cell_type": "code",
   "execution_count": 29,
   "metadata": {},
   "outputs": [
    {
     "name": "stdout",
     "output_type": "stream",
     "text": [
      "Beetljuice!\n",
      "Beetljuice!\n",
      "Beetljuice!\n"
     ]
    }
   ],
   "source": [
    "def print_n_times(s, n):\n",
    "    if n <= 0:\n",
    "        pass\n",
    "    else:\n",
    "        print(s)\n",
    "        print_n_times(s, n-1)  # recursive call\n",
    "\n",
    "print_n_times('Beetljuice!', 3)"
   ]
  },
  {
   "cell_type": "markdown",
   "metadata": {},
   "source": [
    "### Infinite Recursion"
   ]
  },
  {
   "cell_type": "markdown",
   "metadata": {},
   "source": [
    "It's possible to write a recursive function that never ends. The simplest is\n",
    "this:"
   ]
  },
  {
   "cell_type": "code",
   "execution_count": 31,
   "metadata": {},
   "outputs": [],
   "source": [
    "def forever():\n",
    "    forever()"
   ]
  },
  {
   "cell_type": "markdown",
   "metadata": {},
   "source": [
    "In *theory* this function should run forever and never stop.\n",
    "\n",
    "But in *practice*, every function call uses a little bit of memory to keep track\n",
    "of where to return to, and so eventually the computer runs out of memory. Plus\n",
    "Python has a built-in limit on the number of recursive calls it will allow, and\n",
    "that will eventually stop the function."
   ]
  },
  {
   "cell_type": "markdown",
   "metadata": {},
   "source": [
    "## Questions"
   ]
  },
  {
   "cell_type": "markdown",
   "metadata": {},
   "source": [
    "1. Suppose you know that `n` is a negative integer. How can you use `%` to get\n",
    "   its right-most digit?\n",
    "\n",
    "2. How can you use `%` to get the last *two* digits of a non-negative integer?\n",
    "\n",
    "3. What is the type of `True`?\n",
    "\n",
    "4. Give a boolean expression equivalent to `x != y` that *doesn't* use `!=`.\n",
    "\n",
    "5. Give a boolean expression equivalent to `x <= y` that *doesn't* use `<=`.\n",
    "\n",
    "6. What is the value of this boolean expression?\n",
    "\n",
    "   ```python\n",
    "   not not not ... not True   # 100 nots\n",
    "   ```\n",
    "\n",
    "7. what value(s) of `x` will make this code print *both* `cat` and `dog`? \n",
    "\n",
    "   ```python\n",
    "   if x > 0:\n",
    "       print(\"cat\")\n",
    "   if x < 0:\n",
    "       print(\"dog\")\n",
    "   ```\n",
    "\n",
    "8. What value(s) of `x` will make this code print `dog`?\n",
    "\n",
    "   ```python\n",
    "   if x > 0 or x < 0:\n",
    "       print(\"cat\")\n",
    "   else:\n",
    "       print(\"dog\")\n",
    "   ```\n",
    "\n",
    "9. What is a nested conditional?\n",
    "\n",
    "10. What is a recursive function?\n",
    "\n",
    "11. Give an example of an infinitely recursive function. What will happen if you\n",
    "    run it?"
   ]
  }
 ],
 "metadata": {
  "colab": {
   "authorship_tag": "ABX9TyNDPRhikI2Q71waRP7/kTi/",
   "mount_file_id": "1RtZk2Rw4mNshgxrTBWTSrrRwywQ3Grx8",
   "provenance": []
  },
  "kernelspec": {
   "display_name": "Python 3",
   "name": "python3"
  },
  "language_info": {
   "codemirror_mode": {
    "name": "ipython",
    "version": 3
   },
   "file_extension": ".py",
   "mimetype": "text/x-python",
   "name": "python",
   "nbconvert_exporter": "python",
   "pygments_lexer": "ipython3",
   "version": "3.8.10"
  }
 },
 "nbformat": 4,
 "nbformat_minor": 0
}
