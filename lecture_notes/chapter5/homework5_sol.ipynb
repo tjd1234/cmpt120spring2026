{
 "cells": [
  {
   "cell_type": "markdown",
   "metadata": {},
   "source": [
    "# Homework 5"
   ]
  },
  {
   "cell_type": "markdown",
   "metadata": {},
   "source": [
    "This is based on chapter 5 of the course notes, and may introduce a few topics\n",
    "not mentioned there.\n",
    "\n",
    "You can also do the exercises at the bottom of the textbook chapter."
   ]
  },
  {
   "cell_type": "markdown",
   "metadata": {},
   "source": [
    "## Practice Question 1"
   ]
  },
  {
   "cell_type": "markdown",
   "metadata": {},
   "source": [
    "Imagine you are organizing a large group activity, and you want to split them\n",
    "into equal-sized groups of a given size.\n",
    "\n",
    "Write a program that asks the user to enter the total number of people,  and the\n",
    "size of the group, and then prints out how many groups there will be, and how\n",
    "many people will be left over (if any).\n",
    "\n",
    "For example:\n",
    "\n",
    "```\n",
    "How many people are there in total? 100\n",
    "What is the group size? 13\n",
    "\n",
    "To put 100 people into groups of size 13, make:\n",
    "- 7 groups of 13\n",
    "- 1 group of 9\n",
    "```\n",
    "\n",
    "If there are exactly enough people to make complete groups, the program should\n",
    "only print the number of groups:\n",
    "\n",
    "```\n",
    "How many people are there in total? 100\n",
    "What is the group size? 13\n",
    "\n",
    "To put 100 people into groups of size 4, make:\n",
    "- 25 groups of 4\n",
    "```\n",
    "\n",
    "Make the output at least as informative and neatly formatted as the examples."
   ]
  },
  {
   "cell_type": "code",
   "execution_count": 4,
   "metadata": {
    "tags": [
     "solution"
    ]
   },
   "outputs": [
    {
     "name": "stdout",
     "output_type": "stream",
     "text": [
      "To put 100 into groups of size 4, make:\n",
      "- 25 groups of 4\n"
     ]
    }
   ],
   "source": [
    "# num_people = int(input('How many people are there in total? '))\n",
    "# group_size = int(input('What is the group size? '))\n",
    "\n",
    "num_people = 100\n",
    "group_size = 4\n",
    "\n",
    "num_groups = num_people // group_size\n",
    "num_leftover = num_people % group_size\n",
    "\n",
    "print(f'To put {num_people} people into groups of size {group_size}, make:')\n",
    "print(f'- {num_groups} groups of {group_size}')\n",
    "if num_leftover > 0:\n",
    "    print(f'- 1 group of {num_leftover}')"
   ]
  },
  {
   "cell_type": "markdown",
   "metadata": {},
   "source": [
    "## Practice Question 2\n",
    "\n",
    "The [Saffir-Simpson hurricane\n",
    "scale](https://en.wikipedia.org/wiki/Saffir%E2%80%93Simpson_scale) ranks the\n",
    "severity of hurricanes based on their wind speed. The scale ranges from 1 to 5\n",
    "(most severe):\n",
    "\n",
    "- Category 1 hurricane: wind speed 119 to less than 154 km/h\n",
    "- Category 2 hurricane: wind speed 154 to less than 178 km/h\n",
    "- Category 3 hurricane: wind speed 178 to less than 209 km/h\n",
    "- Category 4 hurricane: wind speed 209 to less than 252 km/h\n",
    "- Category 5 hurricane: wind speed 252 km/h or more\n",
    "\n",
    "A wind speed of less than 119 km/h is not considered a hurricane. Categories 3,\n",
    "4, and 5 are considered \"major\" hurricanes.\n",
    "\n",
    "Write a program that asks the user for the wind speed of a hurricane, and prints\n",
    "which category it is (or that it's not a hurricane), and if it's major.\n",
    "\n",
    "For example:\n",
    "\n",
    "```\n",
    "Wind speed in km/h? 201.5\n",
    "\n",
    "A hurricane with wind speed 201.5 km/h is a Category 3 hurricane.\n",
    "It is a major hurricane.\n",
    "```\n",
    "\n",
    "Or:\n",
    "```\n",
    "Wind speed in km/h? 245\n",
    "\n",
    "A hurricane with wind speed 145 km/h is a Category 1 hurricane.\n",
    "It is not a major hurricane.\n",
    "```\n",
    "\n",
    "Or:\n",
    "```\n",
    "Wind speed in km/h? 75\n",
    "\n",
    "A wind speed of 75 km/h is not a hurricane.\n",
    "```"
   ]
  },
  {
   "cell_type": "code",
   "execution_count": 7,
   "metadata": {
    "tags": [
     "solution"
    ]
   },
   "outputs": [
    {
     "name": "stdout",
     "output_type": "stream",
     "text": [
      "A wind speed of 209.0 km/h is a Category 4 hurricane.\n",
      "It is a major hurricane.\n"
     ]
    }
   ],
   "source": [
    "#\n",
    "# Solution 1\n",
    "#\n",
    "\n",
    "# wind_speed = 175\n",
    "\n",
    "wind_speed = float(input('Enter the wind speed in km/h: '))\n",
    "\n",
    "if wind_speed < 119:\n",
    "    print(f'A wind speed of {wind_speed} km/h is not a hurricane.')\n",
    "elif 119 <= wind_speed < 154:\n",
    "    print(f'A wind speed of {wind_speed} km/h is a Category 1 hurricane.')\n",
    "    print('It is not a major hurricane.')\n",
    "elif 154 <= wind_speed < 178:\n",
    "    print(f'A wind speed of {wind_speed} km/h is a Category 2 hurricane.')\n",
    "    print('It is not a major hurricane.')\n",
    "elif 178 <= wind_speed < 209:\n",
    "    print(f'A wind speed of {wind_speed} km/h is a Category 3 hurricane.')\n",
    "    print('It is a major hurricane.')\n",
    "elif 209 <= wind_speed < 252:\n",
    "    print(f'A wind speed of {wind_speed} km/h is a Category 4 hurricane.')\n",
    "    print('It is a major hurricane.')\n",
    "else:  # 252 km/h or more\n",
    "    print(f'A wind speed of {wind_speed} km/h is a Category 5 hurricane.')\n",
    "    print('It is a major hurricane.')"
   ]
  },
  {
   "cell_type": "code",
   "execution_count": 10,
   "metadata": {
    "tags": [
     "solution"
    ]
   },
   "outputs": [
    {
     "name": "stdout",
     "output_type": "stream",
     "text": [
      "A wind speed of 11.0 km/h is not a hurricane.\n"
     ]
    }
   ],
   "source": [
    "#\n",
    "# Solution 2\n",
    "#\n",
    "\n",
    "# wind_speed = 175\n",
    "\n",
    "wind_speed = float(input('Enter the wind speed in km/h: '))\n",
    "category = -1\n",
    "is_major = False\n",
    "\n",
    "if wind_speed < 119:\n",
    "    category = 0\n",
    "elif 119 <= wind_speed < 154:\n",
    "    category = 1\n",
    "elif 154 <= wind_speed < 178:\n",
    "    category = 2\n",
    "elif 178 <= wind_speed < 209:\n",
    "    category = 3\n",
    "    is_major = True\n",
    "elif 209 <= wind_speed < 252:\n",
    "    category = 4\n",
    "    is_major = True\n",
    "else:  # 252 km/h or more\n",
    "    category = 5\n",
    "    is_major = True\n",
    "\n",
    "# print the results\n",
    "if category == 0:\n",
    "    print(f'A wind speed of {wind_speed} km/h is not a hurricane.')\n",
    "else:\n",
    "    print(f'A wind speed of {wind_speed} km/h is a Category {category} hurricane.')\n",
    "    if is_major:\n",
    "        print('It is a major hurricane.')\n",
    "    else:\n",
    "        print('It is not a major hurricane.')"
   ]
  },
  {
   "cell_type": "markdown",
   "metadata": {},
   "source": [
    "## Practice Question 3"
   ]
  },
  {
   "cell_type": "markdown",
   "metadata": {},
   "source": [
    "Write a *recursive* function called `countup(n)` that prints the integers 1 to\n",
    "`n`, and then prints *Kaboom!*.\n",
    "\n",
    "Do not use any loops in your solution.\n",
    "\n",
    "For example, calling `countup(5)` prints:\n",
    "\n",
    "```\n",
    "1\n",
    "2\n",
    "3\n",
    "4\n",
    "5\n",
    "Kaboom!\n",
    "```\n",
    "\n",
    "**Hint** You can write more than one function."
   ]
  },
  {
   "cell_type": "code",
   "execution_count": 11,
   "metadata": {
    "tags": [
     "solution"
    ]
   },
   "outputs": [
    {
     "name": "stdout",
     "output_type": "stream",
     "text": [
      "Blastoff!\n",
      "1\n",
      "2\n",
      "3\n",
      "4\n",
      "5\n"
     ]
    }
   ],
   "source": [
    "def countup_help(n):\n",
    "    if n <= 0:          # base case: no recursive call\n",
    "        print('Blastoff!')\n",
    "    else:\n",
    "        countup_help(n-1)  # recursive call\n",
    "        print(n)\n",
    "\n",
    "def countup(n):\n",
    "    countup_help(n)\n",
    "    print('Kaboom!')\n",
    "\n",
    "countup(5)"
   ]
  }
 ],
 "metadata": {
  "kernelspec": {
   "display_name": "Python 3",
   "language": "python",
   "name": "python3"
  },
  "language_info": {
   "codemirror_mode": {
    "name": "ipython",
    "version": 3
   },
   "file_extension": ".py",
   "mimetype": "text/x-python",
   "name": "python",
   "nbconvert_exporter": "python",
   "pygments_lexer": "ipython3",
   "version": "3.8.10"
  }
 },
 "nbformat": 4,
 "nbformat_minor": 2
}
