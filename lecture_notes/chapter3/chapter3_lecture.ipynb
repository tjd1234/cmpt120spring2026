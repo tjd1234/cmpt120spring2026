{
 "cells": [
  {
   "cell_type": "markdown",
   "metadata": {
    "id": "cjsmyWXsNrEg"
   },
   "source": [
    "# Chapter 3 Lecture Notes\n",
    "\n",
    "Please read chapter 3 of the textbook.\n",
    "\n",
    "These notes take ~3 lecture hours to cover."
   ]
  },
  {
   "cell_type": "markdown",
   "metadata": {},
   "source": [
    "## Functions\n",
    "\n",
    "Python has many built-in functions, like `print`, `round`, `math.sqrt`, and so\n",
    "on. Now lets see how to define and use our own functions."
   ]
  },
  {
   "cell_type": "markdown",
   "metadata": {},
   "source": [
    "## Defining New Functions\n",
    "\n",
    "Python uses the `def` keyword to define new functions:"
   ]
  },
  {
   "cell_type": "code",
   "execution_count": 3,
   "metadata": {},
   "outputs": [],
   "source": [
    "def print_a_joke():              # header line of function\n",
    "    print(\"Knock knock!\")        # body of function\n",
    "    print(\"Who's there?\")\n",
    "    print(\"A broken pencil.\")\n",
    "    print(\"A broken pencil who?\")\n",
    "    print(\"Never mind, it's pointless.\")"
   ]
  },
  {
   "cell_type": "markdown",
   "metadata": {},
   "source": [
    "The name of this function is `print_a_joke()`, and it takes no arguments. In\n",
    "general, the rules for function names are the same as for variables names, and\n",
    "you should always try to use descriptive names for your functions.\n",
    "\n",
    "The line `def print_a_joke():` is called the **function header**. Notice that it\n",
    "ends with a semicolon `:`. The indented block of statements underneath the\n",
    "header is called the **function body**. In Python, it is *required* to use\n",
    "indentation to define the body of a function. If you don't indent it, or indent\n",
    "it inconsistently, you can get a syntax error.\n",
    "\n",
    "> **Note** Pythons use of **significant whitespace** in this way is one of its\n",
    "> defining features. Most other languages use, say, curly braces to mark blocks\n",
    "> of code, and indentation is optional. But Python *requires* indentation, which\n",
    "> generally leads to code that is easier for humans to read.\n",
    "\n",
    "If you execute a function definition, the function is defined but its body is\n",
    "*not* not executed. To execute the body of a function, you need to call it:"
   ]
  },
  {
   "cell_type": "code",
   "execution_count": 4,
   "metadata": {},
   "outputs": [
    {
     "name": "stdout",
     "output_type": "stream",
     "text": [
      "Knock knock!\n",
      "Who's there?\n",
      "A broken pencil.\n",
      "A broken pencil who?\n",
      "Never mind, it's pointless.\n"
     ]
    }
   ],
   "source": [
    "print_a_joke()"
   ]
  },
  {
   "cell_type": "markdown",
   "metadata": {},
   "source": [
    "## Function Parameters"
   ]
  },
  {
   "cell_type": "markdown",
   "metadata": {},
   "source": [
    "Consider this function definition:"
   ]
  },
  {
   "cell_type": "code",
   "execution_count": 5,
   "metadata": {},
   "outputs": [],
   "source": [
    "def say_hi_to(name):\n",
    "    print(f'Hi {name}!')\n",
    "    print(\"How's things?\")"
   ]
  },
  {
   "cell_type": "markdown",
   "metadata": {},
   "source": [
    "In the header line, the variable `name` is called a **parameter**. When you call\n",
    "the function, the value of the argument is assigned to the parameter:"
   ]
  },
  {
   "cell_type": "code",
   "execution_count": null,
   "metadata": {},
   "outputs": [
    {
     "name": "stdout",
     "output_type": "stream",
     "text": [
      "Hi Alice!\n",
      "How's things?\n"
     ]
    }
   ],
   "source": [
    "say_hi_to(\"Alice\")  # \"Alice\" is the argument"
   ]
  },
  {
   "cell_type": "markdown",
   "metadata": {},
   "source": [
    "When `say_hi_to(\"Alice\")` is called, the argument `\"Alice\"` is assigned to the\n",
    "parameter `name`. The function then prints `Hi, Alice!`. It as if it executes\n",
    "this code:"
   ]
  },
  {
   "cell_type": "code",
   "execution_count": 7,
   "metadata": {},
   "outputs": [
    {
     "name": "stdout",
     "output_type": "stream",
     "text": [
      "Hi Alice!\n",
      "How's things?\n"
     ]
    }
   ],
   "source": [
    "name = \"Alice\"\n",
    "print(f'Hi {name}!')\n",
    "print(\"How's things?\")"
   ]
  },
  {
   "cell_type": "markdown",
   "metadata": {},
   "source": [
    "You can also pass variables and expressions as arguments:"
   ]
  },
  {
   "cell_type": "code",
   "execution_count": 10,
   "metadata": {},
   "outputs": [
    {
     "name": "stdout",
     "output_type": "stream",
     "text": [
      "Hi Alice!\n",
      "How's things?\n",
      "\n",
      "Hi Queen Alice!\n",
      "How's things?\n"
     ]
    }
   ],
   "source": [
    "first_name = \"Alice\"\n",
    "say_hi_to(first_name)\n",
    "print()\n",
    "say_hi_to('Queen ' + first_name)"
   ]
  },
  {
   "cell_type": "markdown",
   "metadata": {},
   "source": [
    "When an argument is an expression, it is evaluated first before being passed to\n",
    "the function."
   ]
  },
  {
   "cell_type": "markdown",
   "metadata": {},
   "source": [
    "## Calling Functions in Functions\n",
    "\n",
    "You can call functions from other functions. For instance, this function prints\n",
    "a `|` before and after a given word:"
   ]
  },
  {
   "cell_type": "code",
   "execution_count": 11,
   "metadata": {},
   "outputs": [
    {
     "name": "stdout",
     "output_type": "stream",
     "text": [
      "| Hello |\n"
     ]
    }
   ],
   "source": [
    "def print_in_bars(word):\n",
    "    print(f'| {word} |')\n",
    "\n",
    "print_in_bars('Hello')"
   ]
  },
  {
   "cell_type": "markdown",
   "metadata": {},
   "source": [
    "We can use it to help print a word in a box:"
   ]
  },
  {
   "cell_type": "code",
   "execution_count": 13,
   "metadata": {},
   "outputs": [
    {
     "name": "stdout",
     "output_type": "stream",
     "text": [
      "+-------+\n",
      "| Hello |\n",
      "+-------+\n",
      "+---------+\n",
      "| Goodbye |\n",
      "+---------+\n"
     ]
    }
   ],
   "source": [
    "def print_in_box(word):\n",
    "    n = len(word) + 2\n",
    "    print('+' + '-' * n + '+')\n",
    "    print_in_bars(word)\n",
    "    print('+' + '-' * n + '+')\n",
    "\n",
    "print_in_box('Hello')\n",
    "print_in_box('Goodbye')"
   ]
  },
  {
   "cell_type": "markdown",
   "metadata": {},
   "source": [
    "We could print multiple boxes like this:"
   ]
  },
  {
   "cell_type": "code",
   "execution_count": 15,
   "metadata": {},
   "outputs": [
    {
     "name": "stdout",
     "output_type": "stream",
     "text": [
      "+------------+\n",
      "| Welcome to |\n",
      "+------------+\n",
      "+---------+\n",
      "| Python! |\n",
      "+---------+\n"
     ]
    }
   ],
   "source": [
    "def print_two_words(word1, word2):\n",
    "    print_in_box(word1)\n",
    "    print_in_box(word2)\n",
    "\n",
    "print_two_words('Welcome to', 'Python!')"
   ]
  },
  {
   "cell_type": "markdown",
   "metadata": {},
   "source": [
    "## Repetition with for-loops\n",
    "\n",
    "Suppose you want to print the numbers from 0 to 3. You could do it like this:"
   ]
  },
  {
   "cell_type": "code",
   "execution_count": 16,
   "metadata": {},
   "outputs": [
    {
     "name": "stdout",
     "output_type": "stream",
     "text": [
      "0\n",
      "1\n",
      "2\n",
      "3\n"
     ]
    }
   ],
   "source": [
    "print(0)\n",
    "print(1)\n",
    "print(2)\n",
    "print(3)"
   ]
  },
  {
   "cell_type": "markdown",
   "metadata": {},
   "source": [
    "This is a bit repetitive, and will become quite tedious if we want to print,\n",
    "say, the numbers from 0 to 100. \n",
    "\n",
    "Instead, we can use a `for` loop:"
   ]
  },
  {
   "cell_type": "code",
   "execution_count": 17,
   "metadata": {},
   "outputs": [
    {
     "name": "stdout",
     "output_type": "stream",
     "text": [
      "0\n",
      "1\n",
      "2\n",
      "3\n"
     ]
    }
   ],
   "source": [
    "for i in range(4):\n",
    "    print(i)"
   ]
  },
  {
   "cell_type": "markdown",
   "metadata": {},
   "source": [
    "This is called a **for-loop**. The line starting with `for` is the **for-loop\n",
    "header**, and the indented code underneath is the **for-loop body**. As with\n",
    "functions, Python *requires* that the for-loop body be consistently indented.\n",
    "Otherwise, you will get a syntax error.\n",
    "\n",
    "When the for-loop header is called, Python creates a new variable `i`. `i` is\n",
    "short for \"index\", the traditional name for a for-loop variable.\n",
    "\n",
    "The expression `range(4)` generates the numbers 0, 1, 2, and 3. The expression\n",
    "`i in range(4)` sets `i` to each of these numbers in turn, executing the\n",
    "for-loop body each time. It's as if it ran this code:"
   ]
  },
  {
   "cell_type": "code",
   "execution_count": 18,
   "metadata": {},
   "outputs": [
    {
     "name": "stdout",
     "output_type": "stream",
     "text": [
      "0\n",
      "1\n",
      "2\n",
      "3\n"
     ]
    }
   ],
   "source": [
    "#\n",
    "# for i in range(4):\n",
    "#     print(i)\n",
    "#\n",
    "\n",
    "i = 0\n",
    "print(i)\n",
    "i = 1\n",
    "print(i)\n",
    "i = 2\n",
    "print(i)\n",
    "i = 3\n",
    "print(i)"
   ]
  },
  {
   "cell_type": "markdown",
   "metadata": {},
   "source": [
    "It's easy to make it loop any number of times:"
   ]
  },
  {
   "cell_type": "code",
   "execution_count": 19,
   "metadata": {},
   "outputs": [
    {
     "name": "stdout",
     "output_type": "stream",
     "text": [
      "0\n",
      "1\n",
      "2\n",
      "3\n",
      "4\n",
      "5\n",
      "6\n",
      "7\n",
      "8\n",
      "9\n"
     ]
    }
   ],
   "source": [
    "for i in range(10):\n",
    "    print(i)"
   ]
  },
  {
   "cell_type": "markdown",
   "metadata": {},
   "source": [
    "Or to change what gets printed:"
   ]
  },
  {
   "cell_type": "code",
   "execution_count": 20,
   "metadata": {},
   "outputs": [
    {
     "name": "stdout",
     "output_type": "stream",
     "text": [
      "0 squared is 0\n",
      "1 squared is 1\n",
      "2 squared is 4\n",
      "3 squared is 9\n",
      "4 squared is 16\n",
      "5 squared is 25\n",
      "6 squared is 36\n",
      "7 squared is 49\n",
      "8 squared is 64\n",
      "9 squared is 81\n"
     ]
    }
   ],
   "source": [
    "for i in range(10):\n",
    "    print(f'{i} squared is {i ** 2}')"
   ]
  },
  {
   "cell_type": "markdown",
   "metadata": {},
   "source": [
    "You could print numbers in their own boxes:"
   ]
  },
  {
   "cell_type": "code",
   "execution_count": 22,
   "metadata": {},
   "outputs": [
    {
     "name": "stdout",
     "output_type": "stream",
     "text": [
      "+---+\n",
      "| 0 |\n",
      "+---+\n",
      "\n",
      "+---+\n",
      "| 1 |\n",
      "+---+\n",
      "\n",
      "+---+\n",
      "| 2 |\n",
      "+---+\n",
      "\n",
      "+---+\n",
      "| 3 |\n",
      "+---+\n",
      "\n"
     ]
    }
   ],
   "source": [
    "for i in range(4):\n",
    "    print_in_box(str(i))\n",
    "    print()"
   ]
  },
  {
   "cell_type": "markdown",
   "metadata": {},
   "source": [
    "You can put for-loops inside functions:"
   ]
  },
  {
   "cell_type": "code",
   "execution_count": 1,
   "metadata": {},
   "outputs": [
    {
     "name": "stdout",
     "output_type": "stream",
     "text": [
      "*****\n",
      "*****\n",
      "*****\n",
      "*****\n",
      "*****\n",
      "\n",
      "***\n",
      "***\n",
      "***\n"
     ]
    }
   ],
   "source": [
    "def print_grid(n):\n",
    "    for i in range(n):\n",
    "        print('*' * n)\n",
    "\n",
    "print_grid(5)\n",
    "print()\n",
    "print_grid(3)"
   ]
  },
  {
   "cell_type": "markdown",
   "metadata": {},
   "source": [
    "## Local Variables in Functions\n",
    "\n",
    "You can define variables inside functions, and they are called **local\n",
    "variables**, and are said to be **local** to the function:"
   ]
  },
  {
   "cell_type": "code",
   "execution_count": null,
   "metadata": {},
   "outputs": [],
   "source": [
    "def greet_person(first_name, last_name):\n",
    "    name = first_name + ' ' + last_name\n",
    "    print(f'Hi {name}!')"
   ]
  },
  {
   "cell_type": "markdown",
   "metadata": {},
   "source": [
    "Here, `name` is a local variable because it is defined inside the function body.\n",
    "\n",
    "Also, the parameters of a function are local variables. Here, both `first_name`\n",
    "and `last_name` are local variables.\n",
    "\n",
    "Local variables can only be used inside their function. It's an error to call\n",
    "them outside of the function:"
   ]
  },
  {
   "cell_type": "code",
   "execution_count": 27,
   "metadata": {},
   "outputs": [
    {
     "name": "stdout",
     "output_type": "stream",
     "text": [
      "hypotenuse = 5.0\n"
     ]
    },
    {
     "ename": "NameError",
     "evalue": "name 'hypotenuse' is not defined",
     "output_type": "error",
     "traceback": [
      "\u001b[0;31m---------------------------------------------------------------------------\u001b[0m",
      "\u001b[0;31mNameError\u001b[0m                                 Traceback (most recent call last)",
      "\u001b[0;32m/tmp/ipykernel_18462/3906861462.py\u001b[0m in \u001b[0;36m<module>\u001b[0;34m\u001b[0m\n\u001b[1;32m      4\u001b[0m \u001b[0;34m\u001b[0m\u001b[0m\n\u001b[1;32m      5\u001b[0m \u001b[0mprint_hypotenuse\u001b[0m\u001b[0;34m(\u001b[0m\u001b[0;36m3\u001b[0m\u001b[0;34m,\u001b[0m \u001b[0;36m4\u001b[0m\u001b[0;34m)\u001b[0m\u001b[0;34m\u001b[0m\u001b[0;34m\u001b[0m\u001b[0m\n\u001b[0;32m----> 6\u001b[0;31m \u001b[0mprint\u001b[0m\u001b[0;34m(\u001b[0m\u001b[0mhypotenuse\u001b[0m\u001b[0;34m)\u001b[0m  \u001b[0;31m# error: hypotenuse is not defined\u001b[0m\u001b[0;34m\u001b[0m\u001b[0;34m\u001b[0m\u001b[0m\n\u001b[0m\u001b[1;32m      7\u001b[0m                    \u001b[0;31m#        outside print_hypotenuse\u001b[0m\u001b[0;34m\u001b[0m\u001b[0;34m\u001b[0m\u001b[0;34m\u001b[0m\u001b[0m\n",
      "\u001b[0;31mNameError\u001b[0m: name 'hypotenuse' is not defined"
     ]
    }
   ],
   "source": [
    "def print_hypotenuse(side1, side2):\n",
    "    hypotenuse = (side1 ** 2 + side2 ** 2) ** 0.5\n",
    "    print(f'hypotenuse = {hypotenuse}')\n",
    "\n",
    "print_hypotenuse(3, 4)\n",
    "print(hypotenuse)  # error: hypotenuse is not defined\n",
    "                   #        outside print_hypotenuse"
   ]
  },
  {
   "cell_type": "markdown",
   "metadata": {},
   "source": [
    "`NameError` means that Python doesn't recognize the variable `hypotenuse`."
   ]
  },
  {
   "cell_type": "markdown",
   "metadata": {},
   "source": [
    "## Stack Diagrams"
   ]
  },
  {
   "cell_type": "markdown",
   "metadata": {},
   "source": [
    "A **stack diagram** is a way to keep track of what variables are defined in what\n",
    "functions.\n",
    "\n",
    "Every time Python calls a function, it \"stacks\" the function call on top of the\n",
    "most recent function call. The place in memory where these functions are stored\n",
    "is called the **call stack**. The most recently called function is always on the\n",
    "top of the call stack.\n",
    "\n",
    "For example:"
   ]
  },
  {
   "cell_type": "code",
   "execution_count": 5,
   "metadata": {},
   "outputs": [
    {
     "name": "stdout",
     "output_type": "stream",
     "text": [
      "11\n"
     ]
    }
   ],
   "source": [
    "def f(x):\n",
    "    print(x + 1)\n",
    "\n",
    "def g(a):\n",
    "    n = a + 2\n",
    "    f(2 * n)\n",
    "\n",
    "g(3)  # prints 11"
   ]
  },
  {
   "cell_type": "markdown",
   "metadata": {},
   "source": [
    "When `g(3)` is called, puts that call on the call stack:\n",
    "\n",
    "```\n",
    "  g(3)\n",
    "---------\n",
    "call stack\n",
    "```\n",
    "\n",
    "Next parameter `a` is assigned the argument value 3:\n",
    "\n",
    "```\n",
    "  a = 3\n",
    "  g(3)\n",
    "---------\n",
    "call stack\n",
    "```\n",
    "\n",
    "Then the local variable `n` is defined and assigned the value of `a + 2`, which\n",
    "is 5:\n",
    "\n",
    "```\n",
    "  n = 5\n",
    "  a = 3\n",
    "  g(3)\n",
    "---------\n",
    "call stack\n",
    "```\n",
    "\n",
    "At this point we can see that the function `g` has been called, and the local\n",
    "variables `a` and `n` have been defined.\n",
    "\n",
    "Next, `f(2 * n)` is called. Since `n` is 5, this is the same as `f(10)`:\n",
    "\n",
    "```\n",
    "  f(10)\n",
    "  n = 5\n",
    "  a = 3\n",
    "  g(3)\n",
    "---------\n",
    "call stack\n",
    "```\n",
    "\n",
    "The first thing the call to `f(10)` does is assign the parameter `x` the value\n",
    "of the argument 10:\n",
    "\n",
    "```\n",
    "  x = 10\n",
    "  f(10)\n",
    "  n = 5\n",
    "  a = 3\n",
    "  g(3)\n",
    "---------\n",
    "call stack\n",
    "```\n",
    "\n",
    "> **Careful!** The variables `a` and `n` are local to the function `g`, and so\n",
    "> cannot be access from `f`. Similarly, the variable `x` is local to the\n",
    "> function `f`, and so cannot be accessed from `g`.\n",
    "\n",
    "Finally, `print(x + 1)` is called, which is the same as `print(11)`, and so the\n",
    "`` is printed.\n",
    "\n",
    "After 11 is printed, the call `f(10)` is finished, and so it is removed from\n",
    "from the call stack:\n",
    "\n",
    "```\n",
    "  n = 5\n",
    "  a = 3\n",
    "  g(3)\n",
    "---------\n",
    "call stack\n",
    "```\n",
    "\n",
    "It also happens to be the case that the function call `g(3)` is finished, so it\n",
    "is removed as well, leaving the call stack empty:\n",
    "\n",
    "```\n",
    "\n",
    "---------\n",
    "call stack\n",
    "```\n",
    "\n",
    "This means the program is finished."
   ]
  },
  {
   "cell_type": "markdown",
   "metadata": {},
   "source": [
    "## Tracebacks"
   ]
  },
  {
   "cell_type": "markdown",
   "metadata": {},
   "source": [
    "All these details about the stack are handled automatically by Python. But\n",
    "sometimes, especially when debugging a program, it is useful to keep track of\n",
    "the stack yourself.\n",
    "\n",
    "In Python, a **traceback** is printed when you get a runtime error. It is\n",
    "essentially a print-out of the stack diagram at the time of the error, and, when\n",
    "you get the hang of it, it can be a useful tool for debugging. The traceback\n",
    "shows exactly what function where called, and in what order, leading up to the\n",
    "error.\n",
    "\n",
    "For example, consider this code which intentionally causes an error:"
   ]
  },
  {
   "cell_type": "code",
   "execution_count": 30,
   "metadata": {},
   "outputs": [
    {
     "name": "stdout",
     "output_type": "stream",
     "text": [
      "+----------+\n"
     ]
    },
    {
     "ename": "NameError",
     "evalue": "name 'wrd' is not defined",
     "output_type": "error",
     "traceback": [
      "\u001b[0;31m---------------------------------------------------------------------------\u001b[0m",
      "\u001b[0;31mNameError\u001b[0m                                 Traceback (most recent call last)",
      "\u001b[0;32m/tmp/ipykernel_18462/2308679195.py\u001b[0m in \u001b[0;36m<module>\u001b[0;34m\u001b[0m\n\u001b[1;32m      8\u001b[0m     \u001b[0mprint\u001b[0m\u001b[0;34m(\u001b[0m\u001b[0;34m'+'\u001b[0m \u001b[0;34m+\u001b[0m \u001b[0;34m'-'\u001b[0m \u001b[0;34m*\u001b[0m \u001b[0mn\u001b[0m \u001b[0;34m+\u001b[0m \u001b[0;34m'+'\u001b[0m\u001b[0;34m)\u001b[0m\u001b[0;34m\u001b[0m\u001b[0;34m\u001b[0m\u001b[0m\n\u001b[1;32m      9\u001b[0m \u001b[0;34m\u001b[0m\u001b[0m\n\u001b[0;32m---> 10\u001b[0;31m \u001b[0mbad_print_in_box\u001b[0m\u001b[0;34m(\u001b[0m\u001b[0;34m'Victory!'\u001b[0m\u001b[0;34m)\u001b[0m\u001b[0;34m\u001b[0m\u001b[0;34m\u001b[0m\u001b[0m\n\u001b[0m",
      "\u001b[0;32m/tmp/ipykernel_18462/2308679195.py\u001b[0m in \u001b[0;36mbad_print_in_box\u001b[0;34m(word)\u001b[0m\n\u001b[1;32m      5\u001b[0m     \u001b[0mn\u001b[0m \u001b[0;34m=\u001b[0m \u001b[0mlen\u001b[0m\u001b[0;34m(\u001b[0m\u001b[0mword\u001b[0m\u001b[0;34m)\u001b[0m \u001b[0;34m+\u001b[0m \u001b[0;36m2\u001b[0m\u001b[0;34m\u001b[0m\u001b[0;34m\u001b[0m\u001b[0m\n\u001b[1;32m      6\u001b[0m     \u001b[0mprint\u001b[0m\u001b[0;34m(\u001b[0m\u001b[0;34m'+'\u001b[0m \u001b[0;34m+\u001b[0m \u001b[0;34m'-'\u001b[0m \u001b[0;34m*\u001b[0m \u001b[0mn\u001b[0m \u001b[0;34m+\u001b[0m \u001b[0;34m'+'\u001b[0m\u001b[0;34m)\u001b[0m\u001b[0;34m\u001b[0m\u001b[0;34m\u001b[0m\u001b[0m\n\u001b[0;32m----> 7\u001b[0;31m     \u001b[0mbad_print_in_bars\u001b[0m\u001b[0;34m(\u001b[0m\u001b[0mword\u001b[0m\u001b[0;34m)\u001b[0m\u001b[0;34m\u001b[0m\u001b[0;34m\u001b[0m\u001b[0m\n\u001b[0m\u001b[1;32m      8\u001b[0m     \u001b[0mprint\u001b[0m\u001b[0;34m(\u001b[0m\u001b[0;34m'+'\u001b[0m \u001b[0;34m+\u001b[0m \u001b[0;34m'-'\u001b[0m \u001b[0;34m*\u001b[0m \u001b[0mn\u001b[0m \u001b[0;34m+\u001b[0m \u001b[0;34m'+'\u001b[0m\u001b[0;34m)\u001b[0m\u001b[0;34m\u001b[0m\u001b[0;34m\u001b[0m\u001b[0m\n\u001b[1;32m      9\u001b[0m \u001b[0;34m\u001b[0m\u001b[0m\n",
      "\u001b[0;32m/tmp/ipykernel_18462/2308679195.py\u001b[0m in \u001b[0;36mbad_print_in_bars\u001b[0;34m(word)\u001b[0m\n\u001b[1;32m      1\u001b[0m \u001b[0;32mdef\u001b[0m \u001b[0mbad_print_in_bars\u001b[0m\u001b[0;34m(\u001b[0m\u001b[0mword\u001b[0m\u001b[0;34m)\u001b[0m\u001b[0;34m:\u001b[0m\u001b[0;34m\u001b[0m\u001b[0;34m\u001b[0m\u001b[0m\n\u001b[0;32m----> 2\u001b[0;31m     \u001b[0mprint\u001b[0m\u001b[0;34m(\u001b[0m\u001b[0;34mf'| {wrd} |'\u001b[0m\u001b[0;34m)\u001b[0m  \u001b[0;31m# error: wrd is not defined!\u001b[0m\u001b[0;34m\u001b[0m\u001b[0;34m\u001b[0m\u001b[0m\n\u001b[0m\u001b[1;32m      3\u001b[0m \u001b[0;34m\u001b[0m\u001b[0m\n\u001b[1;32m      4\u001b[0m \u001b[0;32mdef\u001b[0m \u001b[0mbad_print_in_box\u001b[0m\u001b[0;34m(\u001b[0m\u001b[0mword\u001b[0m\u001b[0;34m)\u001b[0m\u001b[0;34m:\u001b[0m\u001b[0;34m\u001b[0m\u001b[0;34m\u001b[0m\u001b[0m\n\u001b[1;32m      5\u001b[0m     \u001b[0mn\u001b[0m \u001b[0;34m=\u001b[0m \u001b[0mlen\u001b[0m\u001b[0;34m(\u001b[0m\u001b[0mword\u001b[0m\u001b[0;34m)\u001b[0m \u001b[0;34m+\u001b[0m \u001b[0;36m2\u001b[0m\u001b[0;34m\u001b[0m\u001b[0;34m\u001b[0m\u001b[0m\n",
      "\u001b[0;31mNameError\u001b[0m: name 'wrd' is not defined"
     ]
    }
   ],
   "source": [
    "def bad_print_in_bars(word):\n",
    "    print(f'| {wrd} |')  # error: wrd is not defined!\n",
    "\n",
    "def bad_print_in_box(word):\n",
    "    n = len(word) + 2\n",
    "    print('+' + '-' * n + '+')\n",
    "    bad_print_in_bars(word)\n",
    "    print('+' + '-' * n + '+')\n",
    "\n",
    "bad_print_in_box('Victory!')"
   ]
  },
  {
   "cell_type": "markdown",
   "metadata": {},
   "source": [
    "What's printed is a traceback. It is essentially a print-out of the call stack\n",
    "at the time point in the program the error occurred. The most recent function\n",
    "called is at the bottom, and the oldest function call is at the top.\n",
    "\n",
    "While it looks messy and complicated, it can be a useful debugging aid."
   ]
  },
  {
   "cell_type": "markdown",
   "metadata": {},
   "source": [
    "## Questions\n",
    "\n",
    "1. What is a function? What is the function header? What is the function body?\n",
    "\n",
    "2. What does it mean when we say that whitespace is significant in Python\n",
    "   functions?\n",
    "\n",
    "3. Write a function called `powers(n)` that takes a number as an argument and\n",
    "   prints the number, its square, and its cube in the style shown below. For\n",
    "   example, `powers(2)` prints:\n",
    "\n",
    "   ```\n",
    "   2\n",
    "   2 * 2 = 4\n",
    "   2 * 2 * 2 = 8\n",
    "   ```\n",
    "\n",
    "4. What is the difference between an argument and a parameter?\n",
    "\n",
    "5. Write a for-loop that prints the numbers from 1 to 100. *Don't* include 0,\n",
    "   and *don't* leave out 100.\n",
    "\n",
    "6. Write a function called `print_from(begin, end)` that prints the numbers from\n",
    "   `begin` to `end`, including both `begin` and `end`. For example,\n",
    "   `print_from(-3, 4)` prints:\n",
    "\n",
    "   ```\n",
    "   -3\n",
    "   -2\n",
    "   -1\n",
    "   0\n",
    "   1\n",
    "   2\n",
    "   3\n",
    "   4\n",
    "   ```\n",
    "\n",
    "7. What is a local variable? Are parameters local variables? Are arguments local\n",
    "   variables?\n",
    "\n",
    "8. How many local variables does `print_hypotenuse` have? What are they?\n",
    "\n",
    "   ```python\n",
    "   def print_hypotenuse(side1, side2):\n",
    "      hypotenuse = (side1 ** 2 + side2 ** 2) ** 0.5\n",
    "      print(f'hypotenuse = {hypotenuse}')\n",
    "   ```\n",
    "\n",
    "9. What is a stack diagram? \n",
    "\n",
    "10. What is a traceback? When does it occur? How is it related to a stack\n",
    "    diagram?"
   ]
  }
 ],
 "metadata": {
  "colab": {
   "authorship_tag": "ABX9TyNDPRhikI2Q71waRP7/kTi/",
   "mount_file_id": "1RtZk2Rw4mNshgxrTBWTSrrRwywQ3Grx8",
   "provenance": []
  },
  "kernelspec": {
   "display_name": "base",
   "language": "python",
   "name": "python3"
  },
  "language_info": {
   "codemirror_mode": {
    "name": "ipython",
    "version": 3
   },
   "file_extension": ".py",
   "mimetype": "text/x-python",
   "name": "python",
   "nbconvert_exporter": "python",
   "pygments_lexer": "ipython3",
   "version": "3.12.7"
  }
 },
 "nbformat": 4,
 "nbformat_minor": 0
}
