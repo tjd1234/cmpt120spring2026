{
 "cells": [
  {
   "cell_type": "markdown",
   "metadata": {},
   "source": [
    "# Homework 3"
   ]
  },
  {
   "cell_type": "markdown",
   "metadata": {},
   "source": [
    "This is based on chapter 3 of the course notes, and may cover a few topics not\n",
    "mentioned there.\n",
    "\n",
    "You can also do the exercises at the bottom of the textbook chapter."
   ]
  },
  {
   "cell_type": "markdown",
   "metadata": {},
   "source": [
    "## Range Values in a for-loop"
   ]
  },
  {
   "cell_type": "markdown",
   "metadata": {},
   "source": [
    "We've seen that for-loops can print the numbers from 0 to 4 like this:"
   ]
  },
  {
   "cell_type": "code",
   "execution_count": 2,
   "metadata": {},
   "outputs": [
    {
     "name": "stdout",
     "output_type": "stream",
     "text": [
      "0\n",
      "1\n",
      "2\n",
      "3\n",
      "4\n"
     ]
    }
   ],
   "source": [
    "for i in range(5):\n",
    "    print(i)"
   ]
  },
  {
   "cell_type": "markdown",
   "metadata": {},
   "source": [
    "The first number is 0, and the last number is 4, i.e. one less than the 5 in\n",
    "`range(5)`.\n",
    "\n",
    "`range` can also take two arguments, a *start* and a *stop* value. For example,\n",
    "this prints the same thing as the above loop:"
   ]
  },
  {
   "cell_type": "code",
   "execution_count": 3,
   "metadata": {},
   "outputs": [
    {
     "name": "stdout",
     "output_type": "stream",
     "text": [
      "0\n",
      "1\n",
      "2\n",
      "3\n",
      "4\n"
     ]
    }
   ],
   "source": [
    "for i in range(0, 5):\n",
    "    print(i)"
   ]
  },
  {
   "cell_type": "markdown",
   "metadata": {},
   "source": [
    "We can change the values to get different ranges. For example, this prints 1 to\n",
    "5:"
   ]
  },
  {
   "cell_type": "code",
   "execution_count": 4,
   "metadata": {},
   "outputs": [
    {
     "name": "stdout",
     "output_type": "stream",
     "text": [
      "1\n",
      "2\n",
      "3\n",
      "4\n",
      "5\n"
     ]
    }
   ],
   "source": [
    "for i in range(1, 6):\n",
    "    print(i)"
   ]
  },
  {
   "cell_type": "markdown",
   "metadata": {},
   "source": [
    "Or we could print -10 to 10:"
   ]
  },
  {
   "cell_type": "code",
   "execution_count": 5,
   "metadata": {},
   "outputs": [
    {
     "name": "stdout",
     "output_type": "stream",
     "text": [
      "-10\n",
      "-9\n",
      "-8\n",
      "-7\n",
      "-6\n",
      "-5\n",
      "-4\n",
      "-3\n",
      "-2\n",
      "-1\n",
      "0\n",
      "1\n",
      "2\n",
      "3\n",
      "4\n",
      "5\n",
      "6\n",
      "7\n",
      "8\n",
      "9\n",
      "10\n"
     ]
    }
   ],
   "source": [
    "for i in range(-10, 11):\n",
    "    print(i)"
   ]
  },
  {
   "cell_type": "markdown",
   "metadata": {},
   "source": [
    "## Reverse Range Values"
   ]
  },
  {
   "cell_type": "markdown",
   "metadata": {},
   "source": [
    "You can use `range` to print numbers in reverse:"
   ]
  },
  {
   "cell_type": "code",
   "execution_count": 6,
   "metadata": {},
   "outputs": [
    {
     "name": "stdout",
     "output_type": "stream",
     "text": [
      "5\n",
      "4\n",
      "3\n",
      "2\n",
      "1\n"
     ]
    }
   ],
   "source": [
    "for i in range(5, 0, -1):\n",
    "    print(i)"
   ]
  },
  {
   "cell_type": "markdown",
   "metadata": {},
   "source": [
    "Notice that 0 is *not* printed, since `range(start, stop)` never includes the\n",
    "`stop` value."
   ]
  },
  {
   "cell_type": "markdown",
   "metadata": {},
   "source": [
    "## Practice Question 1"
   ]
  },
  {
   "cell_type": "markdown",
   "metadata": {},
   "source": [
    "Write a function called `print_countdown(n)` that prints the numbers from `n`\n",
    "down to 1, followed by \"Blastoff!\".\n",
    "\n",
    "For instance, `print_countdown(3)` prints:\n",
    "\n",
    "```\n",
    "3 ...\n",
    "2 ...\n",
    "1 ...\n",
    "Blastoff!\n",
    "```"
   ]
  },
  {
   "cell_type": "code",
   "execution_count": 7,
   "metadata": {
    "tags": [
     "solution"
    ]
   },
   "outputs": [
    {
     "name": "stdout",
     "output_type": "stream",
     "text": [
      "5 ...\n",
      "4 ...\n",
      "3 ...\n",
      "2 ...\n",
      "1 ...\n",
      "Blastoff!\n"
     ]
    }
   ],
   "source": [
    "def print_countdown(n):\n",
    "    for i in range(n, 0, -1):\n",
    "        print(f'{i} ...')\n",
    "    print(\"Blastoff!\")\n",
    "\n",
    "print_countdown(5)"
   ]
  },
  {
   "cell_type": "markdown",
   "metadata": {},
   "source": [
    "## Practice Question 2"
   ]
  },
  {
   "cell_type": "markdown",
   "metadata": {},
   "source": [
    "Write a function called `number_triangle(rows)` that prints a triangle of\n",
    "numbers in *exactly* format shown.\n",
    "\n",
    "For example, `number_triangle(5)` prints:\n",
    "\n",
    "```\n",
    "1\n",
    "2 3\n",
    "3 4 5\n",
    "4 5 6 7\n",
    "5 6 7 8 9\n",
    "```\n",
    "\n",
    "Your function should work when `rows` is any positive integer, 1 or greater.\n",
    "It's okay if the triangle is not perfectly aligned when `rows` is large."
   ]
  },
  {
   "cell_type": "code",
   "execution_count": 12,
   "metadata": {
    "tags": [
     "solution"
    ]
   },
   "outputs": [
    {
     "name": "stdout",
     "output_type": "stream",
     "text": [
      "1 \n",
      "2 3 \n",
      "3 4 5 \n",
      "4 5 6 7 \n",
      "5 6 7 8 9 \n"
     ]
    }
   ],
   "source": [
    "def number_triangle(rows):\n",
    "    for i in range(1, rows + 1):\n",
    "        for j in range(i, 2 * i):\n",
    "            print(f'{j} ', end='')\n",
    "        print()\n",
    "\n",
    "number_triangle(5)"
   ]
  },
  {
   "cell_type": "markdown",
   "metadata": {},
   "source": [
    "## Practice Question 3"
   ]
  },
  {
   "cell_type": "markdown",
   "metadata": {},
   "source": [
    "Write a function called `number_triangle2(rows)` that prints a triangle of\n",
    "numbers in the same layout as above, but the numbers are different.\n",
    "\n",
    "For example, `number_triangle2(5)` prints:\n",
    "\n",
    "```\n",
    "  1 \n",
    "  2   3 \n",
    "  4   5   6 \n",
    "  7   8   9  10 \n",
    " 11  12  13  14  15 \n",
    "```\n",
    "\n",
    "Print each of the numbers right-aligned in a field of width 3 to the that rows\n",
    "are printed neatly.\n",
    "\n",
    "Your function should work when `rows` is any positive integer, 1 or greater.\n",
    "It's okay if the triangle is not perfectly aligned when the numbers in it are\n",
    "longer than 3 digits."
   ]
  },
  {
   "cell_type": "code",
   "execution_count": 17,
   "metadata": {
    "tags": [
     "solution"
    ]
   },
   "outputs": [
    {
     "name": "stdout",
     "output_type": "stream",
     "text": [
      "  1 \n",
      "  2   3 \n",
      "  4   5   6 \n",
      "  7   8   9  10 \n",
      " 11  12  13  14  15 \n"
     ]
    }
   ],
   "source": [
    "def number_triangle2(rows):\n",
    "    n = 1\n",
    "    for i in range(1, rows + 1):\n",
    "        for j in range(i, 2 * i):\n",
    "            print(f'{n:3} ', end='')\n",
    "            n += 1\n",
    "        print()\n",
    "\n",
    "number_triangle2(5)"
   ]
  }
 ],
 "metadata": {
  "kernelspec": {
   "display_name": "Python 3",
   "language": "python",
   "name": "python3"
  },
  "language_info": {
   "codemirror_mode": {
    "name": "ipython",
    "version": 3
   },
   "file_extension": ".py",
   "mimetype": "text/x-python",
   "name": "python",
   "nbconvert_exporter": "python",
   "pygments_lexer": "ipython3",
   "version": "3.8.10"
  }
 },
 "nbformat": 4,
 "nbformat_minor": 2
}
