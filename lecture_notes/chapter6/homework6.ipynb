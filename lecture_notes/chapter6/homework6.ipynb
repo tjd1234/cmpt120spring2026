{
  "cells": [
    {
      "cell_type": "markdown",
      "metadata": {},
      "source": [
        "# Homework 6"
      ]
    },
    {
      "cell_type": "markdown",
      "metadata": {},
      "source": [
        "This is based on chapter 6 of the course notes, and may introduce a few topics\n",
        "not mentioned there.\n",
        "\n",
        "You can also do the exercises at the bottom of the textbook chapter."
      ]
    },
    {
      "cell_type": "markdown",
      "metadata": {},
      "source": [
        "## Testing Code\n",
        "\n",
        "How do you know if a program is correct? One way is to **test** it. You can test\n",
        "a program by giving it sample inputs and checking that it produces the expected\n",
        "outputs. If all the outputs are correct, you can be more confident that the\n",
        "program is correct.\n",
        "\n",
        "For example, think about how you would test this function:"
      ]
    },
    {
      "cell_type": "code",
      "execution_count": 1,
      "metadata": {},
      "outputs": [],
      "source": [
        "def both_odd(a, b):\n",
        "    \"\"\"Returns True if a and b are both odd, False otherwise.\n",
        "    Assumes a and b are non-negative integers.\n",
        "    \"\"\"\n",
        "    if a % 2 == 1 and b % 2 == 1:\n",
        "        return True\n",
        "    else:\n",
        "        return False"
      ]
    },
    {
      "cell_type": "markdown",
      "metadata": {},
      "source": [
        "Here are six **test cases**. A test cases consists of the input to the function\n",
        "and its expected output:\n",
        "\n",
        "1. `both_odd(1, 3)` should return `True`\n",
        "2. `both_odd(7, 7)` should return `True`\n",
        "3. `both_odd(0, 0)` should return `True`\n",
        "4. `both_odd(2, 3)` should return `False`\n",
        "5. `both_odd(2, 4)` should return `False`\n",
        "6. `both_odd(1, 4)` should return `False`\n",
        "\n",
        "We chose these inputs because they cover all the possibilities of two even and\n",
        "odd numbers. We also included cases where the inputs are the same.\n",
        "\n",
        "Here is some general advice for choosing good tests cases:\n",
        "\n",
        "- Choose cases that test what the function is about. In this case, we are\n",
        "  testing if numbers are even or odd, so make a variety of test cases with even\n",
        "  and odd numbers.\n",
        "- Try **edge cases**. For example, `both_odd(0, 0)` is an edge case because 0 is\n",
        "  the smallest number it promises to work with.\n",
        "- How much testing should you do? There is no one answer, but in general the\n",
        "  more complex or important a function is, the more testing you should do. For\n",
        "  most functions in a beginning course like this 5-10 test cases should enough\n",
        "  for most functions."
      ]
    },
    {
      "cell_type": "markdown",
      "metadata": {},
      "source": [
        "\n",
        "### Testing with Assertions\n",
        "An easy way to run test cases in Python is to use an **assertion**, written\n",
        "`assert expr` statement. If `expr` is `True`, nothing happens and the program\n",
        "proceeds as usual. But if `expr` is `False`, an error is raised and the program\n",
        "crashes with an error message.\n",
        "\n",
        "So we could write our test cases like this:"
      ]
    },
    {
      "cell_type": "code",
      "execution_count": 3,
      "metadata": {},
      "outputs": [
        {
          "name": "stdout",
          "output_type": "stream",
          "text": [
            "Success: all both_odd tests passed\n"
          ]
        }
      ],
      "source": [
        "def both_odd_test():\n",
        "    assert both_odd(1, 3) == True\n",
        "    assert both_odd(7, 7) == True\n",
        "    assert both_odd(0, 0) == False\n",
        "    assert both_odd(2, 3) == False\n",
        "    assert both_odd(2, 4) == False\n",
        "    assert both_odd(1, 4) == False\n",
        "    print('Success: all both_odd tests passed')\n",
        "\n",
        "both_odd_test()"
      ]
    },
    {
      "cell_type": "markdown",
      "metadata": {},
      "source": [
        "The success message will only be printed if all the test cases pass. \n",
        "\n",
        "If any test case fails the program crashes. Here's an example where `both_odd`\n",
        "has a bug:"
      ]
    },
    {
      "cell_type": "code",
      "execution_count": 4,
      "metadata": {},
      "outputs": [
        {
          "ename": "AssertionError",
          "evalue": "",
          "output_type": "error",
          "traceback": [
            "\u001b[0;31m---------------------------------------------------------------------------\u001b[0m",
            "\u001b[0;31mAssertionError\u001b[0m                            Traceback (most recent call last)",
            "\u001b[0;32m/tmp/ipykernel_32733/82666682.py\u001b[0m in \u001b[0;36m<module>\u001b[0;34m\u001b[0m\n\u001b[1;32m      9\u001b[0m         \u001b[0;32mreturn\u001b[0m \u001b[0;32mFalse\u001b[0m\u001b[0;34m\u001b[0m\u001b[0;34m\u001b[0m\u001b[0m\n\u001b[1;32m     10\u001b[0m \u001b[0;34m\u001b[0m\u001b[0m\n\u001b[0;32m---> 11\u001b[0;31m \u001b[0mboth_odd_test\u001b[0m\u001b[0;34m(\u001b[0m\u001b[0;34m)\u001b[0m\u001b[0;34m\u001b[0m\u001b[0;34m\u001b[0m\u001b[0m\n\u001b[0m",
            "\u001b[0;32m/tmp/ipykernel_32733/2347399175.py\u001b[0m in \u001b[0;36mboth_odd_test\u001b[0;34m()\u001b[0m\n\u001b[1;32m      1\u001b[0m \u001b[0;32mdef\u001b[0m \u001b[0mboth_odd_test\u001b[0m\u001b[0;34m(\u001b[0m\u001b[0;34m)\u001b[0m\u001b[0;34m:\u001b[0m\u001b[0;34m\u001b[0m\u001b[0;34m\u001b[0m\u001b[0m\n\u001b[0;32m----> 2\u001b[0;31m     \u001b[0;32massert\u001b[0m \u001b[0mboth_odd\u001b[0m\u001b[0;34m(\u001b[0m\u001b[0;36m1\u001b[0m\u001b[0;34m,\u001b[0m \u001b[0;36m3\u001b[0m\u001b[0;34m)\u001b[0m \u001b[0;34m==\u001b[0m \u001b[0;32mTrue\u001b[0m\u001b[0;34m\u001b[0m\u001b[0;34m\u001b[0m\u001b[0m\n\u001b[0m\u001b[1;32m      3\u001b[0m     \u001b[0;32massert\u001b[0m \u001b[0mboth_odd\u001b[0m\u001b[0;34m(\u001b[0m\u001b[0;36m7\u001b[0m\u001b[0;34m,\u001b[0m \u001b[0;36m7\u001b[0m\u001b[0;34m)\u001b[0m \u001b[0;34m==\u001b[0m \u001b[0;32mTrue\u001b[0m\u001b[0;34m\u001b[0m\u001b[0;34m\u001b[0m\u001b[0m\n\u001b[1;32m      4\u001b[0m     \u001b[0;32massert\u001b[0m \u001b[0mboth_odd\u001b[0m\u001b[0;34m(\u001b[0m\u001b[0;36m0\u001b[0m\u001b[0;34m,\u001b[0m \u001b[0;36m0\u001b[0m\u001b[0;34m)\u001b[0m \u001b[0;34m==\u001b[0m \u001b[0;32mFalse\u001b[0m\u001b[0;34m\u001b[0m\u001b[0;34m\u001b[0m\u001b[0m\n\u001b[1;32m      5\u001b[0m     \u001b[0;32massert\u001b[0m \u001b[0mboth_odd\u001b[0m\u001b[0;34m(\u001b[0m\u001b[0;36m2\u001b[0m\u001b[0;34m,\u001b[0m \u001b[0;36m3\u001b[0m\u001b[0;34m)\u001b[0m \u001b[0;34m==\u001b[0m \u001b[0;32mFalse\u001b[0m\u001b[0;34m\u001b[0m\u001b[0;34m\u001b[0m\u001b[0m\n",
            "\u001b[0;31mAssertionError\u001b[0m: "
          ]
        }
      ],
      "source": [
        "def both_odd(a, b):\n",
        "    \"\"\"Buggy version for demonstration purposes only!\n",
        "    Returns True if a and b are both odd, False otherwise.\n",
        "    Assumes a and b are non-negative integers.\n",
        "    \"\"\"\n",
        "    if a % 2 == 1 and b % 2 == 0:  # bug: should be b % 2 == 1\n",
        "        return True\n",
        "    else:\n",
        "        return False\n",
        "\n",
        "both_odd_test()"
      ]
    },
    {
      "cell_type": "markdown",
      "metadata": {},
      "source": [
        "Reading through the error message, this line tells us which test failed:\n",
        "\n",
        "```\n",
        "----> 2     assert both_odd(1, 3) == True\n",
        "```"
      ]
    },
    {
      "cell_type": "markdown",
      "metadata": {},
      "source": [
        "We *expected* `both_odd(1, 3)` to return `True`, but it actually returned\n",
        "`False`, or some not `True` value. Now the programmers job is to go back and\n",
        "debug the function, and then re-run the test cases."
      ]
    },
    {
      "cell_type": "markdown",
      "metadata": {},
      "source": [
        "### Passing All Tests Doesn't Mean a Function is Correct!"
      ]
    },
    {
      "cell_type": "markdown",
      "metadata": {},
      "source": [
        "Testing is not perfect. Just because a function passes all its test cases does\n",
        "not mean it is correct. The tests could miss some bug. For example:"
      ]
    },
    {
      "cell_type": "code",
      "execution_count": 5,
      "metadata": {},
      "outputs": [
        {
          "name": "stdout",
          "output_type": "stream",
          "text": [
            "Success: all both_odd tests passed\n"
          ]
        }
      ],
      "source": [
        "def both_odd(a, b):\n",
        "    \"\"\"Buggy version for demonstration purposes only!\n",
        "    Returns True if a and b are both odd, False otherwise.\n",
        "    Assumes a and b are non-negative integers.\n",
        "    \"\"\"\n",
        "    if a == 100 and b == 407:\n",
        "        return True  # bug: 100 is not odd!\n",
        "    elif a % 2 == 1 and b % 2 == 1: \n",
        "        return True\n",
        "    else:\n",
        "        return False\n",
        "\n",
        "both_odd_test()"
      ]
    },
    {
      "cell_type": "markdown",
      "metadata": {},
      "source": [
        "Despite the obvious bug, this function passes all its test cases. While this is\n",
        "a highly artificial example, in practice complex/long functions can have subtle,\n",
        "even random-seeming bugs lurking within them."
      ]
    },
    {
      "cell_type": "markdown",
      "metadata": {},
      "source": [
        "## Practice Question 1"
      ]
    },
    {
      "cell_type": "markdown",
      "metadata": {},
      "source": [
        "The **integer exponentiation problem** is to calculate $a^n$ where both $a$ and\n",
        "$n$ are positive integers.\n",
        "\n",
        "Write a *recursive* function called `int_pow(a, n)` that calculates $a^n$, where\n",
        "both $a$ and $n$ are positive integers. Implement the function following these\n",
        "rules:\n",
        "\n",
        "$$\n",
        "\\begin{align*}\n",
        "    a^1 &= a \\\\\n",
        "  a^{n} &= a \\cdot a^{n-1}\n",
        "\\end{align*}\n",
        "$$\n",
        "\n",
        "Don't use `**` or `math.pow` or any loops in your code.\n",
        "\n",
        "Use this test function to help check that your function is correct:"
      ]
    },
    {
      "cell_type": "code",
      "execution_count": 19,
      "metadata": {},
      "outputs": [],
      "source": [
        "def pow_test():\n",
        "    for a in range(1, 6):\n",
        "        for n in range(1, 11):\n",
        "            assert int_pow(a, n) == a ** n\n",
        "    print(f'Success: all tests passed for int_pow')"
      ]
    },
    {
      "cell_type": "markdown",
      "metadata": {},
      "source": [
        "## Practice Question 2\n",
        "\n",
        "Write a *non-recursive* version of the Fibonacci function from the notes. It\n",
        "should take the same inputs and give the same outputs, but implement it with\n",
        "just a loop and variables and no recursion.\n",
        "\n",
        "It should be *much* faster than the recursive version for large inputs.\n",
        "\n",
        "Use this test function to help check that your function is correct:"
      ]
    },
    {
      "cell_type": "code",
      "execution_count": 7,
      "metadata": {},
      "outputs": [],
      "source": [
        "def fib_test():\n",
        "    assert fib(0) == 0\n",
        "    assert fib(1) == 1\n",
        "    assert fib(2) == 1\n",
        "    assert fib(3) == 2\n",
        "    assert fib(4) == 3\n",
        "    assert fib(5) == 5\n",
        "    assert fib(6) == 8\n",
        "    print(f'Success: all tests passed for fib')"
      ]
    }
  ],
  "metadata": {
    "kernelspec": {
      "display_name": "Python 3",
      "language": "python",
      "name": "python3"
    },
    "language_info": {
      "codemirror_mode": {
        "name": "ipython",
        "version": 3
      },
      "file_extension": ".py",
      "mimetype": "text/x-python",
      "name": "python",
      "nbconvert_exporter": "python",
      "pygments_lexer": "ipython3",
      "version": "3.8.10"
    }
  },
  "nbformat": 4,
  "nbformat_minor": 2
}
