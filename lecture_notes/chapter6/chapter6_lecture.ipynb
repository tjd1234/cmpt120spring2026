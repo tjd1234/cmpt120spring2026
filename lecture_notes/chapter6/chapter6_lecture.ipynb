{
 "cells": [
  {
   "cell_type": "markdown",
   "metadata": {
    "id": "cjsmyWXsNrEg"
   },
   "source": [
    "# Chapter 6 Lecture Notes\n",
    "\n",
    "Please read chapter 6 of the textbook.\n",
    "\n",
    "These notes take 1 - 3 lecture hours to cover."
   ]
  },
  {
   "cell_type": "markdown",
   "metadata": {},
   "source": [
    "## Function Return Values"
   ]
  },
  {
   "cell_type": "markdown",
   "metadata": {},
   "source": [
    "Functions like `abs` and `sqrt` **return** a value that you can assign to a\n",
    "variable or use in an expression. But some functions, like `print` and\n",
    "`turtle.forward`, *don't* return a value.\n",
    "\n",
    "This function has a return value:"
   ]
  },
  {
   "cell_type": "code",
   "execution_count": 2,
   "metadata": {},
   "outputs": [],
   "source": [
    "import math\n",
    "\n",
    "def circle_area(radius):\n",
    "    area = math.pi * radius**2\n",
    "    return area  # return statement"
   ]
  },
  {
   "cell_type": "markdown",
   "metadata": {},
   "source": [
    "The last line of `circle_area` is a **return statement**. Python return\n",
    "statements always start with the keyword `return`.\n",
    "\n",
    "We can save the value it returns in a variable:"
   ]
  },
  {
   "cell_type": "code",
   "execution_count": 3,
   "metadata": {},
   "outputs": [
    {
     "name": "stdout",
     "output_type": "stream",
     "text": [
      "A circle of radius 2.5 has area 19.634954084936208.\n"
     ]
    }
   ],
   "source": [
    "r = float(input('What is the radius? '))\n",
    "\n",
    "if r <= 0:\n",
    "    print('radius must be greater than 0')\n",
    "else:\n",
    "    area = circle_area(r)\n",
    "    print(f'A circle of radius {r} has area {area}.')"
   ]
  },
  {
   "cell_type": "markdown",
   "metadata": {},
   "source": [
    "## Functions without a Return"
   ]
  },
  {
   "cell_type": "markdown",
   "metadata": {},
   "source": [
    "In Python, functions that don't return a value return the special value `None`. For instance:"
   ]
  },
  {
   "cell_type": "code",
   "execution_count": 4,
   "metadata": {},
   "outputs": [
    {
     "name": "stdout",
     "output_type": "stream",
     "text": [
      "Hello Elon!\n"
     ]
    }
   ],
   "source": [
    "def greet(name):\n",
    "    print(f'Hello {name}!')\n",
    "\n",
    "greet('Elon')"
   ]
  },
  {
   "cell_type": "markdown",
   "metadata": {},
   "source": [
    "Look what happens if you assign `greet` to a variable:"
   ]
  },
  {
   "cell_type": "code",
   "execution_count": 5,
   "metadata": {},
   "outputs": [
    {
     "name": "stdout",
     "output_type": "stream",
     "text": [
      "Hello Elon!\n",
      "None\n"
     ]
    }
   ],
   "source": [
    "x = greet('Elon')   # prints Hello Elon!\n",
    "print(x)            # None"
   ]
  },
  {
   "cell_type": "markdown",
   "metadata": {},
   "source": [
    "`x` gets the special value `None`. Python uses `None` to mean that a function\n",
    "doesn't return a value. If you get `None` values in your program, check for\n",
    "missing `return` statements, or for places you may be accidentally assigning a\n",
    "non-returning function to a variable.\n",
    "\n",
    "We could have written `greet` to return a value:"
   ]
  },
  {
   "cell_type": "code",
   "execution_count": 6,
   "metadata": {},
   "outputs": [
    {
     "name": "stdout",
     "output_type": "stream",
     "text": [
      "Hello Elon!\n"
     ]
    }
   ],
   "source": [
    "def greet_result(name):\n",
    "    return f'Hello {name}!'\n",
    "\n",
    "greet_result('Elon')      # does nothing\n",
    "\n",
    "x = greet_result('Elon')  # x is 'Hello Elon!'\n",
    "print(x)                  # prints Hello Elon!"
   ]
  },
  {
   "cell_type": "markdown",
   "metadata": {},
   "source": [
    "## Return Values and Conditionals"
   ]
  },
  {
   "cell_type": "markdown",
   "metadata": {},
   "source": [
    "Python's `abs(x)` function could be written like this:"
   ]
  },
  {
   "cell_type": "code",
   "execution_count": 7,
   "metadata": {},
   "outputs": [
    {
     "name": "stdout",
     "output_type": "stream",
     "text": [
      "2\n",
      "0\n",
      "2\n"
     ]
    }
   ],
   "source": [
    "def abs_val(x):\n",
    "    if x < 0:\n",
    "        return x\n",
    "    else:\n",
    "        return -x\n",
    "\n",
    "print(abs_val(-2))  # 2\n",
    "print(abs_val(0))   # 0\n",
    "print(abs_val(2))   # 2"
   ]
  },
  {
   "cell_type": "markdown",
   "metadata": {},
   "source": [
    "There are two `return` statements, but only one is ever executed on any call to\n",
    "`abs_val`.\n",
    "\n",
    "We say there are two **paths** through the program, one ending with `return x`\n",
    "and one ending with `return -x`. When a function with multiple paths returns a\n",
    "value, there must be a `return` at the end of every possible path through the\n",
    "function.\n",
    "\n",
    "Here's an example of an incorrect implementation of absolute value:"
   ]
  },
  {
   "cell_type": "code",
   "execution_count": 8,
   "metadata": {},
   "outputs": [
    {
     "name": "stdout",
     "output_type": "stream",
     "text": [
      "2\n",
      "2\n",
      "None\n"
     ]
    }
   ],
   "source": [
    "def bad_abs_val(x):\n",
    "    if x < 0:\n",
    "        return -x\n",
    "    if x > 0:\n",
    "        return x\n",
    "\n",
    "print(bad_abs_val(-2))  # ok, 2\n",
    "print(bad_abs_val(2))   # ok, 2\n",
    "print(bad_abs_val(0))   # error, None"
   ]
  },
  {
   "cell_type": "markdown",
   "metadata": {},
   "source": [
    "In `bad_abs_val(x)` there is no `return` at the end of the path taken when `x` is 0. So `bad_abs_val(0)` gives the special value `None`, indicating no value was returned.\n",
    "\n",
    "It's possible to have extra `return` statements. For example:"
   ]
  },
  {
   "cell_type": "code",
   "execution_count": null,
   "metadata": {},
   "outputs": [],
   "source": [
    "def abs_val_extra_return(x):\n",
    "    if x < 0:\n",
    "        return -x\n",
    "    else:\n",
    "        return x\n",
    "    \n",
    "    return 'This is dead code'  # dead code: never run"
   ]
  },
  {
   "cell_type": "markdown",
   "metadata": {},
   "source": [
    "The `return` statement at the bottom is never run because the function always ends by calling one of the `return` statements above it. Code that is never run is called **dead code**, and it is often a sign of a logic bug, or misunderstanding.\n",
    "\n",
    "Here are a couple of other examples of dead code:"
   ]
  },
  {
   "cell_type": "code",
   "execution_count": null,
   "metadata": {},
   "outputs": [],
   "source": [
    "def dead_code_ex1():\n",
    "    return 1\n",
    "    return 2  # dead code\n",
    "    return 3  # dead code\n",
    "\n",
    "def dead_code_ex2():\n",
    "    n = 0\n",
    "    for i in range(n):\n",
    "        print('Hello!')  # dead code\n",
    "\n",
    "def dead_code_ex3():\n",
    "    if x <= 0:\n",
    "        print('up')\n",
    "    elif x >= 0:\n",
    "        print('down')\n",
    "    else:\n",
    "        print('around')  # dead code\n",
    "\n",
    "def dead_code_ex4():\n",
    "    dead_code_ex4()\n",
    "    print('done!')  # dead code"
   ]
  },
  {
   "cell_type": "markdown",
   "metadata": {},
   "source": [
    "## Boolean Functions"
   ]
  },
  {
   "cell_type": "markdown",
   "metadata": {},
   "source": [
    "A function that returns either `True` or `False` is called a **boolean function**. For example:"
   ]
  },
  {
   "cell_type": "code",
   "execution_count": 9,
   "metadata": {},
   "outputs": [
    {
     "name": "stdout",
     "output_type": "stream",
     "text": [
      "False\n",
      "False\n",
      "True\n"
     ]
    }
   ],
   "source": [
    "def is_positive(x):\n",
    "    if x > 0:\n",
    "        return True\n",
    "    else:\n",
    "        return False\n",
    "\n",
    "print(is_positive(-2))  # False\n",
    "print(is_positive(0))   # False\n",
    "print(is_positive(2))   # True"
   ]
  },
  {
   "cell_type": "markdown",
   "metadata": {},
   "source": [
    "This works fine, but there is a shorter way to write it:"
   ]
  },
  {
   "cell_type": "code",
   "execution_count": 10,
   "metadata": {},
   "outputs": [
    {
     "name": "stdout",
     "output_type": "stream",
     "text": [
      "False\n",
      "False\n",
      "True\n"
     ]
    }
   ],
   "source": [
    "def is_positive(x):\n",
    "    return x > 0\n",
    "\n",
    "print(is_positive(-2))  # False\n",
    "print(is_positive(0))   # False\n",
    "print(is_positive(2))   # True"
   ]
  },
  {
   "cell_type": "markdown",
   "metadata": {},
   "source": [
    "The expression `x > 0` returns either `True` or `False`, and so we don't need to\n",
    "use an if-statement. Most programmers prefer this second way because it is short\n",
    "and readable (at least once you get used to it!)."
   ]
  },
  {
   "cell_type": "markdown",
   "metadata": {},
   "source": [
    "## Recursive Functions with Return Values"
   ]
  },
  {
   "cell_type": "markdown",
   "metadata": {},
   "source": [
    "Since recursive functions are functions, they can have return values. \n",
    "\n",
    "For example, suppose we want to calculate the sum of $1 + 2 + 3 + \\ldots + n$.\n",
    "You may recall from math class that $1 + 2 + 3 + \\ldots + n = \\frac{n(n+1)}{2}$.\n",
    "So we could write a function that calculates the sum like this:"
   ]
  },
  {
   "cell_type": "code",
   "execution_count": 12,
   "metadata": {},
   "outputs": [
    {
     "name": "stdout",
     "output_type": "stream",
     "text": [
      "1\n",
      "3\n",
      "6\n",
      "10\n"
     ]
    }
   ],
   "source": [
    "def sum_to(n):\n",
    "    return n * (n + 1) // 2\n",
    "\n",
    "print(sum_to(1))  #  1 = 1\n",
    "print(sum_to(2))  #  3 = 1 + 2\n",
    "print(sum_to(3))  #  6 = 1 + 2 + 3\n",
    "print(sum_to(4))  # 10 = 1 + 2 + 3 + 4"
   ]
  },
  {
   "cell_type": "markdown",
   "metadata": {},
   "source": [
    "This is an efficient way to calculate $1 + 2 + 3 + \\ldots + n$.\n",
    "\n",
    "Now lets re-implement the function using recursion. First lets define $S(n)$ to\n",
    "be this: $$ S(n) = 1 + 2 + 3 + \\ldots + n $$\n",
    "\n",
    "For example, $S(4) = 1 + 2 + 3 + 4 = 10$.\n",
    "\n",
    "A problem with this definition is that `...` does not have a precise enough\n",
    "meaning for a computer. While humans know that `...` means something like\n",
    "\"continue in the same pattern\", a programming language Python can't make that\n",
    "inference.\n",
    "\n",
    "So here is a more precise definition:\n",
    "$$\n",
    "\\begin{aligned}\n",
    "S(0) &= 0 \\\\\n",
    "S(n) &= n + S(n-1)\n",
    "\\end{aligned}\n",
    "$$\n",
    "\n",
    "This is a **recursive definition** of $S(n)$, also known as a **recurrence\n",
    "relation**. It defines $S(n)$ precisely enough that we can write a function to\n",
    "calculate it."
   ]
  },
  {
   "cell_type": "code",
   "execution_count": 1,
   "metadata": {},
   "outputs": [
    {
     "name": "stdout",
     "output_type": "stream",
     "text": [
      "1\n",
      "3\n",
      "6\n",
      "10\n"
     ]
    }
   ],
   "source": [
    "def sum_rec(n):\n",
    "    if n == 0:\n",
    "        return 0\n",
    "    else:\n",
    "        return n + sum_rec(n - 1)\n",
    "\n",
    "print(sum_rec(1))  #  1 = 1\n",
    "print(sum_rec(2))  #  3 = 1 + 2\n",
    "print(sum_rec(3))  #  6 = 1 + 2 + 3\n",
    "print(sum_rec(4))  # 10 = 1 + 2 + 3 + 4"
   ]
  },
  {
   "cell_type": "markdown",
   "metadata": {},
   "source": [
    "It helps to trace through an example by hand to see what is going. For example,\n",
    "let's calculate $S(4)$ using the recursive formula. To calculate $S(4)$, the\n",
    "formula says to calculate $4 + S(3)$. But we don't know what $S(3)$ is, so we\n",
    "use the formula to calculate $S(3)$, which is $S(2)+ 3$. We repeatedly apply the\n",
    "recursive formula like this until we reach a base case of $S(0)$, which is just\n",
    "0. Step-by-step it looks like this:\n",
    "\n",
    "$$\n",
    "\\begin{aligned}\n",
    "S(4) &= 4 + S(3) \\\\\n",
    "     &= 4 + 3 + S(2) \\\\\n",
    "     &= 4 + 3 + 2 + S(1) \\\\\n",
    "     &= 4 + 3 + 2 + 1 + S(0) \\\\\n",
    "     &= 4 + 3 + 2 + 1 + 0 \\\\\n",
    "     &= 10\n",
    "\\end{aligned}\n",
    "$$\n",
    "\n",
    "As mentioned, this is not an efficient way to calculate $1 + 2 + \\ldots + n$,\n",
    "but is a good example of recursion."
   ]
  },
  {
   "cell_type": "markdown",
   "metadata": {},
   "source": [
    "## Fibonacci Numbers"
   ]
  },
  {
   "cell_type": "markdown",
   "metadata": {},
   "source": [
    "Let's look at another recursive definition, the [Fibonacci\n",
    "numbers](https://en.wikipedia.org/wiki/Fibonacci_number). The Fibonacci numbers\n",
    "are the sequence $0, 1, 1, 2, 3, 5, 8, 13, 21, \\ldots$. The first two numbers\n",
    "are 0 and 1, and each following number is the sum of the two before it.\n",
    "\n",
    "We'll define them with this recurrence relation:\n",
    "$$\\begin{aligned}\n",
    "\\mathrm{fib}(0) &= 0 \\\\\n",
    "\\mathrm{fib}(1) &= 1 \\\\\n",
    "\\mathrm{fib}(n) &= \\mathrm{fib}(n-1) + \\mathrm{fib}(n-2)\n",
    "\\end{aligned}$$ "
   ]
  },
  {
   "cell_type": "markdown",
   "metadata": {},
   "source": [
    "This has two base cases: $\\mathrm{fib}(0) = 0$ and $\\mathrm{fib}(1) = 1$. The\n",
    "recursive case is also interesting since it calls itself twice, once with $n-1$\n",
    "and once with $n-2$\n",
    "\n",
    "Translating this into Python is straightforward:"
   ]
  },
  {
   "cell_type": "code",
   "execution_count": 2,
   "metadata": {},
   "outputs": [
    {
     "name": "stdout",
     "output_type": "stream",
     "text": [
      "0\n",
      "1\n",
      "1\n",
      "2\n",
      "3\n",
      "5\n",
      "8\n"
     ]
    }
   ],
   "source": [
    "def fib(n):\n",
    "    \"\"\"Returns the nth Fibonacci number.\n",
    "    fib(0) = 0, fib(1) = 1, fib(2) = 1, ...\n",
    "    \"\"\"\n",
    "    if n == 0:\n",
    "        return 0\n",
    "    elif n == 1:\n",
    "        return 1\n",
    "    else:\n",
    "        return fib(n - 1) + fib(n - 2)\n",
    "    \n",
    "print(fib(0))  # 0 \n",
    "print(fib(1))  # 1\n",
    "print(fib(2))  # 1\n",
    "print(fib(3))  # 2\n",
    "print(fib(4))  # 3\n",
    "print(fib(5))  # 5\n",
    "print(fib(6))  # 8"
   ]
  },
  {
   "cell_type": "markdown",
   "metadata": {},
   "source": [
    "Notice that `fib(-1)` will cause the function to crash. This is because the\n",
    "recurrence relation is only defined for $n \\geq 0$. If you call `fib` with any\n",
    "value less than 0 then it will crash.\n",
    "\n",
    "This function has another major problem: it is *extremely* inefficient for\n",
    "medium and large values of `n`. This is because it recalculates the same values\n",
    "over and over again.\n",
    "\n",
    "For instance, `fib(40)` takes over 20 seconds to calculate on my computer (the\n",
    "time it takes for your computer could be different):"
   ]
  },
  {
   "cell_type": "code",
   "execution_count": 6,
   "metadata": {},
   "outputs": [
    {
     "name": "stdout",
     "output_type": "stream",
     "text": [
      "102334155\n"
     ]
    }
   ],
   "source": [
    "print(fib(40))  # 102334155, over 20 seconds!"
   ]
  },
  {
   "cell_type": "markdown",
   "metadata": {},
   "source": [
    "So do **not** use this as a way to calculate Fibonacci numbers in\n",
    "practice; use a loop instead."
   ]
  },
  {
   "cell_type": "markdown",
   "metadata": {},
   "source": [
    "## Questions\n",
    "   "
   ]
  },
  {
   "cell_type": "markdown",
   "metadata": {},
   "source": [
    "1. The area of a triangle is half its base times its height. Write a function\n",
    "   `triangle_area(base, height)` that returns the area of a triangle.\n",
    "\n",
    "2. What value is returned by a function with no `return` statements?\n",
    "\n",
    "3. In a function that returns a value, what happens if one or more of the paths\n",
    "   through the function does *not* have a `return` statement?\n",
    "\n",
    "4. Is this implementation of absolute value correct for all inputs?\n",
    "   \n",
    "   ```python\n",
    "   def abs_val_mystery(x):\n",
    "       if x < 0:\n",
    "           return -x\n",
    "       return x\n",
    "   ```\n",
    "   \n",
    "5. What is a boolean function?\n",
    "\n",
    "6. Does this version of `sum_rec` work correctly, i.e. does it return the sum of\n",
    "   $1 + 2 + 3 + \\ldots + n$?\n",
    "   \n",
    "   ```python\n",
    "   def sum_rec2(n):\n",
    "       if n == 0:\n",
    "           return 0\n",
    "       return n + sum_rec2(n)\n",
    "   ```\n",
    "\n",
    "7. What is the value of `fib(10)`?"
   ]
  }
 ],
 "metadata": {
  "colab": {
   "authorship_tag": "ABX9TyNDPRhikI2Q71waRP7/kTi/",
   "mount_file_id": "1RtZk2Rw4mNshgxrTBWTSrrRwywQ3Grx8",
   "provenance": []
  },
  "kernelspec": {
   "display_name": "Python 3",
   "name": "python3"
  },
  "language_info": {
   "codemirror_mode": {
    "name": "ipython",
    "version": 3
   },
   "file_extension": ".py",
   "mimetype": "text/x-python",
   "name": "python",
   "nbconvert_exporter": "python",
   "pygments_lexer": "ipython3",
   "version": "3.8.10"
  }
 },
 "nbformat": 4,
 "nbformat_minor": 0
}
