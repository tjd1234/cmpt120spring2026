{
 "cells": [
  {
   "cell_type": "markdown",
   "metadata": {},
   "source": [
    "# Homework Alg 3 Sorting"
   ]
  },
  {
   "cell_type": "markdown",
   "metadata": {},
   "source": [
    "This is based on the alg3 linear search course notes, and covers a few topics\n",
    "not mentioned there."
   ]
  },
  {
   "cell_type": "markdown",
   "metadata": {},
   "source": [
    "## Insertion Sort\n",
    "\n",
    "Insertion sort is another common sorting algorithm. To sort a list of `lst` of\n",
    "`n` items:\n",
    "\n",
    "1. Create an empty list called `result`.\n",
    "2. For each item `x` in `lst`:\n",
    "    3. Insert `x` into the location in `result` so that all the inserted items\n",
    "       are in sorted order.\n",
    "\n",
    "For example, suppose `lst` is `[3, 1, 4, 2]`. `result` starts as `[]`, and we\n",
    "insert each item into `result` so that it always remains sorted:\n",
    "\n",
    "```\n",
    "lst = [3, 1, 4, 2]\n",
    "result = []\n",
    "\n",
    "\n",
    "lst = [3, 1, 4, 2]   \n",
    "       ^\n",
    "       |\n",
    "       x = 3\n",
    "\n",
    "result = [3]  # insert 3 into result\n",
    "\n",
    "\n",
    "lst = [3, 1, 4, 2]\n",
    "          ^\n",
    "          |\n",
    "          x = 1\n",
    "result = [1, 3]  # insert 1 into result\n",
    "\n",
    "lst = [3, 1, 4, 2]\n",
    "             ^\n",
    "             |\n",
    "             x = 4\n",
    "result = [1, 3, 4]  # insert 4 into result\n",
    "\n",
    "\n",
    "lst = [3, 1, 4, 2]\n",
    "                ^\n",
    "                |\n",
    "                x = 2\n",
    "result = [1, 2, 3, 4]  # insert 2 into result\n",
    "```\n",
    "\n",
    "After each number is inserted the entire list is sorted."
   ]
  },
  {
   "cell_type": "markdown",
   "metadata": {},
   "source": [
    "## Practice Question 1"
   ]
  },
  {
   "cell_type": "markdown",
   "metadata": {},
   "source": [
    "Implement your own version of insertion sort based on the algorithm above, and\n",
    "test it with `test_insertion_sort`.\n",
    "\n",
    "You can trivially find insertion online or in the solutions to this question.\n",
    "\n",
    "But please try to implement it yourself first. Python slicing and list methods\n",
    "can be helpful here.\n",
    "\n",
    "You may want to first create a helper function `insert(lst, x)` that inserts `x` \n",
    "into `lst` so that `lst` remains sorted."
   ]
  },
  {
   "cell_type": "markdown",
   "metadata": {
    "tags": [
     "solution"
    ]
   },
   "source": [
    "## Question 1 Sample Solution"
   ]
  },
  {
   "cell_type": "code",
   "execution_count": 1,
   "metadata": {
    "tags": [
     "solution"
    ]
   },
   "outputs": [
    {
     "name": "stdout",
     "output_type": "stream",
     "text": [
      "2\n",
      "-1\n",
      "0\n",
      "4\n"
     ]
    }
   ],
   "source": [
    "def insert(lst, x):\n",
    "    \"\"\"Inserts x into lst so that lst remains sorted.\n",
    "    E.g. if lst == [1, 6, 8], then insert(lst, 5) == [1, 5, 6, 8].\n",
    "    \"\"\"\n",
    "    for i in range(len(lst)):\n",
    "        if x < lst[i]:\n",
    "            return lst[:i] + [x] + lst[i:]\n",
    "    return lst + [x]\n",
    "\n",
    "def insertion_sort(lst):\n",
    "    result = []\n",
    "    for x in lst:\n",
    "        result = insert(result, x)\n",
    "    \n",
    "    return result\n",
    "\n",
    "def test_insertion_sort():\n",
    "    print('Calling test_insertion_sort ...')\n",
    "    assert insertion_sort([]) == []\n",
    "    assert insertion_sort([1]) == [1]\n",
    "    assert insertion_sort([1, 2]) == [1, 2]\n",
    "    assert insertion_sort([2, 1]) == [1, 2]\n",
    "    assert insertion_sort([2, 2]) == [2, 2]\n",
    "    assert insertion_sort([1, 2, 3]) == [1, 2, 3]\n",
    "    assert insertion_sort([1, 3, 2]) == [1, 2, 3]\n",
    "    assert insertion_sort([2, 1, 3]) == [1, 2, 3]\n",
    "    assert insertion_sort([2, 3, 1]) == [1, 2, 3]\n",
    "    assert insertion_sort([3, 1, 2]) == [1, 2, 3]\n",
    "    assert insertion_sort([3, 2, 1]) == [1, 2, 3]\n",
    "    assert insertion_sort([3, 3, 3]) == [3, 3, 3]\n",
    "    assert insertion_sort([3, 3, 1]) == [1, 3, 3]\n",
    "    assert insertion_sort([3, 1, 3]) == [1, 3, 3]\n",
    "    assert insertion_sort([1, 3, 3]) == [1, 3, 3]\n",
    "    print('... all insertion_sort tests passed')\n",
    "    "
   ]
  },
  {
   "cell_type": "markdown",
   "metadata": {},
   "source": [
    "## Practice Question 2"
   ]
  },
  {
   "cell_type": "markdown",
   "metadata": {},
   "source": [
    "Is the performance of insertion closer to the performance of selection sort or\n",
    "mergesort (the versions from the notes)?\n",
    "\n",
    "Explain why by referring to the insertion sort algorithm."
   ]
  },
  {
   "cell_type": "markdown",
   "metadata": {
    "tags": [
     "solution"
    ]
   },
   "source": [
    "## Question 2 Sample Solution"
   ]
  },
  {
   "cell_type": "markdown",
   "metadata": {
    "tags": [
     "solution"
    ]
   },
   "source": [
    "The performance of insertion sort is much closer to selection sort than\n",
    "mergesort.\n",
    "\n",
    "The outer-loop of insertion sort runs `n` times. Inside that loop, the insertion\n",
    "of `x` into its proper sorted location takes, at `i` steps, where `i` is the\n",
    "number of items already in the sorted list. The values of `i` increase like 1,\n",
    "2, 3, ..., $n$. If you take the average of those numbers, you get that `i` is\n",
    "about $\\frac{n}{2}$, so the total number of steps done by insertion sort is\n",
    "about $n \\cdot \\frac{n}{2}$, or $\\frac{n^2}{2}$.\n",
    "\n",
    "Both insertion sort and selection are quadratic algorithms, since their\n",
    "worst-case running times are both proportional to $n^2$ (where $n$ is the size\n",
    "of the list being sorted)."
   ]
  }
 ],
 "metadata": {
  "colab": {
   "authorship_tag": "ABX9TyMwgn/GaMES1Z5dY/cuoSry",
   "provenance": []
  },
  "kernelspec": {
   "display_name": "Python 3",
   "name": "python3"
  },
  "language_info": {
   "codemirror_mode": {
    "name": "ipython",
    "version": 3
   },
   "file_extension": ".py",
   "mimetype": "text/x-python",
   "name": "python",
   "nbconvert_exporter": "python",
   "pygments_lexer": "ipython3",
   "version": "3.8.10"
  }
 },
 "nbformat": 4,
 "nbformat_minor": 0
}
