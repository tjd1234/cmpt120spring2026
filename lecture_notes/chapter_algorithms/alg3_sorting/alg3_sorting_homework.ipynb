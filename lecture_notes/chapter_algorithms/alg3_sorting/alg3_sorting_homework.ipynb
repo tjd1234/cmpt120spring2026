{
  "cells": [
    {
      "cell_type": "markdown",
      "metadata": {},
      "source": [
        "# Homework Alg 3 Sorting"
      ]
    },
    {
      "cell_type": "markdown",
      "metadata": {},
      "source": [
        "This is based on the alg3 linear search course notes, and covers a few topics\n",
        "not mentioned there."
      ]
    },
    {
      "cell_type": "markdown",
      "metadata": {},
      "source": [
        "## Insertion Sort\n",
        "\n",
        "Insertion sort is another common sorting algorithm. To sort a list of `lst` of\n",
        "`n` items:\n",
        "\n",
        "1. Create an empty list called `result`.\n",
        "2. For each item `x` in `lst`:\n",
        "    3. Insert `x` into the location in `result` so that all the inserted items\n",
        "       are in sorted order.\n",
        "\n",
        "For example, suppose `lst` is `[3, 1, 4, 2]`. `result` starts as `[]`, and we\n",
        "insert each item into `result` so that it always remains sorted:\n",
        "\n",
        "```\n",
        "lst = [3, 1, 4, 2]\n",
        "result = []\n",
        "\n",
        "\n",
        "lst = [3, 1, 4, 2]   \n",
        "       ^\n",
        "       |\n",
        "       x = 3\n",
        "\n",
        "result = [3]  # insert 3 into result\n",
        "\n",
        "\n",
        "lst = [3, 1, 4, 2]\n",
        "          ^\n",
        "          |\n",
        "          x = 1\n",
        "result = [1, 3]  # insert 1 into result\n",
        "\n",
        "lst = [3, 1, 4, 2]\n",
        "             ^\n",
        "             |\n",
        "             x = 4\n",
        "result = [1, 3, 4]  # insert 4 into result\n",
        "\n",
        "\n",
        "lst = [3, 1, 4, 2]\n",
        "                ^\n",
        "                |\n",
        "                x = 2\n",
        "result = [1, 2, 3, 4]  # insert 2 into result\n",
        "```\n",
        "\n",
        "After each number is inserted the entire list is sorted."
      ]
    },
    {
      "cell_type": "markdown",
      "metadata": {},
      "source": [
        "## Practice Question 1"
      ]
    },
    {
      "cell_type": "markdown",
      "metadata": {},
      "source": [
        "Implement your own version of insertion sort based on the algorithm above, and\n",
        "test it with `test_insertion_sort`.\n",
        "\n",
        "You can trivially find insertion online or in the solutions to this question.\n",
        "\n",
        "But please try to implement it yourself first. Python slicing and list methods\n",
        "can be helpful here.\n",
        "\n",
        "You may want to first create a helper function `insert(lst, x)` that inserts `x` \n",
        "into `lst` so that `lst` remains sorted."
      ]
    },
    {
      "cell_type": "markdown",
      "metadata": {},
      "source": [
        "## Practice Question 2"
      ]
    },
    {
      "cell_type": "markdown",
      "metadata": {},
      "source": [
        "Is the performance of insertion closer to the performance of selection sort or\n",
        "mergesort (the versions from the notes)?\n",
        "\n",
        "Explain why by referring to the insertion sort algorithm."
      ]
    }
  ],
  "metadata": {
    "colab": {
      "authorship_tag": "ABX9TyMwgn/GaMES1Z5dY/cuoSry",
      "provenance": []
    },
    "kernelspec": {
      "display_name": "Python 3",
      "name": "python3"
    },
    "language_info": {
      "codemirror_mode": {
        "name": "ipython",
        "version": 3
      },
      "file_extension": ".py",
      "mimetype": "text/x-python",
      "name": "python",
      "nbconvert_exporter": "python",
      "pygments_lexer": "ipython3",
      "version": "3.8.10"
    }
  },
  "nbformat": 4,
  "nbformat_minor": 0
}
