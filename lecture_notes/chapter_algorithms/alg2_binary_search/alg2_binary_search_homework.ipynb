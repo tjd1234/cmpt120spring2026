{
  "cells": [
    {
      "cell_type": "markdown",
      "metadata": {},
      "source": [
        "# Homework Alg 2 Binary Search"
      ]
    },
    {
      "cell_type": "markdown",
      "metadata": {},
      "source": [
        "This is based on the alg2 binary search course notes, and covers a few topics\n",
        "not mentioned there."
      ]
    },
    {
      "cell_type": "markdown",
      "metadata": {},
      "source": [
        "## Practice Question 1"
      ]
    },
    {
      "cell_type": "markdown",
      "metadata": {},
      "source": [
        "Write a program that checks if a given word entered by the is an English word or\n",
        "not.\n",
        "\n",
        "Use [words.txt](words.txt) as the dictionary: a word is considered to be an\n",
        "English word just when it is in [words.txt](words.txt). \n",
        "\n",
        "Also use the `binary_search` function from the notes to efficiently check if the\n",
        "word entered by the user is an English or not.\n",
        "\n",
        "Here's a sample run of how it works:\n",
        "\n",
        "```\n",
        "--> porcupine\n",
        "'porcupine' IS an English word\n",
        "\n",
        "--> canadian\n",
        "'canadian' IS NOT an English word\n",
        "\n",
        "--> zwieback\n",
        "'zwieback' IS an English word\n",
        "\n",
        "--> swannish\n",
        "'swannish' IS NOT an English word\n",
        "```"
      ]
    }
  ],
  "metadata": {
    "colab": {
      "authorship_tag": "ABX9TyMwgn/GaMES1Z5dY/cuoSry",
      "provenance": []
    },
    "kernelspec": {
      "display_name": "Python 3",
      "name": "python3"
    },
    "language_info": {
      "codemirror_mode": {
        "name": "ipython",
        "version": 3
      },
      "file_extension": ".py",
      "mimetype": "text/x-python",
      "name": "python",
      "nbconvert_exporter": "python",
      "pygments_lexer": "ipython3",
      "version": "3.8.10"
    }
  },
  "nbformat": 4,
  "nbformat_minor": 0
}
