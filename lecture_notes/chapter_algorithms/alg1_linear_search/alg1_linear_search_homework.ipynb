{
  "cells": [
    {
      "cell_type": "markdown",
      "metadata": {},
      "source": [
        "# Homework Alg 1 Linear Search"
      ]
    },
    {
      "cell_type": "markdown",
      "metadata": {},
      "source": [
        "This is based on the alg1 linear search course notes, and covers a few topics\n",
        "not mentioned there."
      ]
    },
    {
      "cell_type": "markdown",
      "metadata": {},
      "source": [
        "## Another Version of Linear Search\n",
        "\n",
        "Here's an unusual version of linear search:"
      ]
    },
    {
      "cell_type": "code",
      "execution_count": 1,
      "metadata": {},
      "outputs": [
        {
          "name": "stdout",
          "output_type": "stream",
          "text": [
            "2\n",
            "-1\n",
            "0\n",
            "4\n"
          ]
        }
      ],
      "source": [
        "# sentinel linear search\n",
        "def sentinel_linear_search(x, lst):\n",
        "    lst.append(x)      # add sentinel\n",
        "    i = 0\n",
        "    while lst[i] != x:\n",
        "        i += 1\n",
        "    lst.pop()          # remove sentinel\n",
        "    if i < len(lst):\n",
        "        return i\n",
        "    return -1\n",
        "\n",
        "print(sentinel_linear_search([1, 2, 3, 4, 5], 3))  # 2\n",
        "print(sentinel_linear_search([1, 2, 3, 4, 5], 6))  # -1\n",
        "print(sentinel_linear_search([1, 2, 3, 4, 5], 1))  # 0\n",
        "print(sentinel_linear_search([1, 2, 3, 4, 5], 5))  # 4"
      ]
    },
    {
      "cell_type": "markdown",
      "metadata": {},
      "source": [
        "In programming, a **sentinel** is a value that marks the end of the list. The\n",
        "trick here is to use `x` as a sentinel. This guarantees that `x` is in the list,\n",
        "which means we do not need to check if the index `i` is out of bounds. After the\n",
        "search is done we remove the sentinel, and then we can check if `x` was found."
      ]
    },
    {
      "cell_type": "markdown",
      "metadata": {},
      "source": [
        "## Practice Question 1"
      ]
    },
    {
      "cell_type": "markdown",
      "metadata": {},
      "source": [
        "How fast do you think `sentinel_linear_search` is compared to the other three\n",
        "implementations in the notes.\n",
        "\n",
        "Write down one or two plausible hypotheses before going on to the next question."
      ]
    },
    {
      "cell_type": "markdown",
      "metadata": {},
      "source": [
        "## Practice Question 2"
      ]
    },
    {
      "cell_type": "markdown",
      "metadata": {},
      "source": [
        "Create a function called `speed_test_sentinel_linear_search()` that performs the\n",
        "same test as in `speed_test_while_linear_search()`. Then run it and compare the\n",
        "results to the other \"speed test\" functions.\n",
        "\n",
        "Did the results match your hypothesis?"
      ]
    }
  ],
  "metadata": {
    "colab": {
      "authorship_tag": "ABX9TyMwgn/GaMES1Z5dY/cuoSry",
      "provenance": []
    },
    "kernelspec": {
      "display_name": "Python 3",
      "name": "python3"
    },
    "language_info": {
      "codemirror_mode": {
        "name": "ipython",
        "version": 3
      },
      "file_extension": ".py",
      "mimetype": "text/x-python",
      "name": "python",
      "nbconvert_exporter": "python",
      "pygments_lexer": "ipython3",
      "version": "3.8.10"
    }
  },
  "nbformat": 4,
  "nbformat_minor": 0
}
