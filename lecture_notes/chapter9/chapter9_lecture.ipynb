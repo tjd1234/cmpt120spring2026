{
 "cells": [
  {
   "cell_type": "markdown",
   "metadata": {
    "id": "cjsmyWXsNrEg"
   },
   "source": [
    "# Chapter 9 Lecture Notes\n",
    "\n",
    "Please read chapter 9 of the textbook.\n",
    "\n",
    "These notes take 1 - 3 lecture hours to cover."
   ]
  },
  {
   "cell_type": "markdown",
   "metadata": {},
   "source": [
    "## Lists"
   ]
  },
  {
   "cell_type": "markdown",
   "metadata": {},
   "source": [
    "A Python **list** is a sequence of 0 or more values. The values can be of any\n",
    "type, and we usually only store values of the same type on a list.\n",
    "\n",
    "A **list literal** is written as a sequence of values separated by commas and\n",
    "enclosed in `[]`-square brackets. For example:"
   ]
  },
  {
   "cell_type": "code",
   "execution_count": 1,
   "metadata": {},
   "outputs": [
    {
     "name": "stdout",
     "output_type": "stream",
     "text": [
      "[190, 198, 190, 225]\n"
     ]
    }
   ],
   "source": [
    "print([190, 198, 190, 225])"
   ]
  },
  {
   "cell_type": "markdown",
   "metadata": {},
   "source": [
    "The **empty list** is the list with no elements and is written `[]`:"
   ]
  },
  {
   "cell_type": "code",
   "execution_count": 2,
   "metadata": {},
   "outputs": [
    {
     "name": "stdout",
     "output_type": "stream",
     "text": [
      "[]\n"
     ]
    }
   ],
   "source": [
    "print([])"
   ]
  },
  {
   "cell_type": "markdown",
   "metadata": {},
   "source": [
    "`len` returns the number of elements in a list:"
   ]
  },
  {
   "cell_type": "code",
   "execution_count": 3,
   "metadata": {},
   "outputs": [
    {
     "name": "stdout",
     "output_type": "stream",
     "text": [
      "[190, 198, 190, 225]\n",
      "4\n"
     ]
    }
   ],
   "source": [
    "scores = [190, 198, 190, 225]\n",
    "\n",
    "print(scores)\n",
    "print(len(scores))"
   ]
  },
  {
   "cell_type": "markdown",
   "metadata": {},
   "source": [
    "## List Indexing"
   ]
  },
  {
   "cell_type": "markdown",
   "metadata": {},
   "source": [
    "Just as with strings, you can use `[]`-brackets to access individual items on a\n",
    "list. If `lst` is a list, then `lst[i]` is the `i`-th element of the list:"
   ]
  },
  {
   "cell_type": "code",
   "execution_count": 4,
   "metadata": {},
   "outputs": [
    {
     "name": "stdout",
     "output_type": "stream",
     "text": [
      "190\n",
      "198\n",
      "190\n",
      "225\n",
      "225\n"
     ]
    }
   ],
   "source": [
    "scores = [190, 198, 190, 225]\n",
    "\n",
    "print(scores[0])  # 190\n",
    "print(scores[1])  # 198\n",
    "print(scores[2])  # 190\n",
    "print(scores[3])  # 225\n",
    "# print(scores[4])  # IndexError: list index out of range\n",
    "\n",
    "print(scores[-1])  # 225, last value on list"
   ]
  },
  {
   "cell_type": "markdown",
   "metadata": {},
   "source": [
    "## Lists are Mutable"
   ]
  },
  {
   "cell_type": "markdown",
   "metadata": {},
   "source": [
    "In contrast to strings, lists are **mutable**. This means you can change the\n",
    "values on a list, or add/remove elements:"
   ]
  },
  {
   "cell_type": "code",
   "execution_count": 8,
   "metadata": {},
   "outputs": [
    {
     "name": "stdout",
     "output_type": "stream",
     "text": [
      "[50, 198, 190, 225]\n",
      "[50, 198, 190, 76]\n",
      "[50, 208, 190, 76]\n",
      "[50, 218, 190, 76]\n"
     ]
    }
   ],
   "source": [
    "scores = [190, 198, 190, 225]\n",
    "\n",
    "scores[0] = 50\n",
    "print(scores)    # [50, 198, 190, 225]\n",
    "\n",
    "scores[-1] = 76  # [50, 198, 190, 76]\n",
    "print(scores)\n",
    "\n",
    "scores[1] = scores[1] + 10  # increment scores[1] by 10\n",
    "print(scores)    # [50, 208, 190, 76]\n",
    "\n",
    "scores[1] += 10  # increment scores[1] by 10\n",
    "print(scores)    # [50, 218, 190, 76]"
   ]
  },
  {
   "cell_type": "markdown",
   "metadata": {},
   "source": [
    "## Searching a List with `in`"
   ]
  },
  {
   "cell_type": "markdown",
   "metadata": {},
   "source": [
    "Python's `in` operator checks if an element is on a list:"
   ]
  },
  {
   "cell_type": "code",
   "execution_count": 2,
   "metadata": {},
   "outputs": [
    {
     "name": "stdout",
     "output_type": "stream",
     "text": [
      "keep trying!\n"
     ]
    }
   ],
   "source": [
    "scores = [190, 198, 190, 225]\n",
    "\n",
    "if 300 in scores:\n",
    "    print(\"you've rolled a perfect game!\")\n",
    "else:\n",
    "    print('keep trying!')"
   ]
  },
  {
   "cell_type": "markdown",
   "metadata": {},
   "source": [
    "Or:"
   ]
  },
  {
   "cell_type": "code",
   "execution_count": 11,
   "metadata": {},
   "outputs": [
    {
     "name": "stdout",
     "output_type": "stream",
     "text": [
      "Bob won!\n",
      "Eli did not win.\n",
      "Dan won!\n"
     ]
    }
   ],
   "source": [
    "winners = ['Alice', 'Bob', 'Cathy', 'Dan']\n",
    "\n",
    "if 'Bob' in winners:\n",
    "    print('Bob won!')\n",
    "else:\n",
    "    print('Bob did not win.')\n",
    "\n",
    "if 'Eli' in winners:\n",
    "    print('Eli won!')\n",
    "else:\n",
    "    print('Eli did not win.')\n",
    "\n",
    "if 'Dan' not in winners:\n",
    "    print('Dan did not win.')\n",
    "else:\n",
    "    print('Dan won!')"
   ]
  },
  {
   "cell_type": "markdown",
   "metadata": {},
   "source": [
    "## List Slices"
   ]
  },
  {
   "cell_type": "markdown",
   "metadata": {},
   "source": [
    "Similar to strings, slice notation also works with lists. If `lst` is a list,\n",
    "then `lst[i:j]` is the sublist of `lst` from index `i` to index `j` (not\n",
    "including `j`):"
   ]
  },
  {
   "cell_type": "code",
   "execution_count": 15,
   "metadata": {},
   "outputs": [
    {
     "name": "stdout",
     "output_type": "stream",
     "text": [
      "['Cathy', 'Dan']\n",
      "['Alice', 'Bob', 'Cathy']\n",
      "['Bob', 'Cathy', 'Dan']\n",
      "['Alice']\n"
     ]
    }
   ],
   "source": [
    "winners = ['Alice', 'Bob', 'Cathy', 'Dan']\n",
    "\n",
    "print(winners[2:4])  # ['Cathy', 'Dan']\n",
    "print(winners[0:3])  # ['Alice', 'Bob', 'Cathy']\n",
    "\n",
    "print(winners[1:])  # ['Bob', 'Cathy', 'Dan']\n",
    "print(winners[:1])  # ['Alice']"
   ]
  },
  {
   "cell_type": "markdown",
   "metadata": {},
   "source": [
    "`lst[i:]` is the slice starting at index `i` and going to the end of the list.\n",
    "`lst[:j]` is the slice from the start of the list up to, but not including,\n",
    "index `j`.\n",
    "\n",
    "You can make a copy of `lst` by using `lst[:]`:"
   ]
  },
  {
   "cell_type": "code",
   "execution_count": 16,
   "metadata": {},
   "outputs": [
    {
     "name": "stdout",
     "output_type": "stream",
     "text": [
      "['Eli', 'Bob', 'Cathy', 'Dan']\n",
      "['Alice', 'Bob', 'Cathy', 'Dan']\n"
     ]
    }
   ],
   "source": [
    "winners = ['Alice', 'Bob', 'Cathy', 'Dan']\n",
    "backup = ['Alice', 'Bob', 'Cathy', 'Dan']\n",
    "\n",
    "winners[0] = 'Eli'\n",
    "print(winners)  # ['Eli', 'Bob', 'Cathy', 'Dan']\n",
    "print(backup)   # ['Alice', 'Bob', 'Cathy', 'Dan']"
   ]
  },
  {
   "cell_type": "markdown",
   "metadata": {},
   "source": [
    "You can also make a copy using the `list` function or the list `copy` method:"
   ]
  },
  {
   "cell_type": "code",
   "execution_count": 17,
   "metadata": {},
   "outputs": [
    {
     "name": "stdout",
     "output_type": "stream",
     "text": [
      "['Eli', 'Bob', 'Cathy', 'Dan']\n",
      "['Alice', 'Bob', 'Cathy', 'Dan']\n",
      "['Alice', 'Bob', 'Cathy', 'Dan']\n",
      "['Alice', 'Bob', 'Cathy', 'Dan']\n"
     ]
    }
   ],
   "source": [
    "winners = ['Alice', 'Bob', 'Cathy', 'Dan']\n",
    "backup = winners[:]\n",
    "backup2 = list(winners)\n",
    "backup3 = winners.copy()\n",
    "\n",
    "winners[0] = 'Eli'\n",
    "print(winners)\n",
    "print(backup)\n",
    "print(backup2)\n",
    "print(backup3)"
   ]
  },
  {
   "cell_type": "markdown",
   "metadata": {},
   "source": [
    "## Appending Lists with `+` and `*`"
   ]
  },
  {
   "cell_type": "markdown",
   "metadata": {},
   "source": [
    "You can append two list using `+`:"
   ]
  },
  {
   "cell_type": "code",
   "execution_count": 18,
   "metadata": {},
   "outputs": [
    {
     "name": "stdout",
     "output_type": "stream",
     "text": [
      "['apple', 'banana', 'cherry', 'date', 'asparagus', 'broccoli', 'carrot', 'date']\n"
     ]
    }
   ],
   "source": [
    "fruit = ['apple', 'banana', 'cherry', 'date']\n",
    "veg = ['asparagus', 'broccoli', 'carrot', 'date']\n",
    "\n",
    "food = fruit + veg\n",
    "print(food)"
   ]
  },
  {
   "cell_type": "markdown",
   "metadata": {},
   "source": [
    "If you want to append a list to itself, you can use `*`:"
   ]
  },
  {
   "cell_type": "code",
   "execution_count": 19,
   "metadata": {},
   "outputs": [
    {
     "name": "stdout",
     "output_type": "stream",
     "text": [
      "['yes', 'no', 'yes', 'no', 'yes', 'no']\n"
     ]
    }
   ],
   "source": [
    "choices = ['yes', 'no']\n",
    "\n",
    "alternate = choices * 3\n",
    "print(alternate)  # ['yes', 'no', 'yes', 'no', 'yes', 'no']"
   ]
  },
  {
   "cell_type": "markdown",
   "metadata": {},
   "source": [
    "## Some Basic List Functions"
   ]
  },
  {
   "cell_type": "markdown",
   "metadata": {},
   "source": [
    "If `lst` is a list, then `min(lst)` returns the smallest element of the list,\n",
    "`max(lst)` returns the largest element of the list, and `sum(lst)` returns the\n",
    "sum of the elements:"
   ]
  },
  {
   "cell_type": "code",
   "execution_count": 20,
   "metadata": {},
   "outputs": [
    {
     "name": "stdout",
     "output_type": "stream",
     "text": [
      "Min: 70\n",
      "Max: 95\n",
      "Sum: 420\n",
      "Avg: 84.0\n"
     ]
    }
   ],
   "source": [
    "scores = [90, 80, 70, 85, 95]\n",
    "\n",
    "print(f'Min: {min(scores)}')\n",
    "print(f'Max: {max(scores)}')\n",
    "print(f'Sum: {sum(scores)}')\n",
    "print(f'Avg: {sum(scores) / len(scores)}')"
   ]
  },
  {
   "cell_type": "markdown",
   "metadata": {},
   "source": [
    "`min` and `max` also work with lists of strings:"
   ]
  },
  {
   "cell_type": "code",
   "execution_count": 22,
   "metadata": {},
   "outputs": [
    {
     "name": "stdout",
     "output_type": "stream",
     "text": [
      "Alphabetically first: Alice\n",
      "Alphabetically last: Dan\n"
     ]
    }
   ],
   "source": [
    "winners = ['Alice', 'Bob', 'Cathy', 'Dan']\n",
    "\n",
    "print(f'Alphabetically first: {min(winners)}')\n",
    "print(f'Alphabetically last: {max(winners)}')\n"
   ]
  },
  {
   "cell_type": "markdown",
   "metadata": {},
   "source": [
    "## List Methods"
   ]
  },
  {
   "cell_type": "markdown",
   "metadata": {},
   "source": [
    "Lists have a number of useful built-in methods.\n",
    "\n",
    "One of the most useful is `lst.append(x)`, which adds element `x` to the end of\n",
    "`lst`:"
   ]
  },
  {
   "cell_type": "code",
   "execution_count": 23,
   "metadata": {},
   "outputs": [
    {
     "name": "stdout",
     "output_type": "stream",
     "text": [
      "['Alice', 'Bob', 'Cathy', 'Dan']\n"
     ]
    }
   ],
   "source": [
    "names = []\n",
    "names.append('Alice')  # ['Alice']\n",
    "names.append('Bob')    # ['Alice', 'Bob']\n",
    "names.append('Cathy')  # ['Alice', 'Bob', 'Cathy']\n",
    "names.append('Dan')    # ['Alice', 'Bob', 'Cathy', 'Dan']\n",
    "\n",
    "print(names)"
   ]
  },
  {
   "cell_type": "markdown",
   "metadata": {},
   "source": [
    "`lst.append` adds a single element, and `lst.extend(other_list)` adds all the\n",
    "elements of `other_list` to the end of `lst`:"
   ]
  },
  {
   "cell_type": "code",
   "execution_count": 24,
   "metadata": {},
   "outputs": [
    {
     "name": "stdout",
     "output_type": "stream",
     "text": [
      "['apple', 'banana', 'cherry', 'date', 'asparagus', 'broccoli', 'carrot', 'date']\n"
     ]
    }
   ],
   "source": [
    "fruit = ['apple', 'banana', 'cherry', 'date']\n",
    "veg = ['asparagus', 'broccoli', 'carrot', 'date']\n",
    "\n",
    "fruit.extend(veg)\n",
    "\n",
    "print(fruit)"
   ]
  },
  {
   "cell_type": "markdown",
   "metadata": {},
   "source": [
    "One way to remove an element from a list is with `lst.pop(i)`, which removes the\n",
    "item at index `i` and returns it:"
   ]
  },
  {
   "cell_type": "code",
   "execution_count": 26,
   "metadata": {},
   "outputs": [
    {
     "name": "stdout",
     "output_type": "stream",
     "text": [
      "snack: date\n",
      "fruit: ['apple', 'banana', 'cherry']\n"
     ]
    }
   ],
   "source": [
    "fruit = ['apple', 'banana', 'cherry', 'date']\n",
    "\n",
    "snack = fruit.pop(1)  # remove and return the second element\n",
    "                      # i.e. remove fruit[1] and return it\n",
    "\n",
    "print(f'snack: {snack}')  # banana\n",
    "print(f'fruit: {fruit}')  # ['apple', 'cherry', 'date']"
   ]
  },
  {
   "cell_type": "markdown",
   "metadata": {},
   "source": [
    "If you call `lst.pop()` with no arguments, it removes and returns the last item\n",
    "of the list:"
   ]
  },
  {
   "cell_type": "code",
   "execution_count": null,
   "metadata": {},
   "outputs": [],
   "source": [
    "fruit = ['apple', 'banana', 'cherry', 'date']\n",
    "\n",
    "snack = fruit.pop()  # remove and return the last element\n",
    "                     # i.e. remove fruit[3] and return it\n",
    "\n",
    "print(f'snack: {snack}')  # banana\n",
    "print(f'fruit: {fruit}')  # ['apple', 'banana', 'cherry']"
   ]
  },
  {
   "cell_type": "markdown",
   "metadata": {},
   "source": [
    "Another way to remove an element is to use `lst.remove(x)`, which removes the\n",
    "*first* occurrence of `x` from the list:"
   ]
  },
  {
   "cell_type": "code",
   "execution_count": 27,
   "metadata": {},
   "outputs": [
    {
     "name": "stdout",
     "output_type": "stream",
     "text": [
      "['hat', 'shirt', 'pants', 'sock']\n"
     ]
    }
   ],
   "source": [
    "laundry = ['hat', 'shirt', 'sock', 'pants', 'sock']\n",
    "laundry.remove('sock')  # remove the first 'sock' from the list\n",
    "\n",
    "print(laundry)  # ['hat', 'shirt', 'pants', 'sock']"
   ]
  },
  {
   "cell_type": "markdown",
   "metadata": {},
   "source": [
    "Only the first occurrence of `sock` is removed.\n",
    "\n",
    "If you try to remove an element that is not in the list, you get a `ValueError`:"
   ]
  },
  {
   "cell_type": "code",
   "execution_count": 28,
   "metadata": {},
   "outputs": [
    {
     "ename": "ValueError",
     "evalue": "list.remove(x): x not in list",
     "output_type": "error",
     "traceback": [
      "\u001b[0;31m---------------------------------------------------------------------------\u001b[0m",
      "\u001b[0;31mValueError\u001b[0m                                Traceback (most recent call last)",
      "\u001b[0;32m/tmp/ipykernel_24809/1688311702.py\u001b[0m in \u001b[0;36m<module>\u001b[0;34m\u001b[0m\n\u001b[1;32m      1\u001b[0m \u001b[0mlaundry\u001b[0m \u001b[0;34m=\u001b[0m \u001b[0;34m[\u001b[0m\u001b[0;34m'hat'\u001b[0m\u001b[0;34m,\u001b[0m \u001b[0;34m'shirt'\u001b[0m\u001b[0;34m,\u001b[0m \u001b[0;34m'sock'\u001b[0m\u001b[0;34m,\u001b[0m \u001b[0;34m'pants'\u001b[0m\u001b[0;34m,\u001b[0m \u001b[0;34m'sock'\u001b[0m\u001b[0;34m]\u001b[0m\u001b[0;34m\u001b[0m\u001b[0;34m\u001b[0m\u001b[0m\n\u001b[0;32m----> 2\u001b[0;31m \u001b[0mlaundry\u001b[0m\u001b[0;34m.\u001b[0m\u001b[0mremove\u001b[0m\u001b[0;34m(\u001b[0m\u001b[0;34m'glove'\u001b[0m\u001b[0;34m)\u001b[0m  \u001b[0;31m# ValueError: list.remove(x): x not in list\u001b[0m\u001b[0;34m\u001b[0m\u001b[0;34m\u001b[0m\u001b[0m\n\u001b[0m",
      "\u001b[0;31mValueError\u001b[0m: list.remove(x): x not in list"
     ]
    }
   ],
   "source": [
    "laundry = ['hat', 'shirt', 'sock', 'pants', 'sock']\n",
    "laundry.remove('glove')  # ValueError: list.remove(x): x not in list"
   ]
  },
  {
   "cell_type": "markdown",
   "metadata": {},
   "source": [
    "You could use `in` to first check if the value is in the list:"
   ]
  },
  {
   "cell_type": "code",
   "execution_count": 30,
   "metadata": {},
   "outputs": [
    {
     "name": "stdout",
     "output_type": "stream",
     "text": [
      "pants removed\n",
      "['hat', 'shirt', 'sock', 'sock']\n"
     ]
    }
   ],
   "source": [
    "laundry = ['hat', 'shirt', 'sock', 'pants', 'sock']\n",
    "x = 'pants'\n",
    "if x in laundry:\n",
    "    laundry.remove(x)\n",
    "    print(f'{x} removed from laundry')\n",
    "    print(laundry)\n",
    "else:\n",
    "    print(f'{x} not found')"
   ]
  },
  {
   "cell_type": "markdown",
   "metadata": {},
   "source": [
    "## Lists and Strings"
   ]
  },
  {
   "cell_type": "markdown",
   "metadata": {},
   "source": [
    "You can convert a string to a list like this:"
   ]
  },
  {
   "cell_type": "code",
   "execution_count": 2,
   "metadata": {},
   "outputs": [
    {
     "name": "stdout",
     "output_type": "stream",
     "text": [
      "['a', 'l', 'i', 'c', 'e']\n"
     ]
    }
   ],
   "source": [
    "name = 'alice'\n",
    "name_list = list(name)  # ['a', 'l', 'i', 'c', 'e']\n",
    "\n",
    "print(name_list)"
   ]
  },
  {
   "cell_type": "markdown",
   "metadata": {},
   "source": [
    "You cannot modify a string, but you can modify a list. So, if you want to modify\n",
    "a string, you can convert it to a list, modify the list, and then convert the\n",
    "list back to a string:"
   ]
  },
  {
   "cell_type": "code",
   "execution_count": 4,
   "metadata": {},
   "outputs": [
    {
     "name": "stdout",
     "output_type": "stream",
     "text": [
      "Alice\n"
     ]
    }
   ],
   "source": [
    "name = 'alice'\n",
    "name_list = list(name)  # ['a', 'l', 'i', 'c', 'e']\n",
    "name_list[0] = 'A'\n",
    "name = ''.join(name_list)  # 'Alice'\n",
    "\n",
    "print(name)"
   ]
  },
  {
   "cell_type": "markdown",
   "metadata": {},
   "source": [
    "Notice the use of the string method `join` to concatenate the list of strings.\n",
    "It prints strings separated by the string on which `join` is called:"
   ]
  },
  {
   "cell_type": "code",
   "execution_count": 5,
   "metadata": {},
   "outputs": [
    {
     "name": "stdout",
     "output_type": "stream",
     "text": [
      "hat, shirt, sock, pants, sock\n",
      "hat and shirt and sock and pants and sock\n"
     ]
    }
   ],
   "source": [
    "laundry = ['hat', 'shirt', 'sock', 'pants', 'sock']\n",
    "\n",
    "items = ', '.join(laundry)  # 'hat, shirt, sock, pants, sock'\n",
    "print(items)\n",
    "\n",
    "items = ' and '.join(laundry)  # 'hat and shirt and sock and pants and sock'\n",
    "print(items)"
   ]
  },
  {
   "cell_type": "markdown",
   "metadata": {},
   "source": [
    "A list of values separated by a comma is a common format for data, called\n",
    "**comma-separated values** or **CSV**. \n",
    "\n",
    "The `split` method is the opposite of `join`, and converts a string into a list\n",
    "of values:"
   ]
  },
  {
   "cell_type": "code",
   "execution_count": 6,
   "metadata": {},
   "outputs": [
    {
     "name": "stdout",
     "output_type": "stream",
     "text": [
      "['Alice', 'Bob', 'Cathy', 'Dan']\n"
     ]
    }
   ],
   "source": [
    "names = 'Alice Bob Cathy Dan'.split()\n",
    "print(names)  # ['Alice', 'Bob', 'Cathy', 'Dan']"
   ]
  },
  {
   "cell_type": "markdown",
   "metadata": {},
   "source": [
    "Or you split a string on a character, such as a comma:"
   ]
  },
  {
   "cell_type": "code",
   "execution_count": 7,
   "metadata": {},
   "outputs": [
    {
     "name": "stdout",
     "output_type": "stream",
     "text": [
      "['Alice', ' Bob', ' Cathy', ' Dan']\n"
     ]
    }
   ],
   "source": [
    "names = 'Alice, Bob, Cathy, Dan'.split(',')\n",
    "print(names)  # ['Alice', ' Bob', ' Cathy', ' Dan']"
   ]
  },
  {
   "cell_type": "markdown",
   "metadata": {},
   "source": [
    "Notice there is an extra space at the start of `Bob`, `Cathy`, and `Dan`. This\n",
    "is because each comma is followed by a space in the string."
   ]
  },
  {
   "cell_type": "markdown",
   "metadata": {},
   "source": [
    "## Looping Over a List"
   ]
  },
  {
   "cell_type": "markdown",
   "metadata": {},
   "source": [
    "You can loop through the values of a list using a for-loop:"
   ]
  },
  {
   "cell_type": "code",
   "execution_count": 8,
   "metadata": {},
   "outputs": [
    {
     "name": "stdout",
     "output_type": "stream",
     "text": [
      "190\n",
      "198\n",
      "190\n",
      "225\n"
     ]
    }
   ],
   "source": [
    "scores = [190, 198, 190, 225]\n",
    "for s in scores:\n",
    "    print(s)"
   ]
  },
  {
   "cell_type": "markdown",
   "metadata": {},
   "source": [
    "You can loop through the words of a string using `split`:"
   ]
  },
  {
   "cell_type": "code",
   "execution_count": 9,
   "metadata": {},
   "outputs": [
    {
     "name": "stdout",
     "output_type": "stream",
     "text": [
      "The\n",
      "quick\n",
      "brown\n",
      "fox\n"
     ]
    }
   ],
   "source": [
    "sentence = 'The quick brown fox'\n",
    "\n",
    "for word in sentence.split():\n",
    "    print(word)"
   ]
  },
  {
   "cell_type": "markdown",
   "metadata": {},
   "source": [
    "## Sorting a List"
   ]
  },
  {
   "cell_type": "markdown",
   "metadata": {},
   "source": [
    "There are two common ways to **sort** the values of list, i.e. arrange the\n",
    "values from smallest to biggest.\n",
    "\n",
    "One way is with the `sort` method, which sorts the list *in place*, i.e. it\n",
    "modifies the list:"
   ]
  },
  {
   "cell_type": "code",
   "execution_count": 11,
   "metadata": {},
   "outputs": [
    {
     "name": "stdout",
     "output_type": "stream",
     "text": [
      "[190, 190, 198, 201, 225]\n",
      "['apple', 'apple', 'grape', 'grapefruit', 'pear', 'plum']\n"
     ]
    }
   ],
   "source": [
    "scores = [190, 201, 198, 190, 225]\n",
    "scores.sort()\n",
    "print(scores)\n",
    "\n",
    "fruit = 'grape apple plum pear apple grapefruit'.split()\n",
    "fruit.sort()\n",
    "print(fruit)  # ['apple', 'apple', 'grape', 'grapefruit', 'pear', 'plum']"
   ]
  },
  {
   "cell_type": "markdown",
   "metadata": {},
   "source": [
    "The other common way is to use `sorted(lst)` which returns a new list with the\n",
    "value of `lst` sorted. `lst` is unchanged:"
   ]
  },
  {
   "cell_type": "code",
   "execution_count": 13,
   "metadata": {},
   "outputs": [
    {
     "name": "stdout",
     "output_type": "stream",
     "text": [
      "[190, 190, 198, 201, 225]\n",
      "[190, 201, 198, 190, 225]\n",
      "\n",
      "['apple', 'apple', 'grape', 'grapefruit', 'pear', 'plum']\n",
      "['grape', 'apple', 'plum', 'pear', 'apple', 'grapefruit']\n"
     ]
    }
   ],
   "source": [
    "scores = [190, 201, 198, 190, 225]\n",
    "print(sorted(scores))\n",
    "print(scores)\n",
    "print()\n",
    "\n",
    "fruit = 'grape apple plum pear apple grapefruit'.split()\n",
    "print(sorted(fruit))\n",
    "print(fruit)"
   ]
  },
  {
   "cell_type": "markdown",
   "metadata": {},
   "source": [
    "In general, the `sort()` method is faster and uses less memory than `sort`. But\n",
    "if you want to keep the original unsorted list, then you should use `sorted`."
   ]
  },
  {
   "cell_type": "markdown",
   "metadata": {},
   "source": [
    "## Aliasing"
   ]
  },
  {
   "cell_type": "markdown",
   "metadata": {},
   "source": [
    "When a value has two or more names, we say is **aliased**, and that the names\n",
    "are **aliases**. Aliases can cause confusion with mutable values like lists:"
   ]
  },
  {
   "cell_type": "code",
   "execution_count": 14,
   "metadata": {},
   "outputs": [
    {
     "name": "stdout",
     "output_type": "stream",
     "text": [
      "a = [1, 2, 3]\n",
      "b = [1, 2, 3]\n",
      "a = [100, 2, 3]\n",
      "b = [100, 2, 3]\n"
     ]
    }
   ],
   "source": [
    "a = [1, 2, 3]\n",
    "b = a  # b is an alias for a\n",
    "print(f'a = {a}')\n",
    "print(f'b = {b}')\n",
    "\n",
    "b[0] = 100\n",
    "print(f'a = {a}')\n",
    "print(f'b = {b}')"
   ]
  },
  {
   "cell_type": "markdown",
   "metadata": {},
   "source": [
    "Since `a` and `b` are aliases, changing `a` also changes `b`. The assignment\n",
    "statement `a = b` does *not* make a copy of list `b`. If you want a copy, then\n",
    "you should use `a = b[:]` or `a = list(b)`.\n",
    "\n",
    "Note that aliasing is not as big a problem with strings, because strings are\n",
    "immutable:"
   ]
  },
  {
   "cell_type": "code",
   "execution_count": null,
   "metadata": {},
   "outputs": [],
   "source": [
    "a = 'house'\n",
    "b = a  # b is an alias for a\n",
    "print(f'a = {a}')\n",
    "print(f'b = {b}')\n",
    "\n",
    "# a[0] = 'H' # TypeError: 'str' object does not support item assignment\n",
    "# print(f'a = {a}')\n",
    "# print(f'b = {b}')"
   ]
  },
  {
   "cell_type": "markdown",
   "metadata": {},
   "source": [
    "## Passing Lists to Functions"
   ]
  },
  {
   "cell_type": "markdown",
   "metadata": {},
   "source": [
    "When you pass a list to a function, you are passing a reference to the list. No\n",
    "copy is made:"
   ]
  },
  {
   "cell_type": "code",
   "execution_count": 15,
   "metadata": {},
   "outputs": [
    {
     "name": "stdout",
     "output_type": "stream",
     "text": [
      "[201, 198, 190, 225]\n"
     ]
    }
   ],
   "source": [
    "def drop_head(lst):\n",
    "    lst.pop(0)\n",
    "\n",
    "scores = [190, 201, 198, 190, 225]\n",
    "drop_head(scores)\n",
    "print(scores)  # [201, 198, 190, 225]"
   ]
  },
  {
   "cell_type": "markdown",
   "metadata": {},
   "source": [
    "`drop_head` modifies the passed-in list. Passing a reference in this way is\n",
    "called **pass by reference**."
   ]
  },
  {
   "cell_type": "markdown",
   "metadata": {},
   "source": [
    "## Example: Making a List of Words"
   ]
  },
  {
   "cell_type": "markdown",
   "metadata": {},
   "source": [
    "[words.txt](words.txt) is a list of words, one word per line. One way we can\n",
    "read all the words into a list is a line at a time like this:"
   ]
  },
  {
   "cell_type": "code",
   "execution_count": 4,
   "metadata": {},
   "outputs": [
    {
     "name": "stdout",
     "output_type": "stream",
     "text": [
      "113783 words read\n",
      "first 5: ['aa', 'aah', 'aahed', 'aahing', 'aahs']\n",
      " last 5: ['zymoses', 'zymosis', 'zymotic', 'zymurgies', 'zymurgy']\n",
      "unmagnificent is NOT a word\n"
     ]
    }
   ],
   "source": [
    "words = []\n",
    "\n",
    "for line in open('words.txt'):\n",
    "    words.append(line.strip())\n",
    "\n",
    "print(f'{len(words)} words read')\n",
    "print(f'first 5: {words[:5]}')\n",
    "print(f' last 5: {words[-5:]}')\n",
    "\n",
    "test_word = 'unmagnificent'\n",
    "\n",
    "if test_word in words:\n",
    "    print(f'{test_word} is a word')\n",
    "else:\n",
    "    print(f'{test_word} is NOT a word')"
   ]
  },
  {
   "cell_type": "markdown",
   "metadata": {},
   "source": [
    "Since `word_list` has 113,809 words, the expression `test_word in words` could\n",
    "potentially look through all 113,809 words, i.e. in the case when `test_word` is\n",
    "not in the list."
   ]
  },
  {
   "cell_type": "markdown",
   "metadata": {},
   "source": [
    "Another way to read the words is to read the entire file into a string and then\n",
    "split the string into words. The file object `read` method reads the entire file\n",
    "into a single string, and then we can call `split` to split the string into a\n",
    "list of words:"
   ]
  },
  {
   "cell_type": "code",
   "execution_count": 6,
   "metadata": {},
   "outputs": [
    {
     "name": "stdout",
     "output_type": "stream",
     "text": [
      "113783 words read\n",
      "first 5: ['aa', 'aah', 'aahed', 'aahing', 'aahs']\n",
      " last 5: ['zymoses', 'zymosis', 'zymotic', 'zymurgies', 'zymurgy']\n",
      "unmagnificent is NOT a word\n"
     ]
    }
   ],
   "source": [
    "words = open('words.txt').read().split()\n",
    "\n",
    "print(f'{len(words)} words read')\n",
    "print(f'first 5: {words[:5]}')\n",
    "print(f' last 5: {words[-5:]}')\n",
    "\n",
    "test_word = 'magnificent'\n",
    "\n",
    "if test_word in words:\n",
    "    print(f'{test_word} is a word')\n",
    "else:\n",
    "    print(f'{test_word} is NOT a word')"
   ]
  },
  {
   "cell_type": "markdown",
   "metadata": {},
   "source": [
    "The results are the same as before, but `words` was created in a single\n",
    "statement that is not too hard to read."
   ]
  },
  {
   "cell_type": "markdown",
   "metadata": {},
   "source": [
    "## Questions\n",
    "\n",
    "1. Can a Python list contain elements of different types?\n",
    "\n",
    "2. Write an index expression that returns the 10th item of a list `lst`. Assume\n",
    "   `lst` has at least 10 elements.\n",
    "\n",
    "3. If `lst` is a list, what are the possible values of `lst[len(lst)]`?\n",
    "\n",
    "4. How can you test if list `lst` contains the value `x`?\n",
    "\n",
    "5. How can you add `'cat'` to the right end of a list `lst`?\n",
    "\n",
    "6. What are two different ways to:\n",
    "\n",
    "   - make a copy of a list\n",
    "   - add all the elements of `other_lst` to the right end of list `lst`?\n",
    "   - remove an element from a list\n",
    "\n",
    "7. How can you convert a string of words, separated by commas, into a list of\n",
    "   words?\n",
    "\n",
    "8. How can you convert a list of words into a string of words separated by a\n",
    "   comma?\n",
    "\n",
    "9. What is the difference between `sort` and `sorted`?\n",
    "\n",
    "10. What is aliasing? Give an example of how it can be a problem with mutable\n",
    "    values like lists.\n",
    "\n",
    "11. In Python, when you pass a list to a function, is a copy passed, or is a\n",
    "    reference to the list passed?"
   ]
  }
 ],
 "metadata": {
  "colab": {
   "authorship_tag": "ABX9TyNDPRhikI2Q71waRP7/kTi/",
   "mount_file_id": "1RtZk2Rw4mNshgxrTBWTSrrRwywQ3Grx8",
   "provenance": []
  },
  "kernelspec": {
   "display_name": "base",
   "language": "python",
   "name": "python3"
  },
  "language_info": {
   "codemirror_mode": {
    "name": "ipython",
    "version": 3
   },
   "file_extension": ".py",
   "mimetype": "text/x-python",
   "name": "python",
   "nbconvert_exporter": "python",
   "pygments_lexer": "ipython3",
   "version": "3.12.7"
  }
 },
 "nbformat": 4,
 "nbformat_minor": 0
}
