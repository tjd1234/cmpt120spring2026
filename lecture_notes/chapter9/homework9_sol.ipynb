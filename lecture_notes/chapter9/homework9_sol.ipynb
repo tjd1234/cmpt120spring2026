{
 "cells": [
  {
   "cell_type": "markdown",
   "metadata": {},
   "source": [
    "# Homework 9"
   ]
  },
  {
   "cell_type": "markdown",
   "metadata": {},
   "source": [
    "This is based on chapter 9 of the course notes, and may introduce a few topics\n",
    "not mentioned there.\n",
    "\n",
    "You can also do the exercises at the bottom of the textbook chapter."
   ]
  },
  {
   "cell_type": "markdown",
   "metadata": {},
   "source": [
    "## Practice Question 1"
   ]
  },
  {
   "cell_type": "markdown",
   "metadata": {},
   "source": [
    "Write a program makes a list called `good_matches` of all the words in\n",
    "[words.txt](words.txt) with a sequence of three, or more, consecutive vowels in\n",
    "a row. \n",
    "\n",
    "For this question, the vowels are *a*, *e*, *i*, *o*, and *u*.\n",
    "\n",
    "Your program should find 1375 matching words in [words.txt](words.txt):\n",
    "\n",
    "```\n",
    "Found 1375 good words\n",
    " first 5: aboideau, aboideaus, aboideaux, aboiteau, aboiteaus\n",
    "middle 5: halloaed, halloaing, hallooed, hallooing, harmonious\n",
    "  last 5: zooid, zooidal, zooids, zouave, zouaves\n",
    "```"
   ]
  },
  {
   "cell_type": "code",
   "execution_count": 1,
   "metadata": {
    "tags": [
     "solution"
    ]
   },
   "outputs": [
    {
     "name": "stdout",
     "output_type": "stream",
     "text": [
      "Found 1375 good words\n",
      " first 5: aboideau, aboideaus, aboideaux, aboiteau, aboiteaus\n",
      "middle 5: halloaed, halloaing, hallooed, hallooing, harmonious\n",
      "  last 5: zooid, zooidal, zooids, zouave, zouaves\n"
     ]
    }
   ],
   "source": [
    "#\n",
    "# Sample Solution\n",
    "#\n",
    "\n",
    "def is_vowel(c):\n",
    "    return len(c) == 1 and c in 'aeiou'\n",
    "\n",
    "def all_vowels(w):\n",
    "    \"\"\"Returns True if all characters in w are vowels, False otherwise.\n",
    "    \"\"\"\n",
    "    for c in w:\n",
    "        if not is_vowel(c):\n",
    "            return False\n",
    "    return True\n",
    "\n",
    "def all_same(w):\n",
    "    \"\"\"Returns True if all characters in w are the same, False otherwise.\n",
    "    \"\"\"\n",
    "    for i in range(len(w) - 1):\n",
    "        if w[i] != w[i+1]:\n",
    "            return False\n",
    "    return True\n",
    "\n",
    "def is_matching(w):\n",
    "    if len(w) < 3: return False\n",
    "    \n",
    "    # look at all slices of 3 characters of w\n",
    "    for i in range(len(w) - 2):\n",
    "        if all_vowels(w[i:i+3]):\n",
    "            return True\n",
    "    return False\n",
    "\n",
    "#\n",
    "# read the words of the file\n",
    "#\n",
    "\n",
    "words = open('words.txt').read().split()\n",
    "\n",
    "matching_words = []\n",
    "for w in words:\n",
    "    if is_matching(w):\n",
    "        matching_words.append(w)\n",
    "\n",
    "print(f'Found {len(matching_words)} good words')\n",
    "\n",
    "print(f' first 5:', ', '.join(matching_words[:5]))\n",
    "print(f'middle 5:', ', '.join(matching_words[500:505]))\n",
    "print(f'  last 5:', ', '.join(matching_words[-5:]))"
   ]
  },
  {
   "cell_type": "markdown",
   "metadata": {},
   "source": [
    "## Practice Question 2"
   ]
  },
  {
   "cell_type": "markdown",
   "metadata": {},
   "source": [
    "Write a program that makes a list called `matching_words` of all the words in\n",
    "[words.txt](words.txt) where each vowel *a*, *e*, *i*, *o*, and *u* occurs\n",
    "exactly once, and they are also in alphabetical order.\n",
    "\n",
    "There are 5 such words in [words.txt](words.txt). For instance, one of the words\n",
    "is \"abstemious\"."
   ]
  },
  {
   "cell_type": "code",
   "execution_count": 16,
   "metadata": {
    "tags": [
     "solution"
    ]
   },
   "outputs": [
    {
     "name": "stdout",
     "output_type": "stream",
     "text": [
      "Found 5 matching words\n",
      "abstemious, abstemiously, arsenious, facetious, facetiously\n"
     ]
    }
   ],
   "source": [
    "#\n",
    "# Sample solution\n",
    "#\n",
    "\n",
    "words = open('words.txt').read().split()\n",
    "\n",
    "matching_words = []\n",
    "for w in words:\n",
    "    if w.count('a') == 1 and w.count('e') == 1 and w.count('i') == 1 and w.count('o') == 1 and w.count('u') == 1 \\\n",
    "    and w.index('a') < w.index('e') < w.index('i') < w.index('o') < w.index('u'):\n",
    "        matching_words.append(w)\n",
    "\n",
    "n = len(matching_words)\n",
    "print(f'Found {n} matching words')\n",
    "\n",
    "print(', '.join(matching_words))"
   ]
  },
  {
   "cell_type": "markdown",
   "metadata": {},
   "source": [
    "## Practice Question 3"
   ]
  },
  {
   "cell_type": "markdown",
   "metadata": {},
   "source": [
    "Write a program that makes a list called `matching_words` of all the words in\n",
    "[words.txt](words.txt) where each vowel *a*, *e*, *i*, *o*, and *u* occurs\n",
    "exactly once, and they are also in *reverse* alphabetical order.\n",
    "\n",
    "There is only 1 such word in [words.txt](words.txt)."
   ]
  },
  {
   "cell_type": "code",
   "execution_count": 17,
   "metadata": {
    "tags": [
     "solution"
    ]
   },
   "outputs": [
    {
     "name": "stdout",
     "output_type": "stream",
     "text": [
      "Found 1 matching words\n",
      "uncomplimentary\n"
     ]
    }
   ],
   "source": [
    "#\n",
    "# Sample solution\n",
    "#\n",
    "\n",
    "words = open('words.txt').read().split()\n",
    "\n",
    "matching_words = []\n",
    "for w in words:\n",
    "    if w.count('a') == 1 and w.count('e') == 1 and w.count('i') == 1 and w.count('o') == 1 and w.count('u') == 1 \\\n",
    "    and w.index('a') > w.index('e') > w.index('i') > w.index('o') > w.index('u'):\n",
    "        matching_words.append(w)\n",
    "\n",
    "n = len(matching_words)\n",
    "print(f'Found {n} matching words')\n",
    "\n",
    "print(', '.join(matching_words))"
   ]
  }
 ],
 "metadata": {
  "kernelspec": {
   "display_name": "Python 3",
   "language": "python",
   "name": "python3"
  },
  "language_info": {
   "codemirror_mode": {
    "name": "ipython",
    "version": 3
   },
   "file_extension": ".py",
   "mimetype": "text/x-python",
   "name": "python",
   "nbconvert_exporter": "python",
   "pygments_lexer": "ipython3",
   "version": "3.10.12"
  }
 },
 "nbformat": 4,
 "nbformat_minor": 2
}
