{
  "cells": [
    {
      "cell_type": "markdown",
      "metadata": {},
      "source": [
        "# Homework 9"
      ]
    },
    {
      "cell_type": "markdown",
      "metadata": {},
      "source": [
        "This is based on chapter 9 of the course notes, and may introduce a few topics\n",
        "not mentioned there.\n",
        "\n",
        "You can also do the exercises at the bottom of the textbook chapter."
      ]
    },
    {
      "cell_type": "markdown",
      "metadata": {},
      "source": [
        "## Practice Question 1"
      ]
    },
    {
      "cell_type": "markdown",
      "metadata": {},
      "source": [
        "Write a program makes a list called `good_matches` of all the words in\n",
        "[words.txt](words.txt) with a sequence of three, or more, consecutive vowels in\n",
        "a row. \n",
        "\n",
        "For this question, the vowels are *a*, *e*, *i*, *o*, and *u*.\n",
        "\n",
        "Your program should find 1375 matching words in [words.txt](words.txt):\n",
        "\n",
        "```\n",
        "Found 1375 good words\n",
        " first 5: aboideau, aboideaus, aboideaux, aboiteau, aboiteaus\n",
        "middle 5: halloaed, halloaing, hallooed, hallooing, harmonious\n",
        "  last 5: zooid, zooidal, zooids, zouave, zouaves\n",
        "```"
      ]
    },
    {
      "cell_type": "markdown",
      "metadata": {},
      "source": [
        "## Practice Question 2"
      ]
    },
    {
      "cell_type": "markdown",
      "metadata": {},
      "source": [
        "Write a program that makes a list called `matching_words` of all the words in\n",
        "[words.txt](words.txt) where each vowel *a*, *e*, *i*, *o*, and *u* occurs\n",
        "exactly once, and they are also in alphabetical order.\n",
        "\n",
        "There are 5 such words in [words.txt](words.txt). For instance, one of the words\n",
        "is \"abstemious\"."
      ]
    },
    {
      "cell_type": "markdown",
      "metadata": {},
      "source": [
        "## Practice Question 3"
      ]
    },
    {
      "cell_type": "markdown",
      "metadata": {},
      "source": [
        "Write a program that makes a list called `matching_words` of all the words in\n",
        "[words.txt](words.txt) where each vowel *a*, *e*, *i*, *o*, and *u* occurs\n",
        "exactly once, and they are also in *reverse* alphabetical order.\n",
        "\n",
        "There is only 1 such word in [words.txt](words.txt)."
      ]
    }
  ],
  "metadata": {
    "kernelspec": {
      "display_name": "Python 3",
      "language": "python",
      "name": "python3"
    },
    "language_info": {
      "codemirror_mode": {
        "name": "ipython",
        "version": 3
      },
      "file_extension": ".py",
      "mimetype": "text/x-python",
      "name": "python",
      "nbconvert_exporter": "python",
      "pygments_lexer": "ipython3",
      "version": "3.10.12"
    }
  },
  "nbformat": 4,
  "nbformat_minor": 2
}
