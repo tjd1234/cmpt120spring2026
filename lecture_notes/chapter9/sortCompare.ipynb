{
 "cells": [
  {
   "cell_type": "markdown",
   "metadata": {},
   "source": [
    "# Comparing Sorting Functions"
   ]
  },
  {
   "cell_type": "markdown",
   "metadata": {},
   "source": [
    "This notebook compares a number of sorting algorithms in both running time and\n",
    "number of comparisons."
   ]
  },
  {
   "cell_type": "markdown",
   "metadata": {},
   "source": [
    "## Test Code for Sorting Algorithms"
   ]
  },
  {
   "cell_type": "code",
   "execution_count": 14,
   "metadata": {},
   "outputs": [],
   "source": [
    "#\n",
    "# The passed-in sort_func should take a list as input and return a sorted list,\n",
    "# the number of comparisons, and the running time.\n",
    "#\n",
    "def sort_test(sort_func):\n",
    "    print(f\"Testing {sort_func.__name__} ...\")\n",
    "    table = [ # (input, expected output)\n",
    "        ([], []),\n",
    "        ([1], [1]),\n",
    "        ([2, 1], [1, 2]),\n",
    "        ([1, 2], [1, 2]),\n",
    "        ([2, 2], [2, 2]),\n",
    "        ([3, 2, 1], [1, 2, 3]),\n",
    "        ([3, 1, 2], [1, 2, 3]),\n",
    "        ([1, 2, 3], [1, 2, 3]),\n",
    "        ([1, 3, 2], [1, 2, 3]),\n",
    "        ([3, 3, 1, 2], [1, 2, 3, 3]),\n",
    "        ([5, 4, 3, 2, 1], [1, 2, 3, 4, 5]),\n",
    "    ]\n",
    "    passed = 0\n",
    "    for lst, expected in table:\n",
    "        result, comparisons, running_time = sort_func(lst)\n",
    "        if result == expected:\n",
    "            passed += 1\n",
    "            print(f\"{sort_func.__name__}({lst}) returned {result} in {comparisons} comparisons and {running_time} seconds\")\n",
    "        else:\n",
    "            print(f\"{sort_func.__name__}({lst}) returned {result} instead of {expected}\")\n",
    "\n",
    "    print(f'... {passed}/{len(table)} {sort_func.__name__} tests passed!')"
   ]
  },
  {
   "cell_type": "markdown",
   "metadata": {},
   "source": [
    "## Bubble Sort"
   ]
  },
  {
   "cell_type": "code",
   "execution_count": 15,
   "metadata": {},
   "outputs": [
    {
     "name": "stdout",
     "output_type": "stream",
     "text": [
      "Testing bubble_sort ...\n",
      "bubble_sort([]) returned [] in 0 comparisons and 1.6689300537109375e-06 seconds\n",
      "bubble_sort([1]) returned [1] in 0 comparisons and 1.9073486328125e-06 seconds\n",
      "bubble_sort([1, 2]) returned [1, 2] in 1 comparisons and 2.384185791015625e-06 seconds\n",
      "bubble_sort([1, 2]) returned [1, 2] in 1 comparisons and 2.6226043701171875e-06 seconds\n",
      "bubble_sort([2, 2]) returned [2, 2] in 1 comparisons and 1.9073486328125e-06 seconds\n",
      "bubble_sort([1, 2, 3]) returned [1, 2, 3] in 3 comparisons and 3.5762786865234375e-06 seconds\n",
      "bubble_sort([1, 2, 3]) returned [1, 2, 3] in 3 comparisons and 3.0994415283203125e-06 seconds\n",
      "bubble_sort([1, 2, 3]) returned [1, 2, 3] in 2 comparisons and 1.9073486328125e-06 seconds\n",
      "bubble_sort([1, 2, 3]) returned [1, 2, 3] in 3 comparisons and 2.6226043701171875e-06 seconds\n",
      "bubble_sort([1, 2, 3, 3]) returned [1, 2, 3, 3] in 6 comparisons and 3.337860107421875e-06 seconds\n",
      "bubble_sort([1, 2, 3, 4, 5]) returned [1, 2, 3, 4, 5] in 10 comparisons and 4.5299530029296875e-06 seconds\n",
      "... 11/11 bubble_sort tests passed!\n"
     ]
    }
   ],
   "source": [
    "def bubble_sort(lst):\n",
    "    n = len(lst)\n",
    "    comparisons = 0\n",
    "    import time\n",
    "    start_time = time.time()\n",
    "    \n",
    "    for i in range(n):\n",
    "        swapped = False\n",
    "        for j in range(n - 1 - i):\n",
    "            comparisons += 1\n",
    "            if lst[j] > lst[j + 1]:\n",
    "                lst[j], lst[j + 1] = lst[j + 1], lst[j]\n",
    "                swapped = True\n",
    "        if not swapped:\n",
    "            break  # jump out of the loop early\n",
    "    \n",
    "    end_time = time.time()\n",
    "    running_time = end_time - start_time\n",
    "    \n",
    "    return lst, comparisons, running_time\n",
    "\n",
    "sort_test(bubble_sort)"
   ]
  },
  {
   "cell_type": "markdown",
   "metadata": {},
   "source": [
    "## Selection Sort"
   ]
  },
  {
   "cell_type": "code",
   "execution_count": 17,
   "metadata": {},
   "outputs": [
    {
     "name": "stdout",
     "output_type": "stream",
     "text": [
      "Testing selection_sort ...\n",
      "selection_sort([]) returned [] in 0 comparisons and 1.6689300537109375e-06 seconds\n",
      "selection_sort([1]) returned [1] in 0 comparisons and 2.384185791015625e-06 seconds\n",
      "selection_sort([1, 2]) returned [1, 2] in 1 comparisons and 2.6226043701171875e-06 seconds\n",
      "selection_sort([1, 2]) returned [1, 2] in 1 comparisons and 2.6226043701171875e-06 seconds\n",
      "selection_sort([2, 2]) returned [2, 2] in 1 comparisons and 2.6226043701171875e-06 seconds\n",
      "selection_sort([1, 2, 3]) returned [1, 2, 3] in 3 comparisons and 2.6226043701171875e-06 seconds\n",
      "selection_sort([1, 2, 3]) returned [1, 2, 3] in 3 comparisons and 3.0994415283203125e-06 seconds\n",
      "selection_sort([1, 2, 3]) returned [1, 2, 3] in 3 comparisons and 2.86102294921875e-06 seconds\n",
      "selection_sort([1, 2, 3]) returned [1, 2, 3] in 3 comparisons and 3.0994415283203125e-06 seconds\n",
      "selection_sort([1, 2, 3, 3]) returned [1, 2, 3, 3] in 6 comparisons and 4.0531158447265625e-06 seconds\n",
      "selection_sort([1, 2, 3, 4, 5]) returned [1, 2, 3, 4, 5] in 10 comparisons and 4.0531158447265625e-06 seconds\n",
      "... 11/11 selection_sort tests passed!\n"
     ]
    }
   ],
   "source": [
    "# selection sort that returns a sorted copy of the list, and the number of comparisons and the total running time\n",
    "def selection_sort(lst):\n",
    "    n = len(lst)\n",
    "    comparisons = 0\n",
    "    import time\n",
    "    start_time = time.time()\n",
    "    \n",
    "    for i in range(n):\n",
    "        min_index = i\n",
    "        for j in range(i + 1, n):\n",
    "            comparisons += 1\n",
    "            if lst[j] < lst[min_index]:\n",
    "                min_index = j\n",
    "        lst[i], lst[min_index] = lst[min_index], lst[i]\n",
    "    \n",
    "    end_time = time.time()\n",
    "    running_time = end_time - start_time\n",
    "\n",
    "    return lst, comparisons, running_time\n",
    "\n",
    "sort_test(selection_sort)"
   ]
  },
  {
   "cell_type": "markdown",
   "metadata": {},
   "source": [
    "## Insertion Sort"
   ]
  },
  {
   "cell_type": "code",
   "execution_count": 18,
   "metadata": {},
   "outputs": [
    {
     "name": "stdout",
     "output_type": "stream",
     "text": [
      "Testing insertion_sort ...\n",
      "insertion_sort([]) returned [] in 0 comparisons and 1.1920928955078125e-06 seconds\n",
      "insertion_sort([1]) returned [1] in 0 comparisons and 1.430511474609375e-06 seconds\n",
      "insertion_sort([1, 2]) returned [1, 2] in 1 comparisons and 2.1457672119140625e-06 seconds\n",
      "insertion_sort([1, 2]) returned [1, 2] in 0 comparisons and 1.9073486328125e-06 seconds\n",
      "insertion_sort([2, 2]) returned [2, 2] in 0 comparisons and 1.9073486328125e-06 seconds\n",
      "insertion_sort([1, 2, 3]) returned [1, 2, 3] in 3 comparisons and 2.384185791015625e-06 seconds\n",
      "insertion_sort([1, 2, 3]) returned [1, 2, 3] in 2 comparisons and 2.6226043701171875e-06 seconds\n",
      "insertion_sort([1, 2, 3]) returned [1, 2, 3] in 0 comparisons and 1.9073486328125e-06 seconds\n",
      "insertion_sort([1, 2, 3]) returned [1, 2, 3] in 1 comparisons and 2.384185791015625e-06 seconds\n",
      "insertion_sort([1, 2, 3, 3]) returned [1, 2, 3, 3] in 4 comparisons and 2.86102294921875e-06 seconds\n",
      "insertion_sort([1, 2, 3, 4, 5]) returned [1, 2, 3, 4, 5] in 10 comparisons and 3.337860107421875e-06 seconds\n",
      "... 11/11 insertion_sort tests passed!\n"
     ]
    }
   ],
   "source": [
    "# Insertion sort that returns a sorted copy of the list, and the number of comparisons and the total running time\n",
    "def insertion_sort(lst):\n",
    "    n = len(lst)\n",
    "    comparisons = 0\n",
    "    import time\n",
    "    start_time = time.time()\n",
    "    \n",
    "    for i in range(1, n):\n",
    "        key = lst[i]\n",
    "        j = i - 1\n",
    "        while j >= 0 and lst[j] > key:\n",
    "            comparisons += 1\n",
    "            lst[j + 1] = lst[j]\n",
    "            j -= 1\n",
    "        lst[j + 1] = key\n",
    "    \n",
    "    end_time = time.time()\n",
    "    running_time = end_time - start_time\n",
    "    \n",
    "    return lst, comparisons, running_time\n",
    "\n",
    "sort_test(insertion_sort)"
   ]
  },
  {
   "cell_type": "markdown",
   "metadata": {},
   "source": [
    "## Merge Sort"
   ]
  },
  {
   "cell_type": "code",
   "execution_count": 19,
   "metadata": {},
   "outputs": [
    {
     "name": "stdout",
     "output_type": "stream",
     "text": [
      "Testing merge_sort ...\n",
      "merge_sort([]) returned [] in 0 comparisons and 0 seconds\n",
      "merge_sort([1]) returned [1] in 0 comparisons and 0 seconds\n",
      "merge_sort([2, 1]) returned [1, 2] in 1 comparisons and 1.6689300537109375e-06 seconds\n",
      "merge_sort([1, 2]) returned [1, 2] in 1 comparisons and 1.1920928955078125e-06 seconds\n",
      "merge_sort([2, 2]) returned [2, 2] in 1 comparisons and 1.1920928955078125e-06 seconds\n",
      "merge_sort([3, 2, 1]) returned [1, 2, 3] in 3 comparisons and 2.384185791015625e-06 seconds\n",
      "merge_sort([3, 1, 2]) returned [1, 2, 3] in 3 comparisons and 2.384185791015625e-06 seconds\n",
      "merge_sort([1, 2, 3]) returned [1, 2, 3] in 2 comparisons and 1.9073486328125e-06 seconds\n",
      "merge_sort([1, 3, 2]) returned [1, 2, 3] in 2 comparisons and 2.384185791015625e-06 seconds\n",
      "merge_sort([3, 3, 1, 2]) returned [1, 2, 3, 3] in 4 comparisons and 3.5762786865234375e-06 seconds\n",
      "merge_sort([5, 4, 3, 2, 1]) returned [1, 2, 3, 4, 5] in 7 comparisons and 4.291534423828125e-06 seconds\n",
      "... 11/11 merge_sort tests passed!\n"
     ]
    }
   ],
   "source": [
    "# Merge sort that returns a sorted copy of the list, and the number of comparisons and the total running time\n",
    "\n",
    "def merge(left, right):\n",
    "    # Initialize an empty list to store the merged result\n",
    "    result = []\n",
    "    # Initialize pointers for left and right lists, and a counter for comparisons\n",
    "    i, j, comparisons = 0, 0, 0\n",
    "    # Import time module to measure execution time\n",
    "    import time\n",
    "    # Record the start time\n",
    "    start_time = time.time()\n",
    "    \n",
    "    # Compare elements from both lists and merge them in sorted order\n",
    "    while i < len(left) and j < len(right):\n",
    "        comparisons += 1  # Increment comparison counter\n",
    "        if left[i] <= right[j]:\n",
    "            result.append(left[i])  # Add smaller element from left list\n",
    "            i += 1  # Move left list pointer\n",
    "        else:\n",
    "            result.append(right[j])  # Add smaller element from right list\n",
    "            j += 1  # Move right list pointer\n",
    "    \n",
    "    # Add any remaining elements from the left list\n",
    "    result.extend(left[i:])\n",
    "    # Add any remaining elements from the right list\n",
    "    result.extend(right[j:])\n",
    "    \n",
    "    # Record the end time\n",
    "    end_time = time.time()\n",
    "    # Return the merged list, number of comparisons, and execution time\n",
    "    return result, comparisons, end_time - start_time\n",
    "\n",
    "def merge_sort(lst):\n",
    "    if len(lst) <= 1:\n",
    "        return lst, 0, 0\n",
    "    \n",
    "    mid = len(lst) // 2\n",
    "    left, right = lst[:mid], lst[mid:]\n",
    "    \n",
    "    left_sorted, left_comparisons, left_time = merge_sort(left)\n",
    "    right_sorted, right_comparisons, right_time = merge_sort(right)\n",
    "    \n",
    "    merged, merge_comparisons, merge_time = merge(left_sorted, right_sorted)\n",
    "    \n",
    "    total_comparisons = left_comparisons + right_comparisons + merge_comparisons\n",
    "    total_time = left_time + right_time + merge_time\n",
    "    \n",
    "    return merged, total_comparisons, total_time\n",
    "\n",
    "sort_test(merge_sort)"
   ]
  },
  {
   "cell_type": "markdown",
   "metadata": {},
   "source": [
    "## Experiment Code"
   ]
  },
  {
   "cell_type": "markdown",
   "metadata": {},
   "source": [
    "For each sorting function, we generate 10 lists of random numbers, of sizes 100,\n",
    "200, 300, ..., 1000. We then run the sorting function on each list and record\n",
    "the number of comparisons and the running time."
   ]
  },
  {
   "cell_type": "code",
   "execution_count": 24,
   "metadata": {},
   "outputs": [
    {
     "name": "stdout",
     "output_type": "stream",
     "text": [
      "bubble sort:  [(100, 4859, 0.00043845176696777344), (200, 19822, 0.0017986297607421875), (300, 44660, 0.004721403121948242), (400, 79745, 0.007546424865722656), (500, 124120, 0.013877391815185547), (600, 178997, 0.01844620704650879), (700, 243522, 0.024255752563476562), (800, 319522, 0.0328371524810791), (900, 400980, 0.04089617729187012), (1000, 498797, 0.053267478942871094)]\n",
      "selection sort:  [(100, 4950, 0.00025582313537597656), (200, 19900, 0.0009710788726806641), (300, 44850, 0.00225830078125), (400, 79800, 0.004805564880371094), (500, 124750, 0.006599903106689453), (600, 179700, 0.010552644729614258), (700, 244650, 0.01350855827331543), (800, 319600, 0.01965808868408203), (900, 404550, 0.022777557373046875), (1000, 499500, 0.027019977569580078)]\n",
      "insertion sort:  [(100, 2187, 0.00019216537475585938), (200, 9949, 0.0008435249328613281), (300, 23057, 0.0019490718841552734), (400, 39672, 0.0038950443267822266), (500, 60308, 0.005628824234008789), (600, 91548, 0.008396148681640625), (700, 120869, 0.011324882507324219), (800, 166596, 0.01568007469177246), (900, 201325, 0.020151615142822266), (1000, 255043, 0.024234771728515625)]\n",
      "merge sort:  [(100, 541, 0.00011301040649414062), (200, 1286, 0.0002429485321044922), (300, 2083, 0.00037932395935058594), (400, 2961, 0.0005347728729248047), (500, 3856, 0.0006849765777587891), (600, 4777, 0.0011548995971679688), (700, 5732, 0.0010304450988769531), (800, 6764, 0.0012269020080566406), (900, 7725, 0.001394033432006836), (1000, 8704, 0.0015869140625)]\n"
     ]
    }
   ],
   "source": [
    "# This function takes a sort function (as defined above) and runs it on a series\n",
    "# of list of the same size.\n",
    "def experiment(sort_func):\n",
    "    import random\n",
    "    # set the seed for the random number generator\n",
    "    random.seed(8382)  # same seed for all runs, to ensure same lists\n",
    "    results = []\n",
    "    for n in range(100, 1001, 100):  # list from 100 to 1000 in steps of 100\n",
    "        lst = [random.randint(0, n-1) for _ in range(n)]\n",
    "        result, comparisons, running_time = sort_func(lst)\n",
    "        results.append((n, comparisons, running_time))\n",
    "    return results\n",
    "\n",
    "print('bubble sort: ', experiment(bubble_sort))\n",
    "print('selection sort: ', experiment(selection_sort))\n",
    "print('insertion sort: ', experiment(insertion_sort))\n",
    "print('merge sort: ', experiment(merge_sort))"
   ]
  },
  {
   "cell_type": "markdown",
   "metadata": {},
   "source": [
    "## Comparisons Graphs"
   ]
  },
  {
   "cell_type": "markdown",
   "metadata": {},
   "source": [
    "## Timing Graphs"
   ]
  },
  {
   "cell_type": "code",
   "execution_count": 31,
   "metadata": {},
   "outputs": [
    {
     "data": {
      "image/png": "[encoded data removed]",
      "text/plain": [
       "<Figure size 864x432 with 1 Axes>"
      ]
     },
     "metadata": {
      "needs_background": "light"
     },
     "output_type": "display_data"
    }
   ],
   "source": [
    "import matplotlib.pyplot as plt\n",
    "\n",
    "# Extract data for each sorting algorithm\n",
    "bubble_data = experiment(bubble_sort)\n",
    "selection_data = experiment(selection_sort)\n",
    "insertion_data = experiment(insertion_sort)\n",
    "merge_data = experiment(merge_sort)\n",
    "\n",
    "# Plotting the results\n",
    "plt.figure(figsize=(12, 6))\n",
    "\n",
    "plt.plot([x[0] for x in bubble_data], [x[2] for x in bubble_data], label='Bubble Sort', marker='o')\n",
    "plt.plot([x[0] for x in selection_data], [x[2] for x in selection_data], label='Selection Sort', marker='o')\n",
    "plt.plot([x[0] for x in insertion_data], [x[2] for x in insertion_data], label='Insertion Sort', marker='o')\n",
    "plt.plot([x[0] for x in merge_data], [x[2] for x in merge_data], label='Merge Sort', marker='o')\n",
    "\n",
    "plt.xlabel('Input Size (n)')\n",
    "plt.ylabel('Time in seconds')\n",
    "plt.title('Running Time of Sorting Algorithms')\n",
    "plt.legend()\n",
    "\n",
    "plt.grid(True)"
   ]
  },
  {
   "cell_type": "markdown",
   "metadata": {},
   "source": [
    "## Discussion of Timing Graphs"
   ]
  },
  {
   "cell_type": "markdown",
   "metadata": {},
   "source": [
    "This graph shows the running time, in seconds, of each sorting algorithm as the\n",
    "input size increases.\n",
    "\n",
    "Notice is that there's a clear performance ranking:\n",
    "\n",
    "- bubble sort is the slowest\n",
    "- selection sort is the second slowest\n",
    "- insertion sort is the third slowest\n",
    "- merge sort is the fastest\n",
    "\n",
    "Of the three simple sorts --- bubble sort, selection sort, and insertion sort\n",
    "--- insertion sort is the fastest. Merge sort is the fastest overall by a wide\n",
    "margin.\n",
    "\n",
    "Notice that the graph lines aren't completely smooth: they have have some little\n",
    "bumps. That's because the timing data is **noisy**. While the experiment runs\n",
    "the computer might do other things at the same time, like check for email,\n",
    "re-organize memory, or run some kind of background program. In Python, we don't\n",
    "really have control over such things. Real life timing experiments like this\n",
    "typically result in noisy graphs.\n",
    "\n",
    "Interestingly, the *shape* of the three simple sorts (bubble sort, selection\n",
    "sort, and insertion sort) are the same: they're parabolas. Recall that a\n",
    "parabola is described by a *quadratic equation* of the form $y = ax^2 + bx + c$.\n",
    "Because of this, we say that the number of comparisons done by these algorithms\n",
    "is *quadratic*.\n",
    "\n",
    "The graph for merge sort, however, is different. Clearly, it doesn't increase as\n",
    "quickly as the others. The shape of the mergesort graph is described by an\n",
    "equation with high-order term $n log n$. We'll refer to this as an \"n log n\"\n",
    "shape. "
   ]
  },
  {
   "cell_type": "code",
   "execution_count": 29,
   "metadata": {},
   "outputs": [
    {
     "data": {
      "image/png": "[encoded data removed]",
      "text/plain": [
       "<Figure size 864x432 with 1 Axes>"
      ]
     },
     "metadata": {
      "needs_background": "light"
     },
     "output_type": "display_data"
    }
   ],
   "source": [
    "import matplotlib.pyplot as plt\n",
    "\n",
    "# Extract data for each sorting algorithm\n",
    "bubble_data = experiment(bubble_sort)\n",
    "selection_data = experiment(selection_sort)\n",
    "insertion_data = experiment(insertion_sort)\n",
    "merge_data = experiment(merge_sort)\n",
    "\n",
    "# Plotting the results\n",
    "plt.figure(figsize=(12, 6))\n",
    "\n",
    "plt.plot([x[0] for x in bubble_data], [x[1] for x in bubble_data], label='Bubble Sort', marker='o')\n",
    "plt.plot([x[0] for x in selection_data], [x[1] for x in selection_data], label='Selection Sort', marker='o')\n",
    "plt.plot([x[0] for x in insertion_data], [x[1] for x in insertion_data], label='Insertion Sort', marker='o')\n",
    "plt.plot([x[0] for x in merge_data], [x[1] for x in merge_data], label='Merge Sort', marker='o')\n",
    "\n",
    "plt.xlabel('Input Size (n)')\n",
    "plt.ylabel('Number of Comparisons')\n",
    "plt.title('# of Comparisons of Sorting Algorithms')\n",
    "plt.legend()\n",
    "\n",
    "plt.grid(True)"
   ]
  },
  {
   "cell_type": "markdown",
   "metadata": {},
   "source": [
    "## Discussion of Comparison Graphs"
   ]
  },
  {
   "cell_type": "markdown",
   "metadata": {},
   "source": [
    "Counting comparisons of the sorting algorithms results in graphs that have the\n",
    "same shape as the running time graphs. The bubble sort, selection sort, and\n",
    "insertion sort curves are, again, all parabolas, and merge sort is $n log n$.\n",
    "\n",
    "So the running time and number of comparisons are *proportional*, i.e. they are\n",
    "the same general curves, but maybe stretched out or compressed.\n",
    "\n",
    "Notice that bubble sort and selection sort have the same number of comparisons\n",
    "for each input size. But we know from the previous graph that bubble sort is\n",
    "slower. This shows that the number of comparisons is not precise: comparisons\n",
    "are not the only thing that matters in the running times of the algorithms.\n",
    "\n",
    "For $n=1000$, bubble sort and selection sort each make about 500,000 (half a\n",
    "million!) comparisons. In contrast, merge sort does about 9,000 comparisons,\n",
    "i.e. bubble sort and selection sort are doing about 55 times more comparisons\n",
    "than merge sort.\n",
    "\n",
    "For many purposes, knowing the shape of the graph is enough. The shape tells us\n",
    "how the performance of the algorithm grows as the input size grows. For example,\n",
    "we know that the performance of insertion sort is quadratic. For simplicity,\n",
    "lets say it takes $n^2$ seconds to sort $n$ items. If we *double* the input\n",
    "size, we can expect the running time to be about *four times as long*: to sort\n",
    "$2n$ items, it will take about $(2n)^2 = 4n^2$ seconds, i.e. 4 times as long as\n",
    "sorting $n$ items.\n",
    "\n",
    "O-notation is a way to describe the shape of the graph without worrying about\n",
    "the precise constants and low-order terms. If we say a sorting algorithm is\n",
    "$O(n^2)$, we mean that the algorithm is (at worst) quadratic, i.e. it can be\n",
    "described by an equation of the form $an^2 + bn + c$, where $a$, $b$, and $c$\n",
    "are constants which depend on the details of the algorithm and the computer it's\n",
    "running on.\n",
    "\n",
    "If we say a sorting algorithm is *quadratic*, i.e. $O(n^2)$, we mean is runtime\n",
    "graph is a parabola. And since we know nothing about the constants and low-order\n",
    "terms, we can assume the shape of the graph is given by the general shape of the\n",
    "parabola, i.e. $n^2$."
   ]
  }
 ],
 "metadata": {
  "kernelspec": {
   "display_name": "Python 3",
   "language": "python",
   "name": "python3"
  },
  "language_info": {
   "codemirror_mode": {
    "name": "ipython",
    "version": 3
   },
   "file_extension": ".py",
   "mimetype": "text/x-python",
   "name": "python",
   "nbconvert_exporter": "python",
   "pygments_lexer": "ipython3",
   "version": "3.8.10"
  }
 },
 "nbformat": 4,
 "nbformat_minor": 2
}
