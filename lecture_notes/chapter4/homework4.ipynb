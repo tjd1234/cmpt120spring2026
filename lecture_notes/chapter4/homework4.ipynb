{
  "cells": [
    {
      "cell_type": "markdown",
      "metadata": {},
      "source": [
        "# Homework 4"
      ]
    },
    {
      "cell_type": "markdown",
      "metadata": {},
      "source": [
        "This is based on chapter 4 of the course notes, and covers a few topics not\n",
        "mentioned there.\n",
        "\n",
        "You can also do the exercises at the bottom of the textbook chapter."
      ]
    },
    {
      "cell_type": "markdown",
      "metadata": {},
      "source": [
        "## Turtle Graphic Functions"
      ]
    },
    {
      "cell_type": "markdown",
      "metadata": {},
      "source": [
        "Python's turtle graphics library had many useful functions. [This page lists\n",
        "them all, and gives examples](https://docs.python.org/3/library/turtle.html).\n",
        "Please take a minute to browse to get an idea of the kinds of things it can do.\n",
        "\n",
        "Sometimes you want the turtle to move to a particular location. The center of\n",
        "the screen is (0, 0), and the other points are labelled as in an x-y coordinate\n",
        "system. The statement `turtle.goto(x, y)` will move the turtle to the point.\n",
        "However, if the pen is down then it will leave a trail, which is usually not\n",
        "wanted.\n",
        "\n",
        "So this function makes the turtle move to the point without leaving a trail:"
      ]
    },
    {
      "cell_type": "code",
      "execution_count": 15,
      "metadata": {},
      "outputs": [],
      "source": [
        "import turtle\n",
        "\n",
        "def jump_to(x, y):\n",
        "    \"\"\"Turtle jumps to (x, y) without drawing a line.\n",
        "    The turtle pen will always be down after this function.\n",
        "    The turtle will be facing the same direction as before.\n",
        "    \"\"\"\n",
        "    turtle.penup()\n",
        "    turtle.goto(x, y)\n",
        "    turtle.pendown()"
      ]
    },
    {
      "cell_type": "markdown",
      "metadata": {},
      "source": [
        "## Practice Question 1"
      ]
    },
    {
      "cell_type": "markdown",
      "metadata": {},
      "source": [
        "Using any turtle graphics functions from the `turtle` module (and any helper\n",
        "functions you create, like `jump_to`), draw a traffic light:\n",
        "\n",
        "<img src=\"lightAnimation.gif\" alt=\"light animation\" width=\"50\"/>\n",
        "\n",
        "Make the black lines around the circle at least pen size 10."
      ]
    },
    {
      "cell_type": "markdown",
      "metadata": {},
      "source": [
        "## Practice Question 2"
      ]
    },
    {
      "cell_type": "markdown",
      "metadata": {},
      "source": [
        "A [random walk](https://en.wikipedia.org/wiki/Random_walk) is when the turtle\n",
        "takes steps in a random direction.\n",
        "\n",
        "Write a function `random_walk(step_size, num_steps, angle)` that makes the\n",
        "turtle draws `num_steps` lines of length `step_size`, and before it draws each\n",
        "line the turtle turns left a random integer angle from `-angle` to `angle`\n",
        "degrees.\n",
        "\n",
        "The `randint(a, b)` function from the `random` module returns a random integer\n",
        "from `a` to `b` inclusive.\n",
        "\n",
        "For example, this calls `random_walk(10, 100, 90)` with pen size 1:\n",
        "\n",
        "<img src=\"randWalkAnimation.gif\" alt=\"random walk\"/>"
      ]
    },
    {
      "cell_type": "markdown",
      "metadata": {},
      "source": [
        "## Practice Question 3\n",
        "\n",
        "Make another random walk function called `random_walk_colored(step_size,\n",
        "num_steps, angle)` that does the same thing as `random_walk`, but in addition\n",
        "the turtle randomly changes color before drawing each line.\n",
        "\n",
        "Read the [turtle documentation](https://docs.python.org/3/library/turtle.html)\n",
        "to see how to change the color.\n",
        "\n",
        "For example, this calls `random_walk_colored(10, 100, 90)` with pen size 10:\n",
        "\n",
        "<img src=\"randWalkColorAnimation.gif\" alt=\"random walk color\"/>"
      ]
    }
  ],
  "metadata": {
    "kernelspec": {
      "display_name": "Python 3",
      "language": "python",
      "name": "python3"
    },
    "language_info": {
      "codemirror_mode": {
        "name": "ipython",
        "version": 3
      },
      "file_extension": ".py",
      "mimetype": "text/x-python",
      "name": "python",
      "nbconvert_exporter": "python",
      "pygments_lexer": "ipython3",
      "version": "3.8.10"
    }
  },
  "nbformat": 4,
  "nbformat_minor": 2
}
