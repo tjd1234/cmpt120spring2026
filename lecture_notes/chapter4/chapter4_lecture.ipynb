{
 "cells": [
  {
   "cell_type": "markdown",
   "metadata": {
    "id": "cjsmyWXsNrEg"
   },
   "source": [
    "# Chapter 4 Lecture Notes\n",
    "\n",
    "Please read chapter 4 of the textbook.\n",
    "\n",
    "These notes take ~1-3 lecture hours to cover."
   ]
  },
  {
   "cell_type": "markdown",
   "metadata": {},
   "source": [
    "## Turtle Graphics"
   ]
  },
  {
   "cell_type": "markdown",
   "metadata": {},
   "source": [
    "### A Note on Using Turtle Graphics\n",
    "\n",
    "Using turtle graphics directlyin a notebook requires loading a special module.\n",
    "The textbook uses the `jupyturtle` module, and there are other notebook turtle\n",
    "packages you can find online.\n",
    "\n",
    "In regular Python outside of a notebook, you can use the `turtle` module, e.g.:\n",
    "\n",
    "```python\n",
    "import turtle\n",
    "\n",
    "# ... your turtle code here ...\n",
    "```\n",
    "\n",
    "For simplicity, we will use the regularPython `turtle` module. "
   ]
  },
  {
   "cell_type": "markdown",
   "metadata": {},
   "source": [
    "## Using Turtle Graphics"
   ]
  },
  {
   "cell_type": "markdown",
   "metadata": {},
   "source": [
    "Turtle graphics is an elegant way to draw lines in a programming language.\n",
    "Imagine a robot turtle with a pen sitting in the middle of a big sheet of paper.\n",
    "You can tell it to move forward $n$ steps (leaving a line), or rotate left/right\n",
    "in-place $d$ degrees.\n",
    "\n",
    "For instance, this draws an L-shape:"
   ]
  },
  {
   "cell_type": "code",
   "execution_count": 2,
   "metadata": {},
   "outputs": [],
   "source": [
    "import turtle\n",
    "\n",
    "turtle.reset()       # Clear the screen and move the turtle to the center\n",
    "\n",
    "turtle.forward(100)  # Move the turtle forward by 100 units\n",
    "                     # drawing a line\n",
    "\n",
    "turtle.right(90)     # Turn the turtle to the right (clockwise) by 90 degrees\n",
    "                     # no line is drawn\n",
    "\n",
    "turtle.forward(200)  # Move the turtle forward by 100 units"
   ]
  },
  {
   "cell_type": "markdown",
   "metadata": {},
   "source": [
    "This draws a square:"
   ]
  },
  {
   "cell_type": "code",
   "execution_count": 7,
   "metadata": {},
   "outputs": [],
   "source": [
    "# draw a square\n",
    "turtle.reset()\n",
    "\n",
    "turtle.forward(100)\n",
    "turtle.right(90)\n",
    "turtle.forward(100)\n",
    "turtle.right(90)\n",
    "turtle.forward(100)\n",
    "turtle.right(90)\n",
    "turtle.forward(100)"
   ]
  },
  {
   "cell_type": "markdown",
   "metadata": {},
   "source": [
    "An equilateral triangle:"
   ]
  },
  {
   "cell_type": "code",
   "execution_count": 55,
   "metadata": {},
   "outputs": [],
   "source": [
    "# draw an equilateral triangle\n",
    "turtle.reset()\n",
    "\n",
    "turtle.forward(100)\n",
    "turtle.right(120)\n",
    "turtle.forward(100)\n",
    "turtle.right(120)\n",
    "turtle.forward(100)"
   ]
  },
  {
   "cell_type": "markdown",
   "metadata": {},
   "source": [
    "A star:"
   ]
  },
  {
   "cell_type": "code",
   "execution_count": 56,
   "metadata": {},
   "outputs": [],
   "source": [
    "# draw a star\n",
    "turtle.reset()\n",
    "\n",
    "turtle.forward(100)\n",
    "turtle.right(144)\n",
    "turtle.forward(100)\n",
    "turtle.right(144)\n",
    "turtle.forward(100)\n",
    "turtle.right(144)\n",
    "turtle.forward(100)\n",
    "turtle.right(144)\n",
    "turtle.forward(100)\n",
    "turtle.right(144)"
   ]
  },
  {
   "cell_type": "markdown",
   "metadata": {},
   "source": [
    "## A Square-drawing Function\n",
    "\n",
    "Notice a couple of things about the code for drawing a square:\n",
    "\n",
    "```python\n",
    "turtle.forward(100)\n",
    "turtle.right(90)\n",
    "turtle.forward(100)\n",
    "turtle.right(90)\n",
    "turtle.forward(100)\n",
    "turtle.right(90)\n",
    "turtle.forward(100)\n",
    "```\n",
    "\n",
    "The turtle goes forward 100 steps, but we could replace 100 with any value to\n",
    "get a bigger or smaller square. The turtle always turns right 90 degrees, no\n",
    "matter how long the side of the square is.\n",
    "\n",
    "The code is repetitive. We can see that better if we group statements like this:\n",
    "\n",
    "```python\n",
    "turtle.forward(100)\n",
    "turtle.right(90)\n",
    "\n",
    "turtle.forward(100)\n",
    "turtle.right(90)\n",
    "\n",
    "turtle.forward(100)\n",
    "turtle.right(90)\n",
    "\n",
    "turtle.forward(100)\n",
    "```\n",
    "\n",
    "If we put `turtle.right(90)` at the end of the loop, we still get a square, but\n",
    "the turtle ends up facing in a different direction, namely the same direction\n",
    "that it was facing when it started:"
   ]
  },
  {
   "cell_type": "code",
   "execution_count": 57,
   "metadata": {},
   "outputs": [],
   "source": [
    "# draw a square, facing same direction at end as at start\n",
    "turtle.reset()\n",
    "\n",
    "turtle.forward(100)\n",
    "turtle.right(90)\n",
    "\n",
    "turtle.forward(100)\n",
    "turtle.right(90)\n",
    "\n",
    "turtle.forward(100)\n",
    "turtle.right(90)\n",
    "\n",
    "turtle.forward(100)\n",
    "turtle.right(90)"
   ]
  },
  {
   "cell_type": "markdown",
   "metadata": {},
   "source": [
    "With the code written like this we are repeating \"go forward 100, turn right 90\"\n",
    "4 times. So we can shorted the code by using a loop:"
   ]
  },
  {
   "cell_type": "code",
   "execution_count": 58,
   "metadata": {},
   "outputs": [],
   "source": [
    "# draw a square with a for-loop\n",
    "turtle.reset()\n",
    "\n",
    "for i in range(4):\n",
    "    turtle.forward(100)\n",
    "    turtle.right(90)"
   ]
  },
  {
   "cell_type": "markdown",
   "metadata": {},
   "source": [
    "We next put the code in a function:"
   ]
  },
  {
   "cell_type": "code",
   "execution_count": 59,
   "metadata": {},
   "outputs": [],
   "source": [
    "def square(length):\n",
    "    for i in range(4):\n",
    "        turtle.forward(length)\n",
    "        turtle.right(90)\n",
    "\n",
    "turtle.reset()\n",
    "square(100)\n",
    "square(50)\n",
    "square(25)"
   ]
  },
  {
   "cell_type": "markdown",
   "metadata": {},
   "source": [
    "We can write similar functions for triangles and stars:"
   ]
  },
  {
   "cell_type": "code",
   "execution_count": 60,
   "metadata": {},
   "outputs": [],
   "source": [
    "def triangle(length):\n",
    "    for i in range(3):\n",
    "        turtle.forward(length)\n",
    "        turtle.right(120)\n",
    "\n",
    "def star(length):\n",
    "    for i in range(5):\n",
    "        turtle.forward(length)\n",
    "        turtle.right(144)\n",
    "\n",
    "turtle.reset()\n",
    "triangle(200)\n",
    "star(100)\n",
    "square(350)"
   ]
  },
  {
   "cell_type": "markdown",
   "metadata": {},
   "source": [
    "We can draw a [regular polygon](https://en.wikipedia.org/wiki/Regular_polygon)\n",
    "like this:"
   ]
  },
  {
   "cell_type": "code",
   "execution_count": 74,
   "metadata": {},
   "outputs": [],
   "source": [
    "def polygon(num_sides, length):\n",
    "    angle = 360 / num_sides\n",
    "    for i in range(num_sides):\n",
    "        turtle.forward(length)\n",
    "        turtle.right(angle)\n",
    "\n",
    "turtle.reset()\n",
    "polygon(3, 100)\n",
    "polygon(4, 100)\n",
    "polygon(5, 100)\n",
    "polygon(6, 100)\n",
    "polygon(7, 100)"
   ]
  },
  {
   "cell_type": "markdown",
   "metadata": {},
   "source": [
    "When calling a function that needs multiple parameters it can hard to remember\n",
    "the order of the parameters. So Python lets you use **keyword arguments** to\n",
    "make the code more readable.\n",
    "\n",
    "For instance, these three calls to `polygon` are equivalent:"
   ]
  },
  {
   "cell_type": "code",
   "execution_count": 94,
   "metadata": {},
   "outputs": [],
   "source": [
    "turtle.reset()\n",
    "polygon(3, 100)\n",
    "polygon(num_sides=3, length=100)\n",
    "polygon(length=100, num_sides=3)"
   ]
  },
  {
   "cell_type": "markdown",
   "metadata": {},
   "source": [
    "In general, you should call functions in the way that makes them most readable."
   ]
  },
  {
   "cell_type": "markdown",
   "metadata": {},
   "source": [
    "Since triangles and squares are both polygons, we could re-write their functions\n",
    "like this:"
   ]
  },
  {
   "cell_type": "code",
   "execution_count": 75,
   "metadata": {},
   "outputs": [],
   "source": [
    "def square(length):\n",
    "    polygon(4, length)\n",
    "\n",
    "def triangle(length):\n",
    "    polygon(3, length)\n",
    "\n",
    "turtle.reset()\n",
    "triangle(200)\n",
    "square(350)"
   ]
  },
  {
   "cell_type": "markdown",
   "metadata": {},
   "source": [
    "## Patterns with Loops"
   ]
  },
  {
   "cell_type": "markdown",
   "metadata": {},
   "source": [
    "We can make some nice patterns using for-loops. For instance:"
   ]
  },
  {
   "cell_type": "code",
   "execution_count": null,
   "metadata": {},
   "outputs": [],
   "source": [
    "turtle.reset()\n",
    "\n",
    "for i in range(10):\n",
    "    square(100)\n",
    "    turtle.right(36)"
   ]
  },
  {
   "cell_type": "markdown",
   "metadata": {},
   "source": [
    "Or the same code but with `square` replaced by `triangle`:"
   ]
  },
  {
   "cell_type": "code",
   "execution_count": 64,
   "metadata": {},
   "outputs": [],
   "source": [
    "turtle.reset()\n",
    "\n",
    "for i in range(10):\n",
    "    triangle(100)\n",
    "    turtle.right(36)"
   ]
  },
  {
   "cell_type": "markdown",
   "metadata": {},
   "source": [
    "Or `star`:"
   ]
  },
  {
   "cell_type": "code",
   "execution_count": 65,
   "metadata": {},
   "outputs": [],
   "source": [
    "turtle.reset()\n",
    "\n",
    "for i in range(10):\n",
    "    star(100)\n",
    "    turtle.right(36)"
   ]
  },
  {
   "cell_type": "markdown",
   "metadata": {},
   "source": [
    "We could also write a function called `flower(n, shape_func)` that draws the\n",
    "pattern for a given \"shape function\", like `square`, `triangle`, or `star`, that\n",
    "takes a single argument `length` for the size of the shape:"
   ]
  },
  {
   "cell_type": "code",
   "execution_count": 66,
   "metadata": {},
   "outputs": [],
   "source": [
    "def flower(length, shape_func):\n",
    "    for i in range(10):\n",
    "        shape_func(length)\n",
    "        turtle.right(36)\n",
    "\n",
    "turtle.reset()\n",
    "flower(100, square)\n",
    "flower(100, triangle)"
   ]
  },
  {
   "cell_type": "markdown",
   "metadata": {},
   "source": [
    "## Drawing a Circle with Straight Lines"
   ]
  },
  {
   "cell_type": "markdown",
   "metadata": {},
   "source": [
    "If a turtle can only draw straight lines, how can it draw a circle?\n",
    "\n",
    "One way is to draw a polygon with so many sides that is practically\n",
    "indistinguishable from a circle. For instance, this draws a 360-sided polygon:"
   ]
  },
  {
   "cell_type": "code",
   "execution_count": 67,
   "metadata": {},
   "outputs": [],
   "source": [
    "turtle.reset()\n",
    "\n",
    "for i in range(360):\n",
    "    turtle.forward(1)\n",
    "    turtle.right(1)"
   ]
  },
  {
   "cell_type": "markdown",
   "metadata": {},
   "source": [
    "Here's a general-purpose circle-drawing function:"
   ]
  },
  {
   "cell_type": "code",
   "execution_count": 78,
   "metadata": {},
   "outputs": [],
   "source": [
    "import math\n",
    "\n",
    "def circle(radius):\n",
    "    circumference = 2 * math.pi * radius\n",
    "    num_sides = 30\n",
    "    length = circumference / num_sides\n",
    "    polygon(num_sides, length)\n",
    "\n",
    "turtle.reset()\n",
    "circle(25)\n",
    "circle(50)\n",
    "circle(100)\n",
    "circle(500)  # edges are visible"
   ]
  },
  {
   "cell_type": "markdown",
   "metadata": {},
   "source": [
    "The circles drawn by `circle(radius)` are 30s-side polygons, with different edge\n",
    "lengths to control the size. In most cases, looks like a circle. Possibly some\n",
    "big circles will look like polygons."
   ]
  },
  {
   "cell_type": "markdown",
   "metadata": {},
   "source": [
    "## Drawing Part of a Circle"
   ]
  },
  {
   "cell_type": "markdown",
   "metadata": {},
   "source": [
    "Another useful function is `polyline(n, length, angle)`, which draws a line\n",
    "consisting of `n` segments, each of length `length`, and each at an angle of\n",
    "`angle` degrees to the segment before it:"
   ]
  },
  {
   "cell_type": "code",
   "execution_count": 86,
   "metadata": {},
   "outputs": [],
   "source": [
    "def polyline(n, length, angle):\n",
    "    for i in range(n):\n",
    "        turtle.forward(length)\n",
    "        turtle.left(angle)\n",
    "\n",
    "turtle.clear()\n",
    "polyline(5, 100, 144)    # 5-pointed star\n",
    "polyline(5, 100, 45)     # 5 sides of an octagon\n",
    "polyline(5, 100, 70)     # an unfinished pentagon\n",
    "polyline(25, 100, 100)   # a nice pattern"
   ]
  },
  {
   "cell_type": "markdown",
   "metadata": {},
   "source": [
    "We can use `polyline` to rewrite `polygon`:"
   ]
  },
  {
   "cell_type": "code",
   "execution_count": 87,
   "metadata": {},
   "outputs": [],
   "source": [
    "def polygon(num_sides, length):\n",
    "    angle = 360.0 / num_sides\n",
    "    polyline(num_sides, length, angle)\n",
    "\n",
    "turtle.reset()\n",
    "polygon(3, 100)\n",
    "polygon(4, 100)\n",
    "polygon(5, 100)\n",
    "polygon(6, 100)\n",
    "polygon(7, 100)"
   ]
  },
  {
   "cell_type": "markdown",
   "metadata": {},
   "source": [
    "A nice use of `polyline` is to draw part of a circle, i.e. a circular arc:"
   ]
  },
  {
   "cell_type": "code",
   "execution_count": 90,
   "metadata": {},
   "outputs": [],
   "source": [
    "def arc(radius, angle):\n",
    "    arc_length = 2 * math.pi * radius * angle / 360\n",
    "    n = 30\n",
    "    length = arc_length / n\n",
    "    step_angle = angle / n\n",
    "    polyline(n, length, step_angle)\n",
    "\n",
    "turtle.reset()\n",
    "arc(100, 180)  # half circle\n",
    "\n",
    "turtle.penup()\n",
    "turtle.home()\n",
    "turtle.pendown()\n",
    "arc(200, 90)   # quarter circle\n",
    "\n",
    "turtle.penup()\n",
    "turtle.home()\n",
    "turtle.pendown()\n",
    "arc(50, 360)   # full circle"
   ]
  },
  {
   "cell_type": "markdown",
   "metadata": {},
   "source": [
    "An arc is portion of a 30-side polygon drawn using `polyline`. The arcs look\n",
    "like portions of a circle, at least for small circles."
   ]
  },
  {
   "cell_type": "markdown",
   "metadata": {},
   "source": [
    "We can rewrite `circle` to use `arc`:"
   ]
  },
  {
   "cell_type": "code",
   "execution_count": 91,
   "metadata": {},
   "outputs": [],
   "source": [
    "def circle(radius):\n",
    "    arc(radius, 360)\n",
    "\n",
    "turtle.reset()\n",
    "circle(25)\n",
    "circle(50)\n",
    "circle(100)"
   ]
  },
  {
   "cell_type": "markdown",
   "metadata": {},
   "source": [
    "## Documentation Strings"
   ]
  },
  {
   "cell_type": "markdown",
   "metadata": {},
   "source": [
    "A **documentation string**, or **docstring**, is a string that appears at the\n",
    "beginning of a function and describes (documents) the function. For example:"
   ]
  },
  {
   "cell_type": "code",
   "execution_count": 11,
   "metadata": {},
   "outputs": [],
   "source": [
    "def polyline(n, length, angle):\n",
    "    \"\"\"Draws line segments with the given length and angle between them.\n",
    "    \n",
    "    n: integer number of line segments\n",
    "    length: length of the line segments\n",
    "    angle: angle between segments (in degrees)\n",
    "    \"\"\"    \n",
    "    for i in range(n):\n",
    "        turtle.forward(length)\n",
    "        turtle.left(angle)"
   ]
  },
  {
   "cell_type": "markdown",
   "metadata": {},
   "source": [
    "Docstrings are usually written with triple quotes, `\"\"\"`, to allow for multiple\n",
    "lines. A good docstring:\n",
    "\n",
    "- Explains what the function does. \n",
    "- Describes the purpose and type of the parameters.\n",
    "- Is short.\n",
    "\n",
    "Here's another example:"
   ]
  },
  {
   "cell_type": "code",
   "execution_count": 9,
   "metadata": {},
   "outputs": [],
   "source": [
    "def star(length):\n",
    "    \"\"\"Draws a 5-pointed star.\n",
    "    Each line segment is of the given length.\n",
    "    \"\"\"\n",
    "    for i in range(5):\n",
    "        turtle.forward(length)\n",
    "        turtle.right(144)"
   ]
  },
  {
   "cell_type": "markdown",
   "metadata": {},
   "source": [
    "To see the docstring for a function `f`, use the `help(f)`:"
   ]
  },
  {
   "cell_type": "code",
   "execution_count": 12,
   "metadata": {},
   "outputs": [
    {
     "name": "stdout",
     "output_type": "stream",
     "text": [
      "Help on function polyline in module __main__:\n",
      "\n",
      "polyline(n, length, angle)\n",
      "    Draws line segments with the given length and angle between them.\n",
      "    \n",
      "    n: integer number of line segments\n",
      "    length: length of the line segments\n",
      "    angle: angle between segments (in degrees)\n",
      "\n",
      "Help on function star in module __main__:\n",
      "\n",
      "star(length)\n",
      "    Draws a 5-pointed star.\n",
      "    Each line segment is of the given length.\n",
      "\n"
     ]
    }
   ],
   "source": [
    "help(polyline)  # prints the docstring for polyline\n",
    "help(star)      # prints the docstring for star"
   ]
  },
  {
   "cell_type": "markdown",
   "metadata": {},
   "source": [
    "## Questions\n",
    "\n",
    "1. What does `turtle.reset()` do?\n",
    "\n",
    "2. The statement `turtle.left(40)` turns the turtle 40 degrees left. Show how to\n",
    "   do the same thing using a single call to `turtle.right`.\n",
    "\n",
    "3. People new to turtle graphics sometimes try to draw an equilateral triangle\n",
    "   like this:\n",
    "\n",
    "   ```python\n",
    "   turtle.forward(100)\n",
    "   turtle.right(60)\n",
    "   turtle.forward(100)\n",
    "   turtle.right(60)\n",
    "   turtle.forward(100)\n",
    "   ```\n",
    "\n",
    "   What does this code draw? Can you sketch it without running it?\n",
    "\n",
    "4. Create and test a function called `diamond(length)` that draws a 4-sided\n",
    "   diamond shape. A diamond is the same as a square, but rotated 45 degrees.\n",
    "\n",
    "5. Write a function called `arrow(length)` that draws an arrow shape of the\n",
    "   given length pointing in the direction of the turtle.\n",
    "\n",
    "6. Add a docstring to the `flower` function.\n",
    "\n",
    "7. Why do docstrings usually use triple quotes?\n",
    "\n",
    "8. If `f` is a function with a docstring, then this `f.__doc__` is a string\n",
    "   containing the docstring. Write a function called `doc(f)` that prints the\n",
    "   docstring of a function `f`."
   ]
  }
 ],
 "metadata": {
  "colab": {
   "authorship_tag": "ABX9TyNDPRhikI2Q71waRP7/kTi/",
   "mount_file_id": "1RtZk2Rw4mNshgxrTBWTSrrRwywQ3Grx8",
   "provenance": []
  },
  "kernelspec": {
   "display_name": "Python 3",
   "name": "python3"
  },
  "language_info": {
   "codemirror_mode": {
    "name": "ipython",
    "version": 3
   },
   "file_extension": ".py",
   "mimetype": "text/x-python",
   "name": "python",
   "nbconvert_exporter": "python",
   "pygments_lexer": "ipython3",
   "version": "3.8.10"
  }
 },
 "nbformat": 4,
 "nbformat_minor": 0
}
