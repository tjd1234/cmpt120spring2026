{
 "cells": [
  {
   "cell_type": "markdown",
   "metadata": {},
   "source": [
    "# Homework 10"
   ]
  },
  {
   "cell_type": "markdown",
   "metadata": {},
   "source": [
    "This is based on chapter 9 of the course notes, and may introduce a few topics\n",
    "not mentioned there.\n",
    "\n",
    "You can also do the exercises at the bottom of the textbook chapter."
   ]
  },
  {
   "cell_type": "markdown",
   "metadata": {},
   "source": [
    "## Practice Question 1"
   ]
  },
  {
   "cell_type": "markdown",
   "metadata": {},
   "source": [
    "The file [votes.txt](votes.txt) contains the votes for major of Whoville. Each\n",
    "line contains the name of one candidate, which counts as one vote for that\n",
    "candidate.\n",
    "\n",
    "Write a program that uses dictionaries to answer these questions:\n",
    "- What's the total number of votes cast?\n",
    "- Who were the candidates?\n",
    "- How many votes did each candidate get? Print the results order from highest to\n",
    "  lowest number of votes.\n",
    "- Who won the election?\n",
    "\n",
    "Make the output look like the sample shown below. Your program should work with\n",
    "*any* list of names, no matter what they are or how many there are.\n",
    "\n",
    "Sample output:\n",
    "\n",
    "```\n",
    "Total Number of Votes\n",
    "10000\n",
    "\n",
    "The 10 candidates\n",
    " Augustus, Betty, Cindy, Drew, Euchariah, JoJo, Lou, Martha, Ned, Sally\n",
    "\n",
    "Votes\n",
    "  1079: Ned\n",
    "  1047: JoJo\n",
    "  1032: Sally\n",
    "  1017: Lou\n",
    "  999: Drew\n",
    "  974: Augustus\n",
    "  967: Betty\n",
    "  964: Euchariah\n",
    "  961: Cindy\n",
    "  960: Martha\n",
    "\n",
    "Winner\n",
    "  Ned wins with 1079 votes.\n",
    "```"
   ]
  },
  {
   "cell_type": "code",
   "execution_count": 44,
   "metadata": {
    "tags": [
     "solution"
    ]
   },
   "outputs": [
    {
     "name": "stdout",
     "output_type": "stream",
     "text": [
      "Total Number of Votes\n",
      "10000\n",
      "\n",
      "The 10 candidates\n",
      " Augustus, Betty, Cindy, Drew, Euchariah, JoJo, Lou, Martha, Ned, Sally\n",
      "\n",
      "Votes\n",
      "  1079: Ned\n",
      "  1047: JoJo\n",
      "  1032: Sally\n",
      "  1017: Lou\n",
      "  999: Drew\n",
      "  974: Augustus\n",
      "  967: Betty\n",
      "  964: Euchariah\n",
      "  961: Cindy\n",
      "  960: Martha\n",
      "\n",
      "Winner\n",
      "  Ned wins with 1079 votes.\n"
     ]
    }
   ],
   "source": [
    "#\n",
    "# Sample solution.\n",
    "#\n",
    "\n",
    "vote_file = open('votes.txt', 'r')\n",
    "votes = {}\n",
    "\n",
    "for name in vote_file:\n",
    "    name = name.strip()\n",
    "    if name in votes:\n",
    "        votes[name] += 1\n",
    "    else:\n",
    "        votes[name] = 1\n",
    "\n",
    "print('Total Number of Votes')\n",
    "print(sum(votes.values()))\n",
    "\n",
    "print(f'\\nThe {len(votes)} candidates')\n",
    "print(' ' + ', '.join(sorted(votes.keys())))\n",
    "\n",
    "print('\\nVotes')\n",
    "vote_list = []\n",
    "for name in votes:\n",
    "    vote_list.append([votes[name], name])\n",
    "\n",
    "vote_list.sort(reverse=True)\n",
    "for vote, name in vote_list:\n",
    "    print(f'  {vote}: {name}')\n",
    "\n",
    "print('\\nWinner')\n",
    "winner = vote_list[0][1]\n",
    "winner_votes = vote_list[0][0]\n",
    "print(f'  {winner} wins with {winner_votes} votes.')"
   ]
  }
 ],
 "metadata": {
  "kernelspec": {
   "display_name": "Python 3",
   "language": "python",
   "name": "python3"
  },
  "language_info": {
   "codemirror_mode": {
    "name": "ipython",
    "version": 3
   },
   "file_extension": ".py",
   "mimetype": "text/x-python",
   "name": "python",
   "nbconvert_exporter": "python",
   "pygments_lexer": "ipython3",
   "version": "3.8.10"
  }
 },
 "nbformat": 4,
 "nbformat_minor": 2
}
