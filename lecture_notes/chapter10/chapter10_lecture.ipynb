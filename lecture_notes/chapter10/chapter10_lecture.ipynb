{
 "cells": [
  {
   "cell_type": "markdown",
   "metadata": {
    "id": "cjsmyWXsNrEg"
   },
   "source": [
    "# Chapter 10 Lecture Notes\n",
    "\n",
    "Please read chapter 10 of the textbook.\n",
    "\n",
    "These notes take 1 - 3 lecture hours to cover."
   ]
  },
  {
   "cell_type": "markdown",
   "metadata": {},
   "source": [
    "## Dictionaries\n",
    "\n",
    "A Python **dictionary** is a value that represents a table of data. A dictionary\n",
    "is a collection of *key:value* pairs, where each key is associated with a value.\n",
    "Importantly, there are *no duplicate keys*: the keys are *unique*. Because if\n",
    "this restriction, looking up values by keys is extremely fast, even for large\n",
    "dictionaries."
   ]
  },
  {
   "cell_type": "markdown",
   "metadata": {},
   "source": [
    "## Making Dictionaries"
   ]
  },
  {
   "cell_type": "markdown",
   "metadata": {},
   "source": [
    "Suppose a university has three semesters: spring, summer, and fall. Due to the\n",
    "intricacies of its database system, the spring semester is number 1, the summer\n",
    "semester is numbered 2, and the fall semester is numbered 7:\n",
    "\n",
    "| Semester | Number |\n",
    "|----------|--------|\n",
    "| Spring   | 1      |\n",
    "| Summer   | 4      |\n",
    "| Fall     | 7      |\n",
    "\n",
    "We can represent this mapping in Python as a dictionary like this:"
   ]
  },
  {
   "cell_type": "code",
   "execution_count": null,
   "metadata": {},
   "outputs": [
    {
     "name": "stdout",
     "output_type": "stream",
     "text": [
      "{'spring': 1, 'summer': 4, 'fall': 7}\n",
      "dict_keys(['spring', 'summer', 'fall'])\n",
      "dict_values([1, 4, 7])\n",
      "3\n"
     ]
    }
   ],
   "source": [
    "semester_code = {'spring': 1, 'summer': 4, 'fall': 7}\n",
    "\n",
    "print(semester_code)\n",
    "print(semester_code.keys())   # print the keys\n",
    "print(semester_code.values()) # print the values\n",
    "print(len(semester_code))     # print the number of key:value pairs"
   ]
  },
  {
   "cell_type": "markdown",
   "metadata": {},
   "source": [
    "`semester_code` is a dictionary with three *key:value* pairs: `'spring': 1`,\n",
    "`'summer': 4`, and `'fall': 7`. The keys are `'spring'`, `'summer'`, and\n",
    "`'fall'`, and the corresponding values are `1`, `4`, and `7`.\n",
    "\n",
    "You get the code for a semester by writing `semester_code[key]`, where `key` is\n",
    "one of the key strings `'spring'`, `'summer'`, or `'fall'`:"
   ]
  },
  {
   "cell_type": "code",
   "execution_count": null,
   "metadata": {},
   "outputs": [
    {
     "name": "stdout",
     "output_type": "stream",
     "text": [
      "7\n",
      "4\n",
      "1\n"
     ]
    },
    {
     "ename": "KeyError",
     "evalue": "'autumn'",
     "output_type": "error",
     "traceback": [
      "\u001b[0;31m---------------------------------------------------------------------------\u001b[0m\n",
      "\u001b[0;31mKeyError\u001b[0m                                  Traceback (most recent call last)\n",
      "\u001b[0;32m/tmp/ipykernel_10765/2424900804.py\u001b[0m in \u001b[0;36m<module>\u001b[0;34m\u001b[0m\n",
      "\u001b[1;32m      5\u001b[0m \u001b[0mprint\u001b[0m\u001b[0;34m(\u001b[0m\u001b[0msemester_code\u001b[0m\u001b[0;34m[\u001b[0m\u001b[0;34m'spring'\u001b[0m\u001b[0;34m]\u001b[0m\u001b[0;34m)\u001b[0m  \u001b[0;31m# 1\u001b[0m\u001b[0;34m\u001b[0m\u001b[0;34m\u001b[0m\u001b[0m\n",
      "\u001b[1;32m      6\u001b[0m \u001b[0;34m\u001b[0m\u001b[0m\n",
      "\u001b[0;32m----> 7\u001b[0;31m \u001b[0mprint\u001b[0m\u001b[0;34m(\u001b[0m\u001b[0msemester_code\u001b[0m\u001b[0;34m[\u001b[0m\u001b[0;34m'autumn'\u001b[0m\u001b[0;34m]\u001b[0m\u001b[0;34m)\u001b[0m  \u001b[0;31m# KeyError: 'autumn' is not a key\u001b[0m\u001b[0;34m\u001b[0m\u001b[0;34m\u001b[0m\u001b[0m\n",
      "\u001b[0m\n",
      "\u001b[0;31mKeyError\u001b[0m: 'autumn'"
     ]
    }
   ],
   "source": [
    "semester_code = {'spring': 1, 'summer': 4, 'fall': 7}\n",
    "\n",
    "print(semester_code['fall'])    # 7\n",
    "print(semester_code['summer'])  # 4\n",
    "print(semester_code['spring'])  # 1\n",
    "\n",
    "print(semester_code['autumn'])  # KeyError: 'autumn' is not a key"
   ]
  },
  {
   "cell_type": "markdown",
   "metadata": {},
   "source": [
    "If look up a key that is not in the dictionary, you get a `KeyError`."
   ]
  },
  {
   "cell_type": "markdown",
   "metadata": {},
   "source": [
    "You can add new *key:value* pairs to a dictionary by assigning to them:"
   ]
  },
  {
   "cell_type": "code",
   "execution_count": 1,
   "metadata": {},
   "outputs": [
    {
     "name": "stdout",
     "output_type": "stream",
     "text": [
      "{'spring': 1, 'summer': 4, 'fall': 7}\n",
      "dict_keys(['spring', 'summer', 'fall'])\n",
      "dict_values([1, 4, 7])\n",
      "3\n"
     ]
    }
   ],
   "source": [
    "semester_code = {}            # empty dictionary\n",
    "semester_code['spring'] = 1   # add some key:value pairs\n",
    "semester_code['summer'] = 4\n",
    "semester_code['fall'] = 7\n",
    "\n",
    "print(semester_code)\n",
    "print(semester_code.keys())   # print the keys\n",
    "print(semester_code.values()) # print the values\n",
    "print(len(semester_code))     # print the number of key:value pairs"
   ]
  },
  {
   "cell_type": "markdown",
   "metadata": {},
   "source": [
    "You can change the value associated with a key by assigning to it:"
   ]
  },
  {
   "cell_type": "code",
   "execution_count": null,
   "metadata": {},
   "outputs": [
    {
     "name": "stdout",
     "output_type": "stream",
     "text": [
      "{'spring': 1, 'summer': 4, 'fall': 8}\n",
      "dict_keys(['spring', 'summer', 'fall'])\n",
      "dict_values([1, 4, 8])\n",
      "3\n"
     ]
    }
   ],
   "source": [
    "semester_code = {}            # empty dictionary\n",
    "semester_code['spring'] = 1\n",
    "semester_code['summer'] = 4\n",
    "semester_code['fall'] = 7\n",
    "\n",
    "semester_code['fall'] = 8     # change the value of 'fall' to 8\n",
    "\n",
    "print(semester_code)\n",
    "print(semester_code.keys())   # print the keys\n",
    "print(semester_code.values()) # print the values\n",
    "print(len(semester_code))     # print the number of key:value pairs"
   ]
  },
  {
   "cell_type": "markdown",
   "metadata": {},
   "source": [
    "In general, if `d` is a dictionary:\n",
    "- `d[key]` is the value associated with `key`\n",
    "- `d[key] = value` sets the value associated with `key` to `value`\n",
    "\n",
    "These operations are *very* efficient, even with large dictionaries."
   ]
  },
  {
   "cell_type": "markdown",
   "metadata": {},
   "source": [
    "## Searching Dictionaries"
   ]
  },
  {
   "cell_type": "markdown",
   "metadata": {},
   "source": [
    "You can use the `in` operator to efficiently check if a key is in a dictionary:"
   ]
  },
  {
   "cell_type": "code",
   "execution_count": null,
   "metadata": {},
   "outputs": [
    {
     "name": "stdout",
     "output_type": "stream",
     "text": [
      "True\n",
      "False\n",
      "False\n"
     ]
    }
   ],
   "source": [
    "semester_code = {'spring': 1, 'summer': 4, 'fall': 7}\n",
    "\n",
    "print('fall' in semester_code)    # True\n",
    "print('autumn' in semester_code)  # False\n",
    "\n",
    "print(1 in semester_code)         # False"
   ]
  },
  {
   "cell_type": "markdown",
   "metadata": {},
   "source": [
    "When used with a dictionary, `in` always checks keys. `k in semester_code` is\n",
    "`True` if `k` is a key in the dictionary, and `False` otherwise."
   ]
  },
  {
   "cell_type": "markdown",
   "metadata": {},
   "source": [
    "### Hashing"
   ]
  },
  {
   "cell_type": "markdown",
   "metadata": {},
   "source": [
    "The `in` operator does *not* search the keys one after the other. Instead, `in`\n",
    "with dictionaries use a neat trick called **hashing**. Even if a dictionary has\n",
    "millions of keys, checking for a key with `in` is nearly instantaneous.\n",
    "\n",
    "Lets sketch the basic idea. Hashing associates a random-looking **hash value**\n",
    "with each key:"
   ]
  },
  {
   "cell_type": "code",
   "execution_count": null,
   "metadata": {},
   "outputs": [
    {
     "name": "stdout",
     "output_type": "stream",
     "text": [
      "-6298311827346143009\n",
      "-3322306029333743668\n"
     ]
    }
   ],
   "source": [
    "print(hash('spring'))  # -6298311827346143009\n",
    "print(hash('summer'))  # -3322306029333743668"
   ]
  },
  {
   "cell_type": "markdown",
   "metadata": {},
   "source": [
    "Hash values may look random, but they are actually *deterministic*: the same key\n",
    "always gets the same hash value.\n",
    "\n",
    "Using some arithmetic, we can convert a hash value into a list index. Say we\n",
    "have a list of length 100. Then:"
   ]
  },
  {
   "cell_type": "code",
   "execution_count": null,
   "metadata": {},
   "outputs": [
    {
     "name": "stdout",
     "output_type": "stream",
     "text": [
      "9\n",
      "68\n"
     ]
    }
   ],
   "source": [
    "print(abs(hash('spring')) % 100)  # 9\n",
    "print(abs(hash('summer')) % 100)  # 68"
   ]
  },
  {
   "cell_type": "markdown",
   "metadata": {},
   "source": [
    "In a list of length 100, we would store `'spring'` at index 9 and `'summer'` at\n",
    "index 68. To check if the list contains `'spring'`, we compute the hash value of\n",
    "`'spring'` and see if `'spring`' is there.\n",
    "\n",
    "It's possible that two different keys could hash to the same value, and so a\n",
    "tie-breaking rule is needed. Many such rules have been proposed, although we\n",
    "won't go into the details here.\n",
    "\n",
    "In general, hashing is *much* faster than searching through a list of keys one\n",
    "by one. This speed, combined with its relative ease of use, makes it a very\n",
    "useful and practical data structure."
   ]
  },
  {
   "cell_type": "markdown",
   "metadata": {},
   "source": [
    "## Searching Dictionaries Values"
   ]
  },
  {
   "cell_type": "markdown",
   "metadata": {},
   "source": [
    "Searching through the values of a dictionary is not as efficient as searching\n",
    "for keys, although it is east to write:"
   ]
  },
  {
   "cell_type": "code",
   "execution_count": null,
   "metadata": {},
   "outputs": [
    {
     "name": "stdout",
     "output_type": "stream",
     "text": [
      "True\n",
      "False\n",
      "True\n"
     ]
    }
   ],
   "source": [
    "semester_code = {'spring': 1, 'summer': 4, 'fall': 7}\n",
    "\n",
    "print(1 in semester_code.values())  # True\n",
    "print(2 in semester_code.values())  # False\n",
    "print(7 in semester_code.values())  # True"
   ]
  },
  {
   "cell_type": "markdown",
   "metadata": {},
   "source": [
    "Searching values does *not* use hashing. Instead, value searches are done value\n",
    "by value, as if using a loop. This is much slower than searching for keys, and\n",
    "so use it with care."
   ]
  },
  {
   "cell_type": "markdown",
   "metadata": {},
   "source": [
    "## Example: A List of Words"
   ]
  },
  {
   "cell_type": "markdown",
   "metadata": {},
   "source": [
    "Suppose we count how many words in [words.txt](words.txt) are the reverse of\n",
    "another word. For example, \"stressed\" is the reverse of \"desserts\".\n",
    "\n",
    "A simple, but very inefficient, way to do this is to read all the words into a\n",
    "list and for each word search if it's reverse is also in the list:"
   ]
  },
  {
   "cell_type": "code",
   "execution_count": null,
   "metadata": {},
   "outputs": [
    {
     "data": {
      "text/plain": [
       "886"
      ]
     },
     "metadata": {},
     "output_type": "display_data"
    }
   ],
   "source": [
    "word_list = open('words.txt', 'r').read().split('\\n')\n",
    "\n",
    "def reverse(word):\n",
    "    return ''.join(reversed(word))\n",
    "\n",
    "def too_slow():\n",
    "    count = 0\n",
    "    for word in word_list:\n",
    "        if reverse(word) in word_list:\n",
    "            count += 1\n",
    "    return count\n",
    "\n",
    "too_slow()"
   ]
  },
  {
   "cell_type": "markdown",
   "metadata": {},
   "source": [
    "This takes over a minute to run on my computer!\n",
    "\n",
    "Why is it so slow? There are $n$ words in `word_list`, and for each of those $n$\n",
    "words we search the entire list for its reverse. Sometimes the search for the\n",
    "reverse is quick because it finds the word early in the list. But most of the\n",
    "time it searches the entire list, all $n$ words, without finding the reverse.\n",
    "\n",
    "So we search for $n$ words, and, at worst, each search checks $n$ words. In\n",
    "total, that's $n \\cdot n = n^2$ words we need to check. So for\n",
    "[words.txt](words.txt):"
   ]
  },
  {
   "cell_type": "code",
   "execution_count": null,
   "metadata": {},
   "outputs": [
    {
     "name": "stdout",
     "output_type": "stream",
     "text": [
      "113784^2 = 12946798656\n"
     ]
    }
   ],
   "source": [
    "word_list = open('words.txt', 'r').read().split('\\n')\n",
    "\n",
    "n = len(word_list)\n",
    "print(f'{n}^2 = {n**2}')"
   ]
  },
  {
   "cell_type": "markdown",
   "metadata": {},
   "source": [
    "12,946,798,656 is almost 13 billion: the code checks just under 13 billion\n",
    "words!"
   ]
  },
  {
   "cell_type": "markdown",
   "metadata": {},
   "source": [
    "## A Dictionary of Words"
   ]
  },
  {
   "cell_type": "markdown",
   "metadata": {},
   "source": [
    "We can improve the performance of the reverse-word checking program by the\n",
    "storing the words in a dictionary. We'll store the words as keys, and the\n",
    "correspond values will be 1s:"
   ]
  },
  {
   "cell_type": "code",
   "execution_count": null,
   "metadata": {},
   "outputs": [
    {
     "data": {
      "text/plain": [
       "885"
      ]
     },
     "metadata": {},
     "output_type": "display_data"
    }
   ],
   "source": [
    "word_dict = {}\n",
    "for w in open('words.txt', 'r'):\n",
    "    word_dict[w.strip()] = 1\n",
    "\n",
    "def reverse(word):\n",
    "    return ''.join(reversed(word))\n",
    "\n",
    "def pretty_fast():\n",
    "    count = 0\n",
    "    for word in word_list:\n",
    "        if reverse(word) in word_dict:  # word_dict instead of word_list\n",
    "            count += 1\n",
    "    return count\n",
    "\n",
    "pretty_fast()"
   ]
  },
  {
   "cell_type": "markdown",
   "metadata": {},
   "source": [
    "This is much faster than the list version: it takes less than one-tenth of a\n",
    "second to run on the same computer.\n",
    "\n",
    "This huge speedup is due to the fact that searching for a key in a dictionary\n",
    "using `in` is nearly instantaneous. With a dictionary, `in` does *not* search\n",
    "the words one at a time the way it does with a list."
   ]
  },
  {
   "cell_type": "markdown",
   "metadata": {},
   "source": [
    "## Example: Counting Characters in a String"
   ]
  },
  {
   "cell_type": "markdown",
   "metadata": {},
   "source": [
    "Suppose you want to count characters in a string. A dictionary is a good choice\n",
    "for doing this: the keys will be the characters, and the values will be the\n",
    "counts."
   ]
  },
  {
   "cell_type": "code",
   "execution_count": null,
   "metadata": {},
   "outputs": [
    {
     "name": "stdout",
     "output_type": "stream",
     "text": [
      "{'a': 2, 'p': 2, 'l': 1, 'e': 2, 's': 1, 'u': 1, 'c': 1}\n"
     ]
    }
   ],
   "source": [
    "s = 'applesauce'\n",
    "\n",
    "letters = {}\n",
    "for c in s:\n",
    "    if c in letters:\n",
    "        letters[c] += 1\n",
    "    else:\n",
    "        letters[c] = 1\n",
    "\n",
    "print(letters)"
   ]
  },
  {
   "cell_type": "markdown",
   "metadata": {},
   "source": [
    "We can put this in to a function:"
   ]
  },
  {
   "cell_type": "code",
   "execution_count": null,
   "metadata": {},
   "outputs": [
    {
     "name": "stdout",
     "output_type": "stream",
     "text": [
      "{'a': 2, 'p': 2, 'l': 1, 'e': 2, 's': 1, 'u': 1, 'c': 1}\n"
     ]
    }
   ],
   "source": [
    "def count_letters(s):\n",
    "    letters = {}\n",
    "    for c in s:\n",
    "        if c in letters:\n",
    "            letters[c] += 1\n",
    "        else:\n",
    "            letters[c] = 1\n",
    "    return letters\n",
    "\n",
    "print(count_letters('applesauce'))"
   ]
  },
  {
   "cell_type": "markdown",
   "metadata": {},
   "source": [
    "`count_letters` works with any string, so lets count the frequency of letters in\n",
    "English words:"
   ]
  },
  {
   "cell_type": "code",
   "execution_count": null,
   "metadata": {},
   "outputs": [
    {
     "name": "stdout",
     "output_type": "stream",
     "text": [
      "{'a': 68574, 'h': 20186, 'e': 106752, 'd': 34548, 'i': 77392, 'n': 60505, 'g': 27832, 's': 86526, 'l': 47003, 'r': 64963, 'v': 9186, 'k': 9366, 'w': 8533, 'o': 54538, 'f': 12706, 'b': 17794, 'c': 34281, 'u': 31151, 't': 57029, 'm': 24739, 'p': 25789, 'y': 13473, 'x': 2700, 'j': 1780, 'z': 3750, 'q': 1632}\n"
     ]
    }
   ],
   "source": [
    "# read in words.txt as a big string\n",
    "words = open('words.txt', 'r').read()\n",
    "letters = {}\n",
    "for c in words:\n",
    "    if c not in ' \\n':  # ignore spaces and newlines\n",
    "        if c in letters:\n",
    "            letters[c] += 1\n",
    "        else:\n",
    "            letters[c] = 1\n",
    "\n",
    "print(letters)"
   ]
  },
  {
   "cell_type": "markdown",
   "metadata": {},
   "source": [
    "We can convert the dictionary to a list like this:"
   ]
  },
  {
   "cell_type": "code",
   "execution_count": null,
   "metadata": {},
   "outputs": [
    {
     "name": "stdout",
     "output_type": "stream",
     "text": [
      "e: 106752\n",
      "s: 86526\n",
      "i: 77392\n",
      "a: 68574\n",
      "r: 64963\n",
      "n: 60505\n",
      "t: 57029\n",
      "o: 54538\n",
      "l: 47003\n",
      "d: 34548\n",
      "c: 34281\n",
      "u: 31151\n",
      "g: 27832\n",
      "p: 25789\n",
      "m: 24739\n",
      "h: 20186\n",
      "b: 17794\n",
      "y: 13473\n",
      "f: 12706\n",
      "k: 9366\n",
      "v: 9186\n",
      "w: 8533\n",
      "z: 3750\n",
      "x: 2700\n",
      "j: 1780\n",
      "q: 1632\n"
     ]
    }
   ],
   "source": [
    "# read in words.txt as a big string\n",
    "words = open('words.txt', 'r').read()\n",
    "letter_count = {}\n",
    "for c in words:\n",
    "    if c not in ' \\n':  # ignore spaces and newlines\n",
    "        if c in letter_count:\n",
    "            letter_count[c] += 1\n",
    "        else:\n",
    "            letter_count[c] = 1\n",
    "\n",
    "# read the key:value pairs into a list\n",
    "letter_list = []\n",
    "for c in letter_count:\n",
    "    pair = [letter_count[c], c]\n",
    "    letter_list.append(pair)\n",
    "\n",
    "# sort from smallest count to biggest count\n",
    "letter_list.sort()\n",
    "\n",
    "# reverse so that the biggest count is first\n",
    "letter_list.reverse()\n",
    "\n",
    "for pair in letter_list:\n",
    "    print(f'{pair[1]}: {pair[0]}')\n"
   ]
  },
  {
   "cell_type": "markdown",
   "metadata": {},
   "source": [
    "## Questions"
   ]
  },
  {
   "cell_type": "markdown",
   "metadata": {},
   "source": [
    "1. Why must dictionary keys be unique?\n",
    "\n",
    "2. If `d` is a dictionary that does *not* have the key `k`, what happens when\n",
    "   you call `d[k]`?\n",
    "\n",
    "3. What does this print?\n",
    "\n",
    "   ```python\n",
    "   d ={'a': 3, 'b': 4}\n",
    "   d['a'] = 4\n",
    "   d['a'] = 5\n",
    "   print(d['a'])\n",
    "   ```\n",
    "\n",
    "4. If `d` is a dictionary, what expression will give you all of the keys in `d`?\n",
    "   What about all of the values?\n",
    "\n",
    "5. Why is searching for a key in a dictionary faster than searching for a value?"
   ]
  }
 ],
 "metadata": {
  "colab": {
   "authorship_tag": "ABX9TyNDPRhikI2Q71waRP7/kTi/",
   "mount_file_id": "1RtZk2Rw4mNshgxrTBWTSrrRwywQ3Grx8",
   "provenance": []
  },
  "kernelspec": {
   "display_name": "base",
   "language": "python",
   "name": "python3"
  },
  "language_info": {
   "codemirror_mode": {
    "name": "ipython",
    "version": 3
   },
   "file_extension": ".py",
   "mimetype": "text/x-python",
   "name": "python",
   "nbconvert_exporter": "python",
   "pygments_lexer": "ipython3",
   "version": "3.12.7"
  }
 },
 "nbformat": 4,
 "nbformat_minor": 0
}
