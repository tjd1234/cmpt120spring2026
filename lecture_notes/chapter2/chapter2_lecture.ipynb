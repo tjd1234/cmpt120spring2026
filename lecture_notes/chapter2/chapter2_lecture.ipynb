{
 "cells": [
  {
   "cell_type": "markdown",
   "metadata": {
    "id": "cjsmyWXsNrEg"
   },
   "source": [
    "# Chapter 2 Lecture Notes\n",
    "\n",
    "Please read chapter 2 of the textbook.\n",
    "\n",
    "These notes take ~3 lecture hours to cover."
   ]
  },
  {
   "cell_type": "markdown",
   "metadata": {},
   "source": [
    "## Variables\n",
    "\n",
    "A **variable** is a name that refers to a value in memory.\n",
    "\n",
    "To create a variable, use the **assignment operator** `=` to give it an initial\n",
    "value:"
   ]
  },
  {
   "cell_type": "code",
   "execution_count": 1,
   "metadata": {},
   "outputs": [
    {
     "name": "stdout",
     "output_type": "stream",
     "text": [
      "6.99\n"
     ]
    }
   ],
   "source": [
    "cost = 6.99\n",
    "print(cost)"
   ]
  },
  {
   "cell_type": "markdown",
   "metadata": {},
   "source": [
    "Assignment statements are important, so lets look at them more closely. They\n",
    "have this form:\n",
    "\n",
    "```python\n",
    "var = expr\n",
    "```\n",
    "\n",
    "`var` is the name of a variable, and it appears on the left-hand side of the\n",
    "`=`, and so we sometimes refer to it using the abbreviation **LHS**, short for\n",
    "\"left-hand side\". \n",
    "\n",
    "`expr` is an expression on the right-hand side of the `=`. We sometimes refer to\n",
    "it using the abbreviation **RHS**, short for \"right-hand side\".\n",
    "\n",
    "When an assignment statement is executed, it first evaluates `expr`, and then\n",
    "assigns a *copy* of that value to `var`."
   ]
  },
  {
   "cell_type": "code",
   "execution_count": 3,
   "metadata": {},
   "outputs": [
    {
     "name": "stdout",
     "output_type": "stream",
     "text": [
      "7\n",
      "364\n"
     ]
    }
   ],
   "source": [
    "days = 5 + 2\n",
    "print(days)\n",
    "\n",
    "days_in_year = 52 * days   # same as 52 * 7\n",
    "print(days_in_year)        # 364"
   ]
  },
  {
   "cell_type": "markdown",
   "metadata": {},
   "source": [
    "In Python, a variable can refer to any type of value, not just numbers:"
   ]
  },
  {
   "cell_type": "code",
   "execution_count": 4,
   "metadata": {},
   "outputs": [
    {
     "name": "stdout",
     "output_type": "stream",
     "text": [
      "Elawn is 21 years old.\n"
     ]
    }
   ],
   "source": [
    "name = 'Elawn'\n",
    "age = 21\n",
    "print(name + ' is ' + str(age) + ' years old.')"
   ]
  },
  {
   "cell_type": "markdown",
   "metadata": {},
   "source": [
    "Or equivalently:"
   ]
  },
  {
   "cell_type": "code",
   "execution_count": 5,
   "metadata": {},
   "outputs": [
    {
     "name": "stdout",
     "output_type": "stream",
     "text": [
      "Elawn is 21 years old.\n",
      "----------------------\n"
     ]
    }
   ],
   "source": [
    "name = 'Elawn'\n",
    "age = 21\n",
    "message = name + ' is ' + str(age) + ' years old.'\n",
    "print(message)\n",
    "print('-' * len(message))"
   ]
  },
  {
   "cell_type": "markdown",
   "metadata": {},
   "source": [
    "You can assign different types of values to the same variable:"
   ]
  },
  {
   "cell_type": "code",
   "execution_count": 1,
   "metadata": {},
   "outputs": [
    {
     "name": "stdout",
     "output_type": "stream",
     "text": [
      "10\n",
      "10.0\n",
      "10\n"
     ]
    }
   ],
   "source": [
    "count = 10     # 10 is an int\n",
    "print(count)   # 10\n",
    "\n",
    "count = 10.0   # 10.0 is a float\n",
    "print(count)   # 10.0\n",
    "\n",
    "count = '10'   # '10' is a string\n",
    "print(count)   # 10"
   ]
  },
  {
   "cell_type": "markdown",
   "metadata": {},
   "source": [
    "## How to Think about Variables\n",
    "\n",
    "One way to imagine a variable is as a little box with a name. You use an\n",
    "assignment statement to put a value into it, and whatever value is in there is\n",
    "over-written.\n",
    "\n",
    "Another way of thinking about variables is that the variable *points* to, or\n",
    "*refers* to, its value. This is what the textbook calls a **state diagram**. \n",
    "\n",
    "Depending on the situation, both ways of thinking about variables can be useful."
   ]
  },
  {
   "cell_type": "markdown",
   "metadata": {},
   "source": [
    "## Variable Names\n",
    "\n",
    "Python variable names can be as long as you like, and can contain letters,\n",
    "numbers, and the underscore character `_`. Variables *cannot* start with a\n",
    "number: they must start with a letter or an `_`.\n",
    "\n",
    "Python treats letters of different cases differently. For example, `a` and `A`\n",
    "are two different variables.\n",
    "\n",
    "While you can use uppercase letters in Python variable names, it is conventional\n",
    "to use only lowercase letters.\n",
    "\n",
    "Python has a few names that it reserves as **keywords**, and you *cannot* give a\n",
    "variable the same name. There are 35 keywords in Python 3:\n",
    "\n",
    "```\n",
    "False      await      else       import     pass\n",
    "None       break      except     in         raise\n",
    "True       class      finally    is         return\n",
    "and        continue   for        lambda     try\n",
    "as         def        from       nonlocal   while\n",
    "assert     del        global     not        with\n",
    "async      elif       if         or         yield\n",
    "```"
   ]
  },
  {
   "cell_type": "code",
   "execution_count": 2,
   "metadata": {},
   "outputs": [
    {
     "name": "stdout",
     "output_type": "stream",
     "text": [
      "False None True and as \n",
      "assert async await break class \n",
      "continue def del elif else \n",
      "except finally for from global \n",
      "if import in is lambda \n",
      "nonlocal not or pass raise \n",
      "return try while with yield \n",
      "\n",
      "# of keywords: 35\n"
     ]
    }
   ],
   "source": [
    "# print all the Python keywords\n",
    "\n",
    "from keyword import kwlist\n",
    "\n",
    "keywords = kwlist\n",
    "keywords.sort()\n",
    "for i, keyword in enumerate(keywords):\n",
    "    print(keyword, end=' ')\n",
    "    if (i + 1) % 5 == 0:\n",
    "        print()\n",
    "\n",
    "print()\n",
    "print('# of keywords:', len(keywords))\n"
   ]
  },
  {
   "cell_type": "markdown",
   "metadata": {},
   "source": [
    "Notice that the right edge of the output is jagged because the lines are\n",
    "different lengths. We will see later how formatted strings can be used to make\n",
    "the output look nicer, as in the table above.\n",
    "\n",
    "Don't memorize this list. We'll learn the important keywords as we go, and if\n",
    "you ever accidentally use one as a variable name, Python will give you an error\n",
    "message."
   ]
  },
  {
   "cell_type": "markdown",
   "metadata": {},
   "source": [
    "## The import Statement"
   ]
  },
  {
   "cell_type": "markdown",
   "metadata": {},
   "source": [
    "Python comes with a big library of useful features, and to use them you first\n",
    "**import** them.\n",
    "\n",
    "For example:"
   ]
  },
  {
   "cell_type": "code",
   "execution_count": 13,
   "metadata": {},
   "outputs": [
    {
     "name": "stdout",
     "output_type": "stream",
     "text": [
      "3.141592653589793\n",
      "5.0\n",
      "8.0\n",
      "1.0\n"
     ]
    }
   ],
   "source": [
    "import math   # tell Python to load the math module\n",
    "\n",
    "print(math.pi)\n",
    "print(math.sqrt(25))\n",
    "print(math.pow(2, 3))  # same as 2 ** 3\n",
    "print(math.sin(math.pi / 2))"
   ]
  },
  {
   "cell_type": "markdown",
   "metadata": {},
   "source": [
    "## Function Arguments"
   ]
  },
  {
   "cell_type": "markdown",
   "metadata": {},
   "source": [
    "When you call a function, the value you put into the parentheses is called an\n",
    "**argument**. For example, in the expression `print(3)`, the argument is `3`,\n",
    "and in `math.round(x - 2)` the argument is `x - 2`.\n",
    "\n",
    "The number of arguments a function can take depends on the function:"
   ]
  },
  {
   "cell_type": "code",
   "execution_count": null,
   "metadata": {},
   "outputs": [],
   "source": [
    "import math\n",
    "\n",
    "print(math.round(5.88))  # round takes 1 argument\n",
    "print(math.pow(2, 3))    # pow takes 2 arguments"
   ]
  },
  {
   "cell_type": "markdown",
   "metadata": {},
   "source": [
    "The `print` function is called a **variable argument function** because it can\n",
    "take any number of arguments:"
   ]
  },
  {
   "cell_type": "code",
   "execution_count": null,
   "metadata": {},
   "outputs": [],
   "source": [
    "print()                   # 0 arguments, print a blank line\n",
    "print('Hello, World!')    # 1 argument\n",
    "x = math.sqrt(2)\n",
    "print('x =', x)           # 2 arguments\n",
    "print('x =', x, sep='')   # 3 arguments"
   ]
  },
  {
   "cell_type": "markdown",
   "metadata": {},
   "source": [
    "Some functions, such as `int` and `round`, have optional arguments. For example:"
   ]
  },
  {
   "cell_type": "code",
   "execution_count": 3,
   "metadata": {},
   "outputs": [
    {
     "name": "stdout",
     "output_type": "stream",
     "text": [
      "int conversion\n",
      "20\n",
      "25\n",
      "\n",
      "rounding\n",
      "3.141592653589793\n",
      "3\n",
      "3.1\n",
      "3.14\n",
      "3.142\n"
     ]
    }
   ],
   "source": [
    "print('int conversion')\n",
    "print(int('20'))        # 20, convert from base 10\n",
    "print(int('11001', 2))  # 25, convert from base 2\n",
    "\n",
    "print()\n",
    "print('rounding')\n",
    "\n",
    "import math\n",
    "print(math.pi)            # 3.141592653589793\n",
    "print(round(math.pi))     # 3\n",
    "print(round(math.pi, 1))  # 3.1\n",
    "print(round(math.pi, 2))  # 3.14\n",
    "print(round(math.pi, 3))  # 3.142"
   ]
  },
  {
   "cell_type": "markdown",
   "metadata": {},
   "source": [
    "Calling a function with the wrong number of arguments causes a `TypeError`:"
   ]
  },
  {
   "cell_type": "code",
   "execution_count": 21,
   "metadata": {},
   "outputs": [
    {
     "name": "stdout",
     "output_type": "stream",
     "text": [
      "0.0\n"
     ]
    }
   ],
   "source": [
    "print(math.pow(2))       # TypeError: pow expected 2 arguments, got 1\n",
    "print(float('3.14', 2))  # TypeError: float expected at most 1 argument, got 2\n",
    "print(float())           # ok, returns 0.0"
   ]
  },
  {
   "cell_type": "markdown",
   "metadata": {},
   "source": [
    "And calling a function with the wrong type of argument is also an error:"
   ]
  },
  {
   "cell_type": "code",
   "execution_count": 24,
   "metadata": {},
   "outputs": [
    {
     "name": "stdout",
     "output_type": "stream",
     "text": [
      "1.4142135623730951\n"
     ]
    }
   ],
   "source": [
    "import math\n",
    "\n",
    "# print(math.sqrt('2'))         # TypeError: must be real number, not str\n",
    "print(math.sqrt(float('2')))  # ok, returns 1.4142135623730951"
   ]
  },
  {
   "cell_type": "markdown",
   "metadata": {},
   "source": [
    "## Source Code Comments\n",
    "\n",
    "The `#` character is used to start a **source code comment** in Python. Whenever\n",
    "Python sees a `#`, it ignores all characters from there to the end of the line:"
   ]
  },
  {
   "cell_type": "code",
   "execution_count": null,
   "metadata": {},
   "outputs": [],
   "source": [
    "candies = 10           # number of candies\n",
    "cost = 1.25            # cost of each candy\n",
    "print(candies * cost)  # 12.5"
   ]
  },
  {
   "cell_type": "markdown",
   "metadata": {},
   "source": [
    "It helps readability to format the comments neatly, lining up the `#` with each\n",
    "other makes the code easier to read."
   ]
  },
  {
   "cell_type": "markdown",
   "metadata": {},
   "source": [
    "### Good Use of Comments"
   ]
  },
  {
   "cell_type": "markdown",
   "metadata": {},
   "source": [
    "Source code comments can have many purposes. For example, they can explain what\n",
    "a program is doing:"
   ]
  },
  {
   "cell_type": "code",
   "execution_count": 29,
   "metadata": {},
   "outputs": [
    {
     "name": "stdout",
     "output_type": "stream",
     "text": [
      "12.04\n"
     ]
    }
   ],
   "source": [
    "#\n",
    "# This programs calculates the cost of buying 86 candies at 14 cents each.\n",
    "#\n",
    "candies = 86\n",
    "cost = 0.14\n",
    "print(round(candies * cost, 2))"
   ]
  },
  {
   "cell_type": "markdown",
   "metadata": {},
   "source": [
    "Or they could explain an important detail, such as a formula:"
   ]
  },
  {
   "cell_type": "code",
   "execution_count": null,
   "metadata": {},
   "outputs": [
    {
     "name": "stdout",
     "output_type": "stream",
     "text": [
      "8.06225774829855\n"
     ]
    }
   ],
   "source": [
    "side1 = 4\n",
    "side2 = 7\n",
    "\n",
    "# use the Pythagorean theorem to calculate the hypotenuse\n",
    "hypotenuse = (side1 ** 2 + side2 ** 2) ** 0.5\n",
    "\n",
    "print(hypotenuse)"
   ]
  },
  {
   "cell_type": "markdown",
   "metadata": {},
   "source": [
    "Another common use is to a cite a source, or program author:"
   ]
  },
  {
   "cell_type": "code",
   "execution_count": null,
   "metadata": {},
   "outputs": [],
   "source": [
    "#\n",
    "# Written by Elawn Muscat, Fall 2004\n",
    "#\n",
    "print('Elawn is cool!')"
   ]
  },
  {
   "cell_type": "markdown",
   "metadata": {},
   "source": [
    "Some programmers use comments as a sort of to-do list to help them write code.\n",
    "For example, in a new program you might start by writing comments like this:"
   ]
  },
  {
   "cell_type": "code",
   "execution_count": null,
   "metadata": {},
   "outputs": [],
   "source": [
    "# set the length of side 1 of the right triangle\n",
    "\n",
    "# set the length of side 2 of the right triangle\n",
    "\n",
    "# calculate the hypotenuse of the triangle using the Pythagorean theorem\n",
    "\n",
    "# print the results"
   ]
  },
  {
   "cell_type": "markdown",
   "metadata": {},
   "source": [
    "Then you can fill-in working code for each line:"
   ]
  },
  {
   "cell_type": "code",
   "execution_count": 30,
   "metadata": {},
   "outputs": [
    {
     "name": "stdout",
     "output_type": "stream",
     "text": [
      "5.0\n"
     ]
    }
   ],
   "source": [
    "# set the length of side 1 of the right triangle\n",
    "side1 = 3\n",
    "\n",
    "# set the length of side 2 of the right triangle\n",
    "side2 = 4\n",
    "\n",
    "# calculate the hypotenuse of the triangle using the Pythagorean theorem\n",
    "hypotenuse = math.sqrt(side1 ** 2 + side2 ** 2)\n",
    "\n",
    "# print the results\n",
    "print(hypotenuse)"
   ]
  },
  {
   "cell_type": "markdown",
   "metadata": {},
   "source": [
    "Comment can also be used to temporarily disable code. Here lines 4 and 5 are\n",
    "commented-out since the programmers only wants to see the value of `c`:"
   ]
  },
  {
   "cell_type": "code",
   "execution_count": 1,
   "metadata": {},
   "outputs": [
    {
     "name": "stdout",
     "output_type": "stream",
     "text": [
      "13\n"
     ]
    }
   ],
   "source": [
    "a = 3\n",
    "b = a ** 2\n",
    "c = a + b + 1\n",
    "# print(a)\n",
    "# print(b)\n",
    "print(c)"
   ]
  },
  {
   "cell_type": "markdown",
   "metadata": {},
   "source": [
    "### Bad Use of Comments"
   ]
  },
  {
   "cell_type": "markdown",
   "metadata": {},
   "source": [
    "Source code comments should *not* repeat what is already obvious from the code.\n",
    "These are examples of poor comments:"
   ]
  },
  {
   "cell_type": "code",
   "execution_count": null,
   "metadata": {},
   "outputs": [],
   "source": [
    "num_bars = 5                  # set num_bars to 5\n",
    "cost = 6.99                   # set cost to 6.99\n",
    "total_cost = num_bars * cost  # calculate the total cost\n",
    "print(total_cost)             # print the total cost"
   ]
  },
  {
   "cell_type": "markdown",
   "metadata": {},
   "source": [
    "The variable names in this program are quite clear, and so the comments are\n",
    "redundant, i.e. they repeat information that is already obvious. The uncommented\n",
    "code is just as easy to read:"
   ]
  },
  {
   "cell_type": "code",
   "execution_count": 33,
   "metadata": {},
   "outputs": [
    {
     "name": "stdout",
     "output_type": "stream",
     "text": [
      "34.95\n"
     ]
    }
   ],
   "source": [
    "num_bars = 5\n",
    "cost = 6.99\n",
    "total_cost = num_bars * cost\n",
    "print(total_cost)"
   ]
  },
  {
   "cell_type": "markdown",
   "metadata": {},
   "source": [
    "\n",
    "However, if you use variable names that don't make the code clear, then comments\n",
    "can be useful. Here is the same program but with different variable names:"
   ]
  },
  {
   "cell_type": "code",
   "execution_count": 32,
   "metadata": {},
   "outputs": [
    {
     "name": "stdout",
     "output_type": "stream",
     "text": [
      "34.95\n"
     ]
    }
   ],
   "source": [
    "t_0 = 5      # 5 bars\n",
    "s = 6.99     # each bar costs s dollars\n",
    "t = t_0 * s  # calculate the total cost\n",
    "print(t)     # print the total cost"
   ]
  },
  {
   "cell_type": "markdown",
   "metadata": {},
   "source": [
    "Without the comments it is hard to tell what the program is doing:"
   ]
  },
  {
   "cell_type": "code",
   "execution_count": 31,
   "metadata": {},
   "outputs": [
    {
     "name": "stdout",
     "output_type": "stream",
     "text": [
      "34.95\n"
     ]
    }
   ],
   "source": [
    "t_0 = 5\n",
    "s = 6.99\n",
    "t = t_0 * s\n",
    "print(t)"
   ]
  },
  {
   "cell_type": "markdown",
   "metadata": {},
   "source": [
    "All these programs do the same thing, but they differ in **readability**. In\n",
    "general, always aim to write code that is easy to read and understand."
   ]
  },
  {
   "cell_type": "markdown",
   "metadata": {},
   "source": [
    "## Debugging"
   ]
  },
  {
   "cell_type": "markdown",
   "metadata": {},
   "source": [
    "A programmers job consists of writing code, reading code, and **debugging**\n",
    "code. **Debugging** is the general name given to the process of finding and\n",
    "fixing mistakes in a program. A mistake in a program is called a **bug**.\n",
    "\n",
    "In this course, bugs fall into three main categories:\n",
    "\n",
    "- **Syntax errors**. These are bugs in the structure/grammar of the program, and\n",
    "  Python usually catches them and displays an error message.\n",
    "- **Runtime errors**. If a program has no syntax errors, then it can run. If a\n",
    "  bug occurs while it is running, e.g. dividing by 0, then the program may crash\n",
    "  or display an error message.\n",
    "- **Logic errors**, or **Semantic errors**. These are bugs in the design of your\n",
    "  program. For example, if you get the Pythagorean theorem wrong, then your\n",
    "  program will calculate the wrong hypotenuse. This is not a syntax error or\n",
    "  runtime error, it is a logic error. Python can't usually help you with these\n",
    "  sorts of bugs because it doesn't know what you want the program to do."
   ]
  },
  {
   "cell_type": "markdown",
   "metadata": {},
   "source": [
    "## Questions\n",
    "\n",
    "1. Answer *true* or *false* for each of these questions about assignment\n",
    "   statements:\n",
    "   - the LHS is evaluated first\n",
    "   - the LHS is always a variable\n",
    "   - the RHS is never just a single variable\n",
    "\n",
    "2. Which of the following are legal Python variable names?\n",
    "   - `class`\n",
    "   - `cloudType`\n",
    "   - `cloud9`\n",
    "   - `9cloud`\n",
    "   - `if`\n",
    "   - `delete!`\n",
    "   - `_delete_`\n",
    "\n",
    "3. Which Python keywords that start with a capital letter?\n",
    "\n",
    "4. Answer *true* or *false* for each of these questions about Python variable\n",
    "   names. They:\n",
    "   - can begin with an underscore, `_`\n",
    "   - can contain spaces\n",
    "   - can contain uppercase letters\n",
    "   - cannot start with a number\n",
    "   - can contain the `=` character\n",
    "\n",
    "5. What statement would you write to import the `sys` module into a program?\n",
    "\n",
    "6. Give an example of a function that takes:\n",
    "   - exactly one argument\n",
    "   - one or two arguments\n",
    "   - exactly two arguments\n",
    "   - any number of arguments, i.e. 0 or more\n",
    "\n",
    "7. What are three good uses for source code comments?\n",
    "\n",
    "8. Give an example of a bad use of a source code comment.\n",
    "\n",
    "9. What are the three main categories of errors that we will see in this course?\n",
    "   Give an example of each.\n",
    "   "
   ]
  }
 ],
 "metadata": {
  "colab": {
   "authorship_tag": "ABX9TyNDPRhikI2Q71waRP7/kTi/",
   "mount_file_id": "1RtZk2Rw4mNshgxrTBWTSrrRwywQ3Grx8",
   "provenance": []
  },
  "kernelspec": {
   "display_name": "base",
   "language": "python",
   "name": "python3"
  },
  "language_info": {
   "codemirror_mode": {
    "name": "ipython",
    "version": 3
   },
   "file_extension": ".py",
   "mimetype": "text/x-python",
   "name": "python",
   "nbconvert_exporter": "python",
   "pygments_lexer": "ipython3",
   "version": "3.12.7"
  }
 },
 "nbformat": 4,
 "nbformat_minor": 0
}
