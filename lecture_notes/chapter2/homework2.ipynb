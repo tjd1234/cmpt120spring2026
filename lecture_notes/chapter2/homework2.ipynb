{
  "cells": [
    {
      "cell_type": "markdown",
      "metadata": {},
      "source": [
        "# Homework 2"
      ]
    },
    {
      "cell_type": "markdown",
      "metadata": {},
      "source": [
        "This is based on chapter 2 of the course notes, and covers a few topics not\n",
        "mentioned there.\n",
        "\n",
        "You can also do the exercises at the bottom of the textbook chapter."
      ]
    },
    {
      "cell_type": "markdown",
      "metadata": {},
      "source": [
        "## Formatting with F-strings"
      ]
    },
    {
      "cell_type": "markdown",
      "metadata": {},
      "source": [
        "**f-strings** are a convenient way to format strings in Python. \n",
        "\n",
        "To begin, this program says *hello* to the user in a couple of ways using\n",
        "ordinary strings:"
      ]
    },
    {
      "cell_type": "code",
      "execution_count": 3,
      "metadata": {},
      "outputs": [
        {
          "name": "stdout",
          "output_type": "stream",
          "text": [
            "Hello, Clara!\n",
            "Hello, Clara !\n"
          ]
        }
      ],
      "source": [
        "user = 'Clara'\n",
        "print('Hello, ' + user + '!')\n",
        "print('Hello,', user, '!')"
      ]
    },
    {
      "cell_type": "markdown",
      "metadata": {},
      "source": [
        "When you use `,` in `print`, it always adds a space between the items, and so in\n",
        "the second example there is an extra space before the `!`."
      ]
    },
    {
      "cell_type": "markdown",
      "metadata": {},
      "source": [
        "A more flexible way of printing is to use an **f-string**:"
      ]
    },
    {
      "cell_type": "code",
      "execution_count": 4,
      "metadata": {},
      "outputs": [
        {
          "name": "stdout",
          "output_type": "stream",
          "text": [
            "Hello Clara!\n"
          ]
        }
      ],
      "source": [
        "user = 'Clara'\n",
        "print(f'Hello {user}!')"
      ]
    },
    {
      "cell_type": "markdown",
      "metadata": {},
      "source": [
        "Many programmers prefer this style because it is compact and easy to read.\n",
        "\n",
        "An f-string is a regular Python string that starts with `f`. Any variable or\n",
        "expression that appears inside `{}` curly braces is evaluated and its result is\n",
        "put into the string at that position."
      ]
    },
    {
      "cell_type": "markdown",
      "metadata": {},
      "source": [
        "### Number precision with f-strings"
      ]
    },
    {
      "cell_type": "markdown",
      "metadata": {},
      "source": [
        "Consider this program:"
      ]
    },
    {
      "cell_type": "code",
      "execution_count": 5,
      "metadata": {},
      "outputs": [
        {
          "name": "stdout",
          "output_type": "stream",
          "text": [
            "x = 12.3456\n"
          ]
        }
      ],
      "source": [
        "x = 12.3456\n",
        "print(f'x = {x}')"
      ]
    },
    {
      "cell_type": "markdown",
      "metadata": {},
      "source": [
        "There are 4 digits after the decimal point. But what if you only want 2 digits?\n",
        "One way to do it is to use `round`:"
      ]
    },
    {
      "cell_type": "code",
      "execution_count": 6,
      "metadata": {},
      "outputs": [
        {
          "name": "stdout",
          "output_type": "stream",
          "text": [
            "x = 12.35\n"
          ]
        }
      ],
      "source": [
        "x = 12.3456\n",
        "print(f'x = {round(x, 2)}')"
      ]
    },
    {
      "cell_type": "markdown",
      "metadata": {},
      "source": [
        "Setting the precision of a number is so common that f-strings can do it\n",
        "directly:"
      ]
    },
    {
      "cell_type": "code",
      "execution_count": 7,
      "metadata": {},
      "outputs": [
        {
          "name": "stdout",
          "output_type": "stream",
          "text": [
            "x = 12.35\n"
          ]
        }
      ],
      "source": [
        "x = 12.3456\n",
        "print(f'x = {x:.2f}')  # f for float, 2 digits after the decimal point"
      ]
    },
    {
      "cell_type": "markdown",
      "metadata": {},
      "source": [
        "When we write `{x:.2f}`, the `.2` means to put exactly two digits after the\n",
        "decimal point, and the `f` means to format the number in regular floating point\n",
        "style. Notice also that the last digit has been *rounded up*.\n",
        "\n",
        "If you want *more* digits after the decimal than the number has, extra 0s are\n",
        "added:"
      ]
    },
    {
      "cell_type": "code",
      "execution_count": 8,
      "metadata": {},
      "outputs": [
        {
          "name": "stdout",
          "output_type": "stream",
          "text": [
            "x = 12.3456000\n"
          ]
        }
      ],
      "source": [
        "x = 12.3456\n",
        "print(f'x = {x:.7f}')"
      ]
    },
    {
      "cell_type": "markdown",
      "metadata": {},
      "source": [
        "### Comma Grouping with f-strings"
      ]
    },
    {
      "cell_type": "markdown",
      "metadata": {},
      "source": [
        "f-strings make it easy to write numbers in a style that uses commas to group\n",
        "three digits together by using a `,` like this:"
      ]
    },
    {
      "cell_type": "code",
      "execution_count": 9,
      "metadata": {},
      "outputs": [
        {
          "name": "stdout",
          "output_type": "stream",
          "text": [
            "cost is $1391.25\n",
            "cost is $1,391.25\n",
            "cost is $348,355,303.23\n"
          ]
        }
      ],
      "source": [
        "cost = 1391.25\n",
        "print(f'cost is ${cost:.2f}')  # cost is $1391.25\n",
        "print(f'cost is ${cost:,.2f}') # cost is $1,391.25\n",
        "\n",
        "cost = 348355303.232\n",
        "print(f'cost is ${cost:,.2f}')   # cost is $348,355,303.23"
      ]
    },
    {
      "cell_type": "markdown",
      "metadata": {},
      "source": [
        "### Padding with f-strings\n",
        "\n",
        "Sometimes you might want to print things in a column, and you can do this in a\n",
        "f-string by specifying a width for the field:"
      ]
    },
    {
      "cell_type": "code",
      "execution_count": 21,
      "metadata": {},
      "outputs": [
        {
          "name": "stdout",
          "output_type": "stream",
          "text": [
            "Clara     John      Jane      \n",
            "Murphy    Smith     Jones     \n"
          ]
        }
      ],
      "source": [
        "name1 = 'Clara'\n",
        "name2 = 'John'\n",
        "name3 = 'Jane'\n",
        "print(f'{name1:10}{name2:10}{name3:10}')\n",
        "\n",
        "name4 = 'Murphy'\n",
        "name5 = 'Smith'\n",
        "name6 = 'Jones'\n",
        "print(f'{name4:10}{name5:10}{name6:10}')"
      ]
    },
    {
      "cell_type": "markdown",
      "metadata": {},
      "source": [
        "Formatting like this can tables of data easier to read."
      ]
    },
    {
      "cell_type": "markdown",
      "metadata": {},
      "source": [
        "## Practice Question 1"
      ]
    },
    {
      "cell_type": "markdown",
      "metadata": {},
      "source": [
        "Write a program that uses variables to set the first name, last name, and age of\n",
        "person. Then use print statements and f-strings to print:\n",
        "\n",
        "```\n",
        "Hello, my name is [first name] [last name] and I am [age] years old.\n",
        "In 10 years, I will be [age + 10] years old.\n",
        "```"
      ]
    },
    {
      "cell_type": "markdown",
      "metadata": {},
      "source": [
        "## Practice Question 2\n",
        "\n",
        "How many Big Macs would you need to stack on top of each other to reach from the\n",
        "ground to the top of the Empire State Building?\n",
        "\n",
        "Assume a McDonalds's Big Mac hamburger is 7.5cm thick, and costs $5.56. The\n",
        "Empire State Building is 443.2m tall. \n",
        "\n",
        "Write a program that uses variables to store the thickness and cost of a Big\n",
        "Mac, and the height of the Empire State Building, and then does a calculation to\n",
        "find the answer. Print the answer using an f-string.\n",
        "\n",
        "Be careful with the units! You may need to convert them.\n",
        "\n",
        "The output should look *exactly* like this:\n",
        "\n",
        "```\n",
        "# of Big Macs needed to reach the top: 5909.3\n",
        "total cost: $32,855.89\n",
        "```"
      ]
    },
    {
      "cell_type": "markdown",
      "metadata": {},
      "source": [
        "## Practice Question 3"
      ]
    },
    {
      "cell_type": "markdown",
      "metadata": {},
      "source": [
        "In the lecture code we saw this code that prints a raggedy-looking table of all\n",
        "Python keywords:"
      ]
    },
    {
      "cell_type": "code",
      "execution_count": 15,
      "metadata": {},
      "outputs": [
        {
          "name": "stdout",
          "output_type": "stream",
          "text": [
            "False None True and as \n",
            "assert async await break class \n",
            "continue def del elif else \n",
            "except finally for from global \n",
            "if import in is lambda \n",
            "nonlocal not or pass raise \n",
            "return try while with yield \n",
            "\n",
            "# of keywords: 35\n"
          ]
        }
      ],
      "source": [
        "# print all the Python keywords\n",
        "\n",
        "from keyword import kwlist\n",
        "\n",
        "keywords = kwlist\n",
        "keywords.sort()\n",
        "for i, keyword in enumerate(keywords):\n",
        "    print(keyword, end=' ')\n",
        "    if (i + 1) % 5 == 0:\n",
        "        print()\n",
        "\n",
        "print()\n",
        "print('# of keywords:', len(keywords))"
      ]
    },
    {
      "cell_type": "markdown",
      "metadata": {},
      "source": [
        "Modify the first print statement in the above to use an f-string to print\n",
        "keyword names in a column that is 10 characters wide. The output should look\n",
        "like this:\n",
        "\n",
        "```\n",
        "False      None       True       and        as         \n",
        "assert     async      await      break      class      \n",
        "continue   def        del        elif       else       \n",
        "except     finally    for        from       global     \n",
        "if         import     in         is         lambda     \n",
        "nonlocal   not        or         pass       raise      \n",
        "return     try        while      with       yield\n",
        "\n",
        "# of keywords: 35\n",
        "```\n",
        "\n",
        "It's possible to do this by changing only the first print statement."
      ]
    }
  ],
  "metadata": {
    "kernelspec": {
      "display_name": "Python 3",
      "language": "python",
      "name": "python3"
    },
    "language_info": {
      "codemirror_mode": {
        "name": "ipython",
        "version": 3
      },
      "file_extension": ".py",
      "mimetype": "text/x-python",
      "name": "python",
      "nbconvert_exporter": "python",
      "pygments_lexer": "ipython3",
      "version": "3.8.10"
    }
  },
  "nbformat": 4,
  "nbformat_minor": 2
}
